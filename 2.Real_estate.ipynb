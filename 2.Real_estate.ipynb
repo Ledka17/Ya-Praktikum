{
 "cells": [
  {
   "cell_type": "markdown",
   "metadata": {},
   "source": [
    "# Исследование объявлений о продаже квартир\n",
   ]
  },
  {
   "cell_type": "markdown",
   "metadata": {},
   "source": [
    "#### Описание данных\n",
    "- airports_nearest — расстояние до ближайшего аэропорта в метрах (м)\n",
    "- balcony — число балконов\n",
    "- ceiling_height — высота потолков (м)\n",
    "- cityCenters_nearest — расстояние до центра города (м)\n",
    "- days_exposition — сколько дней было размещено объявление (от публикации до снятия)\n",
    "- first_day_exposition — дата публикации\n",
    "- floor — этаж\n",
    "- floors_total — всего этажей в доме\n",
    "- is_apartment — апартаменты (булев тип)\n",
    "- kitchen_area — площадь кухни в квадратных метрах (м²)\n",
    "- last_price — цена на момент снятия с публикации\n",
    "- living_area — жилая площадь в квадратных метрах(м²)\n",
    "- locality_name — название населённого пункта\n",
    "- open_plan — свободная планировка (булев тип)\n",
    "- parks_around3000 — число парков в радиусе 3 км\n",
    "- parks_nearest — расстояние до ближайшего парка (м)\n",
    "- ponds_around3000 — число водоёмов в радиусе 3 км\n",
    "- ponds_nearest — расстояние до ближайшего водоёма (м)\n",
    "- rooms — число комнат\n",
    "- studio — квартира-студия (булев тип)\n",
    "- total_area — площадь квартиры в квадратных метрах (м²)\n",
    "- total_images — число фотографий квартиры в объявлении"
   ]
  },
  {
   "cell_type": "markdown",
   "metadata": {},
   "source": [
    "#### План действий\n",
    "1. [Открытие файла и изучение информации](#step1)   \n",
    "[Вывод](#step1_conclusion)\n",
    "2. [Предобработка данных](#step2)  \n",
    "   - [Заполнение пропусков](#step2.2_empty)\n",
    "   - [Замена типов данных](#step2.1_types)  \n",
    "[Вывод](#step2_conclusion)\n",
    "<br>\n",
    "3. [Подсчет и добавление в таблицу данных](#step3):\n",
    "   - [цена квадратного метра](#step3.1_price)  \n",
    "   - [день недели, месяц и год публикации объявления](#step3.2_date)  \n",
    "   - [этаж квартиры (варианты — первый, последний, другой)](#step3.3_grade)  \n",
    "   - [соотношение жилой и общей площади](#step3.4_live)  \n",
    "   - [отношение площади кухни к общей](#step3.5_kitchen)  \n",
    "[Вывод](#step3_conclusion)\n",
    "<br>\n",
    "4. [Исследовательский анализ данных](#step4):  \n",
    "   - [изучение параметров: площадь, цена, число комнат, высота потолков](#step4.1_params) и [гистограммы](#step4.1_hist)\n",
    "   - [изучение времени продажи квартиры](#step4.2_time)\n",
    "   - [исключение редких и выбивающихся значений](#step4.3_unusual)\n",
    "   - [изучение факторов, больше всего влияющих на стоимость квартиры](#step4.4_factors)  \n",
    "   (площадь, число комнат, удалённость от центра, этаж квартиры, дата размещения: день недели, месяц и год)\n",
    "   - [населённые пункты с наибольшим числом объявлений](#step4.5_local)\n",
    "   - [поиск зоны центра города в зависимости от цены](#step4.6_center)\n",
    "   - [выделение сегментов квартир в центре](#step4.7_segment)  \n",
    "[Вывод](#step4_conclusion)\n",
    "<br>\n",
    "5. [Общий вывод](#step5)"
   ]
  },
  {
   "cell_type": "markdown",
   "metadata": {},
   "source": [
    "<a name=\"step1\"></a>\n",
    "### Шаг 1. Откройте файл с данными и изучите общую информацию. "
   ]
  },
  {
   "cell_type": "code",
   "execution_count": 56,
   "metadata": {},
   "outputs": [],
   "source": [
    "import pandas as pd"
   ]
  },
  {
   "cell_type": "code",
   "execution_count": 57,
   "metadata": {},
   "outputs": [],
   "source": [
    "# при первом прочтении все данные слились в один столбец, \n",
    "# так как разделителем в этом файле является знак табуляции (\\t), а не, как принято в csv, затятая (,)\n",
    "\n",
    "real_estate = pd.read_csv('/datasets/real_estate_data.csv', sep='\\t')"
   ]
  },
  {
   "cell_type": "code",
   "execution_count": 58,
   "metadata": {},
   "outputs": [
    {
     "data": {
      "text/html": [
       "<div>\n",
       "<style scoped>\n",
       "    .dataframe tbody tr th:only-of-type {\n",
       "        vertical-align: middle;\n",
       "    }\n",
       "\n",
       "    .dataframe tbody tr th {\n",
       "        vertical-align: top;\n",
       "    }\n",
       "\n",
       "    .dataframe thead th {\n",
       "        text-align: right;\n",
       "    }\n",
       "</style>\n",
       "<table border=\"1\" class=\"dataframe\">\n",
       "  <thead>\n",
       "    <tr style=\"text-align: right;\">\n",
       "      <th></th>\n",
       "      <th>total_images</th>\n",
       "      <th>last_price</th>\n",
       "      <th>total_area</th>\n",
       "      <th>first_day_exposition</th>\n",
       "      <th>rooms</th>\n",
       "      <th>ceiling_height</th>\n",
       "      <th>floors_total</th>\n",
       "      <th>living_area</th>\n",
       "      <th>floor</th>\n",
       "      <th>is_apartment</th>\n",
       "      <th>...</th>\n",
       "      <th>kitchen_area</th>\n",
       "      <th>balcony</th>\n",
       "      <th>locality_name</th>\n",
       "      <th>airports_nearest</th>\n",
       "      <th>cityCenters_nearest</th>\n",
       "      <th>parks_around3000</th>\n",
       "      <th>parks_nearest</th>\n",
       "      <th>ponds_around3000</th>\n",
       "      <th>ponds_nearest</th>\n",
       "      <th>days_exposition</th>\n",
       "    </tr>\n",
       "  </thead>\n",
       "  <tbody>\n",
       "    <tr>\n",
       "      <td>0</td>\n",
       "      <td>20</td>\n",
       "      <td>13000000.00</td>\n",
       "      <td>108.00</td>\n",
       "      <td>2019-03-07T00:00:00</td>\n",
       "      <td>3</td>\n",
       "      <td>2.70</td>\n",
       "      <td>16.00</td>\n",
       "      <td>51.00</td>\n",
       "      <td>8</td>\n",
       "      <td>NaN</td>\n",
       "      <td>...</td>\n",
       "      <td>25.00</td>\n",
       "      <td>nan</td>\n",
       "      <td>Санкт-Петербург</td>\n",
       "      <td>18863.00</td>\n",
       "      <td>16028.00</td>\n",
       "      <td>1.00</td>\n",
       "      <td>482.00</td>\n",
       "      <td>2.00</td>\n",
       "      <td>755.00</td>\n",
       "      <td>nan</td>\n",
       "    </tr>\n",
       "    <tr>\n",
       "      <td>1</td>\n",
       "      <td>7</td>\n",
       "      <td>3350000.00</td>\n",
       "      <td>40.40</td>\n",
       "      <td>2018-12-04T00:00:00</td>\n",
       "      <td>1</td>\n",
       "      <td>nan</td>\n",
       "      <td>11.00</td>\n",
       "      <td>18.60</td>\n",
       "      <td>1</td>\n",
       "      <td>NaN</td>\n",
       "      <td>...</td>\n",
       "      <td>11.00</td>\n",
       "      <td>2.00</td>\n",
       "      <td>посёлок Шушары</td>\n",
       "      <td>12817.00</td>\n",
       "      <td>18603.00</td>\n",
       "      <td>0.00</td>\n",
       "      <td>nan</td>\n",
       "      <td>0.00</td>\n",
       "      <td>nan</td>\n",
       "      <td>81.00</td>\n",
       "    </tr>\n",
       "    <tr>\n",
       "      <td>2</td>\n",
       "      <td>10</td>\n",
       "      <td>5196000.00</td>\n",
       "      <td>56.00</td>\n",
       "      <td>2015-08-20T00:00:00</td>\n",
       "      <td>2</td>\n",
       "      <td>nan</td>\n",
       "      <td>5.00</td>\n",
       "      <td>34.30</td>\n",
       "      <td>4</td>\n",
       "      <td>NaN</td>\n",
       "      <td>...</td>\n",
       "      <td>8.30</td>\n",
       "      <td>0.00</td>\n",
       "      <td>Санкт-Петербург</td>\n",
       "      <td>21741.00</td>\n",
       "      <td>13933.00</td>\n",
       "      <td>1.00</td>\n",
       "      <td>90.00</td>\n",
       "      <td>2.00</td>\n",
       "      <td>574.00</td>\n",
       "      <td>558.00</td>\n",
       "    </tr>\n",
       "    <tr>\n",
       "      <td>3</td>\n",
       "      <td>0</td>\n",
       "      <td>64900000.00</td>\n",
       "      <td>159.00</td>\n",
       "      <td>2015-07-24T00:00:00</td>\n",
       "      <td>3</td>\n",
       "      <td>nan</td>\n",
       "      <td>14.00</td>\n",
       "      <td>nan</td>\n",
       "      <td>9</td>\n",
       "      <td>NaN</td>\n",
       "      <td>...</td>\n",
       "      <td>nan</td>\n",
       "      <td>0.00</td>\n",
       "      <td>Санкт-Петербург</td>\n",
       "      <td>28098.00</td>\n",
       "      <td>6800.00</td>\n",
       "      <td>2.00</td>\n",
       "      <td>84.00</td>\n",
       "      <td>3.00</td>\n",
       "      <td>234.00</td>\n",
       "      <td>424.00</td>\n",
       "    </tr>\n",
       "    <tr>\n",
       "      <td>4</td>\n",
       "      <td>2</td>\n",
       "      <td>10000000.00</td>\n",
       "      <td>100.00</td>\n",
       "      <td>2018-06-19T00:00:00</td>\n",
       "      <td>2</td>\n",
       "      <td>3.03</td>\n",
       "      <td>14.00</td>\n",
       "      <td>32.00</td>\n",
       "      <td>13</td>\n",
       "      <td>NaN</td>\n",
       "      <td>...</td>\n",
       "      <td>41.00</td>\n",
       "      <td>nan</td>\n",
       "      <td>Санкт-Петербург</td>\n",
       "      <td>31856.00</td>\n",
       "      <td>8098.00</td>\n",
       "      <td>2.00</td>\n",
       "      <td>112.00</td>\n",
       "      <td>1.00</td>\n",
       "      <td>48.00</td>\n",
       "      <td>121.00</td>\n",
       "    </tr>\n",
       "  </tbody>\n",
       "</table>\n",
       "<p>5 rows × 22 columns</p>\n",
       "</div>"
      ],
      "text/plain": [
       "   total_images  last_price  total_area first_day_exposition  rooms  \\\n",
       "0            20 13000000.00      108.00  2019-03-07T00:00:00      3   \n",
       "1             7  3350000.00       40.40  2018-12-04T00:00:00      1   \n",
       "2            10  5196000.00       56.00  2015-08-20T00:00:00      2   \n",
       "3             0 64900000.00      159.00  2015-07-24T00:00:00      3   \n",
       "4             2 10000000.00      100.00  2018-06-19T00:00:00      2   \n",
       "\n",
       "   ceiling_height  floors_total  living_area  floor is_apartment  ...  \\\n",
       "0            2.70         16.00        51.00      8          NaN  ...   \n",
       "1             nan         11.00        18.60      1          NaN  ...   \n",
       "2             nan          5.00        34.30      4          NaN  ...   \n",
       "3             nan         14.00          nan      9          NaN  ...   \n",
       "4            3.03         14.00        32.00     13          NaN  ...   \n",
       "\n",
       "   kitchen_area  balcony    locality_name  airports_nearest  \\\n",
       "0         25.00      nan  Санкт-Петербург          18863.00   \n",
       "1         11.00     2.00   посёлок Шушары          12817.00   \n",
       "2          8.30     0.00  Санкт-Петербург          21741.00   \n",
       "3           nan     0.00  Санкт-Петербург          28098.00   \n",
       "4         41.00      nan  Санкт-Петербург          31856.00   \n",
       "\n",
       "  cityCenters_nearest  parks_around3000  parks_nearest  ponds_around3000  \\\n",
       "0            16028.00              1.00         482.00              2.00   \n",
       "1            18603.00              0.00            nan              0.00   \n",
       "2            13933.00              1.00          90.00              2.00   \n",
       "3             6800.00              2.00          84.00              3.00   \n",
       "4             8098.00              2.00         112.00              1.00   \n",
       "\n",
       "   ponds_nearest  days_exposition  \n",
       "0         755.00              nan  \n",
       "1            nan            81.00  \n",
       "2         574.00           558.00  \n",
       "3         234.00           424.00  \n",
       "4          48.00           121.00  \n",
       "\n",
       "[5 rows x 22 columns]"
      ]
     },
     "execution_count": 58,
     "metadata": {},
     "output_type": "execute_result"
    }
   ],
   "source": [
    "real_estate.head()"
   ]
  },
  {
   "cell_type": "code",
   "execution_count": 59,
   "metadata": {},
   "outputs": [
    {
     "name": "stdout",
     "output_type": "stream",
     "text": [
      "<class 'pandas.core.frame.DataFrame'>\n",
      "RangeIndex: 23699 entries, 0 to 23698\n",
      "Data columns (total 22 columns):\n",
      "total_images            23699 non-null int64\n",
      "last_price              23699 non-null float64\n",
      "total_area              23699 non-null float64\n",
      "first_day_exposition    23699 non-null object\n",
      "rooms                   23699 non-null int64\n",
      "ceiling_height          14504 non-null float64\n",
      "floors_total            23613 non-null float64\n",
      "living_area             21796 non-null float64\n",
      "floor                   23699 non-null int64\n",
      "is_apartment            2775 non-null object\n",
      "studio                  23699 non-null bool\n",
      "open_plan               23699 non-null bool\n",
      "kitchen_area            21421 non-null float64\n",
      "balcony                 12180 non-null float64\n",
      "locality_name           23650 non-null object\n",
      "airports_nearest        18157 non-null float64\n",
      "cityCenters_nearest     18180 non-null float64\n",
      "parks_around3000        18181 non-null float64\n",
      "parks_nearest           8079 non-null float64\n",
      "ponds_around3000        18181 non-null float64\n",
      "ponds_nearest           9110 non-null float64\n",
      "days_exposition         20518 non-null float64\n",
      "dtypes: bool(2), float64(14), int64(3), object(3)\n",
      "memory usage: 3.7+ MB\n"
     ]
    }
   ],
   "source": [
    "real_estate.info()"
   ]
  },
  {
   "cell_type": "markdown",
   "metadata": {},
   "source": [
    "<a name=\"step1_conclusion\"></a>\n",
    "### Вывод"
   ]
  },
  {
   "cell_type": "markdown",
   "metadata": {},
   "source": [
    "##### Пропуски\n",
    "На первый взгляд в данных встречаются пропуски, но не все пропуски являются намеренными:\n",
    "1. Пропуски, которые показывают отсутствие объекта:  \n",
    "   + is_apartment (является ли апартаментами) - у кого апартаменты - тому прописали  \n",
    "   + balcony (количество балконов) - значит ли отсутствие информации - отсутствие балконов?\n",
    "   + parks_around3000 (количество парков в радиусе 3км) - возможно их и нет\n",
    "   + ponds_around3000 (количество прудов в радиусе 3км) - аналогично\n",
    "   + parks_nearest (расстояние до ближайшего парка) - нет парка, нет расстояния\n",
    "   + ponds_nearest (расстояние до ближайшего пруда) - аналогично  \n",
    "<br>  \n",
    "2. Пропуски, которые возникли при сборе данных: \n",
    "   + ceiling_height (высота потолков) подразумевается, что она всегда есть\n",
    "   + floors_total (всего этажей) какую-то этажность любой дом точно должен иметь\n",
    "   + living_area (жилая площадь) - здесь, возможно, попались и нежилые помещения, или у дома особая категория. В любом случае, такое надо проверить \n",
    "   + kitchen_area (площадь кухни) - если у вас, нету кухни... опять необходима проверка\n",
    "   + locality_name (название города) - недвижимость, которой нет нигде\n",
    "   + airports_nearest (расстояние до ближайшего аэропорта) - аэропорта в видимой и невидимой близости нет\n",
    "   + cityCenters_nearest (расстояние до центра города) - и центра у города нет\n",
    "   + days_exposition (количество дней размещения) - данные пропали...\n",
    "   + cityCenters_nearest (расстояние до центра города) - когда твоя квартира и есть центр  \n",
    "\n",
    "##### Типы данных \n",
    "Несоответсвие в типах возникает в следующих полях:  \n",
    "+ last_price - нет необходимости иметь такую точность float64 -> int64\n",
    "+ first_day_exposition - это дата object -> datetime\n",
    "+ floors_total - по-любому должно быть целым числом float64 -> int64\n",
    "+ is_apartment - булев тип object -> bool\n",
    "+ airports_nearest - метры уже достаточно большая точность float64 -> int64\n",
    "+ balcony - балконов не 1,5 уж точно float64 -> int64\n",
    "+ parks_around3000 - число парков должно быть представлено целым числом float64 -> int64\n",
    "+ ponds_around3000 - аналогично float64 -> int64\n",
    "+ days_exposition - для количества дней тоже выберем целочисленный тип float64 -> int64\n",
    "\n",
    "<br/>\n",
    "Приступаем к предобработке данных, чтобы решить все проблемы, выявленные на этом шаге"
   ]
  },
  {
   "cell_type": "markdown",
   "metadata": {},
   "source": [
    "<a name=\"step2\"></a>\n",
    "### Шаг 2. Предобработка данных"
   ]
  },
  {
   "cell_type": "markdown",
   "metadata": {},
   "source": [
    "При преодобработке обратим внимание только на те столбцы, относительно которых мы будем проводить дальнейшее исследование, а именно:  \n",
    "цена, общая площадь, жилая площадь, площадь кухни, дата публикации, этаж квартиры, число комнат, высота потолков, количество дней существования публикации, удаленность от центра\n",
    "\n",
    "Выберем только эти поля для заполнения и изменения типов данных"
   ]
  },
  {
   "cell_type": "code",
   "execution_count": 60,
   "metadata": {},
   "outputs": [],
   "source": [
    "cols_need = ['last_price', 'total_area', 'rooms', 'ceiling_height', 'living_area', 'kitchen_area', 'locality_name',\n",
    "             'cityCenters_nearest', 'days_exposition', 'first_day_exposition', 'floor', 'floors_total']"
   ]
  },
  {
   "cell_type": "code",
   "execution_count": 61,
   "metadata": {},
   "outputs": [
    {
     "name": "stdout",
     "output_type": "stream",
     "text": [
      "<class 'pandas.core.frame.DataFrame'>\n",
      "RangeIndex: 23699 entries, 0 to 23698\n",
      "Data columns (total 12 columns):\n",
      "last_price              23699 non-null float64\n",
      "total_area              23699 non-null float64\n",
      "rooms                   23699 non-null int64\n",
      "ceiling_height          14504 non-null float64\n",
      "living_area             21796 non-null float64\n",
      "kitchen_area            21421 non-null float64\n",
      "locality_name           23650 non-null object\n",
      "cityCenters_nearest     18180 non-null float64\n",
      "days_exposition         20518 non-null float64\n",
      "first_day_exposition    23699 non-null object\n",
      "floor                   23699 non-null int64\n",
      "floors_total            23613 non-null float64\n",
      "dtypes: float64(8), int64(2), object(2)\n",
      "memory usage: 2.2+ MB\n"
     ]
    }
   ],
   "source": [
    "real_estate[cols_need].info()"
   ]
  },
  {
   "cell_type": "markdown",
   "metadata": {},
   "source": [
    "<a name=\"step2.2_empty\"></a>\n",
    "Заполнение пропусков\n",
    "\n",
    "Заполнять требуется только поля ceiling_height, living_area, kitchen_area, cityCenters_nearest, days_exposition, floors_total\n",
    "\n",
    "Для заполнения living_area и  kitchen_area подсчитаем у остальный квартир медианный процент искомой площади от общей. Обычно в квартирах учитывается эта пропорция (кухня примерно 20%, а жилая площадь примерно 50%). Берем именно медианные значения, так как встречаются случаи когда кухня больше жилой площади (видимо поесть они любят больше, чем поспать)"
   ]
  },
  {
   "cell_type": "code",
   "execution_count": 62,
   "metadata": {},
   "outputs": [
    {
     "data": {
      "text/plain": [
       "355"
      ]
     },
     "execution_count": 62,
     "metadata": {},
     "output_type": "execute_result"
    }
   ],
   "source": [
    "len(real_estate.query('kitchen_area > living_area'))"
   ]
  },
  {
   "cell_type": "code",
   "execution_count": 63,
   "metadata": {},
   "outputs": [
    {
     "name": "stdout",
     "output_type": "stream",
     "text": [
      "Медианный процент кухни 17.24%\n",
      "Медианный процент жилой площади 56.79%\n"
     ]
    }
   ],
   "source": [
    "kitchen_percent = (real_estate['kitchen_area'] / real_estate['total_area']).median()\n",
    "living_percent = (real_estate['living_area'] / real_estate['total_area']).median()\n",
    "\n",
    "print('Медианный процент кухни {:.2%}\\nМедианный процент жилой площади {:.2%}'.format(kitchen_percent, living_percent))"
   ]
  },
  {
   "cell_type": "code",
   "execution_count": 64,
   "metadata": {},
   "outputs": [
    {
     "name": "stdout",
     "output_type": "stream",
     "text": [
      "<class 'pandas.core.frame.DataFrame'>\n",
      "RangeIndex: 23699 entries, 0 to 23698\n",
      "Data columns (total 12 columns):\n",
      "last_price              23699 non-null float64\n",
      "total_area              23699 non-null float64\n",
      "rooms                   23699 non-null int64\n",
      "ceiling_height          14504 non-null float64\n",
      "living_area             23699 non-null float64\n",
      "kitchen_area            23699 non-null float64\n",
      "locality_name           23650 non-null object\n",
      "cityCenters_nearest     18180 non-null float64\n",
      "days_exposition         20518 non-null float64\n",
      "first_day_exposition    23699 non-null object\n",
      "floor                   23699 non-null int64\n",
      "floors_total            23613 non-null float64\n",
      "dtypes: float64(8), int64(2), object(2)\n",
      "memory usage: 2.2+ MB\n"
     ]
    }
   ],
   "source": [
    "# заполним пропуски с кухней и жилой площадью\n",
    "\n",
    "real_estate.loc[real_estate['kitchen_area'].isnull(), 'kitchen_area'] = round(\n",
    "    kitchen_percent * real_estate['total_area'], 1)\n",
    "real_estate.loc[real_estate['living_area'].isnull(), 'living_area'] = round(\n",
    "    living_percent * real_estate['total_area'], 1)\n",
    "\n",
    "# проверка\n",
    "real_estate[cols_need].info()"
   ]
  },
  {
   "cell_type": "markdown",
   "metadata": {},
   "source": [
    "Оставшиеся ceiling_height, cityCenters_nearest, floors_total зависят от конкретного дома (нам важно найти расположение - это floors_total, locality_name, airports_nearest, parks_around3000, parks_nearest, ponds_around3000, ponds_nearest)"
   ]
  },
  {
   "cell_type": "code",
   "execution_count": 65,
   "metadata": {},
   "outputs": [],
   "source": [
    "# введем функцию, которая рассчитываем медианное значение, исходя из зависимых полей\n",
    "\n",
    "def median_with_factors(row, factors=['floors_total', 'locality_name', 'airports_nearest', \n",
    "                                      'parks_around3000', 'parks_nearest', 'ponds_around3000', 'ponds_nearest']):\n",
    "    '''\n",
    "    Функция, которая возвращаем медианные значения для факторов (перечислены в списке) текущей строки\n",
    "    '''\n",
    "    # собираем запрос на получение среза данных\n",
    "    query = ''\n",
    "    for factor in factors:\n",
    "        if row[factor] == row[factor]: # проверка, чтобы переменная не NaN\n",
    "            query += str(factor) + ' == \"' + str(row[factor]) + '\" and '\n",
    "    # убираем ' and ' в конце\n",
    "    query = query.rstrip(' and ')\n",
    "    \n",
    "    filtered_real_estate = real_estate.query(query)\n",
    "    \n",
    "    # возвращаем медианное значение, если в срезе будут отсутствовать строки, то вернется NaN\n",
    "    return filtered_real_estate.median()"
   ]
  },
  {
   "cell_type": "code",
   "execution_count": 66,
   "metadata": {},
   "outputs": [
    {
     "name": "stderr",
     "output_type": "stream",
     "text": [
      "/opt/conda/lib/python3.7/site-packages/numpy/lib/nanfunctions.py:1113: RuntimeWarning: Mean of empty slice\n",
      "  return np.nanmean(a, axis, out=out, keepdims=keepdims)\n"
     ]
    }
   ],
   "source": [
    "# заполняем поля с высотой потолков и расстоянием до центра города\n",
    "cols_to_fill = ['ceiling_height', 'cityCenters_nearest', 'floors_total']\n",
    "\n",
    "for col_to_fill in cols_to_fill:\n",
    "    real_estate.loc[real_estate[col_to_fill].isnull(), col_to_fill] = (\n",
    "        real_estate[real_estate[col_to_fill].isnull()]\n",
    "        .apply(median_with_factors, axis=1)[col_to_fill]\n",
    "    )\n",
    "    # если нет похожих домов, то значения так же и останутся пустыми"
   ]
  },
  {
   "cell_type": "code",
   "execution_count": 67,
   "metadata": {},
   "outputs": [],
   "source": [
    "# оставшиеся неизвестные потолки заполняем стандартной высотой в 2,5 м\n",
    "\n",
    "real_estate['ceiling_height'] = real_estate['ceiling_height'].fillna(2.5)"
   ]
  },
  {
   "cell_type": "code",
   "execution_count": 68,
   "metadata": {},
   "outputs": [
    {
     "name": "stdout",
     "output_type": "stream",
     "text": [
      "количество строк с общим числом этажей меньше, чем текущий этаж = 0\n"
     ]
    }
   ],
   "source": [
    "# если после заполнения общее число этажей будет меньше, чем этаж продаваемой квартиры, то заменим значение на NaN\n",
    "\n",
    "real_estate.loc[real_estate['floors_total'] < real_estate['floor'], 'floors_total'] = None\n",
    "\n",
    "# проверка\n",
    "print('количество строк с общим числом этажей меньше, чем текущий этаж =', \n",
    "      len(real_estate[real_estate['floors_total'] < real_estate['floor']])\n",
    "     )"
   ]
  },
  {
   "cell_type": "markdown",
   "metadata": {},
   "source": [
    "Все отлично с данными, идем дальше"
   ]
  },
  {
   "cell_type": "markdown",
   "metadata": {},
   "source": [
    "days_exposition зависит от цены (тут не за хлебом сходить) и  количества комнат (5-комнатную, как правило, будут дольше продавать, чем 1-комнатную)"
   ]
  },
  {
   "cell_type": "code",
   "execution_count": 69,
   "metadata": {},
   "outputs": [],
   "source": [
    "# заполняем количество дней публикации\n",
    "\n",
    "col_to_fill = 'days_exposition'\n",
    "real_estate.loc[real_estate[col_to_fill].isnull(), col_to_fill] = (\n",
    "        real_estate[real_estate[col_to_fill].isnull()]\n",
    "        .apply(lambda row: median_with_factors(row, ['last_price', 'rooms'])\n",
    "               , axis=1)[col_to_fill]\n",
    "    )"
   ]
  },
  {
   "cell_type": "code",
   "execution_count": 70,
   "metadata": {
    "scrolled": true
   },
   "outputs": [
    {
     "name": "stdout",
     "output_type": "stream",
     "text": [
      "<class 'pandas.core.frame.DataFrame'>\n",
      "RangeIndex: 23699 entries, 0 to 23698\n",
      "Data columns (total 12 columns):\n",
      "last_price              23699 non-null float64\n",
      "total_area              23699 non-null float64\n",
      "rooms                   23699 non-null int64\n",
      "ceiling_height          23699 non-null float64\n",
      "living_area             23699 non-null float64\n",
      "kitchen_area            23699 non-null float64\n",
      "locality_name           23650 non-null object\n",
      "cityCenters_nearest     18258 non-null float64\n",
      "days_exposition         23116 non-null float64\n",
      "first_day_exposition    23699 non-null object\n",
      "floor                   23699 non-null int64\n",
      "floors_total            23655 non-null float64\n",
      "dtypes: float64(8), int64(2), object(2)\n",
      "memory usage: 2.2+ MB\n"
     ]
    }
   ],
   "source": [
    "# проверка, сколько не заполнилось\n",
    "real_estate[cols_need].info()"
   ]
  },
  {
   "cell_type": "markdown",
   "metadata": {},
   "source": [
    "Все еще остались незаполненные значения, но заполнять их уже нечем, а просто заполнить средним мы также не можем, так как это будет неверно (высота потолков может с равной вероятностью принять значение из имеющегося диапазона значений), также как и расстояние до центра города, и количество дней публикации."
   ]
  },
  {
   "cell_type": "markdown",
   "metadata": {},
   "source": [
    "<a name=\"step2.1_types\"></a>\n",
    "Замена типов данных"
   ]
  },
  {
   "cell_type": "code",
   "execution_count": 71,
   "metadata": {},
   "outputs": [
    {
     "name": "stdout",
     "output_type": "stream",
     "text": [
      "last_price заменен float на int\n",
      "floors_total точность float до 0 знака\n",
      "airports_nearest точность float до 0 знака\n",
      "balcony точность float до 0 знака\n",
      "parks_around3000 точность float до 0 знака\n",
      "ponds_around3000 точность float до 0 знака\n",
      "days_exposition точность float до 0 знака\n"
     ]
    }
   ],
   "source": [
    "# список полей, у которых необходимо поменять тип данных с float64 на int64\n",
    "cols_from_float_to_int = ['last_price', 'floors_total', 'airports_nearest', 'balcony', \n",
    "                          'parks_around3000', 'ponds_around3000', 'days_exposition']\n",
    "\n",
    "for col in cols_from_float_to_int:\n",
    "    # используем метод astype, так как to_numeric не преобразует NaN в int и не возвращает ошибку\n",
    "    try:\n",
    "        real_estate[col] = real_estate[col].astype(int)\n",
    "        print(col, 'заменен float на int')\n",
    "    except: # необходимо уменьшить точность float`a\n",
    "        real_estate[col] = round(real_estate[col], 0)\n",
    "        print(col, 'точность float до 0 знака')"
   ]
  },
  {
   "cell_type": "code",
   "execution_count": 72,
   "metadata": {},
   "outputs": [
    {
     "name": "stdout",
     "output_type": "stream",
     "text": [
      "<class 'pandas.core.frame.DataFrame'>\n",
      "RangeIndex: 23699 entries, 0 to 23698\n",
      "Data columns (total 12 columns):\n",
      "last_price              23699 non-null int64\n",
      "total_area              23699 non-null float64\n",
      "rooms                   23699 non-null int64\n",
      "ceiling_height          23699 non-null float64\n",
      "living_area             23699 non-null float64\n",
      "kitchen_area            23699 non-null float64\n",
      "locality_name           23650 non-null object\n",
      "cityCenters_nearest     18258 non-null float64\n",
      "days_exposition         23116 non-null float64\n",
      "first_day_exposition    23699 non-null datetime64[ns]\n",
      "floor                   23699 non-null int64\n",
      "floors_total            23655 non-null float64\n",
      "dtypes: datetime64[ns](1), float64(7), int64(3), object(1)\n",
      "memory usage: 2.2+ MB\n"
     ]
    }
   ],
   "source": [
    "# замена object на datetime\n",
    "# формат даты стандартный, поэтому нет необходимости передавать параметр format\n",
    "real_estate['first_day_exposition'] = pd.to_datetime(real_estate['first_day_exposition'])\n",
    "\n",
    "# проверка\n",
    "real_estate[cols_need].info()"
   ]
  },
  {
   "cell_type": "markdown",
   "metadata": {},
   "source": [
    "<a name=\"step2_conclusion\"></a>\n",
    "### Вывод"
   ]
  },
  {
   "cell_type": "markdown",
   "metadata": {},
   "source": [
    "Исходя из [вывода к шагу 1](#step1_conclusion), требовалось запонить множество пропусков в данных, а также замен типов, поэтому на шаге предобработки мы сконцентрировались только на необходимых полях.\n",
    "Для исследоввания необходимы такие поля: цена, общая площадь, жилая площадь, площадь кухни, дата публикации, этаж квартиры, число комнат, высота потолков, количество дней существования публикации, удаленность от центра.\n",
    "\n",
    "##### Пропуски\n",
    "Были заполнены пропуски ceiling_height, living_area, kitchen_area, cityCenters_nearest, days_exposition. \n",
    "Из них:\n",
    "- living_area, kitchen_area были заполнены по медианной проценту от общей площади квартиры,\n",
    "- ceiling_height, cityCenters_nearest по медианным значениям из среза с такими же значениям полей floors_total, locality_name, airports_nearest, parks_around3000, parks_nearest, ponds_around3000, ponds_nearest\n",
    "- days_exposition по медианным значениям из среза с такими же значениям полей last_price, rooms, cityCenters_nearest\n",
    "\n",
    "Наблюдались пропуски в следующих полях: \n",
    "1. floors_total, living_area, kitchen_area, is_apartment, balcony, parks_around3000, ponds_around3000, parks_nearest, ponds_nearest, locality_name, airports_nearest, cityCenters_nearest, ceiling_height - здесь, скорее всего, человек, заполняющий информацию, не знал что и ответить (как, например, с апартаментами - не часто люди осознают чем жилье отличается от апартаментов) или потому что нет самого объекта (например, пруда, балкона и тд), или потому что в далекие времена (в 2015 году) не было полей с количеством балконов и тд, то есть попросту такая информация не собиралась у пользователей. \n",
    "С другой стороны, пользователь вводит адрес выставленного на продажу объекта, поэтому стоит сделать интеграцию с Яндекс.Картами, чтобы высчитывать расстояние до центра или же количество прудов в округе, чтобы не нагружать данной функцией пользователя.  \n",
    "2. days_exposition - не лежит уже на плечах пользователя. Скорее всего, произошла ошибка в приложении или при выгрузке данных, поэтому не заполнилось.\n",
    "\n",
    "##### Замена типов данных\n",
    "Так как замена типов данных не является дорогостоящей по времени операцией, а результаты ее действия сокращают затраты памяти на хранение массива данных, то здесб мы концентрировались не только на необходимых полях, но и на тех, что были описаны в [выводе шага 1](#step1_conclusion)  \n",
    "\n",
    "- У last_price изменен тип c float на int\n",
    "- Для полей floors_total, airports_nearest, balcony, parks_around3000, ponds_around3000, days_exposition уменьшена точность до 1 знака после запятой (слищком большая нам ни к чему)\n",
    "- Для поля first_day_exposition использован тип datetime, так как object не самым удобным образом отражает суть переменной с датой"
   ]
  },
  {
   "cell_type": "markdown",
   "metadata": {},
   "source": [
    "<a name=\"step3\"></a>\n",
    "### Шаг 3. Посчитайте и добавьте в таблицу"
   ]
  },
  {
   "cell_type": "markdown",
   "metadata": {},
   "source": [
    "<a name=\"step3.1_price\"></a>\n",
    "Цена квадратного метра"
   ]
  },
  {
   "cell_type": "code",
   "execution_count": 73,
   "metadata": {},
   "outputs": [],
   "source": [
    "pd.set_option('display.float_format', lambda x: '%.2f' % x)"
   ]
  },
  {
   "cell_type": "code",
   "execution_count": 74,
   "metadata": {},
   "outputs": [
    {
     "data": {
      "text/html": [
       "<div>\n",
       "<style scoped>\n",
       "    .dataframe tbody tr th:only-of-type {\n",
       "        vertical-align: middle;\n",
       "    }\n",
       "\n",
       "    .dataframe tbody tr th {\n",
       "        vertical-align: top;\n",
       "    }\n",
       "\n",
       "    .dataframe thead th {\n",
       "        text-align: right;\n",
       "    }\n",
       "</style>\n",
       "<table border=\"1\" class=\"dataframe\">\n",
       "  <thead>\n",
       "    <tr style=\"text-align: right;\">\n",
       "      <th></th>\n",
       "      <th>last_price</th>\n",
       "      <th>total_area</th>\n",
       "      <th>price_per_metr</th>\n",
       "    </tr>\n",
       "  </thead>\n",
       "  <tbody>\n",
       "    <tr>\n",
       "      <td>0</td>\n",
       "      <td>13000000</td>\n",
       "      <td>108.00</td>\n",
       "      <td>120370</td>\n",
       "    </tr>\n",
       "    <tr>\n",
       "      <td>1</td>\n",
       "      <td>3350000</td>\n",
       "      <td>40.40</td>\n",
       "      <td>82920</td>\n",
       "    </tr>\n",
       "    <tr>\n",
       "      <td>2</td>\n",
       "      <td>5196000</td>\n",
       "      <td>56.00</td>\n",
       "      <td>92785</td>\n",
       "    </tr>\n",
       "    <tr>\n",
       "      <td>3</td>\n",
       "      <td>64900000</td>\n",
       "      <td>159.00</td>\n",
       "      <td>408176</td>\n",
       "    </tr>\n",
       "    <tr>\n",
       "      <td>4</td>\n",
       "      <td>10000000</td>\n",
       "      <td>100.00</td>\n",
       "      <td>100000</td>\n",
       "    </tr>\n",
       "  </tbody>\n",
       "</table>\n",
       "</div>"
      ],
      "text/plain": [
       "   last_price  total_area  price_per_metr\n",
       "0    13000000      108.00          120370\n",
       "1     3350000       40.40           82920\n",
       "2     5196000       56.00           92785\n",
       "3    64900000      159.00          408176\n",
       "4    10000000      100.00          100000"
      ]
     },
     "execution_count": 74,
     "metadata": {},
     "output_type": "execute_result"
    }
   ],
   "source": [
    "# приводим сразу к типу int, так как бОльшая точность нам ни к чему\n",
    "real_estate['price_per_metr'] = (real_estate['last_price'] / real_estate['total_area']).astype(int)\n",
    "\n",
    "# проверка\n",
    "real_estate[['last_price', 'total_area', 'price_per_metr']].head()"
   ]
  },
  {
   "cell_type": "code",
   "execution_count": 75,
   "metadata": {},
   "outputs": [
    {
     "data": {
      "text/plain": [
       "count     23699.00\n",
       "mean      99421.21\n",
       "std       50306.81\n",
       "min         111.00\n",
       "25%       76585.00\n",
       "50%       95000.00\n",
       "75%      114256.00\n",
       "max     1907500.00\n",
       "Name: price_per_metr, dtype: float64"
      ]
     },
     "execution_count": 75,
     "metadata": {},
     "output_type": "execute_result"
    }
   ],
   "source": [
    "real_estate['price_per_metr'].describe()"
   ]
  },
  {
   "cell_type": "markdown",
   "metadata": {},
   "source": [
    "Встречаются квартиры с 111 руб за квадратный метр и за 2 млн!\n",
    "\n",
    "<a name=\"step3.2_date\"></a>\n",
    "День недели, месяц и год публикации объявления"
   ]
  },
  {
   "cell_type": "code",
   "execution_count": 76,
   "metadata": {},
   "outputs": [
    {
     "data": {
      "text/html": [
       "<div>\n",
       "<style scoped>\n",
       "    .dataframe tbody tr th:only-of-type {\n",
       "        vertical-align: middle;\n",
       "    }\n",
       "\n",
       "    .dataframe tbody tr th {\n",
       "        vertical-align: top;\n",
       "    }\n",
       "\n",
       "    .dataframe thead th {\n",
       "        text-align: right;\n",
       "    }\n",
       "</style>\n",
       "<table border=\"1\" class=\"dataframe\">\n",
       "  <thead>\n",
       "    <tr style=\"text-align: right;\">\n",
       "      <th></th>\n",
       "      <th>first_day_exposition</th>\n",
       "      <th>dayofweek_exposition</th>\n",
       "      <th>month_exposition</th>\n",
       "      <th>year_exposition</th>\n",
       "    </tr>\n",
       "  </thead>\n",
       "  <tbody>\n",
       "    <tr>\n",
       "      <td>0</td>\n",
       "      <td>2019-03-07</td>\n",
       "      <td>3</td>\n",
       "      <td>3</td>\n",
       "      <td>2019</td>\n",
       "    </tr>\n",
       "    <tr>\n",
       "      <td>1</td>\n",
       "      <td>2018-12-04</td>\n",
       "      <td>1</td>\n",
       "      <td>12</td>\n",
       "      <td>2018</td>\n",
       "    </tr>\n",
       "    <tr>\n",
       "      <td>2</td>\n",
       "      <td>2015-08-20</td>\n",
       "      <td>3</td>\n",
       "      <td>8</td>\n",
       "      <td>2015</td>\n",
       "    </tr>\n",
       "    <tr>\n",
       "      <td>3</td>\n",
       "      <td>2015-07-24</td>\n",
       "      <td>4</td>\n",
       "      <td>7</td>\n",
       "      <td>2015</td>\n",
       "    </tr>\n",
       "    <tr>\n",
       "      <td>4</td>\n",
       "      <td>2018-06-19</td>\n",
       "      <td>1</td>\n",
       "      <td>6</td>\n",
       "      <td>2018</td>\n",
       "    </tr>\n",
       "  </tbody>\n",
       "</table>\n",
       "</div>"
      ],
      "text/plain": [
       "  first_day_exposition  dayofweek_exposition  month_exposition  \\\n",
       "0           2019-03-07                     3                 3   \n",
       "1           2018-12-04                     1                12   \n",
       "2           2015-08-20                     3                 8   \n",
       "3           2015-07-24                     4                 7   \n",
       "4           2018-06-19                     1                 6   \n",
       "\n",
       "   year_exposition  \n",
       "0             2019  \n",
       "1             2018  \n",
       "2             2015  \n",
       "3             2015  \n",
       "4             2018  "
      ]
     },
     "execution_count": 76,
     "metadata": {},
     "output_type": "execute_result"
    }
   ],
   "source": [
    "real_estate['dayofweek_exposition'] = real_estate['first_day_exposition'].dt.dayofweek\n",
    "real_estate['month_exposition'] = real_estate['first_day_exposition'].dt.month\n",
    "real_estate['year_exposition'] = real_estate['first_day_exposition'].dt.year\n",
    "\n",
    "# проверка\n",
    "real_estate[['first_day_exposition', 'dayofweek_exposition', 'month_exposition', 'year_exposition']].head()"
   ]
  },
  {
   "cell_type": "markdown",
   "metadata": {},
   "source": [
    "<a name=\"step3.3_grade\"></a>\n",
    "Этаж квартиры"
   ]
  },
  {
   "cell_type": "code",
   "execution_count": 77,
   "metadata": {},
   "outputs": [],
   "source": [
    "# опишем функцию, которая определяет какой этаж - первый, последний, другой\n",
    "def category_floor(row):\n",
    "    '''\n",
    "    Функция, которая в текущей строке определяет категорию этажа - первый, последний, другой\n",
    "    '''\n",
    "    current_floor = row['floor']\n",
    "    if current_floor == 1 :\n",
    "        return 'первый'\n",
    "    current_floors_total = row['floors_total']\n",
    "    if current_floor == current_floors_total:\n",
    "        return 'последний'\n",
    "    if current_floors_total == current_floors_total: # если известно сколько всего этажей\n",
    "        return 'другой'\n",
    "    return None "
   ]
  },
  {
   "cell_type": "code",
   "execution_count": 78,
   "metadata": {},
   "outputs": [
    {
     "data": {
      "text/html": [
       "<div>\n",
       "<style scoped>\n",
       "    .dataframe tbody tr th:only-of-type {\n",
       "        vertical-align: middle;\n",
       "    }\n",
       "\n",
       "    .dataframe tbody tr th {\n",
       "        vertical-align: top;\n",
       "    }\n",
       "\n",
       "    .dataframe thead th {\n",
       "        text-align: right;\n",
       "    }\n",
       "</style>\n",
       "<table border=\"1\" class=\"dataframe\">\n",
       "  <thead>\n",
       "    <tr style=\"text-align: right;\">\n",
       "      <th></th>\n",
       "      <th>floor</th>\n",
       "      <th>floors_total</th>\n",
       "      <th>category_floor</th>\n",
       "    </tr>\n",
       "  </thead>\n",
       "  <tbody>\n",
       "    <tr>\n",
       "      <td>0</td>\n",
       "      <td>8</td>\n",
       "      <td>16.00</td>\n",
       "      <td>другой</td>\n",
       "    </tr>\n",
       "    <tr>\n",
       "      <td>1</td>\n",
       "      <td>1</td>\n",
       "      <td>11.00</td>\n",
       "      <td>первый</td>\n",
       "    </tr>\n",
       "    <tr>\n",
       "      <td>2</td>\n",
       "      <td>4</td>\n",
       "      <td>5.00</td>\n",
       "      <td>другой</td>\n",
       "    </tr>\n",
       "    <tr>\n",
       "      <td>3</td>\n",
       "      <td>9</td>\n",
       "      <td>14.00</td>\n",
       "      <td>другой</td>\n",
       "    </tr>\n",
       "    <tr>\n",
       "      <td>4</td>\n",
       "      <td>13</td>\n",
       "      <td>14.00</td>\n",
       "      <td>другой</td>\n",
       "    </tr>\n",
       "  </tbody>\n",
       "</table>\n",
       "</div>"
      ],
      "text/plain": [
       "   floor  floors_total category_floor\n",
       "0      8         16.00         другой\n",
       "1      1         11.00         первый\n",
       "2      4          5.00         другой\n",
       "3      9         14.00         другой\n",
       "4     13         14.00         другой"
      ]
     },
     "execution_count": 78,
     "metadata": {},
     "output_type": "execute_result"
    }
   ],
   "source": [
    "real_estate['category_floor'] = real_estate.apply(category_floor, axis=1)\n",
    "\n",
    "# проверка\n",
    "real_estate[['floor', 'floors_total', 'category_floor']].head()"
   ]
  },
  {
   "cell_type": "markdown",
   "metadata": {},
   "source": [
    "<a name=\"step3.4_live\"></a>\n",
    "Соотношение жилой и общей площади"
   ]
  },
  {
   "cell_type": "code",
   "execution_count": 79,
   "metadata": {},
   "outputs": [
    {
     "data": {
      "text/html": [
       "<div>\n",
       "<style scoped>\n",
       "    .dataframe tbody tr th:only-of-type {\n",
       "        vertical-align: middle;\n",
       "    }\n",
       "\n",
       "    .dataframe tbody tr th {\n",
       "        vertical-align: top;\n",
       "    }\n",
       "\n",
       "    .dataframe thead th {\n",
       "        text-align: right;\n",
       "    }\n",
       "</style>\n",
       "<table border=\"1\" class=\"dataframe\">\n",
       "  <thead>\n",
       "    <tr style=\"text-align: right;\">\n",
       "      <th></th>\n",
       "      <th>living_percent</th>\n",
       "      <th>living_area</th>\n",
       "      <th>total_area</th>\n",
       "    </tr>\n",
       "  </thead>\n",
       "  <tbody>\n",
       "    <tr>\n",
       "      <td>0</td>\n",
       "      <td>0.47</td>\n",
       "      <td>51.00</td>\n",
       "      <td>108.00</td>\n",
       "    </tr>\n",
       "    <tr>\n",
       "      <td>1</td>\n",
       "      <td>0.46</td>\n",
       "      <td>18.60</td>\n",
       "      <td>40.40</td>\n",
       "    </tr>\n",
       "    <tr>\n",
       "      <td>2</td>\n",
       "      <td>0.61</td>\n",
       "      <td>34.30</td>\n",
       "      <td>56.00</td>\n",
       "    </tr>\n",
       "    <tr>\n",
       "      <td>3</td>\n",
       "      <td>0.57</td>\n",
       "      <td>90.30</td>\n",
       "      <td>159.00</td>\n",
       "    </tr>\n",
       "    <tr>\n",
       "      <td>4</td>\n",
       "      <td>0.32</td>\n",
       "      <td>32.00</td>\n",
       "      <td>100.00</td>\n",
       "    </tr>\n",
       "  </tbody>\n",
       "</table>\n",
       "</div>"
      ],
      "text/plain": [
       "   living_percent  living_area  total_area\n",
       "0            0.47        51.00      108.00\n",
       "1            0.46        18.60       40.40\n",
       "2            0.61        34.30       56.00\n",
       "3            0.57        90.30      159.00\n",
       "4            0.32        32.00      100.00"
      ]
     },
     "execution_count": 79,
     "metadata": {},
     "output_type": "execute_result"
    }
   ],
   "source": [
    "real_estate['living_percent'] = round(real_estate['living_area'] / real_estate['total_area'], 3)\n",
    "\n",
    "# проверка\n",
    "real_estate[['living_percent', 'living_area', 'total_area']].head()"
   ]
  },
  {
   "cell_type": "markdown",
   "metadata": {},
   "source": [
    "<a name=\"step3.5_kitchen\"></a>\n",
    "Отношение площади кухни к общей"
   ]
  },
  {
   "cell_type": "code",
   "execution_count": 80,
   "metadata": {},
   "outputs": [
    {
     "data": {
      "text/html": [
       "<div>\n",
       "<style scoped>\n",
       "    .dataframe tbody tr th:only-of-type {\n",
       "        vertical-align: middle;\n",
       "    }\n",
       "\n",
       "    .dataframe tbody tr th {\n",
       "        vertical-align: top;\n",
       "    }\n",
       "\n",
       "    .dataframe thead th {\n",
       "        text-align: right;\n",
       "    }\n",
       "</style>\n",
       "<table border=\"1\" class=\"dataframe\">\n",
       "  <thead>\n",
       "    <tr style=\"text-align: right;\">\n",
       "      <th></th>\n",
       "      <th>kitchen_percent</th>\n",
       "      <th>kitchen_area</th>\n",
       "      <th>total_area</th>\n",
       "    </tr>\n",
       "  </thead>\n",
       "  <tbody>\n",
       "    <tr>\n",
       "      <td>0</td>\n",
       "      <td>0.23</td>\n",
       "      <td>25.00</td>\n",
       "      <td>108.00</td>\n",
       "    </tr>\n",
       "    <tr>\n",
       "      <td>1</td>\n",
       "      <td>0.27</td>\n",
       "      <td>11.00</td>\n",
       "      <td>40.40</td>\n",
       "    </tr>\n",
       "    <tr>\n",
       "      <td>2</td>\n",
       "      <td>0.15</td>\n",
       "      <td>8.30</td>\n",
       "      <td>56.00</td>\n",
       "    </tr>\n",
       "    <tr>\n",
       "      <td>3</td>\n",
       "      <td>0.17</td>\n",
       "      <td>27.40</td>\n",
       "      <td>159.00</td>\n",
       "    </tr>\n",
       "    <tr>\n",
       "      <td>4</td>\n",
       "      <td>0.41</td>\n",
       "      <td>41.00</td>\n",
       "      <td>100.00</td>\n",
       "    </tr>\n",
       "  </tbody>\n",
       "</table>\n",
       "</div>"
      ],
      "text/plain": [
       "   kitchen_percent  kitchen_area  total_area\n",
       "0             0.23         25.00      108.00\n",
       "1             0.27         11.00       40.40\n",
       "2             0.15          8.30       56.00\n",
       "3             0.17         27.40      159.00\n",
       "4             0.41         41.00      100.00"
      ]
     },
     "execution_count": 80,
     "metadata": {},
     "output_type": "execute_result"
    }
   ],
   "source": [
    "real_estate['kitchen_percent'] = round(real_estate['kitchen_area'] / real_estate['total_area'], 3)\n",
    "\n",
    "# проверка\n",
    "real_estate[['kitchen_percent', 'kitchen_area', 'total_area']].head()"
   ]
  },
  {
   "cell_type": "code",
   "execution_count": 81,
   "metadata": {},
   "outputs": [
    {
     "data": {
      "text/html": [
       "<div>\n",
       "<style scoped>\n",
       "    .dataframe tbody tr th:only-of-type {\n",
       "        vertical-align: middle;\n",
       "    }\n",
       "\n",
       "    .dataframe tbody tr th {\n",
       "        vertical-align: top;\n",
       "    }\n",
       "\n",
       "    .dataframe thead th {\n",
       "        text-align: right;\n",
       "    }\n",
       "</style>\n",
       "<table border=\"1\" class=\"dataframe\">\n",
       "  <thead>\n",
       "    <tr style=\"text-align: right;\">\n",
       "      <th></th>\n",
       "      <th>kitchen_percent</th>\n",
       "      <th>living_percent</th>\n",
       "    </tr>\n",
       "  </thead>\n",
       "  <tbody>\n",
       "    <tr>\n",
       "      <td>count</td>\n",
       "      <td>23699.00</td>\n",
       "      <td>23699.00</td>\n",
       "    </tr>\n",
       "    <tr>\n",
       "      <td>mean</td>\n",
       "      <td>0.19</td>\n",
       "      <td>0.57</td>\n",
       "    </tr>\n",
       "    <tr>\n",
       "      <td>std</td>\n",
       "      <td>0.07</td>\n",
       "      <td>0.10</td>\n",
       "    </tr>\n",
       "    <tr>\n",
       "      <td>min</td>\n",
       "      <td>0.03</td>\n",
       "      <td>0.02</td>\n",
       "    </tr>\n",
       "    <tr>\n",
       "      <td>25%</td>\n",
       "      <td>0.14</td>\n",
       "      <td>0.50</td>\n",
       "    </tr>\n",
       "    <tr>\n",
       "      <td>50%</td>\n",
       "      <td>0.17</td>\n",
       "      <td>0.57</td>\n",
       "    </tr>\n",
       "    <tr>\n",
       "      <td>75%</td>\n",
       "      <td>0.22</td>\n",
       "      <td>0.63</td>\n",
       "    </tr>\n",
       "    <tr>\n",
       "      <td>max</td>\n",
       "      <td>0.79</td>\n",
       "      <td>1.00</td>\n",
       "    </tr>\n",
       "  </tbody>\n",
       "</table>\n",
       "</div>"
      ],
      "text/plain": [
       "       kitchen_percent  living_percent\n",
       "count         23699.00        23699.00\n",
       "mean              0.19            0.57\n",
       "std               0.07            0.10\n",
       "min               0.03            0.02\n",
       "25%               0.14            0.50\n",
       "50%               0.17            0.57\n",
       "75%               0.22            0.63\n",
       "max               0.79            1.00"
      ]
     },
     "execution_count": 81,
     "metadata": {},
     "output_type": "execute_result"
    }
   ],
   "source": [
    "real_estate[['kitchen_percent', 'living_percent']].describe()"
   ]
  },
  {
   "cell_type": "markdown",
   "metadata": {},
   "source": [
    "<a name=\"step3_conclusion\"></a>\n",
    "### Вывод"
   ]
  },
  {
   "cell_type": "markdown",
   "metadata": {},
   "source": [
    "- посчитаны значения цены квадратного метра\n",
    "- выделены в отдельные столбцы день недели, месяца и года выставления публикации\n",
    "- определены отношения жилой и кухонной площади к общей\n",
    "\n",
    "Но не во всех случаях было заполнение, так, например, при неизвестном числе этаже, нельзя было определить катугорию этажа (первый, последний, другой).  \n",
    "Цена за квадратный метр могла быть 111 рублей и почти 2 млн рублей (роботы...)  \n",
    "Площадь кухни иногда бывала больше площади жилой площади, а иногда обе эти площади могли составлять 2% от общей"
   ]
  },
  {
   "cell_type": "markdown",
   "metadata": {},
   "source": [
    "<a name=\"step4\"></a>\n",
    "### Шаг 4. Проведите исследовательский анализ данных и выполните инструкции:"
   ]
  },
  {
   "cell_type": "markdown",
   "metadata": {},
   "source": [
    "<a name=\"step4.1_params\"></a>\n",
    "#### Изучение параметров: площадь, цена, число комнат, высота потолков"
   ]
  },
  {
   "cell_type": "code",
   "execution_count": 82,
   "metadata": {},
   "outputs": [],
   "source": [
    "# выделим необходимые колонки в список\n",
    "cols_to_analysis = ['total_area', 'last_price', 'rooms', 'ceiling_height']"
   ]
  },
  {
   "cell_type": "code",
   "execution_count": 83,
   "metadata": {},
   "outputs": [
    {
     "data": {
      "text/html": [
       "<div>\n",
       "<style scoped>\n",
       "    .dataframe tbody tr th:only-of-type {\n",
       "        vertical-align: middle;\n",
       "    }\n",
       "\n",
       "    .dataframe tbody tr th {\n",
       "        vertical-align: top;\n",
       "    }\n",
       "\n",
       "    .dataframe thead th {\n",
       "        text-align: right;\n",
       "    }\n",
       "</style>\n",
       "<table border=\"1\" class=\"dataframe\">\n",
       "  <thead>\n",
       "    <tr style=\"text-align: right;\">\n",
       "      <th></th>\n",
       "      <th>count</th>\n",
       "      <th>mean</th>\n",
       "      <th>std</th>\n",
       "      <th>min</th>\n",
       "      <th>25%</th>\n",
       "      <th>50%</th>\n",
       "      <th>75%</th>\n",
       "      <th>max</th>\n",
       "    </tr>\n",
       "  </thead>\n",
       "  <tbody>\n",
       "    <tr>\n",
       "      <td>total_area</td>\n",
       "      <td>23699.00</td>\n",
       "      <td>60.35</td>\n",
       "      <td>35.65</td>\n",
       "      <td>12.00</td>\n",
       "      <td>40.00</td>\n",
       "      <td>52.00</td>\n",
       "      <td>69.90</td>\n",
       "      <td>900.00</td>\n",
       "    </tr>\n",
       "    <tr>\n",
       "      <td>last_price</td>\n",
       "      <td>23699.00</td>\n",
       "      <td>6541548.77</td>\n",
       "      <td>10887013.27</td>\n",
       "      <td>12190.00</td>\n",
       "      <td>3400000.00</td>\n",
       "      <td>4650000.00</td>\n",
       "      <td>6800000.00</td>\n",
       "      <td>763000000.00</td>\n",
       "    </tr>\n",
       "    <tr>\n",
       "      <td>rooms</td>\n",
       "      <td>23699.00</td>\n",
       "      <td>2.07</td>\n",
       "      <td>1.08</td>\n",
       "      <td>0.00</td>\n",
       "      <td>1.00</td>\n",
       "      <td>2.00</td>\n",
       "      <td>3.00</td>\n",
       "      <td>19.00</td>\n",
       "    </tr>\n",
       "    <tr>\n",
       "      <td>ceiling_height</td>\n",
       "      <td>23699.00</td>\n",
       "      <td>2.71</td>\n",
       "      <td>1.02</td>\n",
       "      <td>1.00</td>\n",
       "      <td>2.50</td>\n",
       "      <td>2.60</td>\n",
       "      <td>2.75</td>\n",
       "      <td>100.00</td>\n",
       "    </tr>\n",
       "  </tbody>\n",
       "</table>\n",
       "</div>"
      ],
      "text/plain": [
       "                  count       mean         std      min        25%        50%  \\\n",
       "total_area     23699.00      60.35       35.65    12.00      40.00      52.00   \n",
       "last_price     23699.00 6541548.77 10887013.27 12190.00 3400000.00 4650000.00   \n",
       "rooms          23699.00       2.07        1.08     0.00       1.00       2.00   \n",
       "ceiling_height 23699.00       2.71        1.02     1.00       2.50       2.60   \n",
       "\n",
       "                      75%          max  \n",
       "total_area          69.90       900.00  \n",
       "last_price     6800000.00 763000000.00  \n",
       "rooms                3.00        19.00  \n",
       "ceiling_height       2.75       100.00  "
      ]
     },
     "execution_count": 83,
     "metadata": {},
     "output_type": "execute_result"
    }
   ],
   "source": [
    "# отразим общую информацию о полях \n",
    "real_estate[cols_to_analysis].describe().T"
   ]
  },
  {
   "cell_type": "markdown",
   "metadata": {},
   "source": [
    "Во всех показателях среднее выше медианы (50%), поэтому сильно большие значения здесь встречаются чаще, чем сильно маленькие. Оно и видно - 19-комнатные квартиры, 100 метровые потолки, квартиры за 763 млн и площади 900 кв.м. \n",
    "Но в среднем (по медиане) встречаются 52 кв.м двушки за 4,65 млн со стандартным потолком в 2,65 м.  \n",
    "\n",
    "К сожалению, есть и необыкновенно маленькие квартиры с потолками в 1 м (это даже не для карликов!), с отсутсвием комнат (может быть это и апартаменты, а жилого там ничего нет), за 12 тыс (скорее всего, указали арендную плату), ну а 12 кв.м - это вполне реально (могут продавать и комнату, и оооочень маленькую квартиру)"
   ]
  },
  {
   "cell_type": "markdown",
   "metadata": {},
   "source": [
    "<a name=\"step4.1_hist\"></a>\n",
    "#### Гистограммы\n",
    "Теперь очередь за визуализацией  \n",
    "\n",
    "Начнем с гистограммы для площади квартиры"
   ]
  },
  {
   "cell_type": "code",
   "execution_count": 84,
   "metadata": {},
   "outputs": [],
   "source": [
    "import matplotlib.pyplot as plt"
   ]
  },
  {
   "cell_type": "code",
   "execution_count": 85,
   "metadata": {},
   "outputs": [
    {
     "data": {
      "text/plain": [
       "<matplotlib.axes._subplots.AxesSubplot at 0x7f1ef0a60250>"
      ]
     },
     "execution_count": 85,
     "metadata": {},
     "output_type": "execute_result"
    },
    {
     "data": {
      "image/png": "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\n",
      "text/plain": [
       "<Figure size 432x288 with 1 Axes>"
      ]
     },
     "metadata": {
      "needs_background": "light"
     },
     "output_type": "display_data"
    }
   ],
   "source": [
    "real_estate['total_area'].hist(bins=30, range=(0,300))"
   ]
  },
  {
   "cell_type": "markdown",
   "metadata": {},
   "source": [
    "Для площади квартиры кривая похожа на распределение Пуассона (не симметрично и больше 0)\n",
    "Однако встречаются и большие значения, но после 200 кв.м их незначительно. Основная масса лежит в пределах от 25 до 125 кв.м\n",
    "\n",
    "Посмотрим на гистограмму для высоты потолков"
   ]
  },
  {
   "cell_type": "code",
   "execution_count": 86,
   "metadata": {},
   "outputs": [
    {
     "data": {
      "image/png": "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\n",
      "text/plain": [
       "<Figure size 432x288 with 1 Axes>"
      ]
     },
     "metadata": {
      "needs_background": "light"
     },
     "output_type": "display_data"
    },
    {
     "data": {
      "image/png": "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\n",
      "text/plain": [
       "<Figure size 432x288 with 1 Axes>"
      ]
     },
     "metadata": {
      "needs_background": "light"
     },
     "output_type": "display_data"
    }
   ],
   "source": [
    "real_estate['ceiling_height'].hist(bins=30)\n",
    "plt.show()\n",
    "real_estate['ceiling_height'].hist(bins=30, range=(1.8,5))\n",
    "plt.show()"
   ]
  },
  {
   "cell_type": "markdown",
   "metadata": {},
   "source": [
    "Для высоты потолков тоже схожая ситуация - крайне редкие значени (100 м) - из раздела невероятное, чаще всего встречаются потолки от 2,4 м до 3,5 м  \n",
    "\n",
    "Посмотрим, что там у количества комнат"
   ]
  },
  {
   "cell_type": "code",
   "execution_count": 87,
   "metadata": {},
   "outputs": [
    {
     "data": {
      "text/plain": [
       "<matplotlib.axes._subplots.AxesSubplot at 0x7f1ee97837d0>"
      ]
     },
     "execution_count": 87,
     "metadata": {},
     "output_type": "execute_result"
    },
    {
     "data": {
      "image/png": "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\n",
      "text/plain": [
       "<Figure size 432x288 with 1 Axes>"
      ]
     },
     "metadata": {
      "needs_background": "light"
     },
     "output_type": "display_data"
    }
   ],
   "source": [
    "real_estate['rooms'].hist(bins=20)"
   ]
  },
  {
   "cell_type": "markdown",
   "metadata": {},
   "source": [
    "Все, как и предполагали 0 - это экзотика, а больше 4-комнатных себе уже мало кто может позволить (хотя это и реально).\n",
    "\n",
    "Напоследок, гистограммы с ценами"
   ]
  },
  {
   "cell_type": "code",
   "execution_count": 88,
   "metadata": {},
   "outputs": [
    {
     "data": {
      "text/plain": [
       "<matplotlib.axes._subplots.AxesSubplot at 0x7f1ee959d550>"
      ]
     },
     "execution_count": 88,
     "metadata": {},
     "output_type": "execute_result"
    },
    {
     "data": {
      "image/png": "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\n",
      "text/plain": [
       "<Figure size 432x288 with 1 Axes>"
      ]
     },
     "metadata": {
      "needs_background": "light"
     },
     "output_type": "display_data"
    }
   ],
   "source": [
    "real_estate['last_price'].hist(bins=30, range=(0, 40000000))"
   ]
  },
  {
   "cell_type": "code",
   "execution_count": 89,
   "metadata": {},
   "outputs": [
    {
     "data": {
      "text/plain": [
       "<matplotlib.axes._subplots.AxesSubplot at 0x7f1ee96a6d50>"
      ]
     },
     "execution_count": 89,
     "metadata": {},
     "output_type": "execute_result"
    },
    {
     "data": {
      "image/png": "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\n",
      "text/plain": [
       "<Figure size 432x288 with 1 Axes>"
      ]
     },
     "metadata": {
      "needs_background": "light"
     },
     "output_type": "display_data"
    }
   ],
   "source": [
    "real_estate['last_price'].plot.box(ylim=(0, 20000000))"
   ]
  },
  {
   "cell_type": "markdown",
   "metadata": {},
   "source": [
    "Опять распределение Пуассона, что для цены характерно. Чаще всего, квартиры стоят меньше 5 млн. Нормалые пределы - от 1 млн до 12.5 млн - остальное - длинный хвост"
   ]
  },
  {
   "cell_type": "markdown",
   "metadata": {},
   "source": [
    "<a name=\"step4.2_time\"></a>\n",
    "#### Изучение времени продажи квартиры"
   ]
  },
  {
   "cell_type": "code",
   "execution_count": 90,
   "metadata": {},
   "outputs": [
    {
     "data": {
      "text/plain": [
       "count   23116.00\n",
       "mean      174.24\n",
       "std       210.79\n",
       "min         1.00\n",
       "25%        45.00\n",
       "50%        94.00\n",
       "75%       214.00\n",
       "max      1580.00\n",
       "Name: days_exposition, dtype: float64"
      ]
     },
     "execution_count": 90,
     "metadata": {},
     "output_type": "execute_result"
    }
   ],
   "source": [
    "real_estate['days_exposition'].describe()"
   ]
  },
  {
   "cell_type": "markdown",
   "metadata": {},
   "source": [
    "Среднее более чем в 2 раза больше медианы, а это значит, что могло быть очень много маленьких значений (которые подвинули меньше число к медиане), либо завелись гигантские значения, которые перетянули среднее значение в бОльшую сторону.   \n",
    "И по данным, мы видим обе картины - есть короткие объявления по одному дню, а также длинное - ах 1580 дней (это больше 4 лет).  \n",
    "Построим гистограмму и убедимся, все ли так"
   ]
  },
  {
   "cell_type": "code",
   "execution_count": 91,
   "metadata": {},
   "outputs": [
    {
     "data": {
      "text/plain": [
       "<matplotlib.axes._subplots.AxesSubplot at 0x7f1eebded210>"
      ]
     },
     "execution_count": 91,
     "metadata": {},
     "output_type": "execute_result"
    },
    {
     "data": {
      "image/png": "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\n",
      "text/plain": [
       "<Figure size 432x288 with 1 Axes>"
      ]
     },
     "metadata": {
      "needs_background": "light"
     },
     "output_type": "display_data"
    }
   ],
   "source": [
    "real_estate['days_exposition'].hist(bins=100, range=(0,800))"
   ]
  },
  {
   "cell_type": "markdown",
   "metadata": {},
   "source": [
    "Это уже не похоже на нормальное распределение или распределение Пуассона. Очень много значений вблизи 0, навряд ли квартиру могли продать столь быстро.  \n",
    "Посмотрим, что около 0"
   ]
  },
  {
   "cell_type": "code",
   "execution_count": 92,
   "metadata": {},
   "outputs": [
    {
     "data": {
      "text/plain": [
       "<matplotlib.axes._subplots.AxesSubplot at 0x7f1ef0e35490>"
      ]
     },
     "execution_count": 92,
     "metadata": {},
     "output_type": "execute_result"
    },
    {
     "data": {
      "image/png": "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\n",
      "text/plain": [
       "<Figure size 432x288 with 1 Axes>"
      ]
     },
     "metadata": {
      "needs_background": "light"
     },
     "output_type": "display_data"
    }
   ],
   "source": [
    "real_estate['days_exposition'].hist(bins=20, range=(0,50))"
   ]
  },
  {
   "cell_type": "markdown",
   "metadata": {},
   "source": [
    "От 3 дней начинается уже значительное количество выполненных заявок, а значит, можно считать 3 дня - нормальным нижним порогом для отбора  \n",
    "\n",
    "Теперь определим верхний порог, для понимания, какие заявки выполняются слишком долго. В районе от 400 до 500 дней наблюдалось снижение, заметно уходящее вниз, по сравнению с другими днями. Построим по этому промежутку гистограмму"
   ]
  },
  {
   "cell_type": "code",
   "execution_count": 130,
   "metadata": {},
   "outputs": [
    {
     "data": {
      "text/plain": [
       "<matplotlib.axes._subplots.AxesSubplot at 0x7f1eeb949b10>"
      ]
     },
     "execution_count": 130,
     "metadata": {},
     "output_type": "execute_result"
    },
    {
     "data": {
      "image/png": "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\n",
      "text/plain": [
       "<Figure size 432x288 with 1 Axes>"
      ]
     },
     "metadata": {
      "needs_background": "light"
     },
     "output_type": "display_data"
    }
   ],
   "source": [
    "real_estate['days_exposition'].hist(bins=50, range=(400,500))"
   ]
  },
  {
   "cell_type": "code",
   "execution_count": 131,
   "metadata": {},
   "outputs": [
    {
     "data": {
      "text/plain": [
       "<matplotlib.axes._subplots.AxesSubplot at 0x7f1eeb934c50>"
      ]
     },
     "execution_count": 131,
     "metadata": {},
     "output_type": "execute_result"
    },
    {
     "data": {
      "image/png": "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\n",
      "text/plain": [
       "<Figure size 432x288 with 1 Axes>"
      ]
     },
     "metadata": {
      "needs_background": "light"
     },
     "output_type": "display_data"
    }
   ],
   "source": [
    "real_estate['days_exposition'].plot.box()"
   ]
  },
  {
   "cell_type": "markdown",
   "metadata": {},
   "source": [
    "До 460 дней можно считать, что квартира будет продана (это показала и гистограмма, и ящик с усами)  \n",
    "\n",
    "Посмотрим, сколько времени обычно занимает продажа. На большой диаграмме наблюдалось два пика до 100 дней. Рассмотрим их ближе"
   ]
  },
  {
   "cell_type": "code",
   "execution_count": 132,
   "metadata": {},
   "outputs": [
    {
     "data": {
      "text/plain": [
       "<matplotlib.axes._subplots.AxesSubplot at 0x7f1eeb3f3610>"
      ]
     },
     "execution_count": 132,
     "metadata": {},
     "output_type": "execute_result"
    },
    {
     "data": {
      "image/png": "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\n",
      "text/plain": [
       "<Figure size 432x288 with 1 Axes>"
      ]
     },
     "metadata": {
      "needs_background": "light"
     },
     "output_type": "display_data"
    }
   ],
   "source": [
    "real_estate['days_exposition'].hist(bins=30, range=(0,130))"
   ]
  },
  {
   "cell_type": "markdown",
   "metadata": {},
   "source": [
    "Обычно продажи занимают 45 или 60 дней либо после этого срока система автоматически снимает объявление, если его не продлить. "
   ]
  },
  {
   "cell_type": "markdown",
   "metadata": {},
   "source": [
    "<a name=\"step4.3_unusual\"></a>\n",
    "#### Исключение редких и выбивающихся значений   \n",
    "Исходя из предыдущих гистограмм выделены следующие редкие и выбивающиеся значения:\n",
    "1. Площадь квартиры от 25 до 125 кв.м (за пределами - очень редкие)\n",
    "2. Высота потолков от 2,4 до 3,5 м (за пределами - очень редкие и выбивающиеся 100 м)\n",
    "3. Количество комнат от 1 до 6 (остальные - редкие)\n",
    "4. Цена от 1 млн до 12,5 млн (за пределами - редкое)\n",
    "5. Количество дней продажи от 3 дней до 460 дней"
   ]
  },
  {
   "cell_type": "code",
   "execution_count": 133,
   "metadata": {},
   "outputs": [
    {
     "name": "stdout",
     "output_type": "stream",
     "text": [
      "Количество строк в массиве =  23699\n",
      "Количество строк в очищенном массиве =  19010\n",
      "\n",
      "Данных стало меньше на 19.8%\n"
     ]
    }
   ],
   "source": [
    "# составим запрос на исключение этих редких или выбивающихся значений\n",
    "query_clean = '25 <= total_area <= 125 and 2.4 <= ceiling_height <= 3.5 and 1 <= rooms <= 6 and 1000000 <= last_price <= 12500000 and 3 <= days_exposition <= 460'\n",
    "\n",
    "# не забудем про вывод и добавленный на 3 шаге колонок\n",
    "cols_added = ['price_per_metr', 'dayofweek_exposition', 'month_exposition', 'year_exposition', \n",
    "              'category_floor', 'living_percent', 'kitchen_percent']\n",
    "\n",
    "clean_real_estate = real_estate[cols_need + cols_added].query(query_clean)\n",
    "\n",
    "len_dirty = len(real_estate)\n",
    "len_clean = len(clean_real_estate)\n",
    "print('Количество строк в массиве = ', len_dirty)\n",
    "print('Количество строк в очищенном массиве = ', len_clean)\n",
    "print('\\nДанных стало меньше на {:.1%}'.format((len_dirty - len_clean)/ len_dirty))"
   ]
  },
  {
   "cell_type": "code",
   "execution_count": 134,
   "metadata": {},
   "outputs": [
    {
     "data": {
      "text/html": [
       "<div>\n",
       "<style scoped>\n",
       "    .dataframe tbody tr th:only-of-type {\n",
       "        vertical-align: middle;\n",
       "    }\n",
       "\n",
       "    .dataframe tbody tr th {\n",
       "        vertical-align: top;\n",
       "    }\n",
       "\n",
       "    .dataframe thead th {\n",
       "        text-align: right;\n",
       "    }\n",
       "</style>\n",
       "<table border=\"1\" class=\"dataframe\">\n",
       "  <thead>\n",
       "    <tr style=\"text-align: right;\">\n",
       "      <th></th>\n",
       "      <th>last_price</th>\n",
       "      <th>total_area</th>\n",
       "      <th>rooms</th>\n",
       "      <th>ceiling_height</th>\n",
       "      <th>living_area</th>\n",
       "      <th>kitchen_area</th>\n",
       "      <th>locality_name</th>\n",
       "      <th>cityCenters_nearest</th>\n",
       "      <th>days_exposition</th>\n",
       "      <th>first_day_exposition</th>\n",
       "      <th>floor</th>\n",
       "      <th>floors_total</th>\n",
       "      <th>price_per_metr</th>\n",
       "      <th>dayofweek_exposition</th>\n",
       "      <th>month_exposition</th>\n",
       "      <th>year_exposition</th>\n",
       "      <th>category_floor</th>\n",
       "      <th>living_percent</th>\n",
       "      <th>kitchen_percent</th>\n",
       "    </tr>\n",
       "  </thead>\n",
       "  <tbody>\n",
       "    <tr>\n",
       "      <td>1</td>\n",
       "      <td>3350000</td>\n",
       "      <td>40.40</td>\n",
       "      <td>1</td>\n",
       "      <td>2.50</td>\n",
       "      <td>18.60</td>\n",
       "      <td>11.00</td>\n",
       "      <td>посёлок Шушары</td>\n",
       "      <td>18603.00</td>\n",
       "      <td>81.00</td>\n",
       "      <td>2018-12-04</td>\n",
       "      <td>1</td>\n",
       "      <td>11.00</td>\n",
       "      <td>82920</td>\n",
       "      <td>1</td>\n",
       "      <td>12</td>\n",
       "      <td>2018</td>\n",
       "      <td>первый</td>\n",
       "      <td>0.46</td>\n",
       "      <td>0.27</td>\n",
       "    </tr>\n",
       "    <tr>\n",
       "      <td>4</td>\n",
       "      <td>10000000</td>\n",
       "      <td>100.00</td>\n",
       "      <td>2</td>\n",
       "      <td>3.03</td>\n",
       "      <td>32.00</td>\n",
       "      <td>41.00</td>\n",
       "      <td>Санкт-Петербург</td>\n",
       "      <td>8098.00</td>\n",
       "      <td>121.00</td>\n",
       "      <td>2018-06-19</td>\n",
       "      <td>13</td>\n",
       "      <td>14.00</td>\n",
       "      <td>100000</td>\n",
       "      <td>1</td>\n",
       "      <td>6</td>\n",
       "      <td>2018</td>\n",
       "      <td>другой</td>\n",
       "      <td>0.32</td>\n",
       "      <td>0.41</td>\n",
       "    </tr>\n",
       "    <tr>\n",
       "      <td>5</td>\n",
       "      <td>2890000</td>\n",
       "      <td>30.40</td>\n",
       "      <td>1</td>\n",
       "      <td>2.62</td>\n",
       "      <td>14.40</td>\n",
       "      <td>9.10</td>\n",
       "      <td>городской посёлок Янино-1</td>\n",
       "      <td>nan</td>\n",
       "      <td>55.00</td>\n",
       "      <td>2018-09-10</td>\n",
       "      <td>5</td>\n",
       "      <td>12.00</td>\n",
       "      <td>95065</td>\n",
       "      <td>0</td>\n",
       "      <td>9</td>\n",
       "      <td>2018</td>\n",
       "      <td>другой</td>\n",
       "      <td>0.47</td>\n",
       "      <td>0.30</td>\n",
       "    </tr>\n",
       "    <tr>\n",
       "      <td>6</td>\n",
       "      <td>3700000</td>\n",
       "      <td>37.30</td>\n",
       "      <td>1</td>\n",
       "      <td>2.60</td>\n",
       "      <td>10.60</td>\n",
       "      <td>14.40</td>\n",
       "      <td>посёлок Парголово</td>\n",
       "      <td>19143.00</td>\n",
       "      <td>155.00</td>\n",
       "      <td>2017-11-02</td>\n",
       "      <td>6</td>\n",
       "      <td>26.00</td>\n",
       "      <td>99195</td>\n",
       "      <td>3</td>\n",
       "      <td>11</td>\n",
       "      <td>2017</td>\n",
       "      <td>другой</td>\n",
       "      <td>0.28</td>\n",
       "      <td>0.39</td>\n",
       "    </tr>\n",
       "    <tr>\n",
       "      <td>8</td>\n",
       "      <td>2900000</td>\n",
       "      <td>33.16</td>\n",
       "      <td>1</td>\n",
       "      <td>2.65</td>\n",
       "      <td>15.43</td>\n",
       "      <td>8.81</td>\n",
       "      <td>посёлок Мурино</td>\n",
       "      <td>nan</td>\n",
       "      <td>189.00</td>\n",
       "      <td>2018-05-23</td>\n",
       "      <td>26</td>\n",
       "      <td>27.00</td>\n",
       "      <td>87454</td>\n",
       "      <td>2</td>\n",
       "      <td>5</td>\n",
       "      <td>2018</td>\n",
       "      <td>другой</td>\n",
       "      <td>0.47</td>\n",
       "      <td>0.27</td>\n",
       "    </tr>\n",
       "  </tbody>\n",
       "</table>\n",
       "</div>"
      ],
      "text/plain": [
       "   last_price  total_area  rooms  ceiling_height  living_area  kitchen_area  \\\n",
       "1     3350000       40.40      1            2.50        18.60         11.00   \n",
       "4    10000000      100.00      2            3.03        32.00         41.00   \n",
       "5     2890000       30.40      1            2.62        14.40          9.10   \n",
       "6     3700000       37.30      1            2.60        10.60         14.40   \n",
       "8     2900000       33.16      1            2.65        15.43          8.81   \n",
       "\n",
       "               locality_name  cityCenters_nearest  days_exposition  \\\n",
       "1             посёлок Шушары             18603.00            81.00   \n",
       "4            Санкт-Петербург              8098.00           121.00   \n",
       "5  городской посёлок Янино-1                  nan            55.00   \n",
       "6          посёлок Парголово             19143.00           155.00   \n",
       "8             посёлок Мурино                  nan           189.00   \n",
       "\n",
       "  first_day_exposition  floor  floors_total  price_per_metr  \\\n",
       "1           2018-12-04      1         11.00           82920   \n",
       "4           2018-06-19     13         14.00          100000   \n",
       "5           2018-09-10      5         12.00           95065   \n",
       "6           2017-11-02      6         26.00           99195   \n",
       "8           2018-05-23     26         27.00           87454   \n",
       "\n",
       "   dayofweek_exposition  month_exposition  year_exposition category_floor  \\\n",
       "1                     1                12             2018         первый   \n",
       "4                     1                 6             2018         другой   \n",
       "5                     0                 9             2018         другой   \n",
       "6                     3                11             2017         другой   \n",
       "8                     2                 5             2018         другой   \n",
       "\n",
       "   living_percent  kitchen_percent  \n",
       "1            0.46             0.27  \n",
       "4            0.32             0.41  \n",
       "5            0.47             0.30  \n",
       "6            0.28             0.39  \n",
       "8            0.47             0.27  "
      ]
     },
     "execution_count": 134,
     "metadata": {},
     "output_type": "execute_result"
    }
   ],
   "source": [
    "clean_real_estate.head()"
   ]
  },
  {
   "cell_type": "code",
   "execution_count": 135,
   "metadata": {},
   "outputs": [
    {
     "data": {
      "text/html": [
       "<div>\n",
       "<style scoped>\n",
       "    .dataframe tbody tr th:only-of-type {\n",
       "        vertical-align: middle;\n",
       "    }\n",
       "\n",
       "    .dataframe tbody tr th {\n",
       "        vertical-align: top;\n",
       "    }\n",
       "\n",
       "    .dataframe thead th {\n",
       "        text-align: right;\n",
       "    }\n",
       "</style>\n",
       "<table border=\"1\" class=\"dataframe\">\n",
       "  <thead>\n",
       "    <tr style=\"text-align: right;\">\n",
       "      <th></th>\n",
       "      <th>last_price</th>\n",
       "      <th>total_area</th>\n",
       "      <th>rooms</th>\n",
       "      <th>ceiling_height</th>\n",
       "      <th>living_area</th>\n",
       "      <th>kitchen_area</th>\n",
       "      <th>cityCenters_nearest</th>\n",
       "      <th>days_exposition</th>\n",
       "      <th>floor</th>\n",
       "      <th>floors_total</th>\n",
       "      <th>price_per_metr</th>\n",
       "      <th>dayofweek_exposition</th>\n",
       "      <th>month_exposition</th>\n",
       "      <th>year_exposition</th>\n",
       "      <th>living_percent</th>\n",
       "      <th>kitchen_percent</th>\n",
       "    </tr>\n",
       "  </thead>\n",
       "  <tbody>\n",
       "    <tr>\n",
       "      <td>count</td>\n",
       "      <td>19010.00</td>\n",
       "      <td>19010.00</td>\n",
       "      <td>19010.00</td>\n",
       "      <td>19010.00</td>\n",
       "      <td>19010.00</td>\n",
       "      <td>19010.00</td>\n",
       "      <td>14480.00</td>\n",
       "      <td>19010.00</td>\n",
       "      <td>19010.00</td>\n",
       "      <td>18974.00</td>\n",
       "      <td>19010.00</td>\n",
       "      <td>19010.00</td>\n",
       "      <td>19010.00</td>\n",
       "      <td>19010.00</td>\n",
       "      <td>19010.00</td>\n",
       "      <td>19010.00</td>\n",
       "    </tr>\n",
       "    <tr>\n",
       "      <td>mean</td>\n",
       "      <td>4898677.20</td>\n",
       "      <td>53.15</td>\n",
       "      <td>1.93</td>\n",
       "      <td>2.64</td>\n",
       "      <td>30.36</td>\n",
       "      <td>9.54</td>\n",
       "      <td>15101.87</td>\n",
       "      <td>117.70</td>\n",
       "      <td>5.95</td>\n",
       "      <td>10.87</td>\n",
       "      <td>92820.82</td>\n",
       "      <td>2.58</td>\n",
       "      <td>6.41</td>\n",
       "      <td>2017.51</td>\n",
       "      <td>0.56</td>\n",
       "      <td>0.19</td>\n",
       "    </tr>\n",
       "    <tr>\n",
       "      <td>std</td>\n",
       "      <td>2218790.87</td>\n",
       "      <td>17.95</td>\n",
       "      <td>0.87</td>\n",
       "      <td>0.18</td>\n",
       "      <td>12.72</td>\n",
       "      <td>3.76</td>\n",
       "      <td>8412.42</td>\n",
       "      <td>105.39</td>\n",
       "      <td>4.90</td>\n",
       "      <td>6.61</td>\n",
       "      <td>28724.41</td>\n",
       "      <td>1.80</td>\n",
       "      <td>3.49</td>\n",
       "      <td>0.90</td>\n",
       "      <td>0.10</td>\n",
       "      <td>0.07</td>\n",
       "    </tr>\n",
       "    <tr>\n",
       "      <td>min</td>\n",
       "      <td>1000000.00</td>\n",
       "      <td>25.00</td>\n",
       "      <td>1.00</td>\n",
       "      <td>2.40</td>\n",
       "      <td>2.00</td>\n",
       "      <td>1.30</td>\n",
       "      <td>287.00</td>\n",
       "      <td>3.00</td>\n",
       "      <td>1.00</td>\n",
       "      <td>1.00</td>\n",
       "      <td>13483.00</td>\n",
       "      <td>0.00</td>\n",
       "      <td>1.00</td>\n",
       "      <td>2014.00</td>\n",
       "      <td>0.04</td>\n",
       "      <td>0.04</td>\n",
       "    </tr>\n",
       "    <tr>\n",
       "      <td>25%</td>\n",
       "      <td>3400000.00</td>\n",
       "      <td>39.20</td>\n",
       "      <td>1.00</td>\n",
       "      <td>2.50</td>\n",
       "      <td>18.50</td>\n",
       "      <td>7.00</td>\n",
       "      <td>10820.00</td>\n",
       "      <td>44.00</td>\n",
       "      <td>2.00</td>\n",
       "      <td>5.00</td>\n",
       "      <td>75528.75</td>\n",
       "      <td>1.00</td>\n",
       "      <td>3.00</td>\n",
       "      <td>2017.00</td>\n",
       "      <td>0.50</td>\n",
       "      <td>0.14</td>\n",
       "    </tr>\n",
       "    <tr>\n",
       "      <td>50%</td>\n",
       "      <td>4450000.00</td>\n",
       "      <td>49.30</td>\n",
       "      <td>2.00</td>\n",
       "      <td>2.60</td>\n",
       "      <td>29.00</td>\n",
       "      <td>9.00</td>\n",
       "      <td>13708.50</td>\n",
       "      <td>83.00</td>\n",
       "      <td>4.00</td>\n",
       "      <td>9.00</td>\n",
       "      <td>93066.00</td>\n",
       "      <td>3.00</td>\n",
       "      <td>6.00</td>\n",
       "      <td>2018.00</td>\n",
       "      <td>0.57</td>\n",
       "      <td>0.17</td>\n",
       "    </tr>\n",
       "    <tr>\n",
       "      <td>75%</td>\n",
       "      <td>5992250.00</td>\n",
       "      <td>63.10</td>\n",
       "      <td>3.00</td>\n",
       "      <td>2.70</td>\n",
       "      <td>39.00</td>\n",
       "      <td>11.00</td>\n",
       "      <td>16720.50</td>\n",
       "      <td>161.00</td>\n",
       "      <td>8.00</td>\n",
       "      <td>16.00</td>\n",
       "      <td>109571.75</td>\n",
       "      <td>4.00</td>\n",
       "      <td>10.00</td>\n",
       "      <td>2018.00</td>\n",
       "      <td>0.63</td>\n",
       "      <td>0.23</td>\n",
       "    </tr>\n",
       "    <tr>\n",
       "      <td>max</td>\n",
       "      <td>12500000.00</td>\n",
       "      <td>125.00</td>\n",
       "      <td>6.00</td>\n",
       "      <td>3.50</td>\n",
       "      <td>100.00</td>\n",
       "      <td>64.00</td>\n",
       "      <td>65952.00</td>\n",
       "      <td>460.00</td>\n",
       "      <td>33.00</td>\n",
       "      <td>60.00</td>\n",
       "      <td>387096.00</td>\n",
       "      <td>6.00</td>\n",
       "      <td>12.00</td>\n",
       "      <td>2019.00</td>\n",
       "      <td>0.97</td>\n",
       "      <td>0.79</td>\n",
       "    </tr>\n",
       "  </tbody>\n",
       "</table>\n",
       "</div>"
      ],
      "text/plain": [
       "       last_price  total_area    rooms  ceiling_height  living_area  \\\n",
       "count    19010.00    19010.00 19010.00        19010.00     19010.00   \n",
       "mean   4898677.20       53.15     1.93            2.64        30.36   \n",
       "std    2218790.87       17.95     0.87            0.18        12.72   \n",
       "min    1000000.00       25.00     1.00            2.40         2.00   \n",
       "25%    3400000.00       39.20     1.00            2.50        18.50   \n",
       "50%    4450000.00       49.30     2.00            2.60        29.00   \n",
       "75%    5992250.00       63.10     3.00            2.70        39.00   \n",
       "max   12500000.00      125.00     6.00            3.50       100.00   \n",
       "\n",
       "       kitchen_area  cityCenters_nearest  days_exposition    floor  \\\n",
       "count      19010.00             14480.00         19010.00 19010.00   \n",
       "mean           9.54             15101.87           117.70     5.95   \n",
       "std            3.76              8412.42           105.39     4.90   \n",
       "min            1.30               287.00             3.00     1.00   \n",
       "25%            7.00             10820.00            44.00     2.00   \n",
       "50%            9.00             13708.50            83.00     4.00   \n",
       "75%           11.00             16720.50           161.00     8.00   \n",
       "max           64.00             65952.00           460.00    33.00   \n",
       "\n",
       "       floors_total  price_per_metr  dayofweek_exposition  month_exposition  \\\n",
       "count      18974.00        19010.00              19010.00          19010.00   \n",
       "mean          10.87        92820.82                  2.58              6.41   \n",
       "std            6.61        28724.41                  1.80              3.49   \n",
       "min            1.00        13483.00                  0.00              1.00   \n",
       "25%            5.00        75528.75                  1.00              3.00   \n",
       "50%            9.00        93066.00                  3.00              6.00   \n",
       "75%           16.00       109571.75                  4.00             10.00   \n",
       "max           60.00       387096.00                  6.00             12.00   \n",
       "\n",
       "       year_exposition  living_percent  kitchen_percent  \n",
       "count         19010.00        19010.00         19010.00  \n",
       "mean           2017.51            0.56             0.19  \n",
       "std               0.90            0.10             0.07  \n",
       "min            2014.00            0.04             0.04  \n",
       "25%            2017.00            0.50             0.14  \n",
       "50%            2018.00            0.57             0.17  \n",
       "75%            2018.00            0.63             0.23  \n",
       "max            2019.00            0.97             0.79  "
      ]
     },
     "execution_count": 135,
     "metadata": {},
     "output_type": "execute_result"
    }
   ],
   "source": [
    "clean_real_estate.describe()"
   ]
  },
  {
   "cell_type": "markdown",
   "metadata": {},
   "source": [
    "Все также остались строки с пропусками, но их уже не так много.  \n",
    "Данных стало значительно меньше, но зато будем проводить анализ на этих оставшихся \"чистых\"\n",
    "\n",
    "Также в чистых данных среднее стало похожу на медиану в \"нечистых\""
   ]
  },
  {
   "cell_type": "markdown",
   "metadata": {},
   "source": [
    "<a name=\"step4.4_factors\"></a>\n",
    "#### Изучение факторов, больше всего влияющих на стоимость квартиры  \n",
    "Рассмотрим влияние площади, числа комнат, удалённости от центра, этажа квартиры, даты размещения: дня недели, месяца и года.  \n",
    "<br>\n",
    "Ответим на вопрос: зависит ли цена от квадратного метра, числа комнат, этажа (первого или последнего), удалённости от центра. Также изучим зависимость от даты размещения: дня недели, месяца и года."
   ]
  },
  {
   "cell_type": "code",
   "execution_count": 136,
   "metadata": {},
   "outputs": [
    {
     "data": {
      "text/html": [
       "<div>\n",
       "<style scoped>\n",
       "    .dataframe tbody tr th:only-of-type {\n",
       "        vertical-align: middle;\n",
       "    }\n",
       "\n",
       "    .dataframe tbody tr th {\n",
       "        vertical-align: top;\n",
       "    }\n",
       "\n",
       "    .dataframe thead th {\n",
       "        text-align: right;\n",
       "    }\n",
       "</style>\n",
       "<table border=\"1\" class=\"dataframe\">\n",
       "  <thead>\n",
       "    <tr style=\"text-align: right;\">\n",
       "      <th></th>\n",
       "      <th>last_price</th>\n",
       "    </tr>\n",
       "  </thead>\n",
       "  <tbody>\n",
       "    <tr>\n",
       "      <td>last_price</td>\n",
       "      <td>1.00</td>\n",
       "    </tr>\n",
       "    <tr>\n",
       "      <td>total_area</td>\n",
       "      <td>0.71</td>\n",
       "    </tr>\n",
       "    <tr>\n",
       "      <td>rooms</td>\n",
       "      <td>0.44</td>\n",
       "    </tr>\n",
       "    <tr>\n",
       "      <td>ceiling_height</td>\n",
       "      <td>0.36</td>\n",
       "    </tr>\n",
       "    <tr>\n",
       "      <td>living_area</td>\n",
       "      <td>0.58</td>\n",
       "    </tr>\n",
       "    <tr>\n",
       "      <td>kitchen_area</td>\n",
       "      <td>0.49</td>\n",
       "    </tr>\n",
       "    <tr>\n",
       "      <td>cityCenters_nearest</td>\n",
       "      <td>-0.34</td>\n",
       "    </tr>\n",
       "    <tr>\n",
       "      <td>days_exposition</td>\n",
       "      <td>0.04</td>\n",
       "    </tr>\n",
       "    <tr>\n",
       "      <td>floor</td>\n",
       "      <td>0.14</td>\n",
       "    </tr>\n",
       "    <tr>\n",
       "      <td>floors_total</td>\n",
       "      <td>0.20</td>\n",
       "    </tr>\n",
       "    <tr>\n",
       "      <td>price_per_metr</td>\n",
       "      <td>0.63</td>\n",
       "    </tr>\n",
       "    <tr>\n",
       "      <td>dayofweek_exposition</td>\n",
       "      <td>-0.01</td>\n",
       "    </tr>\n",
       "    <tr>\n",
       "      <td>month_exposition</td>\n",
       "      <td>0.00</td>\n",
       "    </tr>\n",
       "    <tr>\n",
       "      <td>year_exposition</td>\n",
       "      <td>0.03</td>\n",
       "    </tr>\n",
       "    <tr>\n",
       "      <td>living_percent</td>\n",
       "      <td>0.04</td>\n",
       "    </tr>\n",
       "    <tr>\n",
       "      <td>kitchen_percent</td>\n",
       "      <td>-0.11</td>\n",
       "    </tr>\n",
       "  </tbody>\n",
       "</table>\n",
       "</div>"
      ],
      "text/plain": [
       "                      last_price\n",
       "last_price                  1.00\n",
       "total_area                  0.71\n",
       "rooms                       0.44\n",
       "ceiling_height              0.36\n",
       "living_area                 0.58\n",
       "kitchen_area                0.49\n",
       "cityCenters_nearest        -0.34\n",
       "days_exposition             0.04\n",
       "floor                       0.14\n",
       "floors_total                0.20\n",
       "price_per_metr              0.63\n",
       "dayofweek_exposition       -0.01\n",
       "month_exposition            0.00\n",
       "year_exposition             0.03\n",
       "living_percent              0.04\n",
       "kitchen_percent            -0.11"
      ]
     },
     "execution_count": 136,
     "metadata": {},
     "output_type": "execute_result"
    }
   ],
   "source": [
    "clean_real_estate.corr()[['last_price']]"
   ]
  },
  {
   "cell_type": "code",
   "execution_count": 137,
   "metadata": {},
   "outputs": [
    {
     "data": {
      "text/html": [
       "<div>\n",
       "<style scoped>\n",
       "    .dataframe tbody tr th:only-of-type {\n",
       "        vertical-align: middle;\n",
       "    }\n",
       "\n",
       "    .dataframe tbody tr th {\n",
       "        vertical-align: top;\n",
       "    }\n",
       "\n",
       "    .dataframe thead tr th {\n",
       "        text-align: left;\n",
       "    }\n",
       "\n",
       "    .dataframe thead tr:last-of-type th {\n",
       "        text-align: right;\n",
       "    }\n",
       "</style>\n",
       "<table border=\"1\" class=\"dataframe\">\n",
       "  <thead>\n",
       "    <tr>\n",
       "      <th></th>\n",
       "      <th>median</th>\n",
       "      <th>mean</th>\n",
       "    </tr>\n",
       "    <tr>\n",
       "      <th></th>\n",
       "      <th>last_price</th>\n",
       "      <th>last_price</th>\n",
       "    </tr>\n",
       "    <tr>\n",
       "      <th>rooms</th>\n",
       "      <th></th>\n",
       "      <th></th>\n",
       "    </tr>\n",
       "  </thead>\n",
       "  <tbody>\n",
       "    <tr>\n",
       "      <td>1</td>\n",
       "      <td>3600000</td>\n",
       "      <td>3785116.57</td>\n",
       "    </tr>\n",
       "    <tr>\n",
       "      <td>2</td>\n",
       "      <td>4700000</td>\n",
       "      <td>5066758.78</td>\n",
       "    </tr>\n",
       "    <tr>\n",
       "      <td>3</td>\n",
       "      <td>5726475</td>\n",
       "      <td>6108491.01</td>\n",
       "    </tr>\n",
       "    <tr>\n",
       "      <td>4</td>\n",
       "      <td>6900000</td>\n",
       "      <td>6898373.16</td>\n",
       "    </tr>\n",
       "    <tr>\n",
       "      <td>5</td>\n",
       "      <td>8500000</td>\n",
       "      <td>8135614.04</td>\n",
       "    </tr>\n",
       "    <tr>\n",
       "      <td>6</td>\n",
       "      <td>9545000</td>\n",
       "      <td>9413500.00</td>\n",
       "    </tr>\n",
       "  </tbody>\n",
       "</table>\n",
       "</div>"
      ],
      "text/plain": [
       "          median       mean\n",
       "      last_price last_price\n",
       "rooms                      \n",
       "1        3600000 3785116.57\n",
       "2        4700000 5066758.78\n",
       "3        5726475 6108491.01\n",
       "4        6900000 6898373.16\n",
       "5        8500000 8135614.04\n",
       "6        9545000 9413500.00"
      ]
     },
     "execution_count": 137,
     "metadata": {},
     "output_type": "execute_result"
    }
   ],
   "source": [
    "clean_real_estate.pivot_table(index='rooms', values='last_price' ,aggfunc=['median', 'mean'])"
   ]
  },
  {
   "cell_type": "markdown",
   "metadata": {},
   "source": [
    "По значениям корреляции Пирсона, можно сказать, что наибольшую корреляцию с ценой кваритры имеют площадь квартиры (0,69). При этом есть и слабая связь между ценой и высотой потолков (0,45) и между ценой и количеством комнат (0,43).  Хотя, если не учитывать коэффициент корреляции для количество комнат, то одна новая комната добавляет примерно 1 млн. Также есть обратная зависимость между ценой и расстояниям до центра (чем ближе к центру, тем цена выше) (-0,34).\n",
    "\n",
    "Возможно стоит разделять данные по группам (в центре/ не в центре), так как цена на однушку в центре может быть такой же, как и цена на трешку не в центре. А из-за этого и влияние между ценой и количеством комнат становится меньше. \n",
    "\n",
    "Рассмотрим влияние этажа на цену"
   ]
  },
  {
   "cell_type": "code",
   "execution_count": 138,
   "metadata": {},
   "outputs": [
    {
     "data": {
      "text/html": [
       "<div>\n",
       "<style scoped>\n",
       "    .dataframe tbody tr th:only-of-type {\n",
       "        vertical-align: middle;\n",
       "    }\n",
       "\n",
       "    .dataframe tbody tr th {\n",
       "        vertical-align: top;\n",
       "    }\n",
       "\n",
       "    .dataframe thead tr th {\n",
       "        text-align: left;\n",
       "    }\n",
       "\n",
       "    .dataframe thead tr:last-of-type th {\n",
       "        text-align: right;\n",
       "    }\n",
       "</style>\n",
       "<table border=\"1\" class=\"dataframe\">\n",
       "  <thead>\n",
       "    <tr>\n",
       "      <th></th>\n",
       "      <th>median</th>\n",
       "      <th>mean</th>\n",
       "    </tr>\n",
       "    <tr>\n",
       "      <th></th>\n",
       "      <th>last_price</th>\n",
       "      <th>last_price</th>\n",
       "    </tr>\n",
       "    <tr>\n",
       "      <th>category_floor</th>\n",
       "      <th></th>\n",
       "      <th></th>\n",
       "    </tr>\n",
       "  </thead>\n",
       "  <tbody>\n",
       "    <tr>\n",
       "      <td>другой</td>\n",
       "      <td>4600000</td>\n",
       "      <td>5072748.76</td>\n",
       "    </tr>\n",
       "    <tr>\n",
       "      <td>первый</td>\n",
       "      <td>3885000</td>\n",
       "      <td>4202996.28</td>\n",
       "    </tr>\n",
       "    <tr>\n",
       "      <td>последний</td>\n",
       "      <td>4100000</td>\n",
       "      <td>4587668.90</td>\n",
       "    </tr>\n",
       "  </tbody>\n",
       "</table>\n",
       "</div>"
      ],
      "text/plain": [
       "                   median       mean\n",
       "               last_price last_price\n",
       "category_floor                      \n",
       "другой            4600000 5072748.76\n",
       "первый            3885000 4202996.28\n",
       "последний         4100000 4587668.90"
      ]
     },
     "execution_count": 138,
     "metadata": {},
     "output_type": "execute_result"
    }
   ],
   "source": [
    "clean_real_estate.pivot_table(index='category_floor', values='last_price' ,aggfunc=['median', 'mean'])"
   ]
  },
  {
   "cell_type": "code",
   "execution_count": 139,
   "metadata": {},
   "outputs": [
    {
     "data": {
      "text/plain": [
       "<matplotlib.axes._subplots.AxesSubplot at 0x7f1eeb2cc210>"
      ]
     },
     "execution_count": 139,
     "metadata": {},
     "output_type": "execute_result"
    },
    {
     "data": {
      "image/png": "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\n",
      "text/plain": [
       "<Figure size 432x288 with 1 Axes>"
      ]
     },
     "metadata": {
      "needs_background": "light"
     },
     "output_type": "display_data"
    }
   ],
   "source": [
    "clean_real_estate.boxplot(column='last_price', by='category_floor')"
   ]
  },
  {
   "cell_type": "markdown",
   "metadata": {},
   "source": [
    "На последнем этаже квартиры стоят дороже, чем на первом. Но люди крайностей не люьят, поэтому на любом другом этаже (кроме 1 и последнего) цена еще выше.\n",
    "\n",
    "Что с ценой и датой размещения:"
   ]
  },
  {
   "cell_type": "code",
   "execution_count": 140,
   "metadata": {},
   "outputs": [
    {
     "data": {
      "text/html": [
       "<div>\n",
       "<style scoped>\n",
       "    .dataframe tbody tr th:only-of-type {\n",
       "        vertical-align: middle;\n",
       "    }\n",
       "\n",
       "    .dataframe tbody tr th {\n",
       "        vertical-align: top;\n",
       "    }\n",
       "\n",
       "    .dataframe thead tr th {\n",
       "        text-align: left;\n",
       "    }\n",
       "\n",
       "    .dataframe thead tr:last-of-type th {\n",
       "        text-align: right;\n",
       "    }\n",
       "</style>\n",
       "<table border=\"1\" class=\"dataframe\">\n",
       "  <thead>\n",
       "    <tr>\n",
       "      <th></th>\n",
       "      <th>median</th>\n",
       "      <th>mean</th>\n",
       "    </tr>\n",
       "    <tr>\n",
       "      <th></th>\n",
       "      <th>last_price</th>\n",
       "      <th>last_price</th>\n",
       "    </tr>\n",
       "    <tr>\n",
       "      <th>dayofweek_exposition</th>\n",
       "      <th></th>\n",
       "      <th></th>\n",
       "    </tr>\n",
       "  </thead>\n",
       "  <tbody>\n",
       "    <tr>\n",
       "      <td>0</td>\n",
       "      <td>4450000</td>\n",
       "      <td>4889687.49</td>\n",
       "    </tr>\n",
       "    <tr>\n",
       "      <td>1</td>\n",
       "      <td>4500000</td>\n",
       "      <td>4949406.96</td>\n",
       "    </tr>\n",
       "    <tr>\n",
       "      <td>2</td>\n",
       "      <td>4490000</td>\n",
       "      <td>4913768.43</td>\n",
       "    </tr>\n",
       "    <tr>\n",
       "      <td>3</td>\n",
       "      <td>4400000</td>\n",
       "      <td>4900837.18</td>\n",
       "    </tr>\n",
       "    <tr>\n",
       "      <td>4</td>\n",
       "      <td>4400000</td>\n",
       "      <td>4903401.49</td>\n",
       "    </tr>\n",
       "    <tr>\n",
       "      <td>5</td>\n",
       "      <td>4425000</td>\n",
       "      <td>4822552.66</td>\n",
       "    </tr>\n",
       "    <tr>\n",
       "      <td>6</td>\n",
       "      <td>4400000</td>\n",
       "      <td>4831388.05</td>\n",
       "    </tr>\n",
       "  </tbody>\n",
       "</table>\n",
       "</div>"
      ],
      "text/plain": [
       "                         median       mean\n",
       "                     last_price last_price\n",
       "dayofweek_exposition                      \n",
       "0                       4450000 4889687.49\n",
       "1                       4500000 4949406.96\n",
       "2                       4490000 4913768.43\n",
       "3                       4400000 4900837.18\n",
       "4                       4400000 4903401.49\n",
       "5                       4425000 4822552.66\n",
       "6                       4400000 4831388.05"
      ]
     },
     "execution_count": 140,
     "metadata": {},
     "output_type": "execute_result"
    }
   ],
   "source": [
    "clean_real_estate.pivot_table(\n",
    "    index=['dayofweek_exposition'], \n",
    "    values='last_price',\n",
    "    aggfunc=['median', 'mean']\n",
    ")"
   ]
  },
  {
   "cell_type": "code",
   "execution_count": 141,
   "metadata": {},
   "outputs": [
    {
     "data": {
      "text/plain": [
       "<matplotlib.axes._subplots.AxesSubplot at 0x7f1ef00be450>"
      ]
     },
     "execution_count": 141,
     "metadata": {},
     "output_type": "execute_result"
    },
    {
     "data": {
      "image/png": "iVBORw0KGgoAAAANSUhEUgAAAX4AAAEdCAYAAAALugwIAAAABHNCSVQICAgIfAhkiAAAAAlwSFlzAAALEgAACxIB0t1+/AAAADh0RVh0U29mdHdhcmUAbWF0cGxvdGxpYiB2ZXJzaW9uMy4xLjAsIGh0dHA6Ly9tYXRwbG90bGliLm9yZy+17YcXAAAgAElEQVR4nO3deZwcdZ3/8dd7DjIwCTk4BiEhk1VAcnglgsYrBEgISsD9yUpUdqMIEoFlRVxA8cBFVkU8QRQFOTRBUEGIQGRNBtCAHEISkggiCRBACOaACeScz++P77eHmqYnMz3p7pru+jwfj3lMd1V1fT+f7upPV33rkpnhnHMuO+rSDsA551xleeF3zrmM8cLvnHMZ44XfOecyxgu/c85ljBd+55zLGC/8VULSlZLOTzuOtG3vfZA0U9Ify9TuVyT9vBzzzmtnlqTnJLVL2q0C7ZXtPasUST+S9MXtjP+8pJ9WMqb+riHtAKqNpJVAC7AN2AIsBE42s6fSjCtJkgH7mdljacfiek9SI/Bt4B1mtijteKqFmZ2ceyxpEvBzMxueGH9BGnH1Z77G3zdHmdlA4HXAc8APUo6nbBT4clIZLUATsDTtQFxt8y/0DjCzjcCvgNG5YZIGS7pa0mpJT0g6N1c4JV0q6deJab8h6Q+xuE6StCpulr4gaaWkj3bXtqQTJT0maY2kmyTtHYffGSdZFLsLPlzgtfWSLortrJB0qiST1BDHt0n6mqQ/AS8D/yJp79jOmtjuiYn5del+yeWSeL5S0jmSlklaK+lnkpoS4z8g6SFJ6yQtlPSmxLi3SvqLpJck/ZJQGLdHki6WtF7SXyUdGgceK+mBvAnPkPTbbmYyStIdsd3bgd3zxl8v6R+xnTsljYnD3x67auoT0/6rpEXx8QBJ35X0TPz7bhy2P/BIfMk6SfMlnSfpB/F1jZI2SLowPt9Z0kZJw+Lzd8T3bp2kRXHNN9f+YEmXS3pW0tOSzk/Gl5fXhZL+KGlwD2/yJyQtj5/nPEkj4/CJcbkaEZ+/OU7zxvi8p2Whu+Vakr4j6XlJL0paImlsHHdlzKkZuBXYOy777XG57dJNJ2m6pKXxvWqTdGBi3EpJZ0paHD/bXybjqxlm5n9F/AErgcPi412Aq4CrE+OvBn4LDAJagUeBExLTPwrMBN4DvAAMj+MmAVsJm/oDgPcBG4AD4vgrgfPj48nxtW+L0/4AuDMRgwFv2E4OJwPLgOHAUOD/4msa4vg24ElgDKE7sBG4E/ghofC+BVgNTM6PLZHLqrz37GFgBDAM+FMil7cCzwMHA/XAf8TpBwA7AU8An4kxfIjQvXZ+N3nNjO9hbvoPA+tjmwOANcCBiekfBP5fN/O6O/FZvBd4idCFkBv/ifgZDwC+CzyUGLcMmJZ4fgPw2fj4q8A9wJ7AHoSuwv+J41rzPofJwJL4eCLwd+DPiXGL4uN9gH8CRxJW5g6Pz/dItP9joDm2ey/wqcR79sf4up8A84BdevgOHA08BhwYl49zgYWJ8V8D5gM7A0uAU3u5LHS7XANTgQeAIYBi268r8N2YRGLZi8O+kvvsgP0J36vD4zLy3zGXnRLx3QvsHeNbTujKTb32lLSOpR1Atf3FBaMdWEcoQs8A4+K4emAzMDox/aeAtsTzgwkF6AlgRmL4JELRak4Muw74YnycXLgvB76ZmG5gjKU1Pu+p8M/PffHj88N4beH/amL8CMI+jUGJYf8LXJkfWyKX/MJ/cuL5kcDf4+NLiYUvMf4Rwg/fe+P7q8S4hWy/8OdPfy9wfKKtr8XHY4C1wIAC89m3wGcxm0Thz5t+SHz/BsfnZwG/iI+HEbaackXq78CRiddOBVbGx615n8POwEZgN+Bs4PPAqvh5nwd8P9HeNXkxzSP8iLYAm4CdE+NmAAsS79mfgV8CvyYWwB6+A7cSV2bi87qY48j4vJFQpJcAt+V9HttbFrpdrgk/Co8C7wDq8uK5kt4X/i8C1+XF/jQwKRHfxxLjvwn8qBy1JM0/7+rpm2PMbAhh7fdU4A5JexG6AxoJRT3nCcIaGQBm9mfgccJay3V5811rZhvyXrt3gfb3TrZhZu2ENbx9CkxbyN5Acmd0oR3TyWF7A2vM7KW82HrbXv78knmNBD4bN7vXSVpH+KHZO/49bfEbmHjt9hSaPtfWVcBHJAk4nlAANhWYx94U/iyAzq6yr0v6u6QXCcUCXu0O+jlwVOx6+DfgLjN7NjHv/OWj0GeMmb0C3M+rP4J3EH743hWH3REnHQkcm/cevpuwD2okYZl8NjHux4Q1/5w3ENbizzOzzYViyTMS+F5ifmsIy/M+Me4thGI8Frgo7/OA7peFbpdrM5sPXAxcAjwv6TJJu/Yi1nz5bXTEeJLL8j8Sj18m/ADVFC/8O8DMtpnZbwhrw+8mbKZuIXwxcvYlrFEAIOkUwmbsM4TNzKShsVgkX/tMgaafSbYRX7Nbsp0ePEvo5skZUWCa5Jf1GWCYpEF5seXa20DoxsrZq8D8km0k83qKsBY+JPG3i5nNiXHuEwt18rVAZ3/sYXntFJr+GQAzu4ewRfYe4CPANQXiJLZb6LPI+QihUB4GDCaskUIofpjZ04QugscIPzDJdrp8dnT/GefcQVjbfStwX3w+FTiI0P0G4T28Ju89bDazr8dxm4DdE+N2NbMxiTaWAx8HbpV0wHZiyXmKsMWYbG9nM1sIIGkf4MvAz4CLJA3Ie313y8J2l2sz+76ZjSfsU9sf+FyB2Hq63HB+G4rx9Pa7UxO88O+AuMPpaEI/+XIz20ZYi/+apEFxh9cZhDVA4g6884GPEQrCf0t6S95sz5O0k6T3AB8Ari/Q9Bzg45LeEr9UFxD6flfG8c8B/7Kd0K8DTpe0j6QhhK6Cblk4VHUh8L+SmhR2vp6Qywt4CDhS0rC45fNfBWZziqThcWfkFwhdCxD6lU+WdHB8P5slvT/+yNxN6HL5T4Wdm/9KKHjbs2di+mMJfcG3JMZfTVhz3AJ8UgXOCTCzJwhr2rnP4t3AUYlJBhGK6T8JP3iFDhf8PmFFYBzwm8TwOcC5kvaQtDvwJV59Hwu5A/h3YFlcG28DPgmsMLPVcZrcFsbUuDXSpLCDfXjc0vg9oQDvKqlO0uslvS8v5zmErqT/k/T67cQD8CPgHL26Q3twfK9zhfRKQrfNCYQf0f/Je313y0K3y7XCTvODFQ553UDoAusoENtzwG7qfuf0dcD7JR0a5/VZwme5sIeca0vafU3V9kfYrH+F0M//EmFH1UcT44cSvoirCWtGXyL8wDYQ+pvPTkw7i9APOoDYN0n4IrxA2Ll6fGLaK+naj34yob94DTCXuJM4Me5Zwn6IfyuQQwPwHULhWkHYGbqF2BdLLC55rxke21kT20320zYRvrwvAovj/PL7+M8h7PRcR+hy2SUx/gjC2uy6GPf1xP0JwATCTtiXYhu/5NX+3JXEHe3x+UzCzsKLCTt1HwWm5OWxL6FgnJf/nuZN9y/AXfFzvj3OM9dPPJCwA/8lQrfBv5PYrxLf313i+3FV3nybCD8Kz8a/7wNNcVwriT7+RFtbgC/H5yLsDL80b74HE34k1hCWvd8B+8Zxgwn7N1bF9+VB4LjEe/bHxHxOjDm19vA9OJ6w7L5IWM6viMNPBxbx6s7SvWM87+nlslBwuQYOJSxb7YTvxy+Agd18N64gLNvrYvtfoeuO+Q/G9tfH92xM3rKaXKa6vLZW/lIPwP/iB1Fgp1QF254GPFHG+Xf5MpV6voStgLt59Yfj4kThEeFH7vlYpB4mrDGeGwvq5lhMbu5FW7mCtZbQjZEr2JNiUT2L0D98Da/urM8dATaCsOa/OhalixPz/gShu2UtYafsyLSXx2pbFvyvuD/v6skghWPAj5TUkOiPvSHtuHbANsJWxu7AOwlrh5+O46YQdozuT1jznQs8aGbnE9Yav2lmA83sqNfM9bU+Suhff32c37mJcXsRjuAZCZwU2wSYr3DM/FzimjRhR+K1ALGr8PPAvxIO77yL0OXhXNmkWvglXaFwQsbDvZj2Owon+Twk6dF4NIHrGxG6OtYSNvuXE7qkqpKZPWBm95jZVgv7OX5MOOoFwlr9IOCNhG6tGcBpfWzqYjN7yszWEI5Vn5EY10HojtlEONzxM4QjgzoIWyR7A58zsw1mttHMctfHORn4XzNbbmZbCf3ab4n7h1KjcP2b9gJ/P0ozLlcaaV+r50rCZvnVPU1oZp/JPZZ0GuEoh5phZm10PdKmnG29DLy9Em3F9lrLOf+40/zbhP0BuxCW6wdi2/Ml5Q4DHEjobvl7H5vq7jBEgNUWzuTGzCYpXjMmjhtB6ErbWmCeuUMjL0qmRNgq6OnQ1bKxcP2bk3ucsPj5tpZ6nq54qa7xm9mdhJ04neIRB7dJekDSXYqneueZgW8Ou1ddCvyVcGG6XQldJ52HdFr3hwH2dOhfvu4OQ+xpXk8B+ypeEqPAuG4PjXSuHPpjH/9lwGnxi3om4TIBneIm8CjC2afOQejKeRFojysKs3IjejgMsKfDXvN1dxhiT+4l7HT+ejxctUnSu+K4bg+NdK5c+lXhlzSQcE2S6yU9ROirfV3eZMcBv7JwzLxzEFYQPkI4vPIndC3Iu8ZhawldJ/8ELozjLgdGK5yBemMv2plNOCb+cUJ3Ua/ujxCX1aMIZ8g+STgC6MNx3A3AN4BrFc4CfphwlJVzZZM7bju9AKRWYK6ZjVU4BfsRM8sv9snpHwRO8U1hV0kK92H4pJn9X9qxOLej+tUav5m9CKxIngUo6c258XEzfijhmG3nnHN9kPbhnHMIRfwAhWvRn0A4VvoEheuXLyVcEyXnOOBaS3szxdUcSft2c/hiu6R9e56Dc9Uj9a4e55xzldWvunqcc86Vnxd+55zLmNTO3N19992ttbW1rG1s2LCB5ubmnifsx2ohB6iNPDyH/qMW8qhEDg888MALZrZH/vDUCn9rayv3339/Wdtoa2tj0qRJZW2j3GohB6iNPDyH/qMW8qhEDpIKXvbDu3qccy5jvPA751zGeOF3zrmM8cLvnHMZ44XfOecypiYL/2mnnUZTUxOHHHIITU1NnHZaX2+4lJ7ddtsNSRxyyCFIYrfddks7pD6R1CUPST2/qJ+pq6vrkkNdXfV9baZOnUpdXR2HHHIIdXV1TJ06Ne2QMqtffBZp3ex3/PjxVg6nnnqq1dXVWUtLi0mylpYWq6urs1NPPbUs7ZXDsGHDDLCddtqpy/9hw4alHVpRCDcnscbGRvve975njY2NncOqhaTOmJN/ktIOrdemTJligNXV1XX5P2XKlLRDK9rs2bNtzJgxVldXZ2PGjLHZs2enHVJRcp/FrFmz7Oabb7ZZs2aV9bMA7rcC9bfmCn9DQ4M1NDR0+ZLmhlWL3JeztbXVJFlra2vnl7WaAFZfX9/li1pfX19VeeSWoYsuushuvfVWu+iii6ruxyv3Q5XMIfeDVk1mz55to0aNsvnz59vtt99u8+fPt1GjRlVV8Zdks2bNMjOzBQsWmJnZrFmzyrYi0V3hT+0ibRMmTLBynMC1va6EtHItliSamprYtm0bW7ZsobGxkfr6ejZu3Fg1OQCd3SIdHR2dw3LPqyUPSYwbN45HH32UTZs2MWDAAPbff3+WLFlSVTkcdNBBLFq0qDOHN7/5zdx7771VkwPA2LFj2W+//bj11ls785g2bRp/+9vfePjhh9MOr1cksW7dOgYPHtx5Atf69esZMmRIWT4LSQ+Y2YT84dXXWdlLQ4cO7fK/2mzcuJFhw4YhiWHDhrFx48a0Q+qTjo6Ozj7x/B+BarFkyRK2bg33Sd+6dStLlixJOaLi3XvvvQwZMgRJDBkyhHvvvTftkIq2dOlS5s6dywUXXMCtt97KBRdcwNy5c1m6dGnaofWaJM4555wuw84555yK7/tK7ZINlVCNOxKTnnvuuS7/q9mFF17IWWedlXYYfbZt27Yu/6vR6tWrMTNWr16ddih9IokDDjiAz3/+851r/AcccADLli1LO7ReO/zww7n00ksBOPLII/n0pz/NpZdeypQpUyoaR8129dTX17Nt27bO/1BdXT3dqZYcoDby8Bz6j1wes2bN4sgjj+SWW27pLKLVlMfUqVO5/fbbQ1+7xOGHH868efPK0lbmunp23XVXJLHrrrumHUrmNTQ0dPlfbXKH1gJVfWhtLWhtbeWKK67gqKOO4oorrqDcV/gth5kzZzJ69Gjq6uoYPXo0M2fOrHgMPa7xS7oC+ADwvJmNLTD+o8BZgICXgFlmtqinhn3nbvdqIQeojTw8h/4jl0duX1Fyn1G15DFnzhyOP/74Ll2G9fX1XHPNNcyYMaPk7XW3xt+bwv9eoB24upvCPxFYbmZrJU0DvmJmB/cUkBf+7tVCDlAbeXgO/Uct5NHY2MjWrVuR1NnVY2Y0NDSwZcuWkrfX564eM7sTWLOd8QvNbG18eg8wvM9ROudcD5JHiVWb3NFhe+65J5LYc889uwyvlFJ3up4A3NrdSEknAScBtLS00NbWVuLmX7XTTjuxefPmzv9AWdurlGrMYcyYMZx55pl861vf6jz0rhrzyOc59B/VlMeAAQM466yzGDVqFCtWrOCcc85h06ZNFc2hV0f1SGoF5hbq6klMcwjwQ+DdZvbPnuZZzq4eSYwePZrly5dz4IEHsmzZsldPVa4CtbBJC7WRRy6HxsbGzpPpcpvk1ZZDIdWSA4Q8Ghsb2WeffXjyySfZd999efrpp9myZUvV5JHLYd68eZ1HHU6dOrVsOXTX1VOSNX5JbwJ+CkzrTdEvNzNj+fLldHR0sHz58qpZKFz/lSv25eiHdb23ZcsW1q9fT0dHB+vXr6/Kz2PLli28//3vZ+PGjTQ1NaWSww53kknaF/gNcLyZPbrjIZVGbm9/NZ4p6pwrrLGxkfb2dgDa29tpbGxMOaLiDBs2DIBXXnkFM+OVV17pMrxSeiz8kuYAdwMHSFol6QRJJ0s6OU7yJWA34IeSHpJU3juou6rT1NTU5b9LR7VfxgTCTtDcFryZVXyn6I66+OKLGTRoUOcPVmNjI4MGDeLiiy+uaBw9dvWY2XYPLjWzTwKfLFlEJTBo0CBeeumlbp+7yspdZ6harzdUK1588cUu/6vN8OHDWbNmTWfXiCR23nnniq8t74jcsfpf+9rXWL58Ofvvvz9f+MIXynIM//ZU3/FQPRg2bNhrivxLL71UVQuHc+VQC9cb2rp1a5f9LdW2xg9w4oknsnTpUjo6Oli6dCknnnhixWOoucK/bt26ooY756rDqlWr2Lx5M0OHDkUSQ4cOZfPmzaxatSrt0Hpt4MCBbNiwgdbWVq655hpaW1vZsGEDAwcOrGgcNVf4cztz80/y8J28zlW/6dOns2bNGubPn8+aNWuYPn162iEVJVf0V6xYwfDhw1mxYkVn8a+kmiv8EPr+kkf1VPvlmZ1zwcKFCxk1ahSTJ09m1KhRLFy4MO2Qinb66aczduxYDj30UMaOHcvpp59e8RhqsvCbGRMnTuT6669n4sSJfhx/ylpaWpBES0tL2qFkWjVf6iAnt/8utzJXjQdtnHHGGZ1r+Bs2bOCMM86oeAzVuwT04O677+bYY4/l7rvvTjuUzHvuuecws5q4oUw122mnnbr8rzbNzc1s2rSJadOm8dvf/pZp06axadMmmpub0w6tKLnj9y+//PLO4/krrWZvxFJItaz510IOUBt5eA79R319PZMnT+YPf/hD55UtDz30UObPn181Ryrl7qedPLQ599zvuesA2Guvvairq2OvvfZKO5RMy7+BTLXeUKbaHXjggRx88MFdbmJy8MEHc+CBB6YdWlFuuukmzIwFCxZgZtx0000Vj8GX4H7sH//4R5f/Lh35x4pX47HjteCQQw7hggsu6LwBy1//+lcuuOACTjnllLRD67Xhw4cXvL/u8OGVvZq9r/E756rC7NmzAdh99927/M8NrwbPPPNMUcPLpWYLf/JaGM656rdmzRr23HPPzoMEnnvuOfbcc0/WrOn2PlH9TnfnE1X6PKOaLfy1cHp68gbfzrlQ7JOHpVbrkWLTp0/nhhtuSO0EtJot/PX19V3+V6PkVQir2YABA7r8d25HfOpTn+Lmm2/mU5/6VNqh9NnNN9/MBz/4QW6++eZU2q/ZwzlzO4By/6F6CmitHH5XC3l4Dv1HLeSRvKPbt771Lc4888yy3tGtrHfg6o/8RizOuf5qy5YtqVyqIadmu3qcc66/yl2Ns9JX5czxwu+ccxWWvH1kGrzwO+eqRv51hqrtukO5Axzy1/grfeCDF37nXNXYvHkzY8aMYc6cOYwZM4bNmzenHVJRNm3aRH19fZc1/vr6ejZt2lTROGq28NfCJWidc6+1dOlSZsyYwdKlS9MOpU+amppobW1FEq2trTQ1NVU8Bj+qxznnKmjDhg2d1+NfuXJlKjH46rBzrqrUwtZ8bi0/jbV98MLvnKsy1b41L6nLJWXSuCRLzXb1OOdcf2RmnWfr5v5XWs2u8dfCtXpqxdChQ6mrq2Po0KFph+Kq3MCBA7vcxCStE6B2VNrfiR7X+CVdAXwAeN7MxhYYL+B7wJHAy8BMM/tLqQMtVi1cnbNWrF27tst/5/qqvb29Jq5Wm/Z3ojdr/FcCR2xn/DRgv/h3EnDpjoflnHOuXHos/GZ2J7C9Ox0cDVxtwT3AEEmvK1WAWTZw4EAuvfTSqt2cdf1LrSxPyRO4qlXa99Muxc7dfYCnEs9XxWHP5k8o6STCVgEtLS20tbWVoPneq3R7O6q9vZ1Zs2Z1GVZtOUjqcrnZ3PNqy6OQasuhFpanAQMGdJ7AlXu+adOmqsujvb2djo6OLtfqqWQOvboev6RWYG43ffxzga+b2R/j8z8AZ5nZdi+2X+7r8RdSbdfsHjp0KOvWrWPIkCGdfYHVkgO8msf8+fPZtm0b9fX1TJ48GaiePGppeWptbeWJJ55g5MiRnScO9fcc+tKf359zksTQoUN5+eWX2bRpEwMGDGCXXXZh7dq1Fb0efymO6nkaGJF4PjwOc0WQ1PmXk1sYkjuACk3XXyRjS8Y3efJkDj/88M6inz9tf9Pb2Koth5UrV2JmXc4W7e4z6y/MrPMvd8LWwIED2eP473R2WdXV1XWZrr9bu3Yt48eP5/rrr2f8+PGp7OAtReG/Cfh3Be8A1pvZa7p53PYlF9xx48YVnGbcuHH9egFPxmZmNDc3F5yuubm5avLIUg79MY+kbdu2UVdXR3t7O6uv+Qzt7e3U1dVV1ZF7w4cPB2DhwoUce+yxLFy4sMvwSumx8EuaA9wNHCBplaQTJJ0s6eQ4yS3A48BjwE+AT5ct2oxYvHjxa4r/uHHjWLx4cUoR9U17e/trik5zc3Nq1yDvC8+hf9m2bRtmxsiz5mJmVVX0AY455hgkdTnPSBLHHHNMRePozVE9M8zsdWbWaGbDzexyM/uRmf0ojjczO8XMXm9m43rq23e9s3jx4i4LeLUV/Zz29vYueVRjsfEcXKnceOONDB48mBEjRlBXV8eIESMYPHgwN954Y0XjqIkzd2uhT9Y5V/tWrVpFQ0MDK1eupKOjg5UrV9LQ0MCqVasqGkdNFP78Psr8wp57Xi19mc652vXCCy8wceJErr/+eiZOnMgLL7xQ8RhqovAnTZkyBTPrvAbG0KFDMTOmTJmScmTOOQcNDQ2cf/75DBkyhPPPP5+GhspfK7Pmrs45b948pk6dyu233w7AunXrmDJlCvPmzUs5Muecg8GDB/OJT3yi85yKwYMH889//rOiMdTcGj+E4t/R0cHIs+bS0dHhRd85128MGzaM5uZmJNHc3MywYcMqHkPNrfE751x/kr/P8W9/+1vn4+R9g5PTlXs/ZE2u8TvnXH+Rf5LciBEjuowfMWJExU+k88LvnHMV9OSTT3Y5p+LJJ5+seAxe+J1zLmO88DvnXMZ44XfOuYzxwu+ccxnjhd855zLGC79zzmWMF37nnMsYL/zOOZcxXvidcy5jvPA751zGeOF3zrmM8cLvnHMZ44XfOecyxgu/c85ljBd+55zLGC/8zjmXMV74nXMuY3pV+CUdIekRSY9JOrvA+H0lLZD0oKTFko4sfajOOedKocfCL6keuASYBowGZkganTfZucB1ZvZW4Djgh6UO1DnnXGn0Zo3/IOAxM3vczDYD1wJH501jwK7x8WDgmdKF6JxzrpQaejHNPsBTieergIPzpvkK8HtJpwHNwGElic4551zJ9abw98YM4Eozu0jSO4FrJI01s47kRJJOAk4CaGlpoa2trUTNd68SbZRbLeQAtZGH59B/1EIeaeXQm8L/NDAi8Xx4HJZ0AnAEgJndLakJ2B14PjmRmV0GXAYwYcIEmzRpUt+i7q3bfkfZ2yi3WsgBaiMPz6H/qIU8UsyhN3389wH7SRolaSfCztub8qZ5EjgUQNKBQBOwupSBOuecK40eC7+ZbQVOBeYBywlH7yyV9FVJ0+NknwVOlLQImAPMNDMrV9DOOef6rld9/GZ2C3BL3rAvJR4vA95V2tCcc86Vg5+565xzGeOF3znnMsYLv3POZYwXfuecyxgv/M45lzFe+J1zLmO88DvnXMZ44XfOuYzxwu+ccxnjhd855zLGC79zzmWMF37nnMsYL/zOOZcxXvidcy5jvPA751zGeOF3zrmM8cLvnHMZ44XfOecyxgu/c85ljBd+55zLGC/8zjmXMV74nXMuY7zwO+dcxnjhd865jPHC75xzGdOrwi/pCEmPSHpM0tndTPNvkpZJWippdmnDdM45VyoNPU0gqR64BDgcWAXcJ+kmM1uWmGY/4BzgXWa2VtKe5QrYOefcjunNGv9BwGNm9riZbQauBY7Om+ZE4BIzWwtgZs+XNkznnHOl0pvCvw/wVOL5qjgsaX9gf0l/knSPpCNKFaBzzrnS6rGrp4j57AdMAoYDd0oaZ2brkhNJOgk4CaClpYW2trYSNd+9SrRRjFP+sIENW4p7TevZvytq+uZGuOTQ5uIaKUJfcoDi8ih3DlD+z6IWcgBfnsoprfrUm8L/NDAi8Xx4HJa0CvizmW0BVkh6lPBDcF9yIjO7DLgMYMKECTZp0qSign3zeb9n/ZM2GC0AAA4wSURBVCvFLSEzb9vQ62kH79zIoi9PKWr+xdpw2+9Y+fX393r6trY2in2fWs/+XdGvKUaxOUDxeZQ7Byj/Z1ELOYAvT2VzW3ox9abw3wfsJ2kUoeAfB3wkb5obgRnAzyTtTuj6ebyUgQKsf2VL2b+ozjlX63os/Ga2VdKpwDygHrjCzJZK+ipwv5ndFMdNkbQM2AZ8zsz+Wc7AnXOuP+lLj0QxK5ul7JHoVR+/md0C3JI37EuJxwacEf+ccy5zqqlHws/cdc65jPHC75xzGeOF3znnMsYLv3POZYwXfuecyxgv/M45lzFe+J1zLmO88DvnXMZ44XfOuYzxwu+ccxnjhd855zLGC79zzmWMF37nnMsYL/zOOZcxXvidcy5jvPA751zGeOF3zrmM8cLvnHMZ44XfOecyxgu/c85lTK9utu5KZ9CBZzPuqrOLe9FVxbYB0PubPherTzlAUXmUOwfnsqyqCn+5i2Ylis1Ly7/Oyq/3vo22tjYmTZpUVButZ/+uyKiKU2wOUHwe5c7BuSyrqsJf7qLpxSZbamFFwrcge9sGVPtnUcocqqrwO1dKtbAi4VuQvVMLn0Upc/Cdu845lzG9KvySjpD0iKTHJHW7LSPp/0kySRNKF6JzzrlS6rHwS6oHLgGmAaOBGZJGF5huEHA68OdSB+mcc650erPGfxDwmJk9bmabgWuBowtM9z/AN4CNJYzPOedcifWm8O8DPJV4vioO6yTpbcAIM/PDYpxzrp/b4aN6JNUB3wZm9mLak4CTAFpaWmhrayu6vWJe097eXnQbfYmpWOXOodg2+qLY+Wf1s6iFHIptoy98eSr9/LfLzLb7B7wTmJd4fg5wTuL5YOAFYGX82wg8A0zY3nzHjx9vxRp51tyipl+wYEFZ598X5c6hL21UYv5Z/CxqIYe+tFGJ+Wfxs+hLDsD9VqD+9qar5z5gP0mjJO0EHAfclPjhWG9mu5tZq5m1AvcA083s/lL8MDnnnCutHgu/mW0FTgXmAcuB68xsqaSvSppe7gCdc86VVq/6+M3sFuCWvGFf6mbaSTselnPOuXLxM3edcy5jvPA751zGeOF3zrmM8cLvnHMZ44XfOecypuqux1/0Nalv6/30g3duLDKavilnDlCZPPp0bfB++FnUglpYnlxlKZzcVXkTJkyw++8v7zlerWf/rugbPPQ3tZAD9M88yn1zjsE7N7Loy1PK2kaxsvg5QGU+i/64PEl6wMxec5n8qlvjd65Uii2A/bFo1oK+vKf98bOopuXJ+/idcy5jvPA751zGeOF3zrmM8cLvnHMZ44XfOecyxgu/c85ljBd+55zLGC/8zjmXMV74nXMuY7zwO+dcxnjhd865jPHC75xzGeOF3znnMsYLv3POZYwXfuecyxgv/M45lzFe+J1zLmN6VfglHSHpEUmPSTq7wPgzJC2TtFjSHySNLH2ozjnnSqHHwi+pHrgEmAaMBmZIGp032YPABDN7E/Ar4JulDtQ551xp9GaN/yDgMTN73Mw2A9cCRycnMLMFZvZyfHoPMLy0YTrnnCuV3hT+fYCnEs9XxWHdOQG4dUeCcs45Vz4NpZyZpI8BE4D3dTP+JOAkgJaWFtra2krZfEGVaKPcaiEHqI08PIf+oxbySCuH3hT+p4ERiefD47AuJB0GfAF4n5ltKjQjM7sMuAxgwoQJNmnSpGLjLc5tv6PsbZRbLeQAtZGH59B/1EIeKebQm66e+4D9JI2StBNwHHBTcgJJbwV+DEw3s+dLH6ZzzrlS6bHwm9lW4FRgHrAcuM7Mlkr6qqTpcbILgYHA9ZIeknRTN7NzzjmXsl718ZvZLcAtecO+lHh8WInjcs45VyZ+5q5zzmWMF37nnMsYL/zOOZcxXvidcy5jvPA751zGeOF3zrmM8cLvnHMZ44XfOecyxgu/c85ljBd+55zLGC/8zjmXMSW9Hr/rO0ndj/tG4eFmVqZonHO1TGkVjwkTJtj9999fknltr2h2p1qKZltbW9Vcd7wvnwP0v8+iFpYn/yz6jzRzkPSAmU3IH14TXT1mVvBvwYIF3Y5zpdfde11tn0VWc6iVPPqb/phDTRR+55xzveeF3znnMsYLv3POZYwXfuecyxgv/M45lzFe+J1zLmO88DvnXMZ44XfOuYxJ7cxdSauBJ8rczO7AC2Vuo9xqIQeojTw8h/6jFvKoRA4jzWyP/IGpFf5KkHR/odOVq0kt5AC1kYfn0H/UQh5p5uBdPc45lzFe+J1zLmNqvfBflnYAJVALOUBt5OE59B+1kEdqOdR0H79zzrnXqvU1fuecc3lqsvBLOkLSI5Iek3R22vH0haQrJD0v6eG0Y+krSSMkLZC0TNJSSaenHVNfSGqSdK+kRTGP89KOqa8k1Ut6UNLctGPpC0krJS2R9JCk0tzJKQWShkj6laS/Slou6Z0Vbb/Wunok1QOPAocDq4D7gBlmtizVwIok6b1AO3C1mY1NO56+kPQ64HVm9hdJg4AHgGOq8LMQ0Gxm7ZIagT8Cp5vZPSmHVjRJZwATgF3N7ANpx1MsSSuBCWZW1cfwS7oKuMvMfippJ2AXM1tXqfZrcY3/IOAxM3vczDYD1wJHpxxT0czsTmBN2nHsCDN71sz+Eh+/BCwH9kk3quJZ0B6fNsa/qltjkjQceD/w07RjyTJJg4H3ApcDmNnmShZ9qM3Cvw/wVOL5Kqqw2NQaSa3AW4E/pxtJ38QukoeA54Hbzawa8/gu8N9AR9qB7AADfi/pAUknpR1MH40CVgM/i91uP5XUXMkAarHwu35G0kDg18B/mdmLacfTF2a2zczeAgwHDpJUVd1vkj4APG9mD6Qdyw56t5m9DZgGnBK7RKtNA/A24FIzeyuwAajovshaLPxPAyMSz4fHYS4FsU/818AvzOw3acezo+Im+QLgiLRjKdK7gOmxj/xaYLKkn6cbUvHM7On4/3ngBkLXbrVZBaxKbDX+ivBDUDG1WPjvA/aTNCruNDkOuCnlmDIp7hS9HFhuZt9OO56+krSHpCHx8c6EAwf+mm5UxTGzc8xsuJm1Er4T883sYymHVRRJzfEgAWLXyBSg6o56M7N/AE9JOiAOOhSo6AEPDZVsrBLMbKukU4F5QD1whZktTTmsokmaA0wCdpe0CviymV2eblRFexdwPLAk9o8DfN7Mbkkxpr54HXBVPGKsDrjOzKrycMgq1wLcENYnaABmm9lt6YbUZ6cBv4grp48DH69k4zV3OKdzzrntq8WuHuecc9vhhd855zLGC79zzmWMF37nnMsYL/zOOZcxXvidcy5jvPC7spL0FUlnlnB+b4yX5H1Q0utLNd/E/Nsk9dubeEuanrvUuKRjJI1OjPuqpMPSi85Vi5o7gcvVvGOAX5nZ+WkHkgYzu4lXz0Q/BphLPOvTzL6UVlyuuvgavys5SV+Q9KikPwIHxGEnSrov3szk15J2kTRI0op4PR8k7Zp7Luktku6RtFjSDZKGSjoS+C9gVrzBy+ck/Wd87XckzY+PJ0v6RXw8RdLdkv4i6fp4wTgkjZd0R7zK47x474BkDnWSrpTU7Q9MoXlLGqxwE6Bc3nMknRgft8c4l0r6g6Q94vDX5BqH/6fCTWwWS7o2Dpsp6WJJE4HpwIVxC+j1Md4PxekOjVtFSxRu6jMgDl8p6bwY8xJJbyzBR+6qjBd+V1KSxhOuBfMW4Ejg7XHUb8zs7Wb2ZsJ1+U+I1+hvI1wjnvi635jZFuBq4CwzexOwhHDJiluAHwHfMbNDgLuA98TXTgAGxh+R9wB3StodOBc4LF7R8X7gjDjND4APmdl44Arga4k0GoBfAH8zs3O7ybPgvM1sPXAqcKWk44ChZvaT+LJm4H4zGwPcAXw5Dn9NrnH42cBb4/CTk+2b2ULCmv/nzOwtZvb3RGxNwJXAh81sXMxnVuLlL8SYLwVK1g3nqocXfldq7wFuMLOX4yWYc90SYyXdJWkJ8FFgTBz+U169TsnHCdcoHwwMMbM74vCrCDeuyPcAMF7SrsAm4G7CD8B7CD8K7wBGA3+K1wr6D2AkYStkLHB7HH4u4SquOT8GHjaz5I9Bvu7mjZndTijglwCfTLymA/hlfPxz4N095LqYcD2XjwFbtxNLvgOAFWb2aIF5AuSukvoA0FrEfF2N8D5+VylXEm67uEjSTMIF6DCzP0lqlTQJqDezh2Mx7JGZbZG0ApgJLCQUykOANxC2Kl5PuGnKjOTrJI0DlppZd/c5XQgcIukiM9vYzTQqNO84/zrgQOBlYCjhMrwFU9hOehC2hN4LHAV8IcZdCpvi/214DcgkX+N3pXYncIyknRUuoXtUHD4IeDZ2s3w07zVXA7OBnwHE7pK1knLdOMcTukYKuYvQXXFnfHwy8KCFqw/eA7xL0hug87K++wOPAHso3uA67lMYk5jn5cAtwHWSuiuM3c0b4DOEH56PELZgGuPwOuBD8fFHgD92l2v88RhhZguAs4DBwMC8GF4ivK/5HgFac7Gx/ffPZZAXfldS8R67vwQWAbcS7o8A8EXCbRf/xGuvZf8LwprxnMSw/yDsuFxM2F/w1W6avItw2eS7zew5YGMchpmtJmwNzInzuRt4Y7wX84eAb0haBDwETMzL49vAg8A1sQjn51lw3nGn7ieBz5rZXYQfpNx+gg2Eu3c9DExO5FQo13rg57Fr7EHg+wXuy3ot8DnlHdoat1I+DlwfX99B2DfiHOCXZXb9QDwS5WgzOz7tWMpJUruZ5a+1O1dx3r/nUiXpB4T7px6ZdizOZYWv8TvXA0l/BgbkDT7ezJakEY9zO8oLv3POZYzv3HXOuYzxwu+ccxnjhd855zLGC79zzmWMF37nnMuY/w8x1T+Y1R8tLgAAAABJRU5ErkJggg==\n",
      "text/plain": [
       "<Figure size 432x288 with 1 Axes>"
      ]
     },
     "metadata": {
      "needs_background": "light"
     },
     "output_type": "display_data"
    }
   ],
   "source": [
    "clean_real_estate.boxplot(column='last_price', by='dayofweek_exposition')"
   ]
  },
  {
   "cell_type": "markdown",
   "metadata": {},
   "source": [
    "Самые дорогие квартиры выставляются во вторник, пятницу и субботу. А в воскресенье - все расслабляются и дают поблажки в цене (здесь цены чуть ниже)"
   ]
  },
  {
   "cell_type": "code",
   "execution_count": 142,
   "metadata": {},
   "outputs": [
    {
     "data": {
      "text/html": [
       "<div>\n",
       "<style scoped>\n",
       "    .dataframe tbody tr th:only-of-type {\n",
       "        vertical-align: middle;\n",
       "    }\n",
       "\n",
       "    .dataframe tbody tr th {\n",
       "        vertical-align: top;\n",
       "    }\n",
       "\n",
       "    .dataframe thead tr th {\n",
       "        text-align: left;\n",
       "    }\n",
       "\n",
       "    .dataframe thead tr:last-of-type th {\n",
       "        text-align: right;\n",
       "    }\n",
       "</style>\n",
       "<table border=\"1\" class=\"dataframe\">\n",
       "  <thead>\n",
       "    <tr>\n",
       "      <th></th>\n",
       "      <th>median</th>\n",
       "      <th>mean</th>\n",
       "    </tr>\n",
       "    <tr>\n",
       "      <th></th>\n",
       "      <th>last_price</th>\n",
       "      <th>last_price</th>\n",
       "    </tr>\n",
       "    <tr>\n",
       "      <th>month_exposition</th>\n",
       "      <th></th>\n",
       "      <th></th>\n",
       "    </tr>\n",
       "  </thead>\n",
       "  <tbody>\n",
       "    <tr>\n",
       "      <td>1</td>\n",
       "      <td>4499499.50</td>\n",
       "      <td>4916962.54</td>\n",
       "    </tr>\n",
       "    <tr>\n",
       "      <td>2</td>\n",
       "      <td>4450000.00</td>\n",
       "      <td>4897014.88</td>\n",
       "    </tr>\n",
       "    <tr>\n",
       "      <td>3</td>\n",
       "      <td>4500000.00</td>\n",
       "      <td>4871738.23</td>\n",
       "    </tr>\n",
       "    <tr>\n",
       "      <td>4</td>\n",
       "      <td>4550000.00</td>\n",
       "      <td>4965806.96</td>\n",
       "    </tr>\n",
       "    <tr>\n",
       "      <td>5</td>\n",
       "      <td>4350000.00</td>\n",
       "      <td>4883026.26</td>\n",
       "    </tr>\n",
       "    <tr>\n",
       "      <td>6</td>\n",
       "      <td>4200000.00</td>\n",
       "      <td>4730980.52</td>\n",
       "    </tr>\n",
       "    <tr>\n",
       "      <td>7</td>\n",
       "      <td>4400000.00</td>\n",
       "      <td>4894683.09</td>\n",
       "    </tr>\n",
       "    <tr>\n",
       "      <td>8</td>\n",
       "      <td>4480000.00</td>\n",
       "      <td>4944692.14</td>\n",
       "    </tr>\n",
       "    <tr>\n",
       "      <td>9</td>\n",
       "      <td>4499000.00</td>\n",
       "      <td>5012487.34</td>\n",
       "    </tr>\n",
       "    <tr>\n",
       "      <td>10</td>\n",
       "      <td>4400000.00</td>\n",
       "      <td>4830577.54</td>\n",
       "    </tr>\n",
       "    <tr>\n",
       "      <td>11</td>\n",
       "      <td>4500000.00</td>\n",
       "      <td>4958824.93</td>\n",
       "    </tr>\n",
       "    <tr>\n",
       "      <td>12</td>\n",
       "      <td>4437000.00</td>\n",
       "      <td>4834094.56</td>\n",
       "    </tr>\n",
       "  </tbody>\n",
       "</table>\n",
       "</div>"
      ],
      "text/plain": [
       "                     median       mean\n",
       "                 last_price last_price\n",
       "month_exposition                      \n",
       "1                4499499.50 4916962.54\n",
       "2                4450000.00 4897014.88\n",
       "3                4500000.00 4871738.23\n",
       "4                4550000.00 4965806.96\n",
       "5                4350000.00 4883026.26\n",
       "6                4200000.00 4730980.52\n",
       "7                4400000.00 4894683.09\n",
       "8                4480000.00 4944692.14\n",
       "9                4499000.00 5012487.34\n",
       "10               4400000.00 4830577.54\n",
       "11               4500000.00 4958824.93\n",
       "12               4437000.00 4834094.56"
      ]
     },
     "execution_count": 142,
     "metadata": {},
     "output_type": "execute_result"
    }
   ],
   "source": [
    "clean_real_estate.pivot_table(\n",
    "    index=['month_exposition'], \n",
    "    values='last_price',\n",
    "    aggfunc=['median', 'mean']\n",
    ")"
   ]
  },
  {
   "cell_type": "code",
   "execution_count": 143,
   "metadata": {},
   "outputs": [
    {
     "data": {
      "text/plain": [
       "<matplotlib.axes._subplots.AxesSubplot at 0x7f1ef009e710>"
      ]
     },
     "execution_count": 143,
     "metadata": {},
     "output_type": "execute_result"
    },
    {
     "data": {
      "image/png": "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\n",
      "text/plain": [
       "<Figure size 432x288 with 1 Axes>"
      ]
     },
     "metadata": {
      "needs_background": "light"
     },
     "output_type": "display_data"
    }
   ],
   "source": [
    "clean_real_estate.pivot_table(\n",
    "    index=['month_exposition'], \n",
    "    values='last_price',\n",
    "    aggfunc=['median', 'mean']\n",
    ").plot(kind='bar')"
   ]
  },
  {
   "cell_type": "markdown",
   "metadata": {},
   "source": [
    "В августе, сентябре, ноябре (перед школой и новым годом) хотят продать подороже, чтобы хватило еще на что-нибудь). Самые низкие цены в марте, апреле и июне - видимо уже отчаялись, что новый год справляли в старой крартире и решили - пора снизить цену, чтобы побыстрее продать."
   ]
  },
  {
   "cell_type": "code",
   "execution_count": 144,
   "metadata": {},
   "outputs": [
    {
     "data": {
      "text/html": [
       "<div>\n",
       "<style scoped>\n",
       "    .dataframe tbody tr th:only-of-type {\n",
       "        vertical-align: middle;\n",
       "    }\n",
       "\n",
       "    .dataframe tbody tr th {\n",
       "        vertical-align: top;\n",
       "    }\n",
       "\n",
       "    .dataframe thead tr th {\n",
       "        text-align: left;\n",
       "    }\n",
       "\n",
       "    .dataframe thead tr:last-of-type th {\n",
       "        text-align: right;\n",
       "    }\n",
       "</style>\n",
       "<table border=\"1\" class=\"dataframe\">\n",
       "  <thead>\n",
       "    <tr>\n",
       "      <th></th>\n",
       "      <th colspan=\"2\" halign=\"left\">median</th>\n",
       "      <th colspan=\"2\" halign=\"left\">mean</th>\n",
       "    </tr>\n",
       "    <tr>\n",
       "      <th></th>\n",
       "      <th>last_price</th>\n",
       "      <th>price_per_metr</th>\n",
       "      <th>last_price</th>\n",
       "      <th>price_per_metr</th>\n",
       "    </tr>\n",
       "    <tr>\n",
       "      <th>year_exposition</th>\n",
       "      <th></th>\n",
       "      <th></th>\n",
       "      <th></th>\n",
       "      <th></th>\n",
       "    </tr>\n",
       "  </thead>\n",
       "  <tbody>\n",
       "    <tr>\n",
       "      <td>2014</td>\n",
       "      <td>7500000</td>\n",
       "      <td>106344</td>\n",
       "      <td>6491428.57</td>\n",
       "      <td>111077.86</td>\n",
       "    </tr>\n",
       "    <tr>\n",
       "      <td>2015</td>\n",
       "      <td>4530000</td>\n",
       "      <td>88967</td>\n",
       "      <td>4963850.44</td>\n",
       "      <td>88185.70</td>\n",
       "    </tr>\n",
       "    <tr>\n",
       "      <td>2016</td>\n",
       "      <td>4300000</td>\n",
       "      <td>90230</td>\n",
       "      <td>4861678.26</td>\n",
       "      <td>90610.84</td>\n",
       "    </tr>\n",
       "    <tr>\n",
       "      <td>2017</td>\n",
       "      <td>4300000</td>\n",
       "      <td>90109</td>\n",
       "      <td>4837780.95</td>\n",
       "      <td>90601.45</td>\n",
       "    </tr>\n",
       "    <tr>\n",
       "      <td>2018</td>\n",
       "      <td>4450000</td>\n",
       "      <td>94285</td>\n",
       "      <td>4869780.83</td>\n",
       "      <td>93288.12</td>\n",
       "    </tr>\n",
       "    <tr>\n",
       "      <td>2019</td>\n",
       "      <td>4840000</td>\n",
       "      <td>101415</td>\n",
       "      <td>5176688.53</td>\n",
       "      <td>100048.02</td>\n",
       "    </tr>\n",
       "  </tbody>\n",
       "</table>\n",
       "</div>"
      ],
      "text/plain": [
       "                    median                      mean               \n",
       "                last_price price_per_metr last_price price_per_metr\n",
       "year_exposition                                                    \n",
       "2014               7500000         106344 6491428.57      111077.86\n",
       "2015               4530000          88967 4963850.44       88185.70\n",
       "2016               4300000          90230 4861678.26       90610.84\n",
       "2017               4300000          90109 4837780.95       90601.45\n",
       "2018               4450000          94285 4869780.83       93288.12\n",
       "2019               4840000         101415 5176688.53      100048.02"
      ]
     },
     "execution_count": 144,
     "metadata": {},
     "output_type": "execute_result"
    }
   ],
   "source": [
    "clean_real_estate.pivot_table(\n",
    "    index=['year_exposition'], \n",
    "    values=['last_price', 'price_per_metr'],\n",
    "    aggfunc=['median', 'mean']\n",
    ")"
   ]
  },
  {
   "cell_type": "code",
   "execution_count": 145,
   "metadata": {},
   "outputs": [
    {
     "data": {
      "text/plain": [
       "<matplotlib.axes._subplots.AxesSubplot at 0x7f1ef071c790>"
      ]
     },
     "execution_count": 145,
     "metadata": {},
     "output_type": "execute_result"
    },
    {
     "data": {
      "image/png": "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\n",
      "text/plain": [
       "<Figure size 432x288 with 1 Axes>"
      ]
     },
     "metadata": {
      "needs_background": "light"
     },
     "output_type": "display_data"
    }
   ],
   "source": [
    "clean_real_estate.pivot_table(\n",
    "    index=['year_exposition'], \n",
    "    values=['last_price', 'price_per_metr'],\n",
    "    aggfunc=['median', 'mean']\n",
    ").plot(kind='bar')"
   ]
  },
  {
   "cell_type": "markdown",
   "metadata": {},
   "source": [
    "Ежегодно поднимается средняя цена за метр (оно и логично, инфляцию никто не отменял)  \n",
    "Пик высоких средних цен наблюдался в 2014 году. Вот несколько причин этого явления:\n",
    "- повлиял большой поток туристов в эту область\n",
    "- улучшилась инфраструктура вокруг жилья (дороги, детские сады, школы)\n",
    "- подъем экономической активности (меньше безработицы, люди больше зарабатывают)\n",
    "- большой поток студентов (родители купили квартиру)"
   ]
  },
  {
   "cell_type": "markdown",
   "metadata": {},
   "source": [
    "<a name=\"step4.5_local\"></a>\n",
    "#### Населённые пункты с наибольшим числом объявлений  \n",
    "Выделим 10 населённых пунктов с наибольшим числом объявлений. Посчитаем среднюю цену квадратного метра в этих населённых пунктах. Выделим населённые пункты с самой высокой и низкой стоимостью жилья"
   ]
  },
  {
   "cell_type": "code",
   "execution_count": 146,
   "metadata": {},
   "outputs": [
    {
     "data": {
      "text/plain": [
       "Санкт-Петербург      12257\n",
       "посёлок Мурино         441\n",
       "посёлок Шушары         402\n",
       "Всеволожск             335\n",
       "Колпино                312\n",
       "Пушкин                 305\n",
       "посёлок Парголово      300\n",
       "Гатчина                269\n",
       "деревня Кудрово        241\n",
       "Выборг                 202\n",
       "Name: locality_name, dtype: int64"
      ]
     },
     "execution_count": 146,
     "metadata": {},
     "output_type": "execute_result"
    }
   ],
   "source": [
    "top10_advertising = clean_real_estate['locality_name'].value_counts().head(10)\n",
    "top10_advertising"
   ]
  },
  {
   "cell_type": "code",
   "execution_count": 147,
   "metadata": {},
   "outputs": [
    {
     "data": {
      "text/plain": [
       "<matplotlib.axes._subplots.AxesSubplot at 0x7f1eeb20b810>"
      ]
     },
     "execution_count": 147,
     "metadata": {},
     "output_type": "execute_result"
    },
    {
     "data": {
      "image/png": "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\n",
      "text/plain": [
       "<Figure size 360x360 with 1 Axes>"
      ]
     },
     "metadata": {},
     "output_type": "display_data"
    }
   ],
   "source": [
    "top10_advertising.plot.pie(autopct='%.0f', figsize=(5,5))"
   ]
  },
  {
   "cell_type": "code",
   "execution_count": 148,
   "metadata": {},
   "outputs": [
    {
     "data": {
      "text/plain": [
       "locality_name\n",
       "Всеволожск           67433.08\n",
       "Выборг               58606.30\n",
       "Гатчина              69049.74\n",
       "Колпино              75149.96\n",
       "Пушкин              100603.73\n",
       "Санкт-Петербург     105592.39\n",
       "деревня Кудрово      92222.43\n",
       "посёлок Мурино       85135.91\n",
       "посёлок Парголово    90034.89\n",
       "посёлок Шушары       78140.03\n",
       "Name: price_per_metr, dtype: float64"
      ]
     },
     "execution_count": 148,
     "metadata": {},
     "output_type": "execute_result"
    }
   ],
   "source": [
    "# отберем из датафрейма строки только с этими городами\n",
    "real_estate_top10_city = clean_real_estate.query('locality_name in @top10_advertising.index')\n",
    "\n",
    "top10_city_price_per_metr = real_estate_top10_city.groupby('locality_name')['price_per_metr'].mean()\n",
    "top10_city_price_per_metr"
   ]
  },
  {
   "cell_type": "code",
   "execution_count": 149,
   "metadata": {},
   "outputs": [
    {
     "data": {
      "text/plain": [
       "<matplotlib.axes._subplots.AxesSubplot at 0x7f1eeb19e750>"
      ]
     },
     "execution_count": 149,
     "metadata": {},
     "output_type": "execute_result"
    },
    {
     "data": {
      "image/png": "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\n",
      "text/plain": [
       "<Figure size 432x288 with 1 Axes>"
      ]
     },
     "metadata": {
      "needs_background": "light"
     },
     "output_type": "display_data"
    }
   ],
   "source": [
    "top10_city_price_per_metr.sort_values(ascending=False).plot(kind='bar')"
   ]
  },
  {
   "cell_type": "markdown",
   "metadata": {},
   "source": [
    "С самой высокой ценой за квадратный метр - Санкт-Петербург, Пушкин, деревня Кудрово  \n",
    "С самой низкой ценой за квадратный метр - Гатчина, Всеволожск, Выборг"
   ]
  },
  {
   "cell_type": "markdown",
   "metadata": {},
   "source": [
    "<a name=\"step4.6_center\"></a>\n",
    "#### Поиск зоны центра города в зависимости от цены  \n",
    "Изучим предложения квартир: для каждой квартиры есть информация о расстоянии до центра. Выделим квартиры в Санкт-Петербурге и выясним, какая область входит в центр. \n",
    "Для этого создим столбец с расстоянием до центра в километрах (с округлением до целого)."
   ]
  },
  {
   "cell_type": "code",
   "execution_count": 150,
   "metadata": {},
   "outputs": [
    {
     "name": "stderr",
     "output_type": "stream",
     "text": [
      "/opt/conda/lib/python3.7/site-packages/ipykernel_launcher.py:3: SettingWithCopyWarning: \n",
      "A value is trying to be set on a copy of a slice from a DataFrame.\n",
      "Try using .loc[row_indexer,col_indexer] = value instead\n",
      "\n",
      "See the caveats in the documentation: http://pandas.pydata.org/pandas-docs/stable/user_guide/indexing.html#returning-a-view-versus-a-copy\n",
      "  This is separate from the ipykernel package so we can avoid doing imports until\n"
     ]
    },
    {
     "data": {
      "text/html": [
       "<div>\n",
       "<style scoped>\n",
       "    .dataframe tbody tr th:only-of-type {\n",
       "        vertical-align: middle;\n",
       "    }\n",
       "\n",
       "    .dataframe tbody tr th {\n",
       "        vertical-align: top;\n",
       "    }\n",
       "\n",
       "    .dataframe thead th {\n",
       "        text-align: right;\n",
       "    }\n",
       "</style>\n",
       "<table border=\"1\" class=\"dataframe\">\n",
       "  <thead>\n",
       "    <tr style=\"text-align: right;\">\n",
       "      <th></th>\n",
       "      <th>last_price</th>\n",
       "      <th>cityCenters_nearest_km</th>\n",
       "    </tr>\n",
       "  </thead>\n",
       "  <tbody>\n",
       "    <tr>\n",
       "      <td>4</td>\n",
       "      <td>10000000</td>\n",
       "      <td>8</td>\n",
       "    </tr>\n",
       "    <tr>\n",
       "      <td>9</td>\n",
       "      <td>5400000</td>\n",
       "      <td>15</td>\n",
       "    </tr>\n",
       "    <tr>\n",
       "      <td>10</td>\n",
       "      <td>5050000</td>\n",
       "      <td>13</td>\n",
       "    </tr>\n",
       "    <tr>\n",
       "      <td>15</td>\n",
       "      <td>4650000</td>\n",
       "      <td>14</td>\n",
       "    </tr>\n",
       "    <tr>\n",
       "      <td>16</td>\n",
       "      <td>6700000</td>\n",
       "      <td>10</td>\n",
       "    </tr>\n",
       "  </tbody>\n",
       "</table>\n",
       "</div>"
      ],
      "text/plain": [
       "    last_price  cityCenters_nearest_km\n",
       "4     10000000                       8\n",
       "9      5400000                      15\n",
       "10     5050000                      13\n",
       "15     4650000                      14\n",
       "16     6700000                      10"
      ]
     },
     "execution_count": 150,
     "metadata": {},
     "output_type": "execute_result"
    }
   ],
   "source": [
    "# выберем данные с городо Санкт-Петергург и известным расстоянием до центра\n",
    "spb_clean_real_estate = clean_real_estate.query('locality_name == \"Санкт-Петербург\" and cityCenters_nearest.notnull()')\n",
    "spb_clean_real_estate['cityCenters_nearest_km'] = (spb_clean_real_estate['cityCenters_nearest'] / 1000).astype('int')\n",
    "\n",
    "# выберем только столбцы с ценой и километрами\n",
    "spb_clean_real_estate[['last_price', 'cityCenters_nearest_km']].head()"
   ]
  },
  {
   "cell_type": "markdown",
   "metadata": {},
   "source": [
    "Посчитаем среднюю цену для каждого километра и построим график: он должен показывать, как цена зависит от удалённости от центра. Определите границу, где график сильно меняется — это и будет центральная зона."
   ]
  },
  {
   "cell_type": "code",
   "execution_count": 151,
   "metadata": {},
   "outputs": [
    {
     "data": {
      "text/plain": [
       "<matplotlib.axes._subplots.AxesSubplot at 0x7f1eeb106050>"
      ]
     },
     "execution_count": 151,
     "metadata": {},
     "output_type": "execute_result"
    },
    {
     "data": {
      "image/png": "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\n",
      "text/plain": [
       "<Figure size 432x288 with 1 Axes>"
      ]
     },
     "metadata": {
      "needs_background": "light"
     },
     "output_type": "display_data"
    }
   ],
   "source": [
    "spb_price_per_km = spb_clean_real_estate.groupby('cityCenters_nearest_km')['last_price'].median()\n",
    "spb_price_per_km.plot(style='o-', grid=True)"
   ]
  },
  {
   "cell_type": "markdown",
   "metadata": {},
   "source": [
    "В районе 6 км - более быстрый спуск. То есть до 6 км - счиатется центром города. Видно также, что в районе 20 и 28 км цены достаточно высоки - это, скорее всего, местная \"Рублевка\"  \n",
    "\n",
    "То есть:  \n",
    "до 6 км - центр  \n",
    "от 6 до 20 км - дальние районы  \n",
    "от 20 км - загородная зона  "
   ]
  },
  {
   "cell_type": "markdown",
   "metadata": {},
   "source": [
    "<a name=\"step4.7_segment\"></a>\n",
    "#### Выделение сегментов квартир в центре  \n",
    "Изучим параметры: площадь, цена, число комнат, высота потолков.  \n",
    "Посмотрим, как влияют на стоимость квартиры число комнат, этаж, удалённость от центра, дата размещения объявления"
   ]
  },
  {
   "cell_type": "code",
   "execution_count": 152,
   "metadata": {},
   "outputs": [
    {
     "data": {
      "text/html": [
       "<div>\n",
       "<style scoped>\n",
       "    .dataframe tbody tr th:only-of-type {\n",
       "        vertical-align: middle;\n",
       "    }\n",
       "\n",
       "    .dataframe tbody tr th {\n",
       "        vertical-align: top;\n",
       "    }\n",
       "\n",
       "    .dataframe thead th {\n",
       "        text-align: right;\n",
       "    }\n",
       "</style>\n",
       "<table border=\"1\" class=\"dataframe\">\n",
       "  <thead>\n",
       "    <tr style=\"text-align: right;\">\n",
       "      <th></th>\n",
       "      <th>last_price</th>\n",
       "      <th>total_area</th>\n",
       "      <th>rooms</th>\n",
       "      <th>ceiling_height</th>\n",
       "      <th>living_area</th>\n",
       "      <th>kitchen_area</th>\n",
       "      <th>locality_name</th>\n",
       "      <th>cityCenters_nearest</th>\n",
       "      <th>days_exposition</th>\n",
       "      <th>first_day_exposition</th>\n",
       "      <th>floor</th>\n",
       "      <th>floors_total</th>\n",
       "      <th>price_per_metr</th>\n",
       "      <th>dayofweek_exposition</th>\n",
       "      <th>month_exposition</th>\n",
       "      <th>year_exposition</th>\n",
       "      <th>category_floor</th>\n",
       "      <th>living_percent</th>\n",
       "      <th>kitchen_percent</th>\n",
       "      <th>cityCenters_nearest_km</th>\n",
       "    </tr>\n",
       "  </thead>\n",
       "  <tbody>\n",
       "    <tr>\n",
       "      <td>24</td>\n",
       "      <td>6500000</td>\n",
       "      <td>97.20</td>\n",
       "      <td>2</td>\n",
       "      <td>2.50</td>\n",
       "      <td>46.50</td>\n",
       "      <td>19.60</td>\n",
       "      <td>Санкт-Петербург</td>\n",
       "      <td>2336.00</td>\n",
       "      <td>265.00</td>\n",
       "      <td>2015-10-31</td>\n",
       "      <td>1</td>\n",
       "      <td>3.00</td>\n",
       "      <td>66872</td>\n",
       "      <td>5</td>\n",
       "      <td>10</td>\n",
       "      <td>2015</td>\n",
       "      <td>первый</td>\n",
       "      <td>0.48</td>\n",
       "      <td>0.20</td>\n",
       "      <td>2</td>\n",
       "    </tr>\n",
       "    <tr>\n",
       "      <td>99</td>\n",
       "      <td>9600000</td>\n",
       "      <td>90.00</td>\n",
       "      <td>4</td>\n",
       "      <td>2.50</td>\n",
       "      <td>67.00</td>\n",
       "      <td>8.00</td>\n",
       "      <td>Санкт-Петербург</td>\n",
       "      <td>2818.00</td>\n",
       "      <td>104.00</td>\n",
       "      <td>2017-09-26</td>\n",
       "      <td>2</td>\n",
       "      <td>5.00</td>\n",
       "      <td>106666</td>\n",
       "      <td>1</td>\n",
       "      <td>9</td>\n",
       "      <td>2017</td>\n",
       "      <td>другой</td>\n",
       "      <td>0.74</td>\n",
       "      <td>0.09</td>\n",
       "      <td>2</td>\n",
       "    </tr>\n",
       "    <tr>\n",
       "      <td>106</td>\n",
       "      <td>10500000</td>\n",
       "      <td>124.10</td>\n",
       "      <td>5</td>\n",
       "      <td>3.20</td>\n",
       "      <td>79.40</td>\n",
       "      <td>20.00</td>\n",
       "      <td>Санкт-Петербург</td>\n",
       "      <td>5527.00</td>\n",
       "      <td>6.00</td>\n",
       "      <td>2017-05-25</td>\n",
       "      <td>3</td>\n",
       "      <td>4.00</td>\n",
       "      <td>84609</td>\n",
       "      <td>3</td>\n",
       "      <td>5</td>\n",
       "      <td>2017</td>\n",
       "      <td>другой</td>\n",
       "      <td>0.64</td>\n",
       "      <td>0.16</td>\n",
       "      <td>5</td>\n",
       "    </tr>\n",
       "    <tr>\n",
       "      <td>136</td>\n",
       "      <td>6500000</td>\n",
       "      <td>51.80</td>\n",
       "      <td>2</td>\n",
       "      <td>3.45</td>\n",
       "      <td>25.60</td>\n",
       "      <td>7.30</td>\n",
       "      <td>Санкт-Петербург</td>\n",
       "      <td>3618.00</td>\n",
       "      <td>163.00</td>\n",
       "      <td>2018-08-01</td>\n",
       "      <td>2</td>\n",
       "      <td>6.00</td>\n",
       "      <td>125482</td>\n",
       "      <td>2</td>\n",
       "      <td>8</td>\n",
       "      <td>2018</td>\n",
       "      <td>другой</td>\n",
       "      <td>0.49</td>\n",
       "      <td>0.14</td>\n",
       "      <td>3</td>\n",
       "    </tr>\n",
       "    <tr>\n",
       "      <td>138</td>\n",
       "      <td>4800000</td>\n",
       "      <td>40.00</td>\n",
       "      <td>2</td>\n",
       "      <td>2.50</td>\n",
       "      <td>29.00</td>\n",
       "      <td>6.00</td>\n",
       "      <td>Санкт-Петербург</td>\n",
       "      <td>2913.00</td>\n",
       "      <td>80.00</td>\n",
       "      <td>2017-11-18</td>\n",
       "      <td>2</td>\n",
       "      <td>3.00</td>\n",
       "      <td>120000</td>\n",
       "      <td>5</td>\n",
       "      <td>11</td>\n",
       "      <td>2017</td>\n",
       "      <td>другой</td>\n",
       "      <td>0.72</td>\n",
       "      <td>0.15</td>\n",
       "      <td>2</td>\n",
       "    </tr>\n",
       "  </tbody>\n",
       "</table>\n",
       "</div>"
      ],
      "text/plain": [
       "     last_price  total_area  rooms  ceiling_height  living_area  kitchen_area  \\\n",
       "24      6500000       97.20      2            2.50        46.50         19.60   \n",
       "99      9600000       90.00      4            2.50        67.00          8.00   \n",
       "106    10500000      124.10      5            3.20        79.40         20.00   \n",
       "136     6500000       51.80      2            3.45        25.60          7.30   \n",
       "138     4800000       40.00      2            2.50        29.00          6.00   \n",
       "\n",
       "       locality_name  cityCenters_nearest  days_exposition  \\\n",
       "24   Санкт-Петербург              2336.00           265.00   \n",
       "99   Санкт-Петербург              2818.00           104.00   \n",
       "106  Санкт-Петербург              5527.00             6.00   \n",
       "136  Санкт-Петербург              3618.00           163.00   \n",
       "138  Санкт-Петербург              2913.00            80.00   \n",
       "\n",
       "    first_day_exposition  floor  floors_total  price_per_metr  \\\n",
       "24            2015-10-31      1          3.00           66872   \n",
       "99            2017-09-26      2          5.00          106666   \n",
       "106           2017-05-25      3          4.00           84609   \n",
       "136           2018-08-01      2          6.00          125482   \n",
       "138           2017-11-18      2          3.00          120000   \n",
       "\n",
       "     dayofweek_exposition  month_exposition  year_exposition category_floor  \\\n",
       "24                      5                10             2015         первый   \n",
       "99                      1                 9             2017         другой   \n",
       "106                     3                 5             2017         другой   \n",
       "136                     2                 8             2018         другой   \n",
       "138                     5                11             2017         другой   \n",
       "\n",
       "     living_percent  kitchen_percent  cityCenters_nearest_km  \n",
       "24             0.48             0.20                       2  \n",
       "99             0.74             0.09                       2  \n",
       "106            0.64             0.16                       5  \n",
       "136            0.49             0.14                       3  \n",
       "138            0.72             0.15                       2  "
      ]
     },
     "execution_count": 152,
     "metadata": {},
     "output_type": "execute_result"
    }
   ],
   "source": [
    "# сделаем нужный срез по данным\n",
    "spb_center_real_estate = spb_clean_real_estate.query('cityCenters_nearest <= 6000')\n",
    "\n",
    "spb_center_real_estate.head()"
   ]
  },
  {
   "cell_type": "code",
   "execution_count": 153,
   "metadata": {},
   "outputs": [
    {
     "data": {
      "image/png": "iVBORw0KGgoAAAANSUhEUgAAAXcAAAEJCAYAAABv6GdPAAAABHNCSVQICAgIfAhkiAAAAAlwSFlzAAALEgAACxIB0t1+/AAAADh0RVh0U29mdHdhcmUAbWF0cGxvdGxpYiB2ZXJzaW9uMy4xLjAsIGh0dHA6Ly9tYXRwbG90bGliLm9yZy+17YcXAAAPLElEQVR4nO3de5CddX3H8ffHBAS8EJA1pQmymYIWtHjp6mi9TEY6BcUKbS1iL0alk3HKtI62A8F2yvgHM2G0tXas2FSUdIaiDOJAoVpovKFToAveAtGSioEwCSwKeG+5fPvHPurpumF3z3OyS355v2bO7HOe62/zx3uf/Pacs6kqJEltecJSD0CSNHrGXZIaZNwlqUHGXZIaZNwlqUHGXZIaZNwlqUHGXZqnJG9K8oWlHoc0H8ZdWiRJli/1GLT/MO5qVpKjklyRZCrJt5O8v1v/liTbktyf5N+SHD1wTCV5a5LbkzyQ5O8z7Tjgg8BLknw/yQPd/k9M8p4kdya5J8kHkxzcbVubZGeSc5LsBj6yBP8M2k8ZdzUpyTLgamAHMA6sAj6a5FTgncBvA2PA9cClMw5/DfBC4ATgdOCkqtoGvBX4j6p6clWt6PbdCDwTeB5wTHedvxo41y8AhwNHA+tH+11KexY/W0YtSvIS4CrgyKp6eGD9J4HLq+qi7vkTgO8Dx1XVjiQFvLyqvtBtvwy4pao2JnkT8EdV9bJuW7pjT6iq/x647j9X1Zoka4FrgadW1Y8X5RuXOs4BqlVHATsGw945Gnhfkr8eWBem77h3dM93D2z7IfDkPVxjDDgEuHm68z8917KBfaYMu5aCcVer7gKekWT5jMDfBZxfVZcMcc6Z/829D/gR8Oyqunuex0iLwjl3teomYBewMcmTkhyU5KVM/1L03CTPBkhyaJLfnec57wFWJzkQoKoeBf4ReG+Sp3fnW5XkpFF/M9JCGXc1qaoeAX6T6V9y3gnsBF5fVZ8ALmD6l6vfBbYCr5rnaT8N3ArsTnJft+4cYDtwQ3e+fweeNbJvRBqSv1CVpAZ55y5JDTLuktQg4y5JDTLuktSgx8Xr3I844ogaHx9f6mFI0j7l5ptvvq+qxmbb9riI+/j4OJOTk0s9DEnapyTZsadtTstIUoOMuyQ1yLhLUoOMuyQ1yLhLUoOMuyQ1yLhLUoOMuyQ16HHxJiZpsQz8Oby9yo/S1lLzzl37lapa8OPoc65e8DHSUjPuktQg4y5JDTLuktQg4y5JDTLuktSgOeOe5MNJ7k2ydWDdu5N8PclXk3wiyYqBbecm2Z7kG0lO2lsDlyTt2Xzu3C8GTp6x7jrgOVV1AvBfwLkASY4HzgCe3R3zgSTLRjZaSdK8zBn3qvo88J0Z666tqoe7pzcAq7vlU4GPVtX/VNUdwHbgRSMcryRpHkYx5/4W4JPd8irgroFtO7t1PyfJ+iSTSSanpqZGMAxJ0k/0inuSvwAeBi5Z6LFVtamqJqpqYmxs1r/vKkka0tCfLZPkTcBrgBPrZ++3vhs4amC31d06SdIiGurOPcnJwNnAa6vqhwObrgLOSPLEJGuAY4Gb+g9TkrQQc965J7kUWAsckWQncB7Tr455InBd9yl7N1TVW6vq1iSXAbcxPV1zVlU9srcGL0ma3Zxxr6o3zLL6osfY/3zg/D6DkiT14ztUJalBxl2SGmTcJalBxl2SGmTcJalBxl2SGmTcJalBxl2SGmTcJalBxl2SGmTcJalBxl2SGmTcJalBxl2SGmTcJalBxl2SGmTcJalBxl2SGmTcJalBxl2SGmTcJalBxl2SGmTcJalBxl2SGmTcJalBxl2SGmTcJalBxl2SGmTcJalBxl2SGmTcJalBc8Y9yYeT3Jtk68C6w5Ncl+T27uth3fok+bsk25N8NckL9ubgJUmzm8+d+8XAyTPWbQC2VNWxwJbuOcCrgGO7x3rgwtEMU5K0EHPGvao+D3xnxupTgc3d8mbgtIH1/1TTbgBWJDlyVIOVJM3PsHPuK6tqV7e8G1jZLa8C7hrYb2e37uckWZ9kMsnk1NTUkMOQJM2m9y9Uq6qAGuK4TVU1UVUTY2NjfYchSRowbNzv+cl0S/f13m793cBRA/ut7tZJkhbRsHG/CljXLa8DrhxY/8buVTMvBh4cmL6RJC2S5XPtkORSYC1wRJKdwHnARuCyJGcCO4DTu93/FXg1sB34IfDmvTBmSdIc5ox7Vb1hD5tOnGXfAs7qOyhJUj++Q1WSGmTcJalBxl2SGmTcJalBxl2SGmTcJalBxl2SGmTcJalBxl2SGmTcJalBxl2SGmTcJalBxl2SGmTcJalBxl2SGmTcJalBxl2SGmTcJalBxl2SGmTcJalBxl2SGmTcJalBxl2SGmTcJalBxl2SGmTcJalBy5d6ANKwnvuua3nwRw8tyrXGN1yzV89/6MEH8JXzfmOvXkP7F+OufdaDP3qIb208ZamHMRJ7+4eH9j9Oy0hSg4y7JDWoV9yTvD3JrUm2Jrk0yUFJ1iS5Mcn2JB9LcuCoBitJmp+h455kFfCnwERVPQdYBpwBXAC8t6qOAe4HzhzFQCVJ89d3WmY5cHCS5cAhwC7glcDl3fbNwGk9ryFJWqCh415VdwPvAe5kOuoPAjcDD1TVw91uO4FVsx2fZH2SySSTU1NTww5DkjSLPtMyhwGnAmuAXwSeBJw83+OralNVTVTVxNjY2LDDkCTNos+0zK8Dd1TVVFU9BFwBvBRY0U3TAKwG7u45RknSAvWJ+53Ai5MckiTAicBtwGeA13X7rAOu7DdESdJC9Zlzv5HpX5zeAnytO9cm4BzgHUm2A08DLhrBOCVJC9Dr4weq6jzgvBmrvwm8qM95JUn9+A5VSWqQcZekBhl3SWqQcZekBhl3SWqQcZekBhl3SWqQcZekBhl3SWqQcZekBhl3SWqQcZekBhl3SWqQcZekBhl3SWqQcZekBhl3SWqQcZekBhl3SWqQcZekBhl3SWqQcZekBi1f6gFIw3rKcRv4lc0blnoYI/GU4wBOWephqCHGXfus723byLc2thHE8Q3XLPUQ1BinZSSpQcZdkhpk3CWpQcZdkhpk3CWpQcZdkhpk3CWpQb3inmRFksuTfD3JtiQvSXJ4kuuS3N59PWxUg5UkzU/fO/f3AZ+qql8GngtsAzYAW6rqWGBL91yStIiGjnuSQ4FXABcBVNX/VtUDwKnA5m63zcBpfQcpSVqYPnfua4Ap4CNJvpTkQ0meBKysql3dPruBlbMdnGR9kskkk1NTUz2GIUmaqU/clwMvAC6squcDP2DGFExVFVCzHVxVm6pqoqomxsbGegxDkjRTn7jvBHZW1Y3d88uZjv09SY4E6L7e22+IkqSFGjruVbUbuCvJs7pVJwK3AVcB67p164Are41QkrRgfT/y90+AS5IcCHwTeDPTPzAuS3ImsAM4vec1JEkL1CvuVfVlYGKWTSf2Oa8kqR/foSpJDTLuktQg4y5JDTLuktQg4y5JDTLuktQg4y5JDTLuktQg4y5JDTLuktQg4y5JDTLuktQg4y5JDTLuktSgvp/nLi2p8Q3XLPUQRuLQgw9Y6iGoMcZd+6xvbTxlUa4zvuGaRbuWNCpOy0hSg4y7JDXIuEtSg4y7JDXIuEtSg4y7JDXIuEtSg4y7JDXIuEtSg4y7JDXIuEtSg4y7JDXIuEtSg4y7JDWod9yTLEvypSRXd8/XJLkxyfYkH0tyYP9hSpIWYhR37m8Dtg08vwB4b1UdA9wPnDmCa0iSFqBX3JOsBk4BPtQ9D/BK4PJul83AaX2uIUlauL537n8LnA082j1/GvBAVT3cPd8JrJrtwCTrk0wmmZyamuo5DEnSoKHjnuQ1wL1VdfMwx1fVpqqaqKqJsbGxYYchSZpFn7+h+lLgtUleDRwEPBV4H7AiyfLu7n01cHf/YUqSFmLoO/eqOreqVlfVOHAG8Omq+n3gM8Drut3WAVf2HqUkaUH2xuvczwHekWQ703PwF+2Fa0iSHkOfaZmfqqrPAp/tlr8JvGgU55UkDcd3qEpSg4y7JDXIuEtSg4y7JDXIuEtSg4y7JDXIuEtSg4y7JDXIuEtSg4y7JDXIuEtSg4y7JDXIuEtSg4y7JDXIuEtSg4y7JDXIuEtSg4y7JDXIuEtSg4y7JDXIuEtSg4y7JDXIuEtSg4y7JDVo+VIPQFpMSYY77oKF7V9VQ11HGhXjrv2K0dX+wmkZSWqQcZekBhl3SWqQcZekBhl3SWrQ0HFPclSSzyS5LcmtSd7WrT88yXVJbu++Hja64UqS5qPPnfvDwJ9V1fHAi4GzkhwPbAC2VNWxwJbuuSRpEQ0d96raVVW3dMvfA7YBq4BTgc3dbpuB0/oOUpK0MCN5E1OSceD5wI3Ayqra1W3aDazcwzHrgfXd0+8n+cYoxiLtBUcA9y31IKRZHL2nDen7jr0kTwY+B5xfVVckeaCqVgxsv7+qnHfXPivJZFVNLPU4pIXo9WqZJAcAHwcuqaorutX3JDmy234kcG+/IUqSFqrPq2UCXARsq6q/Gdh0FbCuW14HXDn88CRJwxh6WibJy4Drga8Bj3ar38n0vPtlwDOAHcDpVfWd/kOVlkaS9VW1aanHIS1E7zl3SdLjj+9QlaQGGXdJapBxl6QGGXft05KsSPLHc+wznuT35nGu8SRbRzc6aekYd+3rVgCPGXdgHJgz7qOQxD9dqccF46593Ubgl5J8Ocm7u8fWJF9L8vqBfV7e7fP27g79+iS3dI9fm8+F9nRckrXd+quA27p1f5Dkpu6a/5BkWbf+wiST3Sepvmv0/xxSp6p8+NhnH0zflW/tln8HuA5YxvRnGt0JHAmsBa4eOOYQ4KBu+Vhgcua59nCtPR23FvgBsKZ7fhzwL8AB3fMPAG/slg/vvi4DPgucsNT/hj7afPhfSLXkZcClVfUI0x+D8TnghcB3Z+x3APD+JM8DHgGeOc/zP9ZxN1XVHd3yicCvAv85/UZuDuZnH8NxevehecuZ/sFzPPDV+X+L0vwYd+2P3g7cAzyX6anJH4/guB8MLAfYXFXnDh6cZA3w58ALq+r+JBcDBw3zDUhzcc5d+7rvAU/plq8HXp9kWZIx4BXATTP2ATgU2FVVjwJ/yPQUyXzM97gtwOuSPB1++tfJjgaeyvQPgQeTrAReNc/rSgvmnbv2aVX17SRf7F7C+Emmpzi+AhRwdlXtTvJt4JEkXwEuZnoO/ONJ3gh8iv9/1/1Y5nVcVd2W5C+Ba5M8AXgIOKuqbkjyJeDrwF3AF4f7rqW5+dkyktQgp2UkqUFOy0gzJDkJuGDG6juq6reWYjzSMJyWkaQGOS0jSQ0y7pLUIOMuSQ0y7pLUoP8Di4StkZxWrX0AAAAASUVORK5CYII=\n",
      "text/plain": [
       "<Figure size 432x288 with 1 Axes>"
      ]
     },
     "metadata": {
      "needs_background": "light"
     },
     "output_type": "display_data"
    },
    {
     "data": {
      "image/png": "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\n",
      "text/plain": [
       "<Figure size 432x288 with 1 Axes>"
      ]
     },
     "metadata": {
      "needs_background": "light"
     },
     "output_type": "display_data"
    }
   ],
   "source": [
    "# сравним площадь в центре и площадь везде\n",
    "col_to_plot = 'total_area'\n",
    "spb_center_real_estate[col_to_plot].plot.box(title='center')\n",
    "plt.show()\n",
    "clean_real_estate[col_to_plot].plot.box(title='all')\n",
    "plt.show()"
   ]
  },
  {
   "cell_type": "markdown",
   "metadata": {},
   "source": [
    "Видны различия между центральными Петербургскими квартирами и всеми вместе - метраж в центре Питера больше"
   ]
  },
  {
   "cell_type": "code",
   "execution_count": 154,
   "metadata": {},
   "outputs": [
    {
     "data": {
      "image/png": "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\n",
      "text/plain": [
       "<Figure size 432x288 with 1 Axes>"
      ]
     },
     "metadata": {
      "needs_background": "light"
     },
     "output_type": "display_data"
    },
    {
     "data": {
      "image/png": "iVBORw0KGgoAAAANSUhEUgAAAXQAAAEJCAYAAACE39xMAAAABHNCSVQICAgIfAhkiAAAAAlwSFlzAAALEgAACxIB0t1+/AAAADh0RVh0U29mdHdhcmUAbWF0cGxvdGxpYiB2ZXJzaW9uMy4xLjAsIGh0dHA6Ly9tYXRwbG90bGliLm9yZy+17YcXAAAO1UlEQVR4nO3df4xldX2H8ectC2gB0bhjo7vAkLqtUBDFyWK0VmiVLJhATYvdLUK06MZGmrYa4zY1YKFpoZQ20WBhbQi1WH4ZrVtZgdRiqQKGoSA/loLLD8uCZgcUCqIF5NM/5kKuw8zcO7N35u5893klm8w953vP+SwJD4dz752bqkKStPS9ZNgDSJIGw6BLUiMMuiQ1wqBLUiMMuiQ1wqBLUiMMujSNJO9P8s2ux5XkdcOcSerFoEtSIwy6JDXCoGuXlmRDknuTPJFkS5L3DHsmab6WDXsAacjuBd4O/AA4AbjYe+VaqoZ6hZ7kwiTbk9zRx9q/S3Jr5889SR5bjBnVtqq6oqoerqrnquoy4LvA6mHPJc3HsG+5XASs6WdhVf1JVb2xqt4IfAb40kIOpl1DkpM7FwmPdS4SDgGWD3suaT6GGvSqug74Yfe2JL+U5KokNyf5zySvn+ap64BLFmVINSvJAcDngFOBV1XVK4A7gAx1MGmedsZ76BuBD1fVd5McAXwW+I3nd3b+JTwQ+Pchzad27AUUMAGQ5ANMXqFLS9JOFfQkewNvBa5IXrhI2nPKsrXAF6vqZ4s5m9pTVVuSnAvcADwHfB741nCnkuYvw/6CiySjwFer6pAkLwfurqrXzLL+FuAjVXX9Io0oSUvCsF8U/TlV9b/A/UlOAMikw57f37mf/komr6gkSV2G/bbFS5iM868k2ZbkFOBE4JQk3wHuBI7vespa4NIa9v9WSNJOaOi3XCRJg7FT3XKRJM3f0N7lsnz58hodHR3W6SVpSbr55psfqaqR6fYNLeijo6OMj48P6/SStCQl+d5M+7zlIkmNMOiS1AiDLkmNMOiS1AiDLkmN2Kl+OZc0bF2/FO4FfvhOS4VX6FLHdDGfbbu0szHoktQIgy5JjTDoktQIgy5JjTDoktQIgy5JjTDoktSInkFPcmGS7UnumGH/iUluS3J7kuu7vwNUkrR4+rlCvwhYM8v++4F3VNWhwJnAxgHMJUmao54f/a+q65KMzrL/+q6HNwIrd3wsSdJcDfoe+inA12bamWR9kvEk4xMTEwM+tSTt2gYW9CRHMRn0T8y0pqo2VtVYVY2NjEz7lXiSpHkayG9bTPIG4B+AY6rq0UEcU5I0Nzt8hZ5kf+BLwElVdc+OjyRJmo+eV+hJLgGOBJYn2QacDuwOUFXnA6cBrwI+2/k1o89W1dhCDSxJml4/73JZ12P/B4EPDmwiSdK8+ElRSWqEQZekRhh0SWqEQZekRhh0SWqEQZekRhh0SWqEQZekRhh0SWqEQZekRhh0SWqEQZekRhh0SWqEQZekRhh0SWqEQZekRhh0SWqEQZekRhh0SWqEQZekRhh0SWqEQZekRhh0SWqEQZekRhh0SWpEz6AnuTDJ9iR3zLA/ST6dZGuS25IcPvgxJUm99HOFfhGwZpb9xwCrOn/WA3+/42NJkuaqZ9Cr6jrgh7MsOR74fE26EXhFktcMakBJUn8GcQ99BfBg1+NtnW0vkmR9kvEk4xMTEwM4tSTpeYv6omhVbayqsaoaGxkZWcxTS1LzBhH0h4D9uh6v7GyTJC2iQQR9E3By590ubwEer6rvD+C40kAk6evPjh5DGrZlvRYkuQQ4ElieZBtwOrA7QFWdD2wGjgW2Ak8BH1ioYaX5qKq+1s0W5X6PIQ1Tz6BX1boe+wv4yMAmkoakqqaNujHXUuEnRaUuVUVVccAnvvrCz9JSYdAlqREGXZIaYdAlqREGXZIaYdAlqREGXZIaYdAlqREGXZIaYdAlqREGXZIaYdAlqREGXZIaYdAlqREGXZIaYdAlqREGXZIaYdAlqREGXZIaYdAlqREGXZIaYdAlqREGXZIaYdAlqREGXZIa0VfQk6xJcneSrUk2TLN//yTXJrklyW1Jjh38qJKk2fQMepLdgPOAY4CDgXVJDp6y7JPA5VX1JmAt8NlBDypJml0/V+irga1VdV9VPQ1cChw/ZU0BL+/8vC/w8OBGlCT1Y1kfa1YAD3Y93gYcMWXNp4BrkvwhsBfwzoFMJ0nq26BeFF0HXFRVK4FjgX9K8qJjJ1mfZDzJ+MTExIBOLUmC/oL+ELBf1+OVnW3dTgEuB6iqG4CXAsunHqiqNlbVWFWNjYyMzG9iSdK0+gn6TcCqJAcm2YPJFz03TVnzP8BvAiQ5iMmgewkuSYuoZ9Cr6lngVOBq4C4m381yZ5IzkhzXWfYx4ENJvgNcAry/qmqhhpYkvVg/L4pSVZuBzVO2ndb18xbgbYMdTZI0F35SVJIaYdAlqREGXZIaYdAlqREGXZIaYdAlqREGXZIaYdAlqREGXZIaYdAlqREGXZIaYdAlqREGXZIaYdAlqREGXZIaYdAlqREGXZIaYdAlqREGXZIaYdAlqREGXZIaYdAlqREGXZIaYdAlqREGXZIaYdAlqRF9BT3JmiR3J9maZMMMa96bZEuSO5P882DHlCT1sqzXgiS7AecB7wK2ATcl2VRVW7rWrAL+FHhbVf0oyasXamBJ0vT6uUJfDWytqvuq6mngUuD4KWs+BJxXVT8CqKrtgx1TktRLzyt0YAXwYNfjbcARU9b8MkCSbwG7AZ+qqqumHijJemA9wP777z+febWLO+zPr+HxnzyzKOca3XDlgh5/35ftzndOP3pBz6FdSz9B7/c4q4AjgZXAdUkOrarHuhdV1UZgI8DY2FgN6NzahTz+k2d44Kx3D3uMgVjo/2Bo19PPLZeHgP26Hq/sbOu2DdhUVc9U1f3APUwGXpK0SPoJ+k3AqiQHJtkDWAtsmrLmX5i8OifJciZvwdw3wDklST30DHpVPQucClwN3AVcXlV3JjkjyXGdZVcDjybZAlwLfLyqHl2ooSVJL9bXPfSq2gxsnrLttK6fC/ho548kaQj8pKgkNcKgS1IjDLokNcKgS1IjDLokNcKgS1IjDLokNcKgS1IjDLokNcKgS1IjDLokNcKgS1IjDLokNcKgS1IjDLokNcKgS1IjDLokNcKgS1IjDLokNcKgS1IjDLokNWLZsAeQ5mKfgzZw6D9uGPYYA7HPQQDvHvYYaohB15LyxF1n8cBZbURwdMOVwx5BjfGWiyQ1wqBLUiP6CnqSNUnuTrI1yYw3MJP8dpJKMja4ESVJ/egZ9CS7AecBxwAHA+uSHDzNun2APwK+PeghJUm99XOFvhrYWlX3VdXTwKXA8dOsOxM4G/jpAOeTJPWpn6CvAB7seryts+0FSQ4H9quqWV+2T7I+yXiS8YmJiTkPK0ma2Q6/KJrkJcDfAh/rtbaqNlbVWFWNjYyM7OipJUld+gn6Q8B+XY9XdrY9bx/gEOAbSR4A3gJs8oVRSVpc/QT9JmBVkgOT7AGsBTY9v7OqHq+q5VU1WlWjwI3AcVU1viATS5Km1TPoVfUscCpwNXAXcHlV3ZnkjCTHLfSAkqT+9PXR/6raDGyesu20GdYeueNjSZLmyk+KSlIjDLokNcKgS1IjDLokNcKgS1Ij/IILLTmtfDHEvi/bfdgjqDEGXUvKYn1b0eiGK5v5ZiTtOrzlIkmNMOiS1AiDLkmNMOiS1AiDLkmNMOiS1AiDLkmNMOiS1AiDLkmNMOiS1AiDLkmNMOiS1AiDLkmNMOiS1AiDLkmNMOiS1AiDLkmNMOiS1AiDLkmN6CvoSdYkuTvJ1iQbptn/0SRbktyW5OtJDhj8qJKk2fQMepLdgPOAY4CDgXVJDp6y7BZgrKreAHwR+OtBDypJml0/V+irga1VdV9VPQ1cChzfvaCqrq2qpzoPbwRWDnZMSVIv/QR9BfBg1+NtnW0zOQX42nQ7kqxPMp5kfGJiov8pJUk9DfRF0STvA8aAc6bbX1Ubq2qsqsZGRkYGeWpJ2uUt62PNQ8B+XY9Xdrb9nCTvBP4MeEdV/d9gxpMk9aufK/SbgFVJDkyyB7AW2NS9IMmbgAuA46pq++DHlCT10jPoVfUscCpwNXAXcHlV3ZnkjCTHdZadA+wNXJHk1iSbZjicJGmB9HPLharaDGyesu20rp/fOeC5JElz5CdFJakRBl2SGmHQJakRBl2SGmHQJakRBl2SGmHQJakRBl2SGmHQJakRBl2SGmHQJakRff0uF2kpSzK/5509t/VVNa/zSINi0NU8Q6tdhbdcJKkRBl2SGmHQJakRBl2SGmHQJakRBl2SGmHQJakRBl2SGpFhfegiyQTwvaGcXOptOfDIsIeQpnFAVY1Mt2NoQZd2ZknGq2ps2HNIc+EtF0lqhEGXpEYYdGl6G4c9gDRX3kOXpEZ4hS5JjTDoktQIgy5JjTDoWrKSPDnP5/1xkl8Y0AwfTnLyII4l7ShfFNWSleTJqtp7Hs97ABirqh36JGiSZVX17I4cQxokv1NUS16SvYGvAK8Edgc+WVVfSbIXcDmwEtgNOBP4ReC1wLVJHqmqo2Y45pPA54CjgR8Aa6tqIsk3gFuBXwMuSbIP8GRV/U2S1wHnAyPAz4ATqureJB8H3gvsCXy5qk5fkH8Q2uV5y0Ut+Cnwnqo6HDgKODdJgDXAw1V1WFUdAlxVVZ8GHgaOminmHXsB41X1q8B/AN0R3qOqxqrq3CnP+QJwXlUdBrwV+H6So4FVwGrgjcCbk/z6Dv+NpWkYdLUgwF8muQ34N2AFk1fitwPvSnJ2krdX1eNzOOZzwGWdny9m8or8eZdNXdy5Ul9RVV8GqKqfVtVTTF7hHw3cAvwX8HomAy8NnLdc1IITmbzN8eaqeqZzj/ylVXVPksOBY4G/SPL1qjpjnufofrHpx3N4XoC/qqoL5nleqW9eoasF+wLbOzE/CjgAIMlrgaeq6mLgHODwzvongH16HPMlwO90fv494JuzLa6qJ4BtSX6rc+49O++kuRr4/c59fpKsSPLquf4FpX54ha4WfAH41yS3A+PAf3e2Hwqck+Q54BngDzrbNwJXJXl4lvvoPwZWJ/kksB343T7mOAm4IMkZnfOdUFXXJDkIuGHytj5PAu/rHFMaKN+2KE1jvm+JlIbJWy6S1AhvuWiXluTbTL4/vNtJXp1rKfKWiyQ1wlsuktQIgy5JjTDoktQIgy5Jjfh/a3KWMhz5hI8AAAAASUVORK5CYII=\n",
      "text/plain": [
       "<Figure size 432x288 with 1 Axes>"
      ]
     },
     "metadata": {
      "needs_background": "light"
     },
     "output_type": "display_data"
    }
   ],
   "source": [
    "# сравним цену в центре и  везде\n",
    "col_to_plot = 'last_price'\n",
    "spb_center_real_estate[col_to_plot].plot.box(title='center')\n",
    "plt.show()\n",
    "clean_real_estate[col_to_plot].plot.box(title='all')\n",
    "plt.show()"
   ]
  },
  {
   "cell_type": "markdown",
   "metadata": {},
   "source": [
    "Да и цены в центре Петербурга выше почти в 2 раза"
   ]
  },
  {
   "cell_type": "code",
   "execution_count": 155,
   "metadata": {},
   "outputs": [
    {
     "data": {
      "image/png": "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\n",
      "text/plain": [
       "<Figure size 432x288 with 1 Axes>"
      ]
     },
     "metadata": {
      "needs_background": "light"
     },
     "output_type": "display_data"
    },
    {
     "data": {
      "image/png": "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\n",
      "text/plain": [
       "<Figure size 432x288 with 1 Axes>"
      ]
     },
     "metadata": {
      "needs_background": "light"
     },
     "output_type": "display_data"
    }
   ],
   "source": [
    "# сравним высоту потолков в центре и  везде\n",
    "col_to_plot = 'ceiling_height'\n",
    "spb_center_real_estate[col_to_plot].plot.box(title='center')\n",
    "plt.show()\n",
    "clean_real_estate[col_to_plot].plot.box(title='all')\n",
    "plt.show()"
   ]
  },
  {
   "cell_type": "markdown",
   "metadata": {},
   "source": [
    "Потолки в Петербурге выше - в среднем на 25 см (285 - Питер, 260 см - все вместе)"
   ]
  },
  {
   "cell_type": "code",
   "execution_count": 156,
   "metadata": {},
   "outputs": [
    {
     "name": "stdout",
     "output_type": "stream",
     "text": [
      "count   1451.00\n",
      "mean       2.41\n",
      "std        0.99\n",
      "min        1.00\n",
      "25%        2.00\n",
      "50%        2.00\n",
      "75%        3.00\n",
      "max        6.00\n",
      "Name: rooms, dtype: float64\n",
      "\n",
      "count   19010.00\n",
      "mean        1.93\n",
      "std         0.87\n",
      "min         1.00\n",
      "25%         1.00\n",
      "50%         2.00\n",
      "75%         3.00\n",
      "max         6.00\n",
      "Name: rooms, dtype: float64\n"
     ]
    }
   ],
   "source": [
    "# сравним количество комнат в центре и  везде\n",
    "print(spb_center_real_estate['rooms'].describe())\n",
    "print()\n",
    "print(clean_real_estate['rooms'].describe())"
   ]
  },
  {
   "cell_type": "markdown",
   "metadata": {},
   "source": [
    "В центре предпочитают комнат побольше (если раскошеливаться, то - по полной)"
   ]
  },
  {
   "cell_type": "code",
   "execution_count": 157,
   "metadata": {},
   "outputs": [
    {
     "data": {
      "text/html": [
       "<div>\n",
       "<style scoped>\n",
       "    .dataframe tbody tr th:only-of-type {\n",
       "        vertical-align: middle;\n",
       "    }\n",
       "\n",
       "    .dataframe tbody tr th {\n",
       "        vertical-align: top;\n",
       "    }\n",
       "\n",
       "    .dataframe thead th {\n",
       "        text-align: right;\n",
       "    }\n",
       "</style>\n",
       "<table border=\"1\" class=\"dataframe\">\n",
       "  <thead>\n",
       "    <tr style=\"text-align: right;\">\n",
       "      <th></th>\n",
       "      <th>last_price</th>\n",
       "    </tr>\n",
       "  </thead>\n",
       "  <tbody>\n",
       "    <tr>\n",
       "      <td>last_price</td>\n",
       "      <td>1.00</td>\n",
       "    </tr>\n",
       "    <tr>\n",
       "      <td>total_area</td>\n",
       "      <td>0.68</td>\n",
       "    </tr>\n",
       "    <tr>\n",
       "      <td>rooms</td>\n",
       "      <td>0.46</td>\n",
       "    </tr>\n",
       "    <tr>\n",
       "      <td>ceiling_height</td>\n",
       "      <td>0.16</td>\n",
       "    </tr>\n",
       "    <tr>\n",
       "      <td>living_area</td>\n",
       "      <td>0.59</td>\n",
       "    </tr>\n",
       "    <tr>\n",
       "      <td>kitchen_area</td>\n",
       "      <td>0.42</td>\n",
       "    </tr>\n",
       "    <tr>\n",
       "      <td>cityCenters_nearest</td>\n",
       "      <td>-0.10</td>\n",
       "    </tr>\n",
       "    <tr>\n",
       "      <td>days_exposition</td>\n",
       "      <td>0.09</td>\n",
       "    </tr>\n",
       "    <tr>\n",
       "      <td>floor</td>\n",
       "      <td>0.14</td>\n",
       "    </tr>\n",
       "    <tr>\n",
       "      <td>floors_total</td>\n",
       "      <td>0.10</td>\n",
       "    </tr>\n",
       "    <tr>\n",
       "      <td>price_per_metr</td>\n",
       "      <td>0.24</td>\n",
       "    </tr>\n",
       "    <tr>\n",
       "      <td>dayofweek_exposition</td>\n",
       "      <td>0.00</td>\n",
       "    </tr>\n",
       "    <tr>\n",
       "      <td>month_exposition</td>\n",
       "      <td>-0.04</td>\n",
       "    </tr>\n",
       "    <tr>\n",
       "      <td>year_exposition</td>\n",
       "      <td>0.07</td>\n",
       "    </tr>\n",
       "    <tr>\n",
       "      <td>living_percent</td>\n",
       "      <td>0.12</td>\n",
       "    </tr>\n",
       "    <tr>\n",
       "      <td>kitchen_percent</td>\n",
       "      <td>-0.14</td>\n",
       "    </tr>\n",
       "    <tr>\n",
       "      <td>cityCenters_nearest_km</td>\n",
       "      <td>-0.10</td>\n",
       "    </tr>\n",
       "  </tbody>\n",
       "</table>\n",
       "</div>"
      ],
      "text/plain": [
       "                        last_price\n",
       "last_price                    1.00\n",
       "total_area                    0.68\n",
       "rooms                         0.46\n",
       "ceiling_height                0.16\n",
       "living_area                   0.59\n",
       "kitchen_area                  0.42\n",
       "cityCenters_nearest          -0.10\n",
       "days_exposition               0.09\n",
       "floor                         0.14\n",
       "floors_total                  0.10\n",
       "price_per_metr                0.24\n",
       "dayofweek_exposition          0.00\n",
       "month_exposition             -0.04\n",
       "year_exposition               0.07\n",
       "living_percent                0.12\n",
       "kitchen_percent              -0.14\n",
       "cityCenters_nearest_km       -0.10"
      ]
     },
     "execution_count": 157,
     "metadata": {},
     "output_type": "execute_result"
    }
   ],
   "source": [
    "spb_center_real_estate.corr()[['last_price']]"
   ]
  },
  {
   "cell_type": "code",
   "execution_count": 158,
   "metadata": {},
   "outputs": [
    {
     "data": {
      "text/html": [
       "<div>\n",
       "<style scoped>\n",
       "    .dataframe tbody tr th:only-of-type {\n",
       "        vertical-align: middle;\n",
       "    }\n",
       "\n",
       "    .dataframe tbody tr th {\n",
       "        vertical-align: top;\n",
       "    }\n",
       "\n",
       "    .dataframe thead tr th {\n",
       "        text-align: left;\n",
       "    }\n",
       "\n",
       "    .dataframe thead tr:last-of-type th {\n",
       "        text-align: right;\n",
       "    }\n",
       "</style>\n",
       "<table border=\"1\" class=\"dataframe\">\n",
       "  <thead>\n",
       "    <tr>\n",
       "      <th></th>\n",
       "      <th>median</th>\n",
       "      <th>mean</th>\n",
       "    </tr>\n",
       "    <tr>\n",
       "      <th></th>\n",
       "      <th>last_price</th>\n",
       "      <th>last_price</th>\n",
       "    </tr>\n",
       "    <tr>\n",
       "      <th>rooms</th>\n",
       "      <th></th>\n",
       "      <th></th>\n",
       "    </tr>\n",
       "  </thead>\n",
       "  <tbody>\n",
       "    <tr>\n",
       "      <td>1</td>\n",
       "      <td>5850000.00</td>\n",
       "      <td>6023407.15</td>\n",
       "    </tr>\n",
       "    <tr>\n",
       "      <td>2</td>\n",
       "      <td>7151396.50</td>\n",
       "      <td>7336641.85</td>\n",
       "    </tr>\n",
       "    <tr>\n",
       "      <td>3</td>\n",
       "      <td>8300000.00</td>\n",
       "      <td>8386767.84</td>\n",
       "    </tr>\n",
       "    <tr>\n",
       "      <td>4</td>\n",
       "      <td>8900000.00</td>\n",
       "      <td>9105878.88</td>\n",
       "    </tr>\n",
       "    <tr>\n",
       "      <td>5</td>\n",
       "      <td>10100000.00</td>\n",
       "      <td>9984285.71</td>\n",
       "    </tr>\n",
       "    <tr>\n",
       "      <td>6</td>\n",
       "      <td>9100000.00</td>\n",
       "      <td>9100000.00</td>\n",
       "    </tr>\n",
       "  </tbody>\n",
       "</table>\n",
       "</div>"
      ],
      "text/plain": [
       "           median       mean\n",
       "       last_price last_price\n",
       "rooms                       \n",
       "1      5850000.00 6023407.15\n",
       "2      7151396.50 7336641.85\n",
       "3      8300000.00 8386767.84\n",
       "4      8900000.00 9105878.88\n",
       "5     10100000.00 9984285.71\n",
       "6      9100000.00 9100000.00"
      ]
     },
     "execution_count": 158,
     "metadata": {},
     "output_type": "execute_result"
    }
   ],
   "source": [
    "spb_center_real_estate.pivot_table(index='rooms', values='last_price' ,aggfunc=['median', 'mean'])"
   ]
  },
  {
   "cell_type": "markdown",
   "metadata": {},
   "source": [
    "По значениям корреляции Пирсона, можно сказать, что наибольшую корреляцию с ценой квартиры имеют площадь квартиры (0,69) и она совпадает с данными по всем квартирам.  \n",
    "Связь между ценой и высотой потолков стала меньше (0,45 - для всех, 0,19 - для центра)\n",
    "Также заметен рост цены при увеличении числа комнат."
   ]
  },
  {
   "cell_type": "code",
   "execution_count": 159,
   "metadata": {},
   "outputs": [
    {
     "data": {
      "text/html": [
       "<div>\n",
       "<style scoped>\n",
       "    .dataframe tbody tr th:only-of-type {\n",
       "        vertical-align: middle;\n",
       "    }\n",
       "\n",
       "    .dataframe tbody tr th {\n",
       "        vertical-align: top;\n",
       "    }\n",
       "\n",
       "    .dataframe thead tr th {\n",
       "        text-align: left;\n",
       "    }\n",
       "\n",
       "    .dataframe thead tr:last-of-type th {\n",
       "        text-align: right;\n",
       "    }\n",
       "</style>\n",
       "<table border=\"1\" class=\"dataframe\">\n",
       "  <thead>\n",
       "    <tr>\n",
       "      <th></th>\n",
       "      <th>median</th>\n",
       "      <th>mean</th>\n",
       "    </tr>\n",
       "    <tr>\n",
       "      <th></th>\n",
       "      <th>last_price</th>\n",
       "      <th>last_price</th>\n",
       "    </tr>\n",
       "    <tr>\n",
       "      <th>category_floor</th>\n",
       "      <th></th>\n",
       "      <th></th>\n",
       "    </tr>\n",
       "  </thead>\n",
       "  <tbody>\n",
       "    <tr>\n",
       "      <td>другой</td>\n",
       "      <td>7700000</td>\n",
       "      <td>7858120.46</td>\n",
       "    </tr>\n",
       "    <tr>\n",
       "      <td>первый</td>\n",
       "      <td>6200000</td>\n",
       "      <td>6581553.82</td>\n",
       "    </tr>\n",
       "    <tr>\n",
       "      <td>последний</td>\n",
       "      <td>7740000</td>\n",
       "      <td>7883677.92</td>\n",
       "    </tr>\n",
       "  </tbody>\n",
       "</table>\n",
       "</div>"
      ],
      "text/plain": [
       "                   median       mean\n",
       "               last_price last_price\n",
       "category_floor                      \n",
       "другой            7700000 7858120.46\n",
       "первый            6200000 6581553.82\n",
       "последний         7740000 7883677.92"
      ]
     },
     "execution_count": 159,
     "metadata": {},
     "output_type": "execute_result"
    }
   ],
   "source": [
    "spb_center_real_estate.pivot_table(index='category_floor', values='last_price' ,aggfunc=['median', 'mean'])"
   ]
  },
  {
   "cell_type": "code",
   "execution_count": 160,
   "metadata": {},
   "outputs": [
    {
     "data": {
      "text/plain": [
       "<matplotlib.axes._subplots.AxesSubplot at 0x7f1eeae18c50>"
      ]
     },
     "execution_count": 160,
     "metadata": {},
     "output_type": "execute_result"
    },
    {
     "data": {
      "image/png": "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\n",
      "text/plain": [
       "<Figure size 432x288 with 1 Axes>"
      ]
     },
     "metadata": {
      "needs_background": "light"
     },
     "output_type": "display_data"
    }
   ],
   "source": [
    "spb_center_real_estate.boxplot(column='last_price', by='category_floor')"
   ]
  },
  {
   "cell_type": "markdown",
   "metadata": {},
   "source": [
    "Для центральных квартир наблюдается другая тенденция - люди любят жить на последнем этаже.  \n",
    "А первый все также в аутсайдерах - там кваритры дешевле всего."
   ]
  },
  {
   "cell_type": "code",
   "execution_count": 161,
   "metadata": {},
   "outputs": [
    {
     "data": {
      "text/html": [
       "<div>\n",
       "<style scoped>\n",
       "    .dataframe tbody tr th:only-of-type {\n",
       "        vertical-align: middle;\n",
       "    }\n",
       "\n",
       "    .dataframe tbody tr th {\n",
       "        vertical-align: top;\n",
       "    }\n",
       "\n",
       "    .dataframe thead tr th {\n",
       "        text-align: left;\n",
       "    }\n",
       "\n",
       "    .dataframe thead tr:last-of-type th {\n",
       "        text-align: right;\n",
       "    }\n",
       "</style>\n",
       "<table border=\"1\" class=\"dataframe\">\n",
       "  <thead>\n",
       "    <tr>\n",
       "      <th></th>\n",
       "      <th>median</th>\n",
       "      <th>mean</th>\n",
       "    </tr>\n",
       "    <tr>\n",
       "      <th></th>\n",
       "      <th>last_price</th>\n",
       "      <th>last_price</th>\n",
       "    </tr>\n",
       "    <tr>\n",
       "      <th>dayofweek_exposition</th>\n",
       "      <th></th>\n",
       "      <th></th>\n",
       "    </tr>\n",
       "  </thead>\n",
       "  <tbody>\n",
       "    <tr>\n",
       "      <td>0</td>\n",
       "      <td>7500000</td>\n",
       "      <td>7621171.95</td>\n",
       "    </tr>\n",
       "    <tr>\n",
       "      <td>1</td>\n",
       "      <td>7600000</td>\n",
       "      <td>7775967.48</td>\n",
       "    </tr>\n",
       "    <tr>\n",
       "      <td>2</td>\n",
       "      <td>7500000</td>\n",
       "      <td>7734826.48</td>\n",
       "    </tr>\n",
       "    <tr>\n",
       "      <td>3</td>\n",
       "      <td>7200000</td>\n",
       "      <td>7445611.33</td>\n",
       "    </tr>\n",
       "    <tr>\n",
       "      <td>4</td>\n",
       "      <td>7500000</td>\n",
       "      <td>7747730.12</td>\n",
       "    </tr>\n",
       "    <tr>\n",
       "      <td>5</td>\n",
       "      <td>7500000</td>\n",
       "      <td>7501165.79</td>\n",
       "    </tr>\n",
       "    <tr>\n",
       "      <td>6</td>\n",
       "      <td>8000000</td>\n",
       "      <td>7960853.33</td>\n",
       "    </tr>\n",
       "  </tbody>\n",
       "</table>\n",
       "</div>"
      ],
      "text/plain": [
       "                         median       mean\n",
       "                     last_price last_price\n",
       "dayofweek_exposition                      \n",
       "0                       7500000 7621171.95\n",
       "1                       7600000 7775967.48\n",
       "2                       7500000 7734826.48\n",
       "3                       7200000 7445611.33\n",
       "4                       7500000 7747730.12\n",
       "5                       7500000 7501165.79\n",
       "6                       8000000 7960853.33"
      ]
     },
     "execution_count": 161,
     "metadata": {},
     "output_type": "execute_result"
    }
   ],
   "source": [
    "spb_center_real_estate.pivot_table(\n",
    "    index=['dayofweek_exposition'], \n",
    "    values='last_price',\n",
    "    aggfunc=['median', 'mean']\n",
    ")"
   ]
  },
  {
   "cell_type": "code",
   "execution_count": 162,
   "metadata": {},
   "outputs": [
    {
     "data": {
      "text/plain": [
       "<matplotlib.axes._subplots.AxesSubplot at 0x7f1eeadb60d0>"
      ]
     },
     "execution_count": 162,
     "metadata": {},
     "output_type": "execute_result"
    },
    {
     "data": {
      "image/png": "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\n",
      "text/plain": [
       "<Figure size 432x288 with 1 Axes>"
      ]
     },
     "metadata": {
      "needs_background": "light"
     },
     "output_type": "display_data"
    }
   ],
   "source": [
    "spb_center_real_estate.pivot_table(\n",
    "    index=['dayofweek_exposition'], \n",
    "    values='last_price',\n",
    "    aggfunc=['median', 'mean']\n",
    ").plot(kind='bar')"
   ]
  },
  {
   "cell_type": "markdown",
   "metadata": {},
   "source": [
    "Дороже квартиры стоят, если их выставляют в воскресенье и вторник.\n",
    "Дешевле предлагают в четверги и в субботы."
   ]
  },
  {
   "cell_type": "code",
   "execution_count": 163,
   "metadata": {},
   "outputs": [
    {
     "data": {
      "text/html": [
       "<div>\n",
       "<style scoped>\n",
       "    .dataframe tbody tr th:only-of-type {\n",
       "        vertical-align: middle;\n",
       "    }\n",
       "\n",
       "    .dataframe tbody tr th {\n",
       "        vertical-align: top;\n",
       "    }\n",
       "\n",
       "    .dataframe thead tr th {\n",
       "        text-align: left;\n",
       "    }\n",
       "\n",
       "    .dataframe thead tr:last-of-type th {\n",
       "        text-align: right;\n",
       "    }\n",
       "</style>\n",
       "<table border=\"1\" class=\"dataframe\">\n",
       "  <thead>\n",
       "    <tr>\n",
       "      <th></th>\n",
       "      <th>median</th>\n",
       "      <th>mean</th>\n",
       "    </tr>\n",
       "    <tr>\n",
       "      <th></th>\n",
       "      <th>last_price</th>\n",
       "      <th>last_price</th>\n",
       "    </tr>\n",
       "    <tr>\n",
       "      <th>month_exposition</th>\n",
       "      <th></th>\n",
       "      <th></th>\n",
       "    </tr>\n",
       "  </thead>\n",
       "  <tbody>\n",
       "    <tr>\n",
       "      <td>1</td>\n",
       "      <td>8000000</td>\n",
       "      <td>7989987.50</td>\n",
       "    </tr>\n",
       "    <tr>\n",
       "      <td>2</td>\n",
       "      <td>7900000</td>\n",
       "      <td>7815820.51</td>\n",
       "    </tr>\n",
       "    <tr>\n",
       "      <td>3</td>\n",
       "      <td>7800000</td>\n",
       "      <td>7891146.46</td>\n",
       "    </tr>\n",
       "    <tr>\n",
       "      <td>4</td>\n",
       "      <td>7325000</td>\n",
       "      <td>7370778.94</td>\n",
       "    </tr>\n",
       "    <tr>\n",
       "      <td>5</td>\n",
       "      <td>7245000</td>\n",
       "      <td>7407210.84</td>\n",
       "    </tr>\n",
       "    <tr>\n",
       "      <td>6</td>\n",
       "      <td>7522800</td>\n",
       "      <td>7579099.99</td>\n",
       "    </tr>\n",
       "    <tr>\n",
       "      <td>7</td>\n",
       "      <td>7700000</td>\n",
       "      <td>7704726.50</td>\n",
       "    </tr>\n",
       "    <tr>\n",
       "      <td>8</td>\n",
       "      <td>7499000</td>\n",
       "      <td>7746073.62</td>\n",
       "    </tr>\n",
       "    <tr>\n",
       "      <td>9</td>\n",
       "      <td>8000000</td>\n",
       "      <td>8190160.31</td>\n",
       "    </tr>\n",
       "    <tr>\n",
       "      <td>10</td>\n",
       "      <td>7100000</td>\n",
       "      <td>7357567.50</td>\n",
       "    </tr>\n",
       "    <tr>\n",
       "      <td>11</td>\n",
       "      <td>7350000</td>\n",
       "      <td>7438132.46</td>\n",
       "    </tr>\n",
       "    <tr>\n",
       "      <td>12</td>\n",
       "      <td>7150000</td>\n",
       "      <td>7451235.33</td>\n",
       "    </tr>\n",
       "  </tbody>\n",
       "</table>\n",
       "</div>"
      ],
      "text/plain": [
       "                     median       mean\n",
       "                 last_price last_price\n",
       "month_exposition                      \n",
       "1                   8000000 7989987.50\n",
       "2                   7900000 7815820.51\n",
       "3                   7800000 7891146.46\n",
       "4                   7325000 7370778.94\n",
       "5                   7245000 7407210.84\n",
       "6                   7522800 7579099.99\n",
       "7                   7700000 7704726.50\n",
       "8                   7499000 7746073.62\n",
       "9                   8000000 8190160.31\n",
       "10                  7100000 7357567.50\n",
       "11                  7350000 7438132.46\n",
       "12                  7150000 7451235.33"
      ]
     },
     "execution_count": 163,
     "metadata": {},
     "output_type": "execute_result"
    }
   ],
   "source": [
    "spb_center_real_estate.pivot_table(\n",
    "    index=['month_exposition'], \n",
    "    values='last_price',\n",
    "    aggfunc=['median', 'mean']\n",
    ")"
   ]
  },
  {
   "cell_type": "code",
   "execution_count": 164,
   "metadata": {},
   "outputs": [
    {
     "data": {
      "text/plain": [
       "<matplotlib.axes._subplots.AxesSubplot at 0x7f1eeacd8f90>"
      ]
     },
     "execution_count": 164,
     "metadata": {},
     "output_type": "execute_result"
    },
    {
     "data": {
      "image/png": "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\n",
      "text/plain": [
       "<Figure size 432x288 with 1 Axes>"
      ]
     },
     "metadata": {
      "needs_background": "light"
     },
     "output_type": "display_data"
    }
   ],
   "source": [
    "spb_center_real_estate.pivot_table(\n",
    "    index=['month_exposition'], \n",
    "    values='last_price',\n",
    "    aggfunc=['median', 'mean']\n",
    ").plot(kind='bar')"
   ]
  },
  {
   "cell_type": "markdown",
   "metadata": {},
   "source": [
    "Опять выше цены в среднем наблюдаются в сентябре и январе  \n",
    "Ниже в среднем предлагают в октябре и в декабре."
   ]
  },
  {
   "cell_type": "code",
   "execution_count": 165,
   "metadata": {},
   "outputs": [
    {
     "data": {
      "text/html": [
       "<div>\n",
       "<style scoped>\n",
       "    .dataframe tbody tr th:only-of-type {\n",
       "        vertical-align: middle;\n",
       "    }\n",
       "\n",
       "    .dataframe tbody tr th {\n",
       "        vertical-align: top;\n",
       "    }\n",
       "\n",
       "    .dataframe thead tr th {\n",
       "        text-align: left;\n",
       "    }\n",
       "\n",
       "    .dataframe thead tr:last-of-type th {\n",
       "        text-align: right;\n",
       "    }\n",
       "</style>\n",
       "<table border=\"1\" class=\"dataframe\">\n",
       "  <thead>\n",
       "    <tr>\n",
       "      <th></th>\n",
       "      <th colspan=\"2\" halign=\"left\">median</th>\n",
       "      <th colspan=\"2\" halign=\"left\">mean</th>\n",
       "    </tr>\n",
       "    <tr>\n",
       "      <th></th>\n",
       "      <th>last_price</th>\n",
       "      <th>price_per_metr</th>\n",
       "      <th>last_price</th>\n",
       "      <th>price_per_metr</th>\n",
       "    </tr>\n",
       "    <tr>\n",
       "      <th>year_exposition</th>\n",
       "      <th></th>\n",
       "      <th></th>\n",
       "      <th></th>\n",
       "      <th></th>\n",
       "    </tr>\n",
       "  </thead>\n",
       "  <tbody>\n",
       "    <tr>\n",
       "      <td>2015</td>\n",
       "      <td>7150000</td>\n",
       "      <td>100510</td>\n",
       "      <td>7324638.06</td>\n",
       "      <td>107485.11</td>\n",
       "    </tr>\n",
       "    <tr>\n",
       "      <td>2016</td>\n",
       "      <td>7500000</td>\n",
       "      <td>106881</td>\n",
       "      <td>7514816.21</td>\n",
       "      <td>110889.34</td>\n",
       "    </tr>\n",
       "    <tr>\n",
       "      <td>2017</td>\n",
       "      <td>7300000</td>\n",
       "      <td>109958</td>\n",
       "      <td>7560049.69</td>\n",
       "      <td>116084.93</td>\n",
       "    </tr>\n",
       "    <tr>\n",
       "      <td>2018</td>\n",
       "      <td>7722600</td>\n",
       "      <td>115264</td>\n",
       "      <td>7784995.15</td>\n",
       "      <td>120363.08</td>\n",
       "    </tr>\n",
       "    <tr>\n",
       "      <td>2019</td>\n",
       "      <td>7900000</td>\n",
       "      <td>126966</td>\n",
       "      <td>7928707.01</td>\n",
       "      <td>128863.91</td>\n",
       "    </tr>\n",
       "  </tbody>\n",
       "</table>\n",
       "</div>"
      ],
      "text/plain": [
       "                    median                      mean               \n",
       "                last_price price_per_metr last_price price_per_metr\n",
       "year_exposition                                                    \n",
       "2015               7150000         100510 7324638.06      107485.11\n",
       "2016               7500000         106881 7514816.21      110889.34\n",
       "2017               7300000         109958 7560049.69      116084.93\n",
       "2018               7722600         115264 7784995.15      120363.08\n",
       "2019               7900000         126966 7928707.01      128863.91"
      ]
     },
     "execution_count": 165,
     "metadata": {},
     "output_type": "execute_result"
    }
   ],
   "source": [
    "spb_center_real_estate.pivot_table(\n",
    "    index=['year_exposition'], \n",
    "    values=['last_price', 'price_per_metr'],\n",
    "    aggfunc=['median', 'mean']\n",
    ")"
   ]
  },
  {
   "cell_type": "code",
   "execution_count": 166,
   "metadata": {},
   "outputs": [
    {
     "data": {
      "text/plain": [
       "<matplotlib.axes._subplots.AxesSubplot at 0x7f1eeabf6910>"
      ]
     },
     "execution_count": 166,
     "metadata": {},
     "output_type": "execute_result"
    },
    {
     "data": {
      "image/png": "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\n",
      "text/plain": [
       "<Figure size 432x288 with 1 Axes>"
      ]
     },
     "metadata": {
      "needs_background": "light"
     },
     "output_type": "display_data"
    }
   ],
   "source": [
    "spb_center_real_estate.pivot_table(\n",
    "    index=['year_exposition'], \n",
    "    values=['last_price', 'price_per_metr'],\n",
    "    aggfunc=['median', 'mean']\n",
    ").plot(kind='bar')"
   ]
  },
  {
   "cell_type": "markdown",
   "metadata": {},
   "source": [
    "Цена за квадратный метр все также растет (это хорошо)  \n",
    "И стоимость всей квартиры все также растет - у центральной зоны предложение абсолютно неэластичное по цене"
   ]
  },
  {
   "cell_type": "markdown",
   "metadata": {},
   "source": [
    "<a name=\"step4_conclusion\"></a>\n",
    "### Вывод"
   ]
  },
  {
   "cell_type": "markdown",
   "metadata": {},
   "source": [
    "В этой части было изучены параметры <b>площади, цены, высоты потолков и количества комнат</b>. Вот интересные тезисы:  \n",
    "1. Основная масса квартир площадью от 25 до 125 кв.м\n",
    "2. В среднем потолки бывают от 2,4 м до 3,5 м (но были и квартиры с высотой потолков в 100 м)\n",
    "3. Квартиры в среднем имеют от 1 до 4 комнат\n",
    "4. Стоимость ниже московских - от 1 млн до 12,5 млн рублей  \n",
    "\n",
    "<b>Время продажи</b> квартиры занимает чаще всего 45-60 дней  \n",
    "\n",
    "<b>Очистка</b> от редких и выбивающихся значений сократила датасет почти в два раза, но зато медиана полного датафрейма почти такая же, как и среднее у очищенных  \n",
    "\n",
    "Изучены <b>факторы влиющие на цену</b>:  \n",
    "- площадь имеет наибольшее влияние (коэффициент корреляции = 0,69 для всех квартир и квартир в центре Санкт-Петербурга)\n",
    "- с возрастанием количества комнат, увеличивается и цена квартиры примерно на 1 млн\n",
    "- в центре можно найти 6-комнатную квартиру дешевле 5-комнатной\n",
    "- нельзя сказать, что высота потолков влияет на цену (коэффициент корреляции = 0,43 для всех квартир)\n",
    "- для всех квартир: апрельские объявления - имеют более низкие цены; объявления выставленные в августе - более высокие цены\n",
    "- для центарльных квартир: январские объявления - имеют более низкие цены; объявления выставленные в декабре - более высокие цены\n",
    "- с каждым годом средние цены на центральные квартиры растут\n",
    "- для всех квартир был пик цен в 2015 году, после чего произошло снижение. Вот несколько причин этого явления:\n",
    "   1. повлиял большой поток туристов в эту область\n",
    "   2. улучшилась инфраструктура вокруг жилья (дороги, детские сады, школы)\n",
    "   3. подъем экономической активности (меньше безработицы, люди больше зарабатывают)\n",
    "   4. большой поток студентов (родители купили квартиру)\n",
    "- во вторник выставляются более дорогие квартиры, а более дешевые - в среду среди всех и в воскресенье среди центральных  \n",
    "\n",
    "Выделены <b>10 городов</b> с наибольшим числом объявлений:\n",
    "- Самые дорогие квартиры за квадратный метр в Петербурге (105 тыс за кв.м), Пушкине (99 тыс за кв.м) и деревне Кудрово (92 тыс за кв.м)\n",
    "- Подешевле можно найти в Выборге (58 тыс), Всеволожске (67 тыс) и в Гатчине (69 тыс)  \n",
    "Поэтому для людей, которые ищут дешевые квартиры в Санкт-Петербурге можно моветовать и другие пригородные места - воздух чище, сэкономленных денег - больше!  \n",
    "\n",
    "Выделена <b>центральная зона Санкт-Петербурга</b>:  \n",
    "- до 6 км считается центром\n",
    "- от 6 до 20 км - уже не сичтается центром\n",
    "- от 20 км - присутствует элитная пригородная зона  \n",
    "\n",
    "Для <b>квартир в центре</b> Петербурга выявлены такие особенности:\n",
    "- высота потолков тут в среднем выше (2,85 м против 2,6 м во всех районах)\n",
    "- в центре метраж квартир также выше (65 кв.м против 45 кв.м во всех районах) Для покупателей было приятно знать, что в центре сравнительно мало маленьких квартир и сделать это можно в виде уведомления при выставлении фильтров\n",
    "- в центре квартиры почти в два раза дороже (почти 8 млн против 4 млн во всех районах)"
   ]
  },
  {
   "cell_type": "markdown",
   "metadata": {},
   "source": [
    "<a name=\"step5\"></a>\n",
    "### Шаг 5. Общий вывод"
   ]
  },
  {
   "cell_type": "markdown",
   "metadata": {},
   "source": [
    "#### Шаг 1\n",
    "1. В данных во многих полях наблюдаются пропуски, этому есть несколько объяснений:\n",
    "   - объект просто отсутствует (нет пруда или парка рядом)\n",
    "   - в более ранние годы информация по данному признаку вообще не собиралась\n",
    "   - человек просто не стал вводить информацию изз-за незнания или нежелания вводить\n",
    "   При этом некоторые данные можно рассчитывать и вместо человека (например, расстояние до центра или количество прудов в радиусе 3 км)\n",
    "2. Было несоответсвие типов данных, но проблема решалась несложно и быстро\n",
    "\n",
    "#### Шаг 2\n",
    "1. Высота потолков могла быть и 1 м и 100 м\n",
    "2. Заполнить пропущенные географические данные не всегда получается, так как не всегда есть предложения из примерно одного дома\n",
    "\n",
    "#### Шаг 3\n",
    "1. Встречались квартиры, у которых площадь кухни была больше жилой площади\n",
    "2. Цена за квадратный метр могла быть 111 рублей! или почти 2 млн (это подозрительные записи)\n",
    "3. Площадь кухни иногда бывала больше площади жилой площади\n",
    "4. В некоторых случаях жилая площадь или площадь кухни могли составлять 2% от общей\n",
    "\n",
    "#### Шаг 4\n",
    "1. Среднестатистические квартиры - это:\n",
    "   - площадь от 25 до 125 кв.м\n",
    "   - от 1 до 4 комнат\n",
    "   - высота потолков от 2,4 до 3,5 м\n",
    "   - стоимость от 1 до 12,5 мл рублей  \n",
    "2. Время продажи квартиры занимает чаще всего 45-60 дней\n",
    "3. <b>Факторы влиющие на цену</b>:  \n",
    "   - площадь имеет наибольшее влияние (коэффициент корреляции = 0,69 для всех квартир и квартир в центре Санкт-Петербурга)\n",
    "   - с возрастанием количества комнат, увеличивается и цена квартиры примерно на 1 млн\n",
    "   - в центре можно найти 6-комнатную квартиру дешевле 5-комнатной\n",
    "   - нельзя сказать, что высота потолков влияет на цену (коэффициент корреляции = 0,43 для всех квартир)\n",
    "   - апрельские объявления - имеют более низкие цены; объявления выставленные в августе - более высокие цены\n",
    "   - с каждым годом средние цены на центральные квартиры растут\n",
    "   - для всех квартир был пик цен в 2014 году, после чего произошло снижение. Вот несколько причин этого явления:\n",
    "      1. повлиял большой поток туристов в эту область\n",
    "      2. улучшилась инфраструктура вокруг жилья (дороги, детские сады, школы)\n",
    "      3. подъем экономической активности (меньше безработицы, люди больше зарабатывают)\n",
    "      4. большой поток студентов (родители купили квартиру)\n",
    "   - во вторник выставляются более дорогие квартиры, а более дешевые - в среду среди всех и в воскресенье среди центральных  \n",
    "4. Самые дорогие квартиры за квадратный метр в Петербурге (105 тыс за кв.м), Пушкине (99 тыс за кв.м) и деревне Кудрово (92 тыс за кв.м)\n",
    "5. Подешевле квартиры можно найти в Выборге (58 тыс), Всеволожске (67 тыс) и в Гатчине (69 тыс) \n",
    "6. Радиус в 6 км - считается центром Санкт-Петербурга\n",
    "7. Для <b>квартир в центре</b> Петербурга выявлены такие особенности:\n",
    "   - высота потолков тут в среднем выше (3,0 м против 2,4 м во всех районах)\n",
    "   - в центре метраж квартир также выше (65 кв.м против 45 кв.м во всех районах) Для покупателей было приятно знать, что в центре сравнительно мало маленьких квартир и сделать это можно в виде уведомления при выставлении фильтров\n",
    "   - в центре квартиры почти в два раза дороже (почти 8 млн против 4 млн во всех районах)"
   ]
  }
 ],
 "metadata": {
  "kernelspec": {
   "display_name": "Python 3",
   "language": "python",
   "name": "python3"
  },
  "language_info": {
   "codemirror_mode": {
    "name": "ipython",
    "version": 3
   },
   "file_extension": ".py",
   "mimetype": "text/x-python",
   "name": "python",
   "nbconvert_exporter": "python",
   "pygments_lexer": "ipython3",
   "version": "3.7.4"
  }
 },
 "nbformat": 4,
 "nbformat_minor": 2
}
