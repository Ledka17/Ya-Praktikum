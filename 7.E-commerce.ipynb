{
 "cells": [
  {
   "cell_type": "markdown",
   "metadata": {},
   "source": [
    "\n",
    "\n",
    "\n",
    "# Интернет-магазин"
   ]
  },
  {
   "cell_type": "markdown",
   "metadata": {},
   "source": [
    "### Описание проекта\n",
    "Совместно с отделом маркетинга крупного интернет-магазина мы подготовили список гипотез для увеличения выручки.  \n",
    "Необходимо приоритезировать гипотезы, запустить A/B-тест и проанализировать результаты."
   ]
  },
  {
   "cell_type": "markdown",
   "metadata": {},
   "source": [
    "### Описание данных\n",
    "Файл hypothesis.csv\n",
    "- Hypothesis — краткое описание гипотезы;\n",
    "- Reach — охват пользователей по 10-балльной шкале;\n",
    "- Impact — влияние на пользователей по 10-балльной шкале;\n",
    "- Confidence — уверенность в гипотезе по 10-балльной шкале;\n",
    "- Efforts — затраты ресурсов на проверку гипотезы по 10-балльной шкале. Чем больше значение Efforts, тем дороже проверка гипотезы.\n",
    "  \n",
    "Файл orders.csv\n",
    "- transactionId — идентификатор заказа;\n",
    "- visitorId — идентификатор пользователя, совершившего заказ;\n",
    "- date — дата, когда был совершён заказ;\n",
    "- revenue — выручка заказа;\n",
    "- group — группа A/B-теста, в которую попал заказ.\n",
    "  \n",
    "Файл visitors.csv\n",
    "- date — дата;\n",
    "- group — группа A/B-теста;\n",
    "- visitors — количество пользователей в указанную дату в указанной группе A/B-теста"
   ]
  },
  {
   "cell_type": "markdown",
   "metadata": {},
   "source": [
    "### План работы\n",
    "0. [Открытие файлов и предобработка](#step0)  \n",
    "[Вывод](#step0_conclusion)  \n",
    "\n",
    "\n",
    "1. [Приоритизация гипотез](#step1)\n",
    "   - [C применением фреймворка ICE](#step1_ice)\n",
    "   - [C применением фреймворка RICE](#step1_rice)\n",
    "   [Вывод](#step1_conclusion)\n",
    "    \n",
    "    \n",
    "2. [Анализ A/B-теста](#step2)  \n",
    "\n",
    "   1. Графики:\n",
    "      - [кумулятивной выручки по группам](#step2_1)\n",
    "      - [кумулятивного среднего чека по группам](#step2_2)\n",
    "      - [относительного изменения кумулятивного среднего чека группы B к группе A](#step2_3)\n",
    "      - [кумулятивной конверсии по группам](#step2_4)\n",
    "      - [относительного изменения кумулятивной конверсии группы B к группе A](#step2_5)  \n",
    "      \n",
    "   2. [Точечный график количества заказов по пользователям](#step2_6)  \n",
    "   3. [95-й и 99-й перцентили количества заказов на пользователя](#step2_7)  \n",
    "   4. [Точечный график стоимостей заказов](#step2_8) \n",
    "   5. [95-й и 99-й перцентили стоимости заказов](#step2_9)    \n",
    "   6. Статистическая значимость различий в:\n",
    "      - [конверсии между группами по «сырым» данным](#step2_10)\n",
    "      - [среднем чеке заказа между группами по «сырым» данным](#step2_11)\n",
    "      - [конверсии между группами по «очищенным» данным](#step2_12)\n",
    "      - [среднем чеке заказа между группами по «очищенным» данным](#step2_13)  \n",
    "      \n",
    "   7. [Решение по результатам теста](#step2_14)  \n",
    "   \n",
    "   [Вывод](#step2_conclusion)\n",
    "   \n",
    "   \n",
    "3. [Общий вывод](#step3)"
   ]
  },
  {
   "cell_type": "markdown",
   "metadata": {},
   "source": [
    "<a name=\"step0\"></a>\n",
    "## Шаг 0. Открытие файлов и предобработка"
   ]
  },
  {
   "cell_type": "code",
   "execution_count": 34,
   "metadata": {},
   "outputs": [],
   "source": [
    "import pandas as pd\n",
    "from matplotlib import pyplot as plt\n",
    "import seaborn as sns\n",
    "from scipy import stats as st\n",
    "import numpy as np\n",
    "import datetime as dt\n",
    "%matplotlib inline"
   ]
  },
  {
   "cell_type": "code",
   "execution_count": 3,
   "metadata": {},
   "outputs": [],
   "source": [
    "# открытие файлов\n",
    "hypothesis = pd.read_csv('hypothesis.csv')\n",
    "orders = pd.read_csv('orders.csv')\n",
    "visitors = pd.read_csv('visitors.csv')"
   ]
  },
  {
   "cell_type": "code",
   "execution_count": 4,
   "metadata": {},
   "outputs": [
    {
     "name": "stdout",
     "output_type": "stream",
     "text": [
      "<class 'pandas.core.frame.DataFrame'>\n",
      "RangeIndex: 9 entries, 0 to 8\n",
      "Data columns (total 5 columns):\n",
      " #   Column      Non-Null Count  Dtype \n",
      "---  ------      --------------  ----- \n",
      " 0   Hypothesis  9 non-null      object\n",
      " 1   Reach       9 non-null      int64 \n",
      " 2   Impact      9 non-null      int64 \n",
      " 3   Confidence  9 non-null      int64 \n",
      " 4   Efforts     9 non-null      int64 \n",
      "dtypes: int64(4), object(1)\n",
      "memory usage: 488.0+ bytes\n"
     ]
    },
    {
     "data": {
      "text/plain": [
       "None"
      ]
     },
     "metadata": {},
     "output_type": "display_data"
    },
    {
     "data": {
      "text/html": [
       "<div>\n",
       "<style scoped>\n",
       "    .dataframe tbody tr th:only-of-type {\n",
       "        vertical-align: middle;\n",
       "    }\n",
       "\n",
       "    .dataframe tbody tr th {\n",
       "        vertical-align: top;\n",
       "    }\n",
       "\n",
       "    .dataframe thead th {\n",
       "        text-align: right;\n",
       "    }\n",
       "</style>\n",
       "<table border=\"1\" class=\"dataframe\">\n",
       "  <thead>\n",
       "    <tr style=\"text-align: right;\">\n",
       "      <th></th>\n",
       "      <th>Hypothesis</th>\n",
       "      <th>Reach</th>\n",
       "      <th>Impact</th>\n",
       "      <th>Confidence</th>\n",
       "      <th>Efforts</th>\n",
       "    </tr>\n",
       "  </thead>\n",
       "  <tbody>\n",
       "    <tr>\n",
       "      <th>0</th>\n",
       "      <td>Добавить два новых канала привлечения трафика,...</td>\n",
       "      <td>3</td>\n",
       "      <td>10</td>\n",
       "      <td>8</td>\n",
       "      <td>6</td>\n",
       "    </tr>\n",
       "    <tr>\n",
       "      <th>1</th>\n",
       "      <td>Запустить собственную службу доставки, что сок...</td>\n",
       "      <td>2</td>\n",
       "      <td>5</td>\n",
       "      <td>4</td>\n",
       "      <td>10</td>\n",
       "    </tr>\n",
       "    <tr>\n",
       "      <th>2</th>\n",
       "      <td>Добавить блоки рекомендаций товаров на сайт ин...</td>\n",
       "      <td>8</td>\n",
       "      <td>3</td>\n",
       "      <td>7</td>\n",
       "      <td>3</td>\n",
       "    </tr>\n",
       "    <tr>\n",
       "      <th>3</th>\n",
       "      <td>Изменить структура категорий, что увеличит кон...</td>\n",
       "      <td>8</td>\n",
       "      <td>3</td>\n",
       "      <td>3</td>\n",
       "      <td>8</td>\n",
       "    </tr>\n",
       "    <tr>\n",
       "      <th>4</th>\n",
       "      <td>Изменить цвет фона главной страницы, чтобы уве...</td>\n",
       "      <td>3</td>\n",
       "      <td>1</td>\n",
       "      <td>1</td>\n",
       "      <td>1</td>\n",
       "    </tr>\n",
       "  </tbody>\n",
       "</table>\n",
       "</div>"
      ],
      "text/plain": [
       "                                          Hypothesis  Reach  Impact  \\\n",
       "0  Добавить два новых канала привлечения трафика,...      3      10   \n",
       "1  Запустить собственную службу доставки, что сок...      2       5   \n",
       "2  Добавить блоки рекомендаций товаров на сайт ин...      8       3   \n",
       "3  Изменить структура категорий, что увеличит кон...      8       3   \n",
       "4  Изменить цвет фона главной страницы, чтобы уве...      3       1   \n",
       "\n",
       "   Confidence  Efforts  \n",
       "0           8        6  \n",
       "1           4       10  \n",
       "2           7        3  \n",
       "3           3        8  \n",
       "4           1        1  "
      ]
     },
     "metadata": {},
     "output_type": "display_data"
    },
    {
     "data": {
      "text/html": [
       "<div>\n",
       "<style scoped>\n",
       "    .dataframe tbody tr th:only-of-type {\n",
       "        vertical-align: middle;\n",
       "    }\n",
       "\n",
       "    .dataframe tbody tr th {\n",
       "        vertical-align: top;\n",
       "    }\n",
       "\n",
       "    .dataframe thead th {\n",
       "        text-align: right;\n",
       "    }\n",
       "</style>\n",
       "<table border=\"1\" class=\"dataframe\">\n",
       "  <thead>\n",
       "    <tr style=\"text-align: right;\">\n",
       "      <th></th>\n",
       "      <th>Reach</th>\n",
       "      <th>Impact</th>\n",
       "      <th>Confidence</th>\n",
       "      <th>Efforts</th>\n",
       "    </tr>\n",
       "  </thead>\n",
       "  <tbody>\n",
       "    <tr>\n",
       "      <th>count</th>\n",
       "      <td>9.000000</td>\n",
       "      <td>9.000000</td>\n",
       "      <td>9.000000</td>\n",
       "      <td>9.000000</td>\n",
       "    </tr>\n",
       "    <tr>\n",
       "      <th>mean</th>\n",
       "      <td>4.777778</td>\n",
       "      <td>4.777778</td>\n",
       "      <td>5.555556</td>\n",
       "      <td>4.888889</td>\n",
       "    </tr>\n",
       "    <tr>\n",
       "      <th>std</th>\n",
       "      <td>3.153481</td>\n",
       "      <td>3.192874</td>\n",
       "      <td>3.045944</td>\n",
       "      <td>2.803767</td>\n",
       "    </tr>\n",
       "    <tr>\n",
       "      <th>min</th>\n",
       "      <td>1.000000</td>\n",
       "      <td>1.000000</td>\n",
       "      <td>1.000000</td>\n",
       "      <td>1.000000</td>\n",
       "    </tr>\n",
       "    <tr>\n",
       "      <th>25%</th>\n",
       "      <td>3.000000</td>\n",
       "      <td>3.000000</td>\n",
       "      <td>3.000000</td>\n",
       "      <td>3.000000</td>\n",
       "    </tr>\n",
       "    <tr>\n",
       "      <th>50%</th>\n",
       "      <td>3.000000</td>\n",
       "      <td>3.000000</td>\n",
       "      <td>7.000000</td>\n",
       "      <td>5.000000</td>\n",
       "    </tr>\n",
       "    <tr>\n",
       "      <th>75%</th>\n",
       "      <td>8.000000</td>\n",
       "      <td>7.000000</td>\n",
       "      <td>8.000000</td>\n",
       "      <td>6.000000</td>\n",
       "    </tr>\n",
       "    <tr>\n",
       "      <th>max</th>\n",
       "      <td>10.000000</td>\n",
       "      <td>10.000000</td>\n",
       "      <td>9.000000</td>\n",
       "      <td>10.000000</td>\n",
       "    </tr>\n",
       "  </tbody>\n",
       "</table>\n",
       "</div>"
      ],
      "text/plain": [
       "           Reach     Impact  Confidence    Efforts\n",
       "count   9.000000   9.000000    9.000000   9.000000\n",
       "mean    4.777778   4.777778    5.555556   4.888889\n",
       "std     3.153481   3.192874    3.045944   2.803767\n",
       "min     1.000000   1.000000    1.000000   1.000000\n",
       "25%     3.000000   3.000000    3.000000   3.000000\n",
       "50%     3.000000   3.000000    7.000000   5.000000\n",
       "75%     8.000000   7.000000    8.000000   6.000000\n",
       "max    10.000000  10.000000    9.000000  10.000000"
      ]
     },
     "execution_count": 4,
     "metadata": {},
     "output_type": "execute_result"
    }
   ],
   "source": [
    "# вывод общей информации о таблице hypothesis\n",
    "display(hypothesis.info())\n",
    "display(hypothesis.head())\n",
    "hypothesis.describe()"
   ]
  },
  {
   "cell_type": "markdown",
   "metadata": {},
   "source": [
    "Данные полные, выбросов нет."
   ]
  },
  {
   "cell_type": "code",
   "execution_count": 6,
   "metadata": {},
   "outputs": [
    {
     "name": "stdout",
     "output_type": "stream",
     "text": [
      "<class 'pandas.core.frame.DataFrame'>\n",
      "RangeIndex: 1197 entries, 0 to 1196\n",
      "Data columns (total 5 columns):\n",
      " #   Column         Non-Null Count  Dtype \n",
      "---  ------         --------------  ----- \n",
      " 0   transactionId  1197 non-null   int64 \n",
      " 1   visitorId      1197 non-null   int64 \n",
      " 2   date           1197 non-null   object\n",
      " 3   revenue        1197 non-null   int64 \n",
      " 4   group          1197 non-null   object\n",
      "dtypes: int64(3), object(2)\n",
      "memory usage: 46.9+ KB\n"
     ]
    },
    {
     "data": {
      "text/plain": [
       "None"
      ]
     },
     "metadata": {},
     "output_type": "display_data"
    },
    {
     "data": {
      "text/html": [
       "<div>\n",
       "<style scoped>\n",
       "    .dataframe tbody tr th:only-of-type {\n",
       "        vertical-align: middle;\n",
       "    }\n",
       "\n",
       "    .dataframe tbody tr th {\n",
       "        vertical-align: top;\n",
       "    }\n",
       "\n",
       "    .dataframe thead th {\n",
       "        text-align: right;\n",
       "    }\n",
       "</style>\n",
       "<table border=\"1\" class=\"dataframe\">\n",
       "  <thead>\n",
       "    <tr style=\"text-align: right;\">\n",
       "      <th></th>\n",
       "      <th>transactionId</th>\n",
       "      <th>visitorId</th>\n",
       "      <th>date</th>\n",
       "      <th>revenue</th>\n",
       "      <th>group</th>\n",
       "    </tr>\n",
       "  </thead>\n",
       "  <tbody>\n",
       "    <tr>\n",
       "      <th>0</th>\n",
       "      <td>3667963787</td>\n",
       "      <td>3312258926</td>\n",
       "      <td>2019-08-15</td>\n",
       "      <td>1650</td>\n",
       "      <td>B</td>\n",
       "    </tr>\n",
       "    <tr>\n",
       "      <th>1</th>\n",
       "      <td>2804400009</td>\n",
       "      <td>3642806036</td>\n",
       "      <td>2019-08-15</td>\n",
       "      <td>730</td>\n",
       "      <td>B</td>\n",
       "    </tr>\n",
       "    <tr>\n",
       "      <th>2</th>\n",
       "      <td>2961555356</td>\n",
       "      <td>4069496402</td>\n",
       "      <td>2019-08-15</td>\n",
       "      <td>400</td>\n",
       "      <td>A</td>\n",
       "    </tr>\n",
       "    <tr>\n",
       "      <th>3</th>\n",
       "      <td>3797467345</td>\n",
       "      <td>1196621759</td>\n",
       "      <td>2019-08-15</td>\n",
       "      <td>9759</td>\n",
       "      <td>B</td>\n",
       "    </tr>\n",
       "    <tr>\n",
       "      <th>4</th>\n",
       "      <td>2282983706</td>\n",
       "      <td>2322279887</td>\n",
       "      <td>2019-08-15</td>\n",
       "      <td>2308</td>\n",
       "      <td>B</td>\n",
       "    </tr>\n",
       "  </tbody>\n",
       "</table>\n",
       "</div>"
      ],
      "text/plain": [
       "   transactionId   visitorId        date  revenue group\n",
       "0     3667963787  3312258926  2019-08-15     1650     B\n",
       "1     2804400009  3642806036  2019-08-15      730     B\n",
       "2     2961555356  4069496402  2019-08-15      400     A\n",
       "3     3797467345  1196621759  2019-08-15     9759     B\n",
       "4     2282983706  2322279887  2019-08-15     2308     B"
      ]
     },
     "metadata": {},
     "output_type": "display_data"
    },
    {
     "data": {
      "text/plain": [
       "count    1.197000e+03\n",
       "mean     8.348006e+03\n",
       "std      3.919113e+04\n",
       "min      5.000000e+01\n",
       "25%      1.220000e+03\n",
       "50%      2.978000e+03\n",
       "75%      8.290000e+03\n",
       "max      1.294500e+06\n",
       "Name: revenue, dtype: float64"
      ]
     },
     "execution_count": 6,
     "metadata": {},
     "output_type": "execute_result"
    }
   ],
   "source": [
    "# вывод общей информации о таблице orders\n",
    "display(orders.info())\n",
    "display(orders.head())\n",
    "orders['revenue'].describe()"
   ]
  },
  {
   "cell_type": "markdown",
   "metadata": {},
   "source": [
    "Данные полные, в прибыли есть большой разброс (с которым мы будем разбираться во второй части).  \n",
    "  \n",
    "Что необходимо сделать:\n",
    "- Названия стобцов имеют не \"питонячий\" вид - поэтому переименуюем столбцы так, чтобы CamelCase стал snake_case\n",
    "- Столбец с датой имеет тип str"
   ]
  },
  {
   "cell_type": "code",
   "execution_count": 7,
   "metadata": {},
   "outputs": [],
   "source": [
    "# замена названий столбцов в таблице orders с CamelCase на snake_case\n",
    "def camel_to_snake(s):\n",
    "    return ''.join(['_' + c.lower() if c.isupper() else c \n",
    "                    for c in s\n",
    "                   ]).lstrip('_')\n",
    "\n",
    "orders.columns = list(map(camel_to_snake, orders.columns))"
   ]
  },
  {
   "cell_type": "code",
   "execution_count": 11,
   "metadata": {},
   "outputs": [],
   "source": [
    "orders['date'] = orders['date'].map(lambda x: dt.datetime.strptime(x, '%Y-%m-%d'))"
   ]
  },
  {
   "cell_type": "code",
   "execution_count": 12,
   "metadata": {},
   "outputs": [
    {
     "data": {
      "text/html": [
       "<div>\n",
       "<style scoped>\n",
       "    .dataframe tbody tr th:only-of-type {\n",
       "        vertical-align: middle;\n",
       "    }\n",
       "\n",
       "    .dataframe tbody tr th {\n",
       "        vertical-align: top;\n",
       "    }\n",
       "\n",
       "    .dataframe thead th {\n",
       "        text-align: right;\n",
       "    }\n",
       "</style>\n",
       "<table border=\"1\" class=\"dataframe\">\n",
       "  <thead>\n",
       "    <tr style=\"text-align: right;\">\n",
       "      <th></th>\n",
       "      <th>transaction_id</th>\n",
       "      <th>visitor_id</th>\n",
       "      <th>date</th>\n",
       "      <th>revenue</th>\n",
       "      <th>group</th>\n",
       "    </tr>\n",
       "  </thead>\n",
       "  <tbody>\n",
       "    <tr>\n",
       "      <th>0</th>\n",
       "      <td>3667963787</td>\n",
       "      <td>3312258926</td>\n",
       "      <td>2019-08-15</td>\n",
       "      <td>1650</td>\n",
       "      <td>B</td>\n",
       "    </tr>\n",
       "    <tr>\n",
       "      <th>1</th>\n",
       "      <td>2804400009</td>\n",
       "      <td>3642806036</td>\n",
       "      <td>2019-08-15</td>\n",
       "      <td>730</td>\n",
       "      <td>B</td>\n",
       "    </tr>\n",
       "    <tr>\n",
       "      <th>2</th>\n",
       "      <td>2961555356</td>\n",
       "      <td>4069496402</td>\n",
       "      <td>2019-08-15</td>\n",
       "      <td>400</td>\n",
       "      <td>A</td>\n",
       "    </tr>\n",
       "    <tr>\n",
       "      <th>3</th>\n",
       "      <td>3797467345</td>\n",
       "      <td>1196621759</td>\n",
       "      <td>2019-08-15</td>\n",
       "      <td>9759</td>\n",
       "      <td>B</td>\n",
       "    </tr>\n",
       "    <tr>\n",
       "      <th>4</th>\n",
       "      <td>2282983706</td>\n",
       "      <td>2322279887</td>\n",
       "      <td>2019-08-15</td>\n",
       "      <td>2308</td>\n",
       "      <td>B</td>\n",
       "    </tr>\n",
       "  </tbody>\n",
       "</table>\n",
       "</div>"
      ],
      "text/plain": [
       "   transaction_id  visitor_id       date  revenue group\n",
       "0      3667963787  3312258926 2019-08-15     1650     B\n",
       "1      2804400009  3642806036 2019-08-15      730     B\n",
       "2      2961555356  4069496402 2019-08-15      400     A\n",
       "3      3797467345  1196621759 2019-08-15     9759     B\n",
       "4      2282983706  2322279887 2019-08-15     2308     B"
      ]
     },
     "execution_count": 12,
     "metadata": {},
     "output_type": "execute_result"
    }
   ],
   "source": [
    "# проверка, что все хорошо\n",
    "orders.head()"
   ]
  },
  {
   "cell_type": "code",
   "execution_count": 13,
   "metadata": {},
   "outputs": [
    {
     "name": "stdout",
     "output_type": "stream",
     "text": [
      "<class 'pandas.core.frame.DataFrame'>\n",
      "RangeIndex: 62 entries, 0 to 61\n",
      "Data columns (total 3 columns):\n",
      " #   Column    Non-Null Count  Dtype \n",
      "---  ------    --------------  ----- \n",
      " 0   date      62 non-null     object\n",
      " 1   group     62 non-null     object\n",
      " 2   visitors  62 non-null     int64 \n",
      "dtypes: int64(1), object(2)\n",
      "memory usage: 1.6+ KB\n"
     ]
    },
    {
     "data": {
      "text/plain": [
       "None"
      ]
     },
     "metadata": {},
     "output_type": "display_data"
    },
    {
     "data": {
      "text/html": [
       "<div>\n",
       "<style scoped>\n",
       "    .dataframe tbody tr th:only-of-type {\n",
       "        vertical-align: middle;\n",
       "    }\n",
       "\n",
       "    .dataframe tbody tr th {\n",
       "        vertical-align: top;\n",
       "    }\n",
       "\n",
       "    .dataframe thead th {\n",
       "        text-align: right;\n",
       "    }\n",
       "</style>\n",
       "<table border=\"1\" class=\"dataframe\">\n",
       "  <thead>\n",
       "    <tr style=\"text-align: right;\">\n",
       "      <th></th>\n",
       "      <th>date</th>\n",
       "      <th>group</th>\n",
       "      <th>visitors</th>\n",
       "    </tr>\n",
       "  </thead>\n",
       "  <tbody>\n",
       "    <tr>\n",
       "      <th>0</th>\n",
       "      <td>2019-08-01</td>\n",
       "      <td>A</td>\n",
       "      <td>719</td>\n",
       "    </tr>\n",
       "    <tr>\n",
       "      <th>1</th>\n",
       "      <td>2019-08-02</td>\n",
       "      <td>A</td>\n",
       "      <td>619</td>\n",
       "    </tr>\n",
       "    <tr>\n",
       "      <th>2</th>\n",
       "      <td>2019-08-03</td>\n",
       "      <td>A</td>\n",
       "      <td>507</td>\n",
       "    </tr>\n",
       "    <tr>\n",
       "      <th>3</th>\n",
       "      <td>2019-08-04</td>\n",
       "      <td>A</td>\n",
       "      <td>717</td>\n",
       "    </tr>\n",
       "    <tr>\n",
       "      <th>4</th>\n",
       "      <td>2019-08-05</td>\n",
       "      <td>A</td>\n",
       "      <td>756</td>\n",
       "    </tr>\n",
       "  </tbody>\n",
       "</table>\n",
       "</div>"
      ],
      "text/plain": [
       "         date group  visitors\n",
       "0  2019-08-01     A       719\n",
       "1  2019-08-02     A       619\n",
       "2  2019-08-03     A       507\n",
       "3  2019-08-04     A       717\n",
       "4  2019-08-05     A       756"
      ]
     },
     "metadata": {},
     "output_type": "display_data"
    },
    {
     "data": {
      "text/html": [
       "<div>\n",
       "<style scoped>\n",
       "    .dataframe tbody tr th:only-of-type {\n",
       "        vertical-align: middle;\n",
       "    }\n",
       "\n",
       "    .dataframe tbody tr th {\n",
       "        vertical-align: top;\n",
       "    }\n",
       "\n",
       "    .dataframe thead th {\n",
       "        text-align: right;\n",
       "    }\n",
       "</style>\n",
       "<table border=\"1\" class=\"dataframe\">\n",
       "  <thead>\n",
       "    <tr style=\"text-align: right;\">\n",
       "      <th></th>\n",
       "      <th>visitors</th>\n",
       "    </tr>\n",
       "  </thead>\n",
       "  <tbody>\n",
       "    <tr>\n",
       "      <th>count</th>\n",
       "      <td>62.000000</td>\n",
       "    </tr>\n",
       "    <tr>\n",
       "      <th>mean</th>\n",
       "      <td>607.290323</td>\n",
       "    </tr>\n",
       "    <tr>\n",
       "      <th>std</th>\n",
       "      <td>114.400560</td>\n",
       "    </tr>\n",
       "    <tr>\n",
       "      <th>min</th>\n",
       "      <td>361.000000</td>\n",
       "    </tr>\n",
       "    <tr>\n",
       "      <th>25%</th>\n",
       "      <td>534.000000</td>\n",
       "    </tr>\n",
       "    <tr>\n",
       "      <th>50%</th>\n",
       "      <td>624.500000</td>\n",
       "    </tr>\n",
       "    <tr>\n",
       "      <th>75%</th>\n",
       "      <td>710.500000</td>\n",
       "    </tr>\n",
       "    <tr>\n",
       "      <th>max</th>\n",
       "      <td>770.000000</td>\n",
       "    </tr>\n",
       "  </tbody>\n",
       "</table>\n",
       "</div>"
      ],
      "text/plain": [
       "         visitors\n",
       "count   62.000000\n",
       "mean   607.290323\n",
       "std    114.400560\n",
       "min    361.000000\n",
       "25%    534.000000\n",
       "50%    624.500000\n",
       "75%    710.500000\n",
       "max    770.000000"
      ]
     },
     "execution_count": 13,
     "metadata": {},
     "output_type": "execute_result"
    }
   ],
   "source": [
    "# вывод общей информации о таблице visitors\n",
    "display(visitors.info())\n",
    "display(visitors.head())\n",
    "visitors.describe()"
   ]
  },
  {
   "cell_type": "markdown",
   "metadata": {},
   "source": [
    "Опять только дата строкового типа"
   ]
  },
  {
   "cell_type": "code",
   "execution_count": 16,
   "metadata": {},
   "outputs": [
    {
     "data": {
      "text/html": [
       "<div>\n",
       "<style scoped>\n",
       "    .dataframe tbody tr th:only-of-type {\n",
       "        vertical-align: middle;\n",
       "    }\n",
       "\n",
       "    .dataframe tbody tr th {\n",
       "        vertical-align: top;\n",
       "    }\n",
       "\n",
       "    .dataframe thead th {\n",
       "        text-align: right;\n",
       "    }\n",
       "</style>\n",
       "<table border=\"1\" class=\"dataframe\">\n",
       "  <thead>\n",
       "    <tr style=\"text-align: right;\">\n",
       "      <th></th>\n",
       "      <th>date</th>\n",
       "      <th>group</th>\n",
       "      <th>visitors</th>\n",
       "    </tr>\n",
       "  </thead>\n",
       "  <tbody>\n",
       "    <tr>\n",
       "      <th>0</th>\n",
       "      <td>2019-08-01</td>\n",
       "      <td>A</td>\n",
       "      <td>719</td>\n",
       "    </tr>\n",
       "    <tr>\n",
       "      <th>1</th>\n",
       "      <td>2019-08-02</td>\n",
       "      <td>A</td>\n",
       "      <td>619</td>\n",
       "    </tr>\n",
       "    <tr>\n",
       "      <th>2</th>\n",
       "      <td>2019-08-03</td>\n",
       "      <td>A</td>\n",
       "      <td>507</td>\n",
       "    </tr>\n",
       "    <tr>\n",
       "      <th>3</th>\n",
       "      <td>2019-08-04</td>\n",
       "      <td>A</td>\n",
       "      <td>717</td>\n",
       "    </tr>\n",
       "    <tr>\n",
       "      <th>4</th>\n",
       "      <td>2019-08-05</td>\n",
       "      <td>A</td>\n",
       "      <td>756</td>\n",
       "    </tr>\n",
       "  </tbody>\n",
       "</table>\n",
       "</div>"
      ],
      "text/plain": [
       "        date group  visitors\n",
       "0 2019-08-01     A       719\n",
       "1 2019-08-02     A       619\n",
       "2 2019-08-03     A       507\n",
       "3 2019-08-04     A       717\n",
       "4 2019-08-05     A       756"
      ]
     },
     "execution_count": 16,
     "metadata": {},
     "output_type": "execute_result"
    }
   ],
   "source": [
    "visitors['date'] = visitors['date'].map(lambda x: dt.datetime.strptime(x, '%Y-%m-%d'))\n",
    "\n",
    "# проверка, что все хорошо\n",
    "visitors.head()"
   ]
  },
  {
   "cell_type": "markdown",
   "metadata": {},
   "source": [
    "<a name=\"step0_conclusion\"></a>\n",
    "### Вывод\n",
    "1. Данные полные, пропусков нет\n",
    "2. Столбцы с датой (`orders['date']` `visitors['date']`) были представлены типом str. \n",
    "3. Столбцы таблицы `orders` имели названия в CamelCase. Сейчас они исправлены на snake_case\n",
    "---"
   ]
  },
  {
   "cell_type": "markdown",
   "metadata": {},
   "source": [
    "<a name=\"step1\"></a>\n",
    "## Шаг 1. Приоритизация гипотез"
   ]
  },
  {
   "cell_type": "markdown",
   "metadata": {},
   "source": [
    "<a name=\"step1_ice\"></a>\n",
    "#### Фреймворк ICE"
   ]
  },
  {
   "cell_type": "code",
   "execution_count": 19,
   "metadata": {},
   "outputs": [
    {
     "data": {
      "text/html": [
       "<div>\n",
       "<style scoped>\n",
       "    .dataframe tbody tr th:only-of-type {\n",
       "        vertical-align: middle;\n",
       "    }\n",
       "\n",
       "    .dataframe tbody tr th {\n",
       "        vertical-align: top;\n",
       "    }\n",
       "\n",
       "    .dataframe thead th {\n",
       "        text-align: right;\n",
       "    }\n",
       "</style>\n",
       "<table border=\"1\" class=\"dataframe\">\n",
       "  <thead>\n",
       "    <tr style=\"text-align: right;\">\n",
       "      <th></th>\n",
       "      <th>Hypothesis</th>\n",
       "      <th>ICE</th>\n",
       "    </tr>\n",
       "  </thead>\n",
       "  <tbody>\n",
       "    <tr>\n",
       "      <th>8</th>\n",
       "      <td>Запустить акцию, дающую скидку на товар в день...</td>\n",
       "      <td>16.200000</td>\n",
       "    </tr>\n",
       "    <tr>\n",
       "      <th>0</th>\n",
       "      <td>Добавить два новых канала привлечения трафика,...</td>\n",
       "      <td>13.333333</td>\n",
       "    </tr>\n",
       "    <tr>\n",
       "      <th>7</th>\n",
       "      <td>Добавить форму подписки на все основные страни...</td>\n",
       "      <td>11.200000</td>\n",
       "    </tr>\n",
       "    <tr>\n",
       "      <th>6</th>\n",
       "      <td>Показать на главной странице баннеры с актуаль...</td>\n",
       "      <td>8.000000</td>\n",
       "    </tr>\n",
       "    <tr>\n",
       "      <th>2</th>\n",
       "      <td>Добавить блоки рекомендаций товаров на сайт ин...</td>\n",
       "      <td>7.000000</td>\n",
       "    </tr>\n",
       "    <tr>\n",
       "      <th>1</th>\n",
       "      <td>Запустить собственную службу доставки, что сок...</td>\n",
       "      <td>2.000000</td>\n",
       "    </tr>\n",
       "    <tr>\n",
       "      <th>5</th>\n",
       "      <td>Добавить страницу отзывов клиентов о магазине,...</td>\n",
       "      <td>1.333333</td>\n",
       "    </tr>\n",
       "    <tr>\n",
       "      <th>3</th>\n",
       "      <td>Изменить структура категорий, что увеличит кон...</td>\n",
       "      <td>1.125000</td>\n",
       "    </tr>\n",
       "    <tr>\n",
       "      <th>4</th>\n",
       "      <td>Изменить цвет фона главной страницы, чтобы уве...</td>\n",
       "      <td>1.000000</td>\n",
       "    </tr>\n",
       "  </tbody>\n",
       "</table>\n",
       "</div>"
      ],
      "text/plain": [
       "                                          Hypothesis        ICE\n",
       "8  Запустить акцию, дающую скидку на товар в день...  16.200000\n",
       "0  Добавить два новых канала привлечения трафика,...  13.333333\n",
       "7  Добавить форму подписки на все основные страни...  11.200000\n",
       "6  Показать на главной странице баннеры с актуаль...   8.000000\n",
       "2  Добавить блоки рекомендаций товаров на сайт ин...   7.000000\n",
       "1  Запустить собственную службу доставки, что сок...   2.000000\n",
       "5  Добавить страницу отзывов клиентов о магазине,...   1.333333\n",
       "3  Изменить структура категорий, что увеличит кон...   1.125000\n",
       "4  Изменить цвет фона главной страницы, чтобы уве...   1.000000"
      ]
     },
     "execution_count": 19,
     "metadata": {},
     "output_type": "execute_result"
    }
   ],
   "source": [
    "hypothesis['ICE'] = hypothesis['Impact'] * hypothesis['Confidence'] / hypothesis['Efforts']\n",
    "\n",
    "# вывод полученных данных\n",
    "hypothesis[['Hypothesis', 'ICE']].sort_values(by='ICE', ascending=False)"
   ]
  },
  {
   "cell_type": "markdown",
   "metadata": {},
   "source": [
    "<a name=\"step1_rice\"></a>\n",
    "#### Фреймворк RICE"
   ]
  },
  {
   "cell_type": "code",
   "execution_count": 20,
   "metadata": {},
   "outputs": [
    {
     "data": {
      "text/html": [
       "<div>\n",
       "<style scoped>\n",
       "    .dataframe tbody tr th:only-of-type {\n",
       "        vertical-align: middle;\n",
       "    }\n",
       "\n",
       "    .dataframe tbody tr th {\n",
       "        vertical-align: top;\n",
       "    }\n",
       "\n",
       "    .dataframe thead th {\n",
       "        text-align: right;\n",
       "    }\n",
       "</style>\n",
       "<table border=\"1\" class=\"dataframe\">\n",
       "  <thead>\n",
       "    <tr style=\"text-align: right;\">\n",
       "      <th></th>\n",
       "      <th>Hypothesis</th>\n",
       "      <th>RICE</th>\n",
       "    </tr>\n",
       "  </thead>\n",
       "  <tbody>\n",
       "    <tr>\n",
       "      <th>7</th>\n",
       "      <td>Добавить форму подписки на все основные страни...</td>\n",
       "      <td>112.0</td>\n",
       "    </tr>\n",
       "    <tr>\n",
       "      <th>2</th>\n",
       "      <td>Добавить блоки рекомендаций товаров на сайт ин...</td>\n",
       "      <td>56.0</td>\n",
       "    </tr>\n",
       "    <tr>\n",
       "      <th>0</th>\n",
       "      <td>Добавить два новых канала привлечения трафика,...</td>\n",
       "      <td>40.0</td>\n",
       "    </tr>\n",
       "    <tr>\n",
       "      <th>6</th>\n",
       "      <td>Показать на главной странице баннеры с актуаль...</td>\n",
       "      <td>40.0</td>\n",
       "    </tr>\n",
       "    <tr>\n",
       "      <th>8</th>\n",
       "      <td>Запустить акцию, дающую скидку на товар в день...</td>\n",
       "      <td>16.2</td>\n",
       "    </tr>\n",
       "    <tr>\n",
       "      <th>3</th>\n",
       "      <td>Изменить структура категорий, что увеличит кон...</td>\n",
       "      <td>9.0</td>\n",
       "    </tr>\n",
       "    <tr>\n",
       "      <th>1</th>\n",
       "      <td>Запустить собственную службу доставки, что сок...</td>\n",
       "      <td>4.0</td>\n",
       "    </tr>\n",
       "    <tr>\n",
       "      <th>5</th>\n",
       "      <td>Добавить страницу отзывов клиентов о магазине,...</td>\n",
       "      <td>4.0</td>\n",
       "    </tr>\n",
       "    <tr>\n",
       "      <th>4</th>\n",
       "      <td>Изменить цвет фона главной страницы, чтобы уве...</td>\n",
       "      <td>3.0</td>\n",
       "    </tr>\n",
       "  </tbody>\n",
       "</table>\n",
       "</div>"
      ],
      "text/plain": [
       "                                          Hypothesis   RICE\n",
       "7  Добавить форму подписки на все основные страни...  112.0\n",
       "2  Добавить блоки рекомендаций товаров на сайт ин...   56.0\n",
       "0  Добавить два новых канала привлечения трафика,...   40.0\n",
       "6  Показать на главной странице баннеры с актуаль...   40.0\n",
       "8  Запустить акцию, дающую скидку на товар в день...   16.2\n",
       "3  Изменить структура категорий, что увеличит кон...    9.0\n",
       "1  Запустить собственную службу доставки, что сок...    4.0\n",
       "5  Добавить страницу отзывов клиентов о магазине,...    4.0\n",
       "4  Изменить цвет фона главной страницы, чтобы уве...    3.0"
      ]
     },
     "execution_count": 20,
     "metadata": {},
     "output_type": "execute_result"
    }
   ],
   "source": [
    "hypothesis['RICE'] = hypothesis['Reach'] * hypothesis['Impact'] * hypothesis['Confidence'] / hypothesis['Efforts']\n",
    "\n",
    "# вывод полученных данных\n",
    "hypothesis[['Hypothesis', 'RICE']].sort_values(by='RICE', ascending=False)"
   ]
  },
  {
   "cell_type": "markdown",
   "metadata": {},
   "source": [
    "<a name=\"step1_conclusion\"></a>\n",
    "### Вывод\n",
    "Если сравнивать первую пятерку и последнюю четверку гипотез, то их содержание одинаково в двух фреймворках приоритизации.  \n",
    "\n",
    "Но бросается в глаза 8 гипотеза, которая в ICE стоит на 1 месте, а в RICE на 5 месте. ПОхожая картина наблюдается и со 2 гипотезой.  \n",
    "\n",
    "Почему произошли такие скачки? Основное отличие в двух фреймворках - это наличие параметра Reach (охват пользователей). Так нарпимер, было небольшое изменение по ICE, но если оно захватывает всех пользователей - то в RICE оно будет более значительным. Это очень похоже на правило 80/20 (небольшое изменение на много пользователей и большое изменение на 1 человека).   \n",
    "\n",
    "Бизнесу важно ориентироваться на большинство сових клиентов, поэтому приоритизация по RICE будет более привлекательна для выстраивания последовательности реализаций. Изменения на основной странице должны быть в приоритете перед добавлением акции на конкретный товар.\n",
    "\n",
    "---\n"
   ]
  },
  {
   "cell_type": "markdown",
   "metadata": {},
   "source": [
    "<a name=\"step2\"></a>\n",
    "## Шаг 2. Анализ A/B-теста"
   ]
  },
  {
   "cell_type": "markdown",
   "metadata": {},
   "source": [
    "Для начала объединим данные, что они были в таком формате   \n",
    "для `orders`:\n",
    "- дата\n",
    "- группа\n",
    "- кумулятивное уникальное число заказов\n",
    "- кумулятивное уникальное число пользователей\n",
    "- кумулятивное сумма выручки\n",
    "\n",
    "для `visits`:\n",
    "- дата\n",
    "- группа\n",
    "- кумулятивное уникальное число посетителей"
   ]
  },
  {
   "cell_type": "code",
   "execution_count": 28,
   "metadata": {},
   "outputs": [
    {
     "data": {
      "text/html": [
       "<div>\n",
       "<style scoped>\n",
       "    .dataframe tbody tr th:only-of-type {\n",
       "        vertical-align: middle;\n",
       "    }\n",
       "\n",
       "    .dataframe tbody tr th {\n",
       "        vertical-align: top;\n",
       "    }\n",
       "\n",
       "    .dataframe thead th {\n",
       "        text-align: right;\n",
       "    }\n",
       "</style>\n",
       "<table border=\"1\" class=\"dataframe\">\n",
       "  <thead>\n",
       "    <tr style=\"text-align: right;\">\n",
       "      <th></th>\n",
       "      <th>date</th>\n",
       "      <th>group</th>\n",
       "      <th>transaction_id</th>\n",
       "      <th>visitor_id</th>\n",
       "      <th>revenue</th>\n",
       "    </tr>\n",
       "  </thead>\n",
       "  <tbody>\n",
       "    <tr>\n",
       "      <th>55</th>\n",
       "      <td>2019-08-01</td>\n",
       "      <td>A</td>\n",
       "      <td>24</td>\n",
       "      <td>20</td>\n",
       "      <td>148579</td>\n",
       "    </tr>\n",
       "    <tr>\n",
       "      <th>66</th>\n",
       "      <td>2019-08-01</td>\n",
       "      <td>B</td>\n",
       "      <td>21</td>\n",
       "      <td>20</td>\n",
       "      <td>101217</td>\n",
       "    </tr>\n",
       "    <tr>\n",
       "      <th>175</th>\n",
       "      <td>2019-08-02</td>\n",
       "      <td>A</td>\n",
       "      <td>44</td>\n",
       "      <td>38</td>\n",
       "      <td>242401</td>\n",
       "    </tr>\n",
       "  </tbody>\n",
       "</table>\n",
       "</div>"
      ],
      "text/plain": [
       "          date group  transaction_id  visitor_id  revenue\n",
       "55  2019-08-01     A              24          20   148579\n",
       "66  2019-08-01     B              21          20   101217\n",
       "175 2019-08-02     A              44          38   242401"
      ]
     },
     "metadata": {},
     "output_type": "display_data"
    },
    {
     "data": {
      "text/html": [
       "<div>\n",
       "<style scoped>\n",
       "    .dataframe tbody tr th:only-of-type {\n",
       "        vertical-align: middle;\n",
       "    }\n",
       "\n",
       "    .dataframe tbody tr th {\n",
       "        vertical-align: top;\n",
       "    }\n",
       "\n",
       "    .dataframe thead th {\n",
       "        text-align: right;\n",
       "    }\n",
       "</style>\n",
       "<table border=\"1\" class=\"dataframe\">\n",
       "  <thead>\n",
       "    <tr style=\"text-align: right;\">\n",
       "      <th></th>\n",
       "      <th>date</th>\n",
       "      <th>group</th>\n",
       "      <th>visitors</th>\n",
       "    </tr>\n",
       "  </thead>\n",
       "  <tbody>\n",
       "    <tr>\n",
       "      <th>55</th>\n",
       "      <td>2019-08-01</td>\n",
       "      <td>A</td>\n",
       "      <td>719</td>\n",
       "    </tr>\n",
       "    <tr>\n",
       "      <th>66</th>\n",
       "      <td>2019-08-01</td>\n",
       "      <td>B</td>\n",
       "      <td>713</td>\n",
       "    </tr>\n",
       "    <tr>\n",
       "      <th>175</th>\n",
       "      <td>2019-08-02</td>\n",
       "      <td>A</td>\n",
       "      <td>1338</td>\n",
       "    </tr>\n",
       "  </tbody>\n",
       "</table>\n",
       "</div>"
      ],
      "text/plain": [
       "          date group  visitors\n",
       "55  2019-08-01     A       719\n",
       "66  2019-08-01     B       713\n",
       "175 2019-08-02     A      1338"
      ]
     },
     "metadata": {},
     "output_type": "display_data"
    }
   ],
   "source": [
    "datesGroups = orders[['date','group']].drop_duplicates()\n",
    "\n",
    "ordersAggregated = datesGroups.apply(\n",
    "    lambda x: orders[np.logical_and(orders['date'] <= x['date'], orders['group'] == x['group'])].agg({\n",
    "    'date' : 'max',\n",
    "    'group' : 'max',\n",
    "    'transaction_id' : pd.Series.nunique,\n",
    "    'visitor_id' : pd.Series.nunique,\n",
    "    'revenue' : 'sum'}), axis=1).sort_values(by=['date','group'])\n",
    "\n",
    "visitorsAggregated = datesGroups.apply(\n",
    "    lambda x: visitors[np.logical_and(visitors['date'] <= x['date'], visitors['group'] == x['group'])].agg({\n",
    "    'date' : 'max',\n",
    "    'group' : 'max',\n",
    "    'visitors' : 'sum'}), axis=1).sort_values(by=['date','group'])\n",
    "\n",
    "# вывод полученных датафреймов\n",
    "display(ordersAggregated.head(3))\n",
    "display(visitorsAggregated.head(3))"
   ]
  },
  {
   "cell_type": "markdown",
   "metadata": {},
   "source": [
    "Объединим данные, чтобы можно было посчитать конверсию.  \n",
    "В итоговой таблице должно быть:\n",
    "- дата\n",
    "- группа\n",
    "- кумулятивное уникальное число заказов\n",
    "- кумулятивное уникальное число покупателей\n",
    "- кумулятивное уникальное число посетителей\n",
    "- кумулятивная сумма выручки\n",
    "- кумулятивный средний чек"
   ]
  },
  {
   "cell_type": "code",
   "execution_count": 29,
   "metadata": {},
   "outputs": [
    {
     "data": {
      "text/html": [
       "<div>\n",
       "<style scoped>\n",
       "    .dataframe tbody tr th:only-of-type {\n",
       "        vertical-align: middle;\n",
       "    }\n",
       "\n",
       "    .dataframe tbody tr th {\n",
       "        vertical-align: top;\n",
       "    }\n",
       "\n",
       "    .dataframe thead th {\n",
       "        text-align: right;\n",
       "    }\n",
       "</style>\n",
       "<table border=\"1\" class=\"dataframe\">\n",
       "  <thead>\n",
       "    <tr style=\"text-align: right;\">\n",
       "      <th></th>\n",
       "      <th>date</th>\n",
       "      <th>group</th>\n",
       "      <th>orders</th>\n",
       "      <th>buyers</th>\n",
       "      <th>revenue</th>\n",
       "      <th>visitors</th>\n",
       "      <th>conversion</th>\n",
       "      <th>mean_check</th>\n",
       "    </tr>\n",
       "  </thead>\n",
       "  <tbody>\n",
       "    <tr>\n",
       "      <th>0</th>\n",
       "      <td>2019-08-01</td>\n",
       "      <td>A</td>\n",
       "      <td>24</td>\n",
       "      <td>20</td>\n",
       "      <td>148579</td>\n",
       "      <td>719</td>\n",
       "      <td>0.033380</td>\n",
       "      <td>6190.791667</td>\n",
       "    </tr>\n",
       "    <tr>\n",
       "      <th>1</th>\n",
       "      <td>2019-08-01</td>\n",
       "      <td>B</td>\n",
       "      <td>21</td>\n",
       "      <td>20</td>\n",
       "      <td>101217</td>\n",
       "      <td>713</td>\n",
       "      <td>0.029453</td>\n",
       "      <td>4819.857143</td>\n",
       "    </tr>\n",
       "    <tr>\n",
       "      <th>2</th>\n",
       "      <td>2019-08-02</td>\n",
       "      <td>A</td>\n",
       "      <td>44</td>\n",
       "      <td>38</td>\n",
       "      <td>242401</td>\n",
       "      <td>1338</td>\n",
       "      <td>0.032885</td>\n",
       "      <td>5509.113636</td>\n",
       "    </tr>\n",
       "    <tr>\n",
       "      <th>3</th>\n",
       "      <td>2019-08-02</td>\n",
       "      <td>B</td>\n",
       "      <td>45</td>\n",
       "      <td>43</td>\n",
       "      <td>266748</td>\n",
       "      <td>1294</td>\n",
       "      <td>0.034776</td>\n",
       "      <td>5927.733333</td>\n",
       "    </tr>\n",
       "    <tr>\n",
       "      <th>4</th>\n",
       "      <td>2019-08-03</td>\n",
       "      <td>A</td>\n",
       "      <td>68</td>\n",
       "      <td>62</td>\n",
       "      <td>354874</td>\n",
       "      <td>1845</td>\n",
       "      <td>0.036856</td>\n",
       "      <td>5218.735294</td>\n",
       "    </tr>\n",
       "  </tbody>\n",
       "</table>\n",
       "</div>"
      ],
      "text/plain": [
       "        date group  orders  buyers  revenue  visitors  conversion   mean_check\n",
       "0 2019-08-01     A      24      20   148579       719    0.033380  6190.791667\n",
       "1 2019-08-01     B      21      20   101217       713    0.029453  4819.857143\n",
       "2 2019-08-02     A      44      38   242401      1338    0.032885  5509.113636\n",
       "3 2019-08-02     B      45      43   266748      1294    0.034776  5927.733333\n",
       "4 2019-08-03     A      68      62   354874      1845    0.036856  5218.735294"
      ]
     },
     "execution_count": 29,
     "metadata": {},
     "output_type": "execute_result"
    }
   ],
   "source": [
    "cumulativeData = ordersAggregated.merge(visitorsAggregated, on=['date', 'group'])\n",
    "cumulativeData.columns = ['date', 'group', 'orders', 'buyers', 'revenue', 'visitors']\n",
    "\n",
    "cumulativeData['conversion'] = cumulativeData['orders'] / cumulativeData['visitors']\n",
    "cumulativeData['mean_check'] = cumulativeData['revenue'] / cumulativeData['orders']\n",
    "\n",
    "# проверка\n",
    "cumulativeData.head()"
   ]
  },
  {
   "cell_type": "markdown",
   "metadata": {},
   "source": [
    "Для сравнения групп A и B необходимо также использовать итоговую таблицу, в которой содержится:\n",
    "- дата\n",
    "- конверсия группы А\n",
    "- конверсия группы B\n",
    "- средний чек группы А\n",
    "- средний чек группы B"
   ]
  },
  {
   "cell_type": "code",
   "execution_count": 37,
   "metadata": {},
   "outputs": [
    {
     "data": {
      "text/html": [
       "<div>\n",
       "<style scoped>\n",
       "    .dataframe tbody tr th:only-of-type {\n",
       "        vertical-align: middle;\n",
       "    }\n",
       "\n",
       "    .dataframe tbody tr th {\n",
       "        vertical-align: top;\n",
       "    }\n",
       "\n",
       "    .dataframe thead th {\n",
       "        text-align: right;\n",
       "    }\n",
       "</style>\n",
       "<table border=\"1\" class=\"dataframe\">\n",
       "  <thead>\n",
       "    <tr style=\"text-align: right;\">\n",
       "      <th></th>\n",
       "      <th>date</th>\n",
       "      <th>conversion_A</th>\n",
       "      <th>mean_check_A</th>\n",
       "      <th>conversion_B</th>\n",
       "      <th>mean_check_B</th>\n",
       "    </tr>\n",
       "  </thead>\n",
       "  <tbody>\n",
       "    <tr>\n",
       "      <th>0</th>\n",
       "      <td>2019-08-01</td>\n",
       "      <td>0.033380</td>\n",
       "      <td>6190.791667</td>\n",
       "      <td>0.029453</td>\n",
       "      <td>4819.857143</td>\n",
       "    </tr>\n",
       "    <tr>\n",
       "      <th>1</th>\n",
       "      <td>2019-08-02</td>\n",
       "      <td>0.032885</td>\n",
       "      <td>5509.113636</td>\n",
       "      <td>0.034776</td>\n",
       "      <td>5927.733333</td>\n",
       "    </tr>\n",
       "    <tr>\n",
       "      <th>2</th>\n",
       "      <td>2019-08-03</td>\n",
       "      <td>0.036856</td>\n",
       "      <td>5218.735294</td>\n",
       "      <td>0.033833</td>\n",
       "      <td>6245.836066</td>\n",
       "    </tr>\n",
       "    <tr>\n",
       "      <th>3</th>\n",
       "      <td>2019-08-04</td>\n",
       "      <td>0.032787</td>\n",
       "      <td>5067.845238</td>\n",
       "      <td>0.030315</td>\n",
       "      <td>6276.500000</td>\n",
       "    </tr>\n",
       "    <tr>\n",
       "      <th>4</th>\n",
       "      <td>2019-08-05</td>\n",
       "      <td>0.032851</td>\n",
       "      <td>5045.110092</td>\n",
       "      <td>0.030793</td>\n",
       "      <td>5762.326733</td>\n",
       "    </tr>\n",
       "  </tbody>\n",
       "</table>\n",
       "</div>"
      ],
      "text/plain": [
       "        date  conversion_A  mean_check_A  conversion_B  mean_check_B\n",
       "0 2019-08-01      0.033380   6190.791667      0.029453   4819.857143\n",
       "1 2019-08-02      0.032885   5509.113636      0.034776   5927.733333\n",
       "2 2019-08-03      0.036856   5218.735294      0.033833   6245.836066\n",
       "3 2019-08-04      0.032787   5067.845238      0.030315   6276.500000\n",
       "4 2019-08-05      0.032851   5045.110092      0.030793   5762.326733"
      ]
     },
     "execution_count": 37,
     "metadata": {},
     "output_type": "execute_result"
    }
   ],
   "source": [
    "cumulativeDataA = cumulativeData[cumulativeData['group'] == 'A']\n",
    "cumulativeDataB = cumulativeData[cumulativeData['group'] == 'B']\n",
    "\n",
    "mergedCumulativeAB = cumulativeDataA[['date','conversion', 'mean_check']].merge(\n",
    "    cumulativeDataB[['date','conversion', 'mean_check']], \n",
    "    on='date', \n",
    "    how='left', \n",
    "    suffixes=['_A', '_B']\n",
    ")\n",
    "\n",
    "# проверка\n",
    "mergedCumulativeAB.head()"
   ]
  },
  {
   "cell_type": "markdown",
   "metadata": {},
   "source": [
    "---\n",
    "Теперь перейдем к построению графиков и интерпетации результатов"
   ]
  },
  {
   "cell_type": "markdown",
   "metadata": {},
   "source": [
    "<a name=\"step2_1\"></a>\n",
    "#### График кумулятивной выручки по группам"
   ]
  },
  {
   "cell_type": "code",
   "execution_count": 122,
   "metadata": {},
   "outputs": [
    {
     "data": {
      "text/plain": [
       "Text(0.5, 0, 'Дата')"
      ]
     },
     "execution_count": 122,
     "metadata": {},
     "output_type": "execute_result"
    },
    {
     "data": {
      "image/png": "[encoded data removed]",
      "text/plain": [
       "<Figure size 1080x432 with 1 Axes>"
      ]
     },
     "metadata": {
      "needs_background": "light"
     },
     "output_type": "display_data"
    }
   ],
   "source": [
    "plt.figure(figsize=(15,6))\n",
    "\n",
    "ax = sns.lineplot(y='revenue', x='date', data=cumulativeData, hue='group')\n",
    "ax.set_title('График кумулятивной выручки')\n",
    "ax.set_ylabel('Выручка, руб')\n",
    "ax.set_xlabel('Дата')"
   ]
  },
  {
   "cell_type": "markdown",
   "metadata": {},
   "source": [
    "На графике у группы В виден резкий скачок - это выбросы (кто-то купил на очень большую сумму), поэтому на сырых данных будет сложно сделать вывод"
   ]
  },
  {
   "cell_type": "markdown",
   "metadata": {},
   "source": [
    "<a name=\"step2_2\"></a>\n",
    "#### График кумулятивного среднего чека по группам"
   ]
  },
  {
   "cell_type": "code",
   "execution_count": 123,
   "metadata": {},
   "outputs": [
    {
     "data": {
      "text/plain": [
       "Text(0.5, 0, 'Дата')"
      ]
     },
     "execution_count": 123,
     "metadata": {},
     "output_type": "execute_result"
    },
    {
     "data": {
      "image/png": "[encoded data removed]",
      "text/plain": [
       "<Figure size 1080x432 with 1 Axes>"
      ]
     },
     "metadata": {
      "needs_background": "light"
     },
     "output_type": "display_data"
    }
   ],
   "source": [
    "plt.figure(figsize=(15,6))\n",
    "\n",
    "ax = sns.lineplot(y='mean_check', x='date', data=cumulativeData, hue='group')\n",
    "ax.set_title('График кумулятивного среднего чека')\n",
    "ax.set_ylabel('Средний чек, руб')\n",
    "ax.set_xlabel('Дата')"
   ]
  },
  {
   "cell_type": "markdown",
   "metadata": {},
   "source": [
    "Группа А к концу периода уже выровнялась, а в группе В из-за высокой стоимости покупки резко подлетел и средний чек. Эти данные по-любому надо будет чистить."
   ]
  },
  {
   "cell_type": "markdown",
   "metadata": {},
   "source": [
    "<a name=\"step2_3\"></a>\n",
    "#### График относительного изменения кумулятивного среднего чека группы B к группе A"
   ]
  },
  {
   "cell_type": "code",
   "execution_count": 124,
   "metadata": {},
   "outputs": [
    {
     "data": {
      "text/plain": [
       "Text(0.5, 0, 'Дата')"
      ]
     },
     "execution_count": 124,
     "metadata": {},
     "output_type": "execute_result"
    },
    {
     "data": {
      "image/png": "[encoded data removed]",
      "text/plain": [
       "<Figure size 1080x432 with 1 Axes>"
      ]
     },
     "metadata": {
      "needs_background": "light"
     },
     "output_type": "display_data"
    }
   ],
   "source": [
    "mergedCumulativeAB['mean_check_B_A'] = mergedCumulativeAB['mean_check_B'] / mergedCumulativeAB['mean_check_A']\n",
    "\n",
    "plt.figure(figsize=(15,6))\n",
    "\n",
    "ax = sns.lineplot(y='mean_check_B_A', x='date', data=mergedCumulativeAB)\n",
    "ax.set_title('График изменения кумулятивного среднего чека')\n",
    "ax.set_ylabel('Относительный средний чек В к А')\n",
    "ax.set_xlabel('Дата')"
   ]
  },
  {
   "cell_type": "markdown",
   "metadata": {},
   "source": [
    "<a name=\"step2_4\"></a>\n",
    "#### График кумулятивной конверсии по группам"
   ]
  },
  {
   "cell_type": "code",
   "execution_count": 125,
   "metadata": {},
   "outputs": [
    {
     "data": {
      "text/plain": [
       "Text(0.5, 0, 'Дата')"
      ]
     },
     "execution_count": 125,
     "metadata": {},
     "output_type": "execute_result"
    },
    {
     "data": {
      "image/png": "[encoded data removed]",
      "text/plain": [
       "<Figure size 1080x432 with 1 Axes>"
      ]
     },
     "metadata": {
      "needs_background": "light"
     },
     "output_type": "display_data"
    }
   ],
   "source": [
    "plt.figure(figsize=(15,6))\n",
    "\n",
    "ax = sns.lineplot(y='conversion', x='date', data=cumulativeData, hue='group')\n",
    "ax.set_title('График кумулятивной конверсии')\n",
    "ax.set_ylabel('Конверсия')\n",
    "ax.set_xlabel('Дата')"
   ]
  },
  {
   "cell_type": "markdown",
   "metadata": {},
   "source": [
    "Конверсия по группам стабилизировалась и колеблется вокруг своих значений. При этом у группы В она выше, чем у группы А"
   ]
  },
  {
   "cell_type": "markdown",
   "metadata": {},
   "source": [
    "<a name=\"step2_5\"></a>\n",
    "#### График относительного изменения кумулятивной конверсии группы B к группе A"
   ]
  },
  {
   "cell_type": "code",
   "execution_count": 126,
   "metadata": {},
   "outputs": [
    {
     "data": {
      "text/plain": [
       "Text(0.5, 0, 'Дата')"
      ]
     },
     "execution_count": 126,
     "metadata": {},
     "output_type": "execute_result"
    },
    {
     "data": {
      "image/png": "[encoded data removed]",
      "text/plain": [
       "<Figure size 1080x432 with 1 Axes>"
      ]
     },
     "metadata": {
      "needs_background": "light"
     },
     "output_type": "display_data"
    }
   ],
   "source": [
    "mergedCumulativeAB['conversion_B_A'] = (\n",
    "    mergedCumulativeAB['conversion_B'] / mergedCumulativeAB['conversion_A']\n",
    ")\n",
    "\n",
    "plt.figure(figsize=(15,6))\n",
    "\n",
    "ax = sns.lineplot(y='conversion_B_A', x='date', data=mergedCumulativeAB)\n",
    "ax.set_title('График изменения кумулятивной конверсии')\n",
    "ax.set_ylabel('Конверсия')\n",
    "ax.set_xlabel('Дата')"
   ]
  },
  {
   "cell_type": "markdown",
   "metadata": {},
   "source": [
    "<a name=\"step2_6\"></a>\n",
    "#### Точечный график количества заказов по пользователям"
   ]
  },
  {
   "cell_type": "code",
   "execution_count": 131,
   "metadata": {},
   "outputs": [
    {
     "data": {
      "text/plain": [
       "Text(0, 0.5, 'Количество заказов')"
      ]
     },
     "execution_count": 131,
     "metadata": {},
     "output_type": "execute_result"
    },
    {
     "data": {
      "image/png": "[encoded data removed]",
      "text/plain": [
       "<Figure size 1080x432 with 1 Axes>"
      ]
     },
     "metadata": {
      "needs_background": "light"
     },
     "output_type": "display_data"
    }
   ],
   "source": [
    "plt.figure(figsize=(15,6))\n",
    "\n",
    "y_values_orders = orders.groupby('visitor_id')['revenue'].count()\n",
    "x_values_orders = pd.Series(range(0,len(y_values_orders)))\n",
    "plt.scatter(x_values_orders, y_values_orders)\n",
    "plt.title('Точечный график количества заказов по пользователям')\n",
    "plt.ylabel('Количество заказов')"
   ]
  },
  {
   "cell_type": "markdown",
   "metadata": {},
   "source": [
    "На графике очень хорошо прослеживаются выбросы - 1-2 покупки - это нормальное положение дел."
   ]
  },
  {
   "cell_type": "markdown",
   "metadata": {},
   "source": [
    "<a name=\"step2_7\"></a>\n",
    "#### 95-й и 99-й перцентили количества заказов на пользователя"
   ]
  },
  {
   "cell_type": "code",
   "execution_count": 115,
   "metadata": {},
   "outputs": [
    {
     "data": {
      "text/plain": [
       "array([2., 4.])"
      ]
     },
     "execution_count": 115,
     "metadata": {},
     "output_type": "execute_result"
    }
   ],
   "source": [
    "np.percentile(y_values_orders, [95, 99])"
   ]
  },
  {
   "cell_type": "markdown",
   "metadata": {},
   "source": [
    "И правда - 2 и менее покупки бывают у 95% пользвователей, а больше 4 покупок встречается только у 1%.\n",
    "По покупка у нас в среднем получились голубцы (кто-то есть мясо, кто-то капусту)"
   ]
  },
  {
   "cell_type": "markdown",
   "metadata": {},
   "source": [
    "<a name=\"step2_8\"></a>\n",
    "#### Точечный график стоимостей заказов"
   ]
  },
  {
   "cell_type": "code",
   "execution_count": 132,
   "metadata": {},
   "outputs": [
    {
     "data": {
      "text/plain": [
       "Text(0, 0.5, 'Стоимость заказов')"
      ]
     },
     "execution_count": 132,
     "metadata": {},
     "output_type": "execute_result"
    },
    {
     "data": {
      "image/png": "[encoded data removed]",
      "text/plain": [
       "<Figure size 1080x432 with 1 Axes>"
      ]
     },
     "metadata": {
      "needs_background": "light"
     },
     "output_type": "display_data"
    }
   ],
   "source": [
    "plt.figure(figsize=(15,6))\n",
    "\n",
    "x_values_costs = pd.Series(range(0,len(orders['revenue'])))\n",
    "plt.scatter(x_values_costs, orders['revenue'])\n",
    "plt.title('Точечный график стоимостей заказов')\n",
    "plt.ylabel('Стоимость заказов')"
   ]
  },
  {
   "cell_type": "markdown",
   "metadata": {},
   "source": [
    "<a name=\"step2_9\"></a>\n",
    "#### 95-й и 99-й перцентили стоимости заказов"
   ]
  },
  {
   "cell_type": "code",
   "execution_count": 56,
   "metadata": {},
   "outputs": [
    {
     "data": {
      "text/plain": [
       "array([28000. , 58233.2])"
      ]
     },
     "execution_count": 56,
     "metadata": {},
     "output_type": "execute_result"
    }
   ],
   "source": [
    "np.percentile(orders['revenue'], [95, 99])"
   ]
  },
  {
   "cell_type": "markdown",
   "metadata": {},
   "source": [
    "Суммы для 95 и 99 перцентиля отличаются чуть более, чем в два раза. Чаще всего (а именно в 95% случаев), покупатели совершают покупки до 30 тыс руб, а значит очищать мы будем от оставшихся 5%.\n",
    "\n"
   ]
  },
  {
   "cell_type": "markdown",
   "metadata": {},
   "source": [
    "---\n",
    "Для сравнения выборок и принятия решений сформируем таблицу, в которой будут поля  \n",
    "(заказы, посетители, выручка * кумулятивные * по группам):\n",
    "- дата\n",
    "- количество посетителей группы А\n",
    "- кумулятивное количество посетителей группы А до даты\n",
    "- количество заказов группы А\n",
    "- кумулятивное количество заказов группы А до даты\n",
    "- сумма заказов группы А\n",
    "- кумулятивное сумма заказов группы А до даты\n",
    "- количество посетителей группы В\n",
    "- кумулятивное количество посетителей группы В до даты\n",
    "- количество заказов группы В\n",
    "- кумулятивное количество заказов группы В до даты\n",
    "- сумма заказов группы В\n",
    "- кумулятивное сумма заказов группы В до даты"
   ]
  },
  {
   "cell_type": "code",
   "execution_count": 93,
   "metadata": {},
   "outputs": [
    {
     "data": {
      "text/html": [
       "<div>\n",
       "<style scoped>\n",
       "    .dataframe tbody tr th:only-of-type {\n",
       "        vertical-align: middle;\n",
       "    }\n",
       "\n",
       "    .dataframe tbody tr th {\n",
       "        vertical-align: top;\n",
       "    }\n",
       "\n",
       "    .dataframe thead th {\n",
       "        text-align: right;\n",
       "    }\n",
       "</style>\n",
       "<table border=\"1\" class=\"dataframe\">\n",
       "  <thead>\n",
       "    <tr style=\"text-align: right;\">\n",
       "      <th></th>\n",
       "      <th>date</th>\n",
       "      <th>orders_A</th>\n",
       "      <th>revenue_A</th>\n",
       "      <th>visitors_A</th>\n",
       "      <th>orders_cum_A</th>\n",
       "      <th>revenue_cum_A</th>\n",
       "      <th>visitors_cum_A</th>\n",
       "      <th>conversion_A</th>\n",
       "      <th>orders_B</th>\n",
       "      <th>revenue_B</th>\n",
       "      <th>visitors_B</th>\n",
       "      <th>orders_cum_B</th>\n",
       "      <th>revenue_cum_B</th>\n",
       "      <th>visitors_cum_B</th>\n",
       "      <th>conversion_B</th>\n",
       "    </tr>\n",
       "  </thead>\n",
       "  <tbody>\n",
       "    <tr>\n",
       "      <th>0</th>\n",
       "      <td>2019-08-01</td>\n",
       "      <td>24</td>\n",
       "      <td>148579</td>\n",
       "      <td>719</td>\n",
       "      <td>24</td>\n",
       "      <td>148579</td>\n",
       "      <td>719</td>\n",
       "      <td>0.033380</td>\n",
       "      <td>21</td>\n",
       "      <td>101217</td>\n",
       "      <td>713</td>\n",
       "      <td>21</td>\n",
       "      <td>101217</td>\n",
       "      <td>713</td>\n",
       "      <td>0.029453</td>\n",
       "    </tr>\n",
       "    <tr>\n",
       "      <th>1</th>\n",
       "      <td>2019-08-02</td>\n",
       "      <td>20</td>\n",
       "      <td>93822</td>\n",
       "      <td>619</td>\n",
       "      <td>44</td>\n",
       "      <td>242401</td>\n",
       "      <td>1338</td>\n",
       "      <td>0.032885</td>\n",
       "      <td>24</td>\n",
       "      <td>165531</td>\n",
       "      <td>581</td>\n",
       "      <td>45</td>\n",
       "      <td>266748</td>\n",
       "      <td>1294</td>\n",
       "      <td>0.034776</td>\n",
       "    </tr>\n",
       "    <tr>\n",
       "      <th>2</th>\n",
       "      <td>2019-08-03</td>\n",
       "      <td>24</td>\n",
       "      <td>112473</td>\n",
       "      <td>507</td>\n",
       "      <td>68</td>\n",
       "      <td>354874</td>\n",
       "      <td>1845</td>\n",
       "      <td>0.036856</td>\n",
       "      <td>16</td>\n",
       "      <td>114248</td>\n",
       "      <td>509</td>\n",
       "      <td>61</td>\n",
       "      <td>380996</td>\n",
       "      <td>1803</td>\n",
       "      <td>0.033833</td>\n",
       "    </tr>\n",
       "    <tr>\n",
       "      <th>3</th>\n",
       "      <td>2019-08-04</td>\n",
       "      <td>16</td>\n",
       "      <td>70825</td>\n",
       "      <td>717</td>\n",
       "      <td>84</td>\n",
       "      <td>425699</td>\n",
       "      <td>2562</td>\n",
       "      <td>0.032787</td>\n",
       "      <td>17</td>\n",
       "      <td>108571</td>\n",
       "      <td>770</td>\n",
       "      <td>78</td>\n",
       "      <td>489567</td>\n",
       "      <td>2573</td>\n",
       "      <td>0.030315</td>\n",
       "    </tr>\n",
       "    <tr>\n",
       "      <th>4</th>\n",
       "      <td>2019-08-05</td>\n",
       "      <td>25</td>\n",
       "      <td>124218</td>\n",
       "      <td>756</td>\n",
       "      <td>109</td>\n",
       "      <td>549917</td>\n",
       "      <td>3318</td>\n",
       "      <td>0.032851</td>\n",
       "      <td>23</td>\n",
       "      <td>92428</td>\n",
       "      <td>707</td>\n",
       "      <td>101</td>\n",
       "      <td>581995</td>\n",
       "      <td>3280</td>\n",
       "      <td>0.030793</td>\n",
       "    </tr>\n",
       "  </tbody>\n",
       "</table>\n",
       "</div>"
      ],
      "text/plain": [
       "        date  orders_A  revenue_A  visitors_A  orders_cum_A  revenue_cum_A  \\\n",
       "0 2019-08-01        24     148579         719            24         148579   \n",
       "1 2019-08-02        20      93822         619            44         242401   \n",
       "2 2019-08-03        24     112473         507            68         354874   \n",
       "3 2019-08-04        16      70825         717            84         425699   \n",
       "4 2019-08-05        25     124218         756           109         549917   \n",
       "\n",
       "   visitors_cum_A  conversion_A  orders_B  revenue_B  visitors_B  \\\n",
       "0             719      0.033380        21     101217         713   \n",
       "1            1338      0.032885        24     165531         581   \n",
       "2            1845      0.036856        16     114248         509   \n",
       "3            2562      0.032787        17     108571         770   \n",
       "4            3318      0.032851        23      92428         707   \n",
       "\n",
       "   orders_cum_B  revenue_cum_B  visitors_cum_B  conversion_B  \n",
       "0            21         101217             713      0.029453  \n",
       "1            45         266748            1294      0.034776  \n",
       "2            61         380996            1803      0.033833  \n",
       "3            78         489567            2573      0.030315  \n",
       "4           101         581995            3280      0.030793  "
      ]
     },
     "execution_count": 93,
     "metadata": {},
     "output_type": "execute_result"
    }
   ],
   "source": [
    "# данные по дню\n",
    "data_per_day = (\n",
    "    orders\n",
    "    .groupby(['date', 'group'])\n",
    "    .agg({'transaction_id': 'nunique', 'revenue': 'sum'})\n",
    "    .reset_index()\n",
    "    .merge(visitors, on=['date', 'group'])\n",
    ")\n",
    "data_per_day.columns = ['date', 'group', 'orders', 'revenue', 'visitors']\n",
    "\n",
    "# кумулятивные данные\n",
    "dataAB = data_per_day.merge(\n",
    "    cumulativeData[['date', 'group', 'orders', 'revenue', 'visitors', 'conversion']], \n",
    "    on=['date', 'group'], \n",
    "    suffixes=('', '_cum'))\n",
    "\n",
    "# разделение по группам\n",
    "dataA = dataAB[dataAB['group'] == 'A']\n",
    "dataB = dataAB[dataAB['group'] == 'B']\n",
    "\n",
    "data = dataA.merge(dataB, on='date', suffixes=('_A', '_B'))\n",
    "del data['group_A']\n",
    "del data['group_B']\n",
    "data.head()"
   ]
  },
  {
   "cell_type": "markdown",
   "metadata": {},
   "source": [
    "<a name=\"step2_10\"></a>\n",
    "#### Статистическая значимость различий в конверсии между группами по «сырым» данным\n",
    "\n"
   ]
  },
  {
   "cell_type": "code",
   "execution_count": 98,
   "metadata": {},
   "outputs": [],
   "source": [
    "# Зададим уровень значимости равным 5% (точность в 1% нам ни к чему, выбор не общечеловеческой важности)\n",
    "alpha = .05"
   ]
  },
  {
   "cell_type": "code",
   "execution_count": 121,
   "metadata": {},
   "outputs": [
    {
     "name": "stdout",
     "output_type": "stream",
     "text": [
      "p-value 0.008\n",
      "Отвергаем нулевую гипотезу: конверсии сырых групп А и В отличаются\n",
      "\n",
      "Относительная конверсия группы В к А = 13.8%\n"
     ]
    }
   ],
   "source": [
    "ordersByUsersA = (orders[orders['group']=='A']\n",
    "                  .groupby('visitor_id', as_index=False)\n",
    "                  .agg({'transaction_id' : pd.Series.nunique})\n",
    "                 )\n",
    "ordersByUsersA.columns = ['user_id', 'orders']\n",
    "\n",
    "ordersByUsersB = (orders[orders['group']=='B']\n",
    "                  .groupby('visitor_id', as_index=False)\n",
    "                  .agg({'transaction_id' : pd.Series.nunique})\n",
    "                 )\n",
    "ordersByUsersB.columns = ['user_id', 'orders']\n",
    "\n",
    "sampleA = pd.concat([ordersByUsersA['orders'],\n",
    "                     pd.Series(0, index=np.arange(data['visitors_A'].sum() - len(ordersByUsersA['orders'])), \n",
    "                               name='orders')],axis=0)\n",
    "\n",
    "sampleB = pd.concat([ordersByUsersB['orders'],\n",
    "                     pd.Series(0, index=np.arange(data['visitors_B'].sum() - len(ordersByUsersB['orders'])), \n",
    "                               name='orders')],axis=0)\n",
    "\n",
    "p_value = st.mannwhitneyu(sampleA, sampleB)[1]\n",
    "print(\"p-value {0:.3f}\".format(p_value))\n",
    "\n",
    "if p_value < alpha:\n",
    "    print('Отвергаем нулевую гипотезу: конверсии сырых групп А и В отличаются')\n",
    "else:\n",
    "    print('Не можем отвергнуть нулевую гипотезу: конверсии сырых групп А и В не отличаются')\n",
    "\n",
    "print()\n",
    "print(\"Относительная конверсия группы В к А = {0:.1%}\".format(sampleB.mean() / sampleA.mean() - 1))"
   ]
  },
  {
   "cell_type": "markdown",
   "metadata": {},
   "source": [
    "<a name=\"step2_11\"></a>\n",
    "#### Статистическая значимость различий в среднем чеке заказа между группами по «сырым» данным"
   ]
  },
  {
   "cell_type": "code",
   "execution_count": 103,
   "metadata": {},
   "outputs": [
    {
     "name": "stdout",
     "output_type": "stream",
     "text": [
      "p-value 0.365\n",
      "Не можем отвергнуть нулевую гипотезу: средний чек сырых групп А и В не отличаются\n",
      "\n",
      "Относительный средний чек группы В к А = 25.9%\n"
     ]
    }
   ],
   "source": [
    "p_value = st.mannwhitneyu(orders[orders['group']=='A']['revenue'], orders[orders['group']=='B']['revenue'])[1]\n",
    "print(\"p-value {0:.3f}\".format(p_value))\n",
    "\n",
    "if p_value < alpha:\n",
    "    print('Отвергаем нулевую гипотезу: средний чек сырых групп А и В отличаются')\n",
    "else:\n",
    "    print('Не можем отвергнуть нулевую гипотезу: средний чек сырых групп А и В не отличаются')\n",
    "\n",
    "print()\n",
    "print(\"Относительный средний чек группы В к А = {0:.1%}\".format(orders[orders['group']=='B']['revenue'].mean()\n",
    "                       / orders[orders['group']=='A']['revenue'].mean()-1))"
   ]
  },
  {
   "cell_type": "markdown",
   "metadata": {},
   "source": [
    "---\n",
    "\n",
    "Теперь посмотрим, как различаются показатели по очищенным данным (то есть без учета выбросов).  \n",
    "Выделим аномальных пользователей"
   ]
  },
  {
   "cell_type": "code",
   "execution_count": 116,
   "metadata": {},
   "outputs": [
    {
     "data": {
      "text/plain": [
       "74"
      ]
     },
     "execution_count": 116,
     "metadata": {},
     "output_type": "execute_result"
    }
   ],
   "source": [
    "usersWithManyOrders = pd.concat([\n",
    "    ordersByUsersA[ordersByUsersA['orders'] > 2]['user_id'], \n",
    "    ordersByUsersB[ordersByUsersB['orders'] > 2]['user_id']], \n",
    "    axis = 0)\n",
    "usersWithExpensiveOrders = orders[orders['revenue'] > 28000]['visitor_id']\n",
    "\n",
    "abnormalUsers = pd.concat([\n",
    "    usersWithManyOrders, \n",
    "    usersWithExpensiveOrders], \n",
    "    axis = 0).drop_duplicates().sort_values()\n",
    "\n",
    "# выведем количество аномальных пользователей\n",
    "len(abnormalUsers)"
   ]
  },
  {
   "cell_type": "markdown",
   "metadata": {},
   "source": [
    "74 пользователя - совсем ничего, по сравнению с 1000. Избавляемся от \"выскочек\""
   ]
  },
  {
   "cell_type": "markdown",
   "metadata": {},
   "source": [
    "<a name=\"step2_12\"></a>\n",
    "#### Статистическая значимость различий в конверсии между группами по «очищенным» данным"
   ]
  },
  {
   "cell_type": "code",
   "execution_count": 119,
   "metadata": {},
   "outputs": [
    {
     "name": "stdout",
     "output_type": "stream",
     "text": [
      "p-value 0.007\n",
      "Отвергаем нулевую гипотезу: конверсии очищенных групп А и В отличаются\n",
      "\n",
      "Относительная конверсия группы В к А = 17.3%\n"
     ]
    }
   ],
   "source": [
    "# выберем пользователей без аномалий\n",
    "sampleAFiltered = pd.concat([\n",
    "    ordersByUsersA[np.logical_not(ordersByUsersA['user_id'].isin(abnormalUsers))]['orders'],\n",
    "    pd.Series(0, index=np.arange(data['visitors_A'].sum() - len(ordersByUsersA['orders'])),name='orders')],\n",
    "    axis=0)\n",
    "\n",
    "sampleBFiltered = pd.concat([\n",
    "    ordersByUsersB[np.logical_not(ordersByUsersB['user_id'].isin(abnormalUsers))]['orders'],\n",
    "    pd.Series(0, index=np.arange(data['visitors_B'].sum() - len(ordersByUsersB['orders'])),name='orders')],\n",
    "    axis=0)\n",
    "\n",
    "p_value = st.mannwhitneyu(sampleAFiltered, sampleBFiltered)[1]\n",
    "print(\"p-value {0:.3f}\".format(p_value))\n",
    "\n",
    "if p_value < alpha:\n",
    "    print('Отвергаем нулевую гипотезу: конверсии очищенных групп А и В отличаются')\n",
    "else:\n",
    "    print('Не можем отвергнуть нулевую гипотезу: конверсии очищенных групп А и В не отличаются')\n",
    "\n",
    "print()\n",
    "print(\"Относительная конверсия группы В к А = {0:.1%}\".format(sampleBFiltered.mean() / sampleAFiltered.mean() - 1))"
   ]
  },
  {
   "cell_type": "markdown",
   "metadata": {},
   "source": [
    "Результат теста для \"сырых\" и \"очищенных\" данных не изменился - конверсии отличаются. Но в очищенных данных эта разница стала еще больше (для сырых - 13,8%, для очищенных - 17,3%)"
   ]
  },
  {
   "cell_type": "markdown",
   "metadata": {},
   "source": [
    "<a name=\"step2_13\"></a>\n",
    "#### Статистическая значимость различий в среднем чеке заказа между группами по «очищенным» данным"
   ]
  },
  {
   "cell_type": "code",
   "execution_count": 120,
   "metadata": {},
   "outputs": [
    {
     "name": "stdout",
     "output_type": "stream",
     "text": [
      "p-value 0.369\n",
      "Не можем отвергнуть нулевую гипотезу: средний чек очищенных групп А и В не отличаются\n",
      "\n",
      "Относительный средний чек группы В к А = -2.0%\n"
     ]
    }
   ],
   "source": [
    "filtered_rev_A = orders[np.logical_and(\n",
    "        orders['group']=='A',\n",
    "        np.logical_not(orders['visitor_id'].isin(abnormalUsers)))]['revenue']\n",
    "\n",
    "filtered_rev_B = orders[np.logical_and(\n",
    "        orders['group']=='B',\n",
    "        np.logical_not(orders['visitor_id'].isin(abnormalUsers)))]['revenue']\n",
    "\n",
    "p_value = st.mannwhitneyu(filtered_rev_A, filtered_rev_B)[1]\n",
    "print(\"p-value {0:.3f}\".format(p_value))\n",
    "\n",
    "if p_value < alpha:\n",
    "    print('Отвергаем нулевую гипотезу: средний чек очищенных групп А и В отличаются')\n",
    "else:\n",
    "    print('Не можем отвергнуть нулевую гипотезу: средний чек очищенных групп А и В не отличаются')\n",
    "\n",
    "print()\n",
    "print(\"Относительный средний чек группы В к А = {0:.1%}\".format(filtered_rev_B.mean() / filtered_rev_A.mean()-1))"
   ]
  },
  {
   "cell_type": "markdown",
   "metadata": {},
   "source": [
    "Опять же результат теста не изменился - средние чеки групп не отличаются. Но для группы В после очистки данных показатель среднего чека стал ниже и даже меньше среднего чека группы А (для сырых - 25,9%, для очищенных - -2%)\n",
    "\n"
   ]
  },
  {
   "cell_type": "markdown",
   "metadata": {},
   "source": [
    "<a name=\"step2_14\"></a>\n",
    "#### Решение по результатам теста"
   ]
  },
  {
   "cell_type": "markdown",
   "metadata": {},
   "source": [
    "Что мы имеем:\n",
    "1. Конверсии групп А и В отличаются. Относительная конверсия группы В к А = 17.3% \n",
    "2. Средний чек группы В и А не отличаются.\n",
    "\n",
    "Варианты решений: \n",
    "1. Остановить тест, зафиксировать победу одной из групп. \n",
    "2. Остановить тест, зафиксировать отсутствие различий между группами. \n",
    "3. Продолжить тест.\n",
    "\n",
    "Основываясь на том, что по одному из критериев уже устоявшаяся тенденция и есть значимые различия (это мы про конверсии), то стоит останосить тест и признать, что группа В имеет бОльшую конверсия, по сравнению с группой А. Средние чеки у этих групп не различаются, но зато на сайте происходит больше покупок, что не может не радовать."
   ]
  },
  {
   "cell_type": "markdown",
   "metadata": {},
   "source": [
    "<a name=\"step2_conclusion\"></a>\n",
    "### Вывод\n",
    "1. **Кумулятивная выручка**. На графике у группы В виден резкий скачок - это выбросы (кто-то купил на очень большую сумму), поэтому на сырых данных будет сложно сделать вывод\n",
    "2. **Кумулятивный редний чек**. Группа А к концу периода уже выровнялась, а в группе В из-за высокой стоимости покупки резко подлетел и средний чек\n",
    "3. **Относительное изменение среднего чека В к А**. Кумулятичный средний чек группы В очень скачет - то резко вниз, то резко вверх. К концу периода нет намека на то, что средний чек выровнялся\n",
    "4. **Кумулятивная конверсия**. Конверсия по группам стабилизировалась и колеблется вокруг своих значений. При этом у группы В она выше, чем у группы А\n",
    "5. **Относительное изменение конверсии В к А**. В относительных величинах также видна \"стабилизация\" - относительная конверсия группы В к группе А находится в промежутке между 1.10 и 1.15\n",
    "6. **Распределение количества заказов пользователей**. На графике очень хорошо прослеживаются выбросы - 1-2 покупки - это нормальное положение дел\n",
    "7. **95 и 99 процентали числа покупок**. И правда - 2 и менее покупки бывают у 95% пользвователей, а больше 4 покупок встречается только у 1%. По покупка у нас в среднем получились голубцы (кто-то есть мясо, кто-то капусту)\n",
    "8. **Распределение суммы покупок**. Встречаются и милионные покупки - но только 1 раз (и то, возможно кто-то ошибся).\n",
    "9. **95 и 99 процентали суммы покупок**. Суммы для 95 и 99 перцентиля отличаются чуть более, чем в два раза. Чаще всего (а именно в 95% случаев), покупатели совершают покупки до 30 тыс руб, а значит очищать мы будем от оставшихся 5%.\n",
    "10. **Аномальные пользователи**. Найдено 74 аномальных пользователя (либо покупок более 2, либо сумма покупки выше 28 тыс, либо и то, и другое)\n",
    "10. **Статистическая значимость конверсий**. Результат теста для \"сырых\" и \"очищенных\" данных не изменился - конверсии отличаются. Но в очищенных данных эта разница стала еще больше (для сырых - 13,8%, для очищенных - 17,3%)\n",
    "11. **Относительная конверсия группы В к А**. Конверсии групп А и В отличаются. Относительная конверсия группы В к А = 17.3% \n",
    "13. **Статистическая значимость среднего чека**. Средний чек группы В и А не отличаются.\n",
    "12. **Относительный средний чек группы В к А**. Опять же результат теста не изменился - средние чеки групп не отличаются. Но для группы В после очистки данных показатель среднего чека стал ниже и даже меньше среднего чека группы А (для сырых - 25,9%, для очищенных - -2%)  \n",
    "\n",
    "**Решение по результатам А/В теста**: Основываясь на том, что по одному из критериев уже устоявшаяся тенденция и есть значимые различия (это мы про конверсии), то стоит останосить тест и признать, что группа В имеет бОльшую конверсия, по сравнению с группой А. Средние чеки у этих групп не различаются, но зато на сайте происходит больше покупок, что не может не радовать.\n",
    "\n",
    "---"
   ]
  },
  {
   "cell_type": "markdown",
   "metadata": {},
   "source": [
    "<a name=\"step3\"></a>\n",
    "## Шаг 3. Общий вывод"
   ]
  },
  {
   "cell_type": "markdown",
   "metadata": {},
   "source": [
    "Шаг 0. [Открытие файлов и предобработка](#step0) \n",
    "   1. Данные полные, пропусков нет\n",
    "   2. Столбцы с датой (`orders['date']` `visitors['date']`) были представлены типом str. \n",
    "   3. Столбцы таблицы `orders` имели названия в CamelCase. Сейчас они исправлены на snake_case\n",
    "   \n",
    "Шаг 1. [Приоритизация гипотез](#step1)  \n",
    "   - Если сравнивать первую пятерку и последнюю четверку гипотез, то их содержание одинаково в двух фреймворках приоритизации.  \n",
    "\n",
    "   - Но бросается в глаза 8 гипотеза, которая в ICE стоит на 1 месте, а в RICE на 5 месте. ПОхожая картина наблюдается и со 2 гипотезой.  \n",
    "\n",
    "   - Почему произошли такие скачки? Основное отличие в двух фреймворках - это наличие параметра Reach (охват пользователей). Так нарпимер, было небольшое изменение по ICE, но если оно захватывает всех пользователей - то в RICE оно будет более значительным. Это очень похоже на правило 80/20 (небольшое изменение на много пользователей и большое изменение на 1 человека).   \n",
    "\n",
    "   - Бизнесу важно ориентироваться на большинство сових клиентов, поэтому приоритизация по RICE будет более привлекательна для выстраивания последовательности реализаций. Изменения на основной странице должны быть в приоритете перед добавлением акции на конкретный товар.\n",
    "\n",
    "Шаг 2. [Анализ A/B теста](#step2) \n",
    "1. **Кумулятивная выручка**. На графике у группы В виден резкий скачок - это выбросы (кто-то купил на очень большую сумму), поэтому на сырых данных будет сложно сделать вывод\n",
    "2. **Кумулятивный редний чек**. Группа А к концу периода уже выровнялась, а в группе В из-за высокой стоимости покупки резко подлетел и средний чек\n",
    "3. **Относительное изменение среднего чека В к А**. Кумулятичный средний чек группы В очень скачет - то резко вниз, то резко вверх. К концу периода нет намека на то, что средний чек выровнялся\n",
    "4. **Кумулятивная конверсия**. Конверсия по группам стабилизировалась и колеблется вокруг своих значений. При этом у группы В она выше, чем у группы А\n",
    "5. **Относительное изменение конверсии В к А**. В относительных величинах также видна \"стабилизация\" - относительная конверсия группы В к группе А находится в промежутке между 1.10 и 1.15\n",
    "6. **Распределение количества заказов пользователей**. На графике очень хорошо прослеживаются выбросы - 1-2 покупки - это нормальное положение дел\n",
    "7. **95 и 99 процентали числа покупок**. И правда - 2 и менее покупки бывают у 95% пользвователей, а больше 4 покупок встречается только у 1%. По покупка у нас в среднем получились голубцы (кто-то есть мясо, кто-то капусту)\n",
    "8. **Распределение суммы покупок**. Встречаются и милионные покупки - но только 1 раз (и то, возможно кто-то ошибся).\n",
    "9. **95 и 99 процентали суммы покупок**. Суммы для 95 и 99 перцентиля отличаются чуть более, чем в два раза. Чаще всего (а именно в 95% случаев), покупатели совершают покупки до 30 тыс руб, а значит очищать мы будем от оставшихся 5%.\n",
    "10. **Аномальные пользователи**. Найдено 74 аномальных пользователя (либо покупок более 2, либо сумма покупки выше 28 тыс, либо и то, и другое)\n",
    "10. **Статистическая значимость конверсий**. Результат теста для \"сырых\" и \"очищенных\" данных не изменился - конверсии отличаются. Но в очищенных данных эта разница стала еще больше (для сырых - 13,8%, для очищенных - 17,3%)\n",
    "11. **Относительная конверсия группы В к А**. Конверсии групп А и В отличаются. Относительная конверсия группы В к А = 17.3% \n",
    "13. **Статистическая значимость среднего чека**. Средний чек группы В и А не отличаются.\n",
    "12. **Относительный средний чек группы В к А**. Опять же результат теста не изменился - средние чеки групп не отличаются. Но для группы В после очистки данных показатель среднего чека стал ниже и даже меньше среднего чека группы А (для сырых - 25,9%, для очищенных - -2%)  \n",
    "\n",
    "### Решение по результатам А/В теста:  \n",
    "Основываясь на том, что по одному из критериев уже устоявшаяся тенденция и есть значимые различия (это мы про конверсии), то стоит останосить тест и признать, что группа В имеет бОльшую конверсия, по сравнению с группой А. Средние чеки у этих групп не различаются, но зато на сайте происходит больше покупок, что не может не радовать.\n",
    "\n",
    "Группа В - победила!"
   ]
  }
 ],
 "metadata": {
  "kernelspec": {
   "display_name": "Python 3",
   "language": "python",
   "name": "python3"
  },
  "language_info": {
   "codemirror_mode": {
    "name": "ipython",
    "version": 3
   },
   "file_extension": ".py",
   "mimetype": "text/x-python",
   "name": "python",
   "nbconvert_exporter": "python",
   "pygments_lexer": "ipython3",
   "version": "3.7.4"
  }
 },
 "nbformat": 4,
 "nbformat_minor": 4
}
