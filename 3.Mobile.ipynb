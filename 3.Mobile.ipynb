{
 "cells": [
  {
   "cell_type": "markdown",
   "metadata": {},
   "source": [
    "# Определение перспективного тарифа для телеком компании"
   ]
  },
  {
   "cell_type": "markdown",
   "metadata": {},
   "source": [
    "### Описание данных  \n",
    "Таблица users (информация о пользователях):\n",
    "- user_id — уникальный идентификатор пользователя\n",
    "- first_name — имя пользователя\n",
    "- last_name — фамилия пользователя\n",
    "- age — возраст пользователя (годы)\n",
    "- reg_date — дата подключения тарифа (день, месяц, год)\n",
    "- churn_date — дата прекращения пользования тарифом (если значение пропущено, то тариф ещё действовал на момент выгрузки данных)\n",
    "- city — город проживания пользователя\n",
    "- tariff — название тарифного плана  \n",
    "\n",
    "Таблица calls (информация о звонках):\n",
    "- id — уникальный номер звонка\n",
    "- call_date — дата звонка\n",
    "- duration — длительность звонка в минутах\n",
    "- user_id — идентификатор пользователя, сделавшего звонок  \n",
    "\n",
    "Таблица messages (информация о сообщениях):\n",
    "- id — уникальный номер сообщения\n",
    "- message_date — дата сообщения\n",
    "- user_id — идентификатор пользователя, отправившего сообщение  \n",
    "\n",
    "Таблица internet (информация об интернет-сессиях):\n",
    "- id — уникальный номер сессии\n",
    "- mb_used — объём потраченного за сессию интернет-трафика (в мегабайтах)\n",
    "- session_date — дата интернет-сессии\n",
    "- user_id — идентификатор пользователя  \n",
    "\n",
    "Таблица tariffs (информация о тарифах):\n",
    "- tariff_name — название тарифа\n",
    "- rub_monthly_fee — ежемесячная абонентская плата в рублях\n",
    "- minutes_included — количество минут разговора в месяц, включённых в абонентскую плату\n",
    "- messages_included — количество сообщений в месяц, включённых в абонентскую плату\n",
    "- mb_per_month_included — объём интернет-трафика, включённого в абонентскую плату (в мегабайтах)\n",
    "- rub_per_minute — стоимость минуты разговора сверх тарифного пакета (например, если в тарифе 100 минут разговора в месяц, то со 101 минуты будет взиматься плата)\n",
    "- rub_per_message — стоимость отправки сообщения сверх тарифного пакета\n",
    "- rub_per_gb — стоимость дополнительного гигабайта интернет-трафика сверх тарифного пакета (1 гигабайт = 1024 мегабайта)"
   ]
  },
  {
   "cell_type": "markdown",
   "metadata": {},
   "source": [
    "### План работы\n",
    "[Шаг 1. Открытие файлов с данными и изучение общей информации](#step1)  \n",
    "[Вывод](#step1_conclusion)  \n",
    "  \n",
    "[Шаг 2. Подготовка данных](#step2) \n",
    "1. [Приведение данных к нужным типам](#step2.1)  \n",
    "1. [Исправление ошибок в данных](#step2.2)\n",
    "2. [Подсчет по каждому пользователю](#step2.3)\n",
    "  \n",
    "[Вывод](#step2_conclusion)  \n",
    "  \n",
    "[Шаг 3. Анализ данных](#step3)  \n",
    "- [Звонки](#3.1_calls)\n",
    "- [Интернет](#3.2_internet)\n",
    "- [Сообщения](#3.3_messages)  \n",
    "\n",
    "[Вывод](#step3_conclusion)  \n",
    "  \n",
    "[Шаг 4. Проверка гипотез](#step4) \n",
    "- [Гипотеза 1. Средняя выручка пользователей тарифов «Ультра» и «Смарт» различается](#4.1_hyp1)\n",
    "- [Гипотеза 2. Средняя выручка пользователей из Москвы отличается от выручки пользователей из других регионов](#4.2_hyp2)  \n",
    "\n",
    "[Вывод](#step4_conclusion)\n",
    "  \n",
    "[Шаг 5. Общий вывод](#step5)  "
   ]
  },
  {
   "cell_type": "markdown",
   "metadata": {},
   "source": [
    "<a name=\"step1\"></a>\n",
    "### Шаг 1. Открытие файлов с данными и изучение общей информации"
   ]
  },
  {
   "cell_type": "code",
   "execution_count": 1,
   "metadata": {},
   "outputs": [],
   "source": [
    "import pandas as pd\n",
    "import numpy as np\n",
    "from scipy import stats as st\n",
    "import matplotlib.pyplot as plt"
   ]
  },
  {
   "cell_type": "code",
   "execution_count": 2,
   "metadata": {},
   "outputs": [],
   "source": [
    "calls = pd.read_csv('/datasets/calls.csv')\n",
    "internet = pd.read_csv('/datasets/internet.csv')\n",
    "messages = pd.read_csv('/datasets/messages.csv')\n",
    "tarrifs = pd.read_csv('/datasets/tariffs.csv')\n",
    "users = pd.read_csv('/datasets/users.csv')"
   ]
  },
  {
   "cell_type": "markdown",
   "metadata": {},
   "source": [
    "Посмотрим на таблицу со звонками"
   ]
  },
  {
   "cell_type": "code",
   "execution_count": 3,
   "metadata": {},
   "outputs": [
    {
     "name": "stdout",
     "output_type": "stream",
     "text": [
      "<class 'pandas.core.frame.DataFrame'>\n",
      "RangeIndex: 202607 entries, 0 to 202606\n",
      "Data columns (total 4 columns):\n",
      "id           202607 non-null object\n",
      "call_date    202607 non-null object\n",
      "duration     202607 non-null float64\n",
      "user_id      202607 non-null int64\n",
      "dtypes: float64(1), int64(1), object(2)\n",
      "memory usage: 6.2+ MB\n"
     ]
    }
   ],
   "source": [
    "calls.info()"
   ]
  },
  {
   "cell_type": "code",
   "execution_count": 4,
   "metadata": {},
   "outputs": [
    {
     "data": {
      "text/html": [
       "<div>\n",
       "<style scoped>\n",
       "    .dataframe tbody tr th:only-of-type {\n",
       "        vertical-align: middle;\n",
       "    }\n",
       "\n",
       "    .dataframe tbody tr th {\n",
       "        vertical-align: top;\n",
       "    }\n",
       "\n",
       "    .dataframe thead th {\n",
       "        text-align: right;\n",
       "    }\n",
       "</style>\n",
       "<table border=\"1\" class=\"dataframe\">\n",
       "  <thead>\n",
       "    <tr style=\"text-align: right;\">\n",
       "      <th></th>\n",
       "      <th>duration</th>\n",
       "      <th>user_id</th>\n",
       "    </tr>\n",
       "  </thead>\n",
       "  <tbody>\n",
       "    <tr>\n",
       "      <td>count</td>\n",
       "      <td>202607.000000</td>\n",
       "      <td>202607.000000</td>\n",
       "    </tr>\n",
       "    <tr>\n",
       "      <td>mean</td>\n",
       "      <td>6.755887</td>\n",
       "      <td>1253.940619</td>\n",
       "    </tr>\n",
       "    <tr>\n",
       "      <td>std</td>\n",
       "      <td>5.843365</td>\n",
       "      <td>144.722751</td>\n",
       "    </tr>\n",
       "    <tr>\n",
       "      <td>min</td>\n",
       "      <td>0.000000</td>\n",
       "      <td>1000.000000</td>\n",
       "    </tr>\n",
       "    <tr>\n",
       "      <td>25%</td>\n",
       "      <td>1.300000</td>\n",
       "      <td>1126.000000</td>\n",
       "    </tr>\n",
       "    <tr>\n",
       "      <td>50%</td>\n",
       "      <td>6.000000</td>\n",
       "      <td>1260.000000</td>\n",
       "    </tr>\n",
       "    <tr>\n",
       "      <td>75%</td>\n",
       "      <td>10.700000</td>\n",
       "      <td>1379.000000</td>\n",
       "    </tr>\n",
       "    <tr>\n",
       "      <td>max</td>\n",
       "      <td>38.000000</td>\n",
       "      <td>1499.000000</td>\n",
       "    </tr>\n",
       "  </tbody>\n",
       "</table>\n",
       "</div>"
      ],
      "text/plain": [
       "            duration        user_id\n",
       "count  202607.000000  202607.000000\n",
       "mean        6.755887    1253.940619\n",
       "std         5.843365     144.722751\n",
       "min         0.000000    1000.000000\n",
       "25%         1.300000    1126.000000\n",
       "50%         6.000000    1260.000000\n",
       "75%        10.700000    1379.000000\n",
       "max        38.000000    1499.000000"
      ]
     },
     "execution_count": 4,
     "metadata": {},
     "output_type": "execute_result"
    }
   ],
   "source": [
    "calls.describe()"
   ]
  },
  {
   "cell_type": "markdown",
   "metadata": {},
   "source": [
    "Здесь содержится ключ user_id для связи с таблицей users, id звонка - всегда уникально, дата звонка и время разговора.\n",
    "Примечательно, что встречаются звонки продолжительностью 0.00 минут - это аномалии или нет? Максимально люди разговаривали 38 минут (наверное, мои звонки в эту выборку не попали).  \n",
    "\n",
    "Для даты звонка используется неудобный строковый тип - object, его необходимо будет заменить на datetime  \n",
    "\n",
    "\n",
    "Посмотрим на таблицу интернета"
   ]
  },
  {
   "cell_type": "code",
   "execution_count": 5,
   "metadata": {},
   "outputs": [
    {
     "name": "stdout",
     "output_type": "stream",
     "text": [
      "<class 'pandas.core.frame.DataFrame'>\n",
      "RangeIndex: 149396 entries, 0 to 149395\n",
      "Data columns (total 5 columns):\n",
      "Unnamed: 0      149396 non-null int64\n",
      "id              149396 non-null object\n",
      "mb_used         149396 non-null float64\n",
      "session_date    149396 non-null object\n",
      "user_id         149396 non-null int64\n",
      "dtypes: float64(1), int64(2), object(2)\n",
      "memory usage: 5.7+ MB\n"
     ]
    }
   ],
   "source": [
    "internet.info()"
   ]
  },
  {
   "cell_type": "code",
   "execution_count": 6,
   "metadata": {},
   "outputs": [
    {
     "data": {
      "text/html": [
       "<div>\n",
       "<style scoped>\n",
       "    .dataframe tbody tr th:only-of-type {\n",
       "        vertical-align: middle;\n",
       "    }\n",
       "\n",
       "    .dataframe tbody tr th {\n",
       "        vertical-align: top;\n",
       "    }\n",
       "\n",
       "    .dataframe thead th {\n",
       "        text-align: right;\n",
       "    }\n",
       "</style>\n",
       "<table border=\"1\" class=\"dataframe\">\n",
       "  <thead>\n",
       "    <tr style=\"text-align: right;\">\n",
       "      <th></th>\n",
       "      <th>Unnamed: 0</th>\n",
       "      <th>id</th>\n",
       "      <th>mb_used</th>\n",
       "      <th>session_date</th>\n",
       "      <th>user_id</th>\n",
       "    </tr>\n",
       "  </thead>\n",
       "  <tbody>\n",
       "    <tr>\n",
       "      <td>0</td>\n",
       "      <td>0</td>\n",
       "      <td>1000_0</td>\n",
       "      <td>112.95</td>\n",
       "      <td>2018-11-25</td>\n",
       "      <td>1000</td>\n",
       "    </tr>\n",
       "    <tr>\n",
       "      <td>1</td>\n",
       "      <td>1</td>\n",
       "      <td>1000_1</td>\n",
       "      <td>1052.81</td>\n",
       "      <td>2018-09-07</td>\n",
       "      <td>1000</td>\n",
       "    </tr>\n",
       "    <tr>\n",
       "      <td>2</td>\n",
       "      <td>2</td>\n",
       "      <td>1000_2</td>\n",
       "      <td>1197.26</td>\n",
       "      <td>2018-06-25</td>\n",
       "      <td>1000</td>\n",
       "    </tr>\n",
       "    <tr>\n",
       "      <td>3</td>\n",
       "      <td>3</td>\n",
       "      <td>1000_3</td>\n",
       "      <td>550.27</td>\n",
       "      <td>2018-08-22</td>\n",
       "      <td>1000</td>\n",
       "    </tr>\n",
       "    <tr>\n",
       "      <td>4</td>\n",
       "      <td>4</td>\n",
       "      <td>1000_4</td>\n",
       "      <td>302.56</td>\n",
       "      <td>2018-09-24</td>\n",
       "      <td>1000</td>\n",
       "    </tr>\n",
       "  </tbody>\n",
       "</table>\n",
       "</div>"
      ],
      "text/plain": [
       "   Unnamed: 0      id  mb_used session_date  user_id\n",
       "0           0  1000_0   112.95   2018-11-25     1000\n",
       "1           1  1000_1  1052.81   2018-09-07     1000\n",
       "2           2  1000_2  1197.26   2018-06-25     1000\n",
       "3           3  1000_3   550.27   2018-08-22     1000\n",
       "4           4  1000_4   302.56   2018-09-24     1000"
      ]
     },
     "execution_count": 6,
     "metadata": {},
     "output_type": "execute_result"
    }
   ],
   "source": [
    "internet.head()"
   ]
  },
  {
   "cell_type": "code",
   "execution_count": 7,
   "metadata": {},
   "outputs": [
    {
     "data": {
      "text/html": [
       "<div>\n",
       "<style scoped>\n",
       "    .dataframe tbody tr th:only-of-type {\n",
       "        vertical-align: middle;\n",
       "    }\n",
       "\n",
       "    .dataframe tbody tr th {\n",
       "        vertical-align: top;\n",
       "    }\n",
       "\n",
       "    .dataframe thead th {\n",
       "        text-align: right;\n",
       "    }\n",
       "</style>\n",
       "<table border=\"1\" class=\"dataframe\">\n",
       "  <thead>\n",
       "    <tr style=\"text-align: right;\">\n",
       "      <th></th>\n",
       "      <th>Unnamed: 0</th>\n",
       "      <th>mb_used</th>\n",
       "      <th>user_id</th>\n",
       "    </tr>\n",
       "  </thead>\n",
       "  <tbody>\n",
       "    <tr>\n",
       "      <td>count</td>\n",
       "      <td>149396.000000</td>\n",
       "      <td>149396.000000</td>\n",
       "      <td>149396.000000</td>\n",
       "    </tr>\n",
       "    <tr>\n",
       "      <td>mean</td>\n",
       "      <td>74697.500000</td>\n",
       "      <td>370.192426</td>\n",
       "      <td>1252.099842</td>\n",
       "    </tr>\n",
       "    <tr>\n",
       "      <td>std</td>\n",
       "      <td>43127.054745</td>\n",
       "      <td>278.300951</td>\n",
       "      <td>144.050823</td>\n",
       "    </tr>\n",
       "    <tr>\n",
       "      <td>min</td>\n",
       "      <td>0.000000</td>\n",
       "      <td>0.000000</td>\n",
       "      <td>1000.000000</td>\n",
       "    </tr>\n",
       "    <tr>\n",
       "      <td>25%</td>\n",
       "      <td>37348.750000</td>\n",
       "      <td>138.187500</td>\n",
       "      <td>1130.000000</td>\n",
       "    </tr>\n",
       "    <tr>\n",
       "      <td>50%</td>\n",
       "      <td>74697.500000</td>\n",
       "      <td>348.015000</td>\n",
       "      <td>1251.000000</td>\n",
       "    </tr>\n",
       "    <tr>\n",
       "      <td>75%</td>\n",
       "      <td>112046.250000</td>\n",
       "      <td>559.552500</td>\n",
       "      <td>1380.000000</td>\n",
       "    </tr>\n",
       "    <tr>\n",
       "      <td>max</td>\n",
       "      <td>149395.000000</td>\n",
       "      <td>1724.830000</td>\n",
       "      <td>1499.000000</td>\n",
       "    </tr>\n",
       "  </tbody>\n",
       "</table>\n",
       "</div>"
      ],
      "text/plain": [
       "          Unnamed: 0        mb_used        user_id\n",
       "count  149396.000000  149396.000000  149396.000000\n",
       "mean    74697.500000     370.192426    1252.099842\n",
       "std     43127.054745     278.300951     144.050823\n",
       "min         0.000000       0.000000    1000.000000\n",
       "25%     37348.750000     138.187500    1130.000000\n",
       "50%     74697.500000     348.015000    1251.000000\n",
       "75%    112046.250000     559.552500    1380.000000\n",
       "max    149395.000000    1724.830000    1499.000000"
      ]
     },
     "execution_count": 7,
     "metadata": {},
     "output_type": "execute_result"
    }
   ],
   "source": [
    "internet.describe()"
   ]
  },
  {
   "cell_type": "markdown",
   "metadata": {},
   "source": [
    "Ситуация очень похожа на таблицу с звонками, но появилось в начале поле Unnamed: 0, которое является числовой возрастающей последовательностью и ничего в себе не несет, поэтому можем от этого поля избавиться.  \n",
    "\n",
    "Также встречаются 0 затраты на интернет и дата не в формате даты"
   ]
  },
  {
   "cell_type": "code",
   "execution_count": 8,
   "metadata": {},
   "outputs": [],
   "source": [
    "del internet['Unnamed: 0']"
   ]
  },
  {
   "cell_type": "markdown",
   "metadata": {},
   "source": [
    "Посмотрим на таблицу сообщений"
   ]
  },
  {
   "cell_type": "code",
   "execution_count": 9,
   "metadata": {},
   "outputs": [
    {
     "name": "stdout",
     "output_type": "stream",
     "text": [
      "<class 'pandas.core.frame.DataFrame'>\n",
      "RangeIndex: 123036 entries, 0 to 123035\n",
      "Data columns (total 3 columns):\n",
      "id              123036 non-null object\n",
      "message_date    123036 non-null object\n",
      "user_id         123036 non-null int64\n",
      "dtypes: int64(1), object(2)\n",
      "memory usage: 2.8+ MB\n"
     ]
    }
   ],
   "source": [
    "messages.info()"
   ]
  },
  {
   "cell_type": "markdown",
   "metadata": {},
   "source": [
    "По сообщениям есть только id, дата отправки и id пользователя, которому оно принадлежит. Здесь проблем с пропусками нет, все данные полные.  \n",
    "\n",
    "Опять тип данных даты неверный.  \n",
    "\n",
    "Посмотрим на таблицу пользователей"
   ]
  },
  {
   "cell_type": "code",
   "execution_count": 10,
   "metadata": {},
   "outputs": [
    {
     "name": "stdout",
     "output_type": "stream",
     "text": [
      "<class 'pandas.core.frame.DataFrame'>\n",
      "RangeIndex: 500 entries, 0 to 499\n",
      "Data columns (total 8 columns):\n",
      "user_id       500 non-null int64\n",
      "age           500 non-null int64\n",
      "churn_date    38 non-null object\n",
      "city          500 non-null object\n",
      "first_name    500 non-null object\n",
      "last_name     500 non-null object\n",
      "reg_date      500 non-null object\n",
      "tariff        500 non-null object\n",
      "dtypes: int64(2), object(6)\n",
      "memory usage: 31.4+ KB\n"
     ]
    }
   ],
   "source": [
    "users.info()"
   ]
  },
  {
   "cell_type": "code",
   "execution_count": 11,
   "metadata": {},
   "outputs": [
    {
     "data": {
      "text/html": [
       "<div>\n",
       "<style scoped>\n",
       "    .dataframe tbody tr th:only-of-type {\n",
       "        vertical-align: middle;\n",
       "    }\n",
       "\n",
       "    .dataframe tbody tr th {\n",
       "        vertical-align: top;\n",
       "    }\n",
       "\n",
       "    .dataframe thead th {\n",
       "        text-align: right;\n",
       "    }\n",
       "</style>\n",
       "<table border=\"1\" class=\"dataframe\">\n",
       "  <thead>\n",
       "    <tr style=\"text-align: right;\">\n",
       "      <th></th>\n",
       "      <th>user_id</th>\n",
       "      <th>age</th>\n",
       "    </tr>\n",
       "  </thead>\n",
       "  <tbody>\n",
       "    <tr>\n",
       "      <td>count</td>\n",
       "      <td>500.000000</td>\n",
       "      <td>500.00000</td>\n",
       "    </tr>\n",
       "    <tr>\n",
       "      <td>mean</td>\n",
       "      <td>1249.500000</td>\n",
       "      <td>46.58800</td>\n",
       "    </tr>\n",
       "    <tr>\n",
       "      <td>std</td>\n",
       "      <td>144.481833</td>\n",
       "      <td>16.66763</td>\n",
       "    </tr>\n",
       "    <tr>\n",
       "      <td>min</td>\n",
       "      <td>1000.000000</td>\n",
       "      <td>18.00000</td>\n",
       "    </tr>\n",
       "    <tr>\n",
       "      <td>25%</td>\n",
       "      <td>1124.750000</td>\n",
       "      <td>32.00000</td>\n",
       "    </tr>\n",
       "    <tr>\n",
       "      <td>50%</td>\n",
       "      <td>1249.500000</td>\n",
       "      <td>46.00000</td>\n",
       "    </tr>\n",
       "    <tr>\n",
       "      <td>75%</td>\n",
       "      <td>1374.250000</td>\n",
       "      <td>62.00000</td>\n",
       "    </tr>\n",
       "    <tr>\n",
       "      <td>max</td>\n",
       "      <td>1499.000000</td>\n",
       "      <td>75.00000</td>\n",
       "    </tr>\n",
       "  </tbody>\n",
       "</table>\n",
       "</div>"
      ],
      "text/plain": [
       "           user_id        age\n",
       "count   500.000000  500.00000\n",
       "mean   1249.500000   46.58800\n",
       "std     144.481833   16.66763\n",
       "min    1000.000000   18.00000\n",
       "25%    1124.750000   32.00000\n",
       "50%    1249.500000   46.00000\n",
       "75%    1374.250000   62.00000\n",
       "max    1499.000000   75.00000"
      ]
     },
     "execution_count": 11,
     "metadata": {},
     "output_type": "execute_result"
    }
   ],
   "source": [
    "users.describe()"
   ]
  },
  {
   "cell_type": "markdown",
   "metadata": {},
   "source": [
    "По пользователям много данных. Встречаются пропуски в churn_date (дата прекращения использования тарифа), но пустые данные здесь значат, что пользователя не ушел.\n",
    "Возрасты пользователей соответсвуют реальной жизни - с 18 лет до 75 лет.  \n",
    "\n",
    "Опять наблюдает неверный тип данных для дат (churn_date, reg_date)\n",
    "\n",
    "Посмотрим на тарифы"
   ]
  },
  {
   "cell_type": "code",
   "execution_count": 12,
   "metadata": {},
   "outputs": [
    {
     "name": "stdout",
     "output_type": "stream",
     "text": [
      "<class 'pandas.core.frame.DataFrame'>\n",
      "RangeIndex: 2 entries, 0 to 1\n",
      "Data columns (total 8 columns):\n",
      "messages_included        2 non-null int64\n",
      "mb_per_month_included    2 non-null int64\n",
      "minutes_included         2 non-null int64\n",
      "rub_monthly_fee          2 non-null int64\n",
      "rub_per_gb               2 non-null int64\n",
      "rub_per_message          2 non-null int64\n",
      "rub_per_minute           2 non-null int64\n",
      "tariff_name              2 non-null object\n",
      "dtypes: int64(7), object(1)\n",
      "memory usage: 256.0+ bytes\n"
     ]
    }
   ],
   "source": [
    "tarrifs.info()"
   ]
  },
  {
   "cell_type": "code",
   "execution_count": 13,
   "metadata": {},
   "outputs": [
    {
     "data": {
      "text/html": [
       "<div>\n",
       "<style scoped>\n",
       "    .dataframe tbody tr th:only-of-type {\n",
       "        vertical-align: middle;\n",
       "    }\n",
       "\n",
       "    .dataframe tbody tr th {\n",
       "        vertical-align: top;\n",
       "    }\n",
       "\n",
       "    .dataframe thead th {\n",
       "        text-align: right;\n",
       "    }\n",
       "</style>\n",
       "<table border=\"1\" class=\"dataframe\">\n",
       "  <thead>\n",
       "    <tr style=\"text-align: right;\">\n",
       "      <th></th>\n",
       "      <th>messages_included</th>\n",
       "      <th>mb_per_month_included</th>\n",
       "      <th>minutes_included</th>\n",
       "      <th>rub_monthly_fee</th>\n",
       "      <th>rub_per_gb</th>\n",
       "      <th>rub_per_message</th>\n",
       "      <th>rub_per_minute</th>\n",
       "      <th>tariff_name</th>\n",
       "    </tr>\n",
       "  </thead>\n",
       "  <tbody>\n",
       "    <tr>\n",
       "      <td>0</td>\n",
       "      <td>50</td>\n",
       "      <td>15360</td>\n",
       "      <td>500</td>\n",
       "      <td>550</td>\n",
       "      <td>200</td>\n",
       "      <td>3</td>\n",
       "      <td>3</td>\n",
       "      <td>smart</td>\n",
       "    </tr>\n",
       "    <tr>\n",
       "      <td>1</td>\n",
       "      <td>1000</td>\n",
       "      <td>30720</td>\n",
       "      <td>3000</td>\n",
       "      <td>1950</td>\n",
       "      <td>150</td>\n",
       "      <td>1</td>\n",
       "      <td>1</td>\n",
       "      <td>ultra</td>\n",
       "    </tr>\n",
       "  </tbody>\n",
       "</table>\n",
       "</div>"
      ],
      "text/plain": [
       "   messages_included  mb_per_month_included  minutes_included  \\\n",
       "0                 50                  15360               500   \n",
       "1               1000                  30720              3000   \n",
       "\n",
       "   rub_monthly_fee  rub_per_gb  rub_per_message  rub_per_minute tariff_name  \n",
       "0              550         200                3               3       smart  \n",
       "1             1950         150                1               1       ultra  "
      ]
     },
     "execution_count": 13,
     "metadata": {},
     "output_type": "execute_result"
    }
   ],
   "source": [
    "tarrifs"
   ]
  },
  {
   "cell_type": "markdown",
   "metadata": {},
   "source": [
    "С тарифами все в порядке"
   ]
  },
  {
   "cell_type": "markdown",
   "metadata": {},
   "source": [
    "<a name=\"step1_conclusion\"></a>\n",
    "### Вывод"
   ]
  },
  {
   "cell_type": "markdown",
   "metadata": {},
   "source": [
    "#### Пропуски\n",
    "1. Таблица calls, поле duration - есть звонки с 0 продолжительностью\n",
    "2. Таблица internet, поле mb_used - есть неистраченный интернет  \n",
    "\n",
    "#### Замена типов данных\n",
    "Проблемы с типами данных были только у полей с датой, необходимо преобразовать строковый тип в тип даты-время\n",
    "1. Таблица calls, поле call_date (object -> datetime)\n",
    "2. Таблица internet, поле session_date (object -> datetime)\n",
    "3. Таблица messages, поле message_date (object -> datetime)\n",
    "2. Таблица users, поле churn_date (object -> datetime)\n",
    "3. Таблица users, поле reg_date (object -> datetime)  "
   ]
  },
  {
   "cell_type": "markdown",
   "metadata": {},
   "source": [
    "<a name=\"step2\"></a>\n",
    "### Шаг 2. Подготовка данных"
   ]
  },
  {
   "cell_type": "markdown",
   "metadata": {},
   "source": [
    "<a name=\"step2.1\"></a>\n",
    "#### Приведение данных к нужным типам   \n",
    "Требуется только замена данных типа object на тип datetime"
   ]
  },
  {
   "cell_type": "code",
   "execution_count": 14,
   "metadata": {},
   "outputs": [],
   "source": [
    "dist_cols_from_object_to_dt = {\n",
    "    'call_date': calls,\n",
    "    'session_date': internet,\n",
    "    'message_date': messages,\n",
    "    'churn_date': users,\n",
    "    'reg_date': users,\n",
    "}"
   ]
  },
  {
   "cell_type": "code",
   "execution_count": 15,
   "metadata": {},
   "outputs": [
    {
     "name": "stdout",
     "output_type": "stream",
     "text": [
      "0   2018-07-25\n",
      "1   2018-08-17\n",
      "2   2018-06-11\n",
      "Name: call_date, dtype: datetime64[ns]\n",
      "0   2018-11-25\n",
      "1   2018-09-07\n",
      "2   2018-06-25\n",
      "Name: session_date, dtype: datetime64[ns]\n",
      "0   2018-06-27\n",
      "1   2018-10-08\n",
      "2   2018-08-04\n",
      "Name: message_date, dtype: datetime64[ns]\n",
      "0   NaT\n",
      "1   NaT\n",
      "2   NaT\n",
      "Name: churn_date, dtype: datetime64[ns]\n",
      "0   2018-05-25\n",
      "1   2018-11-01\n",
      "2   2018-06-17\n",
      "Name: reg_date, dtype: datetime64[ns]\n"
     ]
    }
   ],
   "source": [
    "for col_name in dist_cols_from_object_to_dt.keys():\n",
    "    table_name = dist_cols_from_object_to_dt[col_name]\n",
    "    table_name[col_name] = pd.to_datetime(table_name[col_name])\n",
    "    print(table_name[col_name].head(3))"
   ]
  },
  {
   "cell_type": "markdown",
   "metadata": {},
   "source": [
    "<font color=green>  Хорошая идея.           </font>"
   ]
  },
  {
   "cell_type": "markdown",
   "metadata": {},
   "source": [
    "Замена типов данных произошла успешно\n",
    "  \n",
    "<a name=\"step2.2\"></a>\n",
    "#### Исправление ошибок в данных  \n",
    "Ошибки есть в столбцах duration (время разговора) и в mb_used (использоанный интернет).  \n",
    "Одна из возможных причин -  это произошли какие-то сбои, и, скорее всего, данные не полностью дошли до сервера"
   ]
  },
  {
   "cell_type": "code",
   "execution_count": 16,
   "metadata": {},
   "outputs": [
    {
     "name": "stdout",
     "output_type": "stream",
     "text": [
      "Процент нулевых значений звонков = 19.55%\n",
      "Процент нулевых значений использованного интернета = 13.12%\n"
     ]
    }
   ],
   "source": [
    "print('Процент нулевых значений звонков = {:.2%}'.format(len(calls.query('duration == 0')) / len(calls)))\n",
    "print('Процент нулевых значений использованного интернета = {:.2%}'.format(len(internet.query('mb_used == 0')) / len(internet)))"
   ]
  },
  {
   "cell_type": "markdown",
   "metadata": {},
   "source": [
    "Слишком много данных, чтобы от них избавиться, да и выборку таким образом можно сделать не репрезентативной.   \n",
    "Необходимо заполнить такие пропуски"
   ]
  },
  {
   "cell_type": "code",
   "execution_count": 17,
   "metadata": {},
   "outputs": [],
   "source": [
    "# соберем небольшую статистику по 0 значениям\n",
    "dict_frame_null = {\n",
    "    1: [calls, 'call_date', 'duration'],\n",
    "    2: [internet, 'session_date', 'mb_used'],\n",
    "}\n",
    "\n",
    "days_counts = pd.DataFrame(index=calls['call_date'].unique()) # создадим датафрейм с индексами дат звонков \n",
    "\n",
    "for key in dict_frame_null.keys():\n",
    "    df = dict_frame_null[key][0]\n",
    "    col_date = dict_frame_null[key][1]\n",
    "    col_witn_null_values = dict_frame_null[key][2]\n",
    "    \n",
    "    # подсчет всех звонков/трат интернет-пакета\n",
    "    days_counts[col_date] = df[col_date].value_counts()\n",
    "    \n",
    "    # подсчет нулевых звонков/трат интернет-пакета\n",
    "    days_counts[col_date+'_null'] = df.query(col_witn_null_values+' == 0')[col_date].value_counts()\n",
    "    \n",
    "    # подсчет % нулевых звонков/трат интернет-пакета\n",
    "    days_counts[col_date+'_%_null'] = days_counts[col_date+'_null'] / days_counts[col_date]"
   ]
  },
  {
   "cell_type": "code",
   "execution_count": 18,
   "metadata": {},
   "outputs": [
    {
     "data": {
      "text/html": [
       "<div>\n",
       "<style scoped>\n",
       "    .dataframe tbody tr th:only-of-type {\n",
       "        vertical-align: middle;\n",
       "    }\n",
       "\n",
       "    .dataframe tbody tr th {\n",
       "        vertical-align: top;\n",
       "    }\n",
       "\n",
       "    .dataframe thead th {\n",
       "        text-align: right;\n",
       "    }\n",
       "</style>\n",
       "<table border=\"1\" class=\"dataframe\">\n",
       "  <thead>\n",
       "    <tr style=\"text-align: right;\">\n",
       "      <th></th>\n",
       "      <th>call_date</th>\n",
       "      <th>call_date_null</th>\n",
       "      <th>call_date_%_null</th>\n",
       "      <th>session_date</th>\n",
       "      <th>session_date_null</th>\n",
       "      <th>session_date_%_null</th>\n",
       "    </tr>\n",
       "  </thead>\n",
       "  <tbody>\n",
       "    <tr>\n",
       "      <td>count</td>\n",
       "      <td>365.000000</td>\n",
       "      <td>365.000000</td>\n",
       "      <td>365.000000</td>\n",
       "      <td>365.000000</td>\n",
       "      <td>364.000000</td>\n",
       "      <td>364.000000</td>\n",
       "    </tr>\n",
       "    <tr>\n",
       "      <td>mean</td>\n",
       "      <td>555.087671</td>\n",
       "      <td>108.528767</td>\n",
       "      <td>0.197273</td>\n",
       "      <td>409.304110</td>\n",
       "      <td>53.840659</td>\n",
       "      <td>0.132625</td>\n",
       "    </tr>\n",
       "    <tr>\n",
       "      <td>std</td>\n",
       "      <td>332.938883</td>\n",
       "      <td>65.727479</td>\n",
       "      <td>0.034778</td>\n",
       "      <td>244.549121</td>\n",
       "      <td>33.236143</td>\n",
       "      <td>0.028882</td>\n",
       "    </tr>\n",
       "    <tr>\n",
       "      <td>min</td>\n",
       "      <td>5.000000</td>\n",
       "      <td>1.000000</td>\n",
       "      <td>0.058824</td>\n",
       "      <td>3.000000</td>\n",
       "      <td>1.000000</td>\n",
       "      <td>0.046875</td>\n",
       "    </tr>\n",
       "    <tr>\n",
       "      <td>25%</td>\n",
       "      <td>262.000000</td>\n",
       "      <td>50.000000</td>\n",
       "      <td>0.183007</td>\n",
       "      <td>184.000000</td>\n",
       "      <td>23.750000</td>\n",
       "      <td>0.118664</td>\n",
       "    </tr>\n",
       "    <tr>\n",
       "      <td>50%</td>\n",
       "      <td>550.000000</td>\n",
       "      <td>105.000000</td>\n",
       "      <td>0.195423</td>\n",
       "      <td>410.000000</td>\n",
       "      <td>51.500000</td>\n",
       "      <td>0.130435</td>\n",
       "    </tr>\n",
       "    <tr>\n",
       "      <td>75%</td>\n",
       "      <td>831.000000</td>\n",
       "      <td>162.000000</td>\n",
       "      <td>0.208251</td>\n",
       "      <td>613.000000</td>\n",
       "      <td>81.000000</td>\n",
       "      <td>0.143395</td>\n",
       "    </tr>\n",
       "    <tr>\n",
       "      <td>max</td>\n",
       "      <td>1435.000000</td>\n",
       "      <td>262.000000</td>\n",
       "      <td>0.571429</td>\n",
       "      <td>1057.000000</td>\n",
       "      <td>141.000000</td>\n",
       "      <td>0.333333</td>\n",
       "    </tr>\n",
       "  </tbody>\n",
       "</table>\n",
       "</div>"
      ],
      "text/plain": [
       "         call_date  call_date_null  call_date_%_null  session_date  \\\n",
       "count   365.000000      365.000000        365.000000    365.000000   \n",
       "mean    555.087671      108.528767          0.197273    409.304110   \n",
       "std     332.938883       65.727479          0.034778    244.549121   \n",
       "min       5.000000        1.000000          0.058824      3.000000   \n",
       "25%     262.000000       50.000000          0.183007    184.000000   \n",
       "50%     550.000000      105.000000          0.195423    410.000000   \n",
       "75%     831.000000      162.000000          0.208251    613.000000   \n",
       "max    1435.000000      262.000000          0.571429   1057.000000   \n",
       "\n",
       "       session_date_null  session_date_%_null  \n",
       "count         364.000000           364.000000  \n",
       "mean           53.840659             0.132625  \n",
       "std            33.236143             0.028882  \n",
       "min             1.000000             0.046875  \n",
       "25%            23.750000             0.118664  \n",
       "50%            51.500000             0.130435  \n",
       "75%            81.000000             0.143395  \n",
       "max           141.000000             0.333333  "
      ]
     },
     "execution_count": 18,
     "metadata": {},
     "output_type": "execute_result"
    }
   ],
   "source": [
    "days_counts.describe()"
   ]
  },
  {
   "cell_type": "code",
   "execution_count": 19,
   "metadata": {},
   "outputs": [
    {
     "data": {
      "text/html": [
       "<div>\n",
       "<style scoped>\n",
       "    .dataframe tbody tr th:only-of-type {\n",
       "        vertical-align: middle;\n",
       "    }\n",
       "\n",
       "    .dataframe tbody tr th {\n",
       "        vertical-align: top;\n",
       "    }\n",
       "\n",
       "    .dataframe thead th {\n",
       "        text-align: right;\n",
       "    }\n",
       "</style>\n",
       "<table border=\"1\" class=\"dataframe\">\n",
       "  <thead>\n",
       "    <tr style=\"text-align: right;\">\n",
       "      <th></th>\n",
       "      <th>call_date</th>\n",
       "      <th>call_date_null</th>\n",
       "      <th>call_date_%_null</th>\n",
       "      <th>session_date</th>\n",
       "      <th>session_date_null</th>\n",
       "      <th>session_date_%_null</th>\n",
       "    </tr>\n",
       "  </thead>\n",
       "  <tbody>\n",
       "    <tr>\n",
       "      <td>2018-12-31</td>\n",
       "      <td>1435</td>\n",
       "      <td>262</td>\n",
       "      <td>0.182578</td>\n",
       "      <td>1057</td>\n",
       "      <td>141.0</td>\n",
       "      <td>0.133396</td>\n",
       "    </tr>\n",
       "    <tr>\n",
       "      <td>2018-12-24</td>\n",
       "      <td>1114</td>\n",
       "      <td>247</td>\n",
       "      <td>0.221724</td>\n",
       "      <td>820</td>\n",
       "      <td>92.0</td>\n",
       "      <td>0.112195</td>\n",
       "    </tr>\n",
       "    <tr>\n",
       "      <td>2018-12-29</td>\n",
       "      <td>1202</td>\n",
       "      <td>243</td>\n",
       "      <td>0.202163</td>\n",
       "      <td>825</td>\n",
       "      <td>125.0</td>\n",
       "      <td>0.151515</td>\n",
       "    </tr>\n",
       "    <tr>\n",
       "      <td>2018-12-30</td>\n",
       "      <td>1192</td>\n",
       "      <td>233</td>\n",
       "      <td>0.195470</td>\n",
       "      <td>903</td>\n",
       "      <td>125.0</td>\n",
       "      <td>0.138427</td>\n",
       "    </tr>\n",
       "    <tr>\n",
       "      <td>2018-12-23</td>\n",
       "      <td>1077</td>\n",
       "      <td>230</td>\n",
       "      <td>0.213556</td>\n",
       "      <td>808</td>\n",
       "      <td>98.0</td>\n",
       "      <td>0.121287</td>\n",
       "    </tr>\n",
       "    <tr>\n",
       "      <td>...</td>\n",
       "      <td>...</td>\n",
       "      <td>...</td>\n",
       "      <td>...</td>\n",
       "      <td>...</td>\n",
       "      <td>...</td>\n",
       "      <td>...</td>\n",
       "    </tr>\n",
       "    <tr>\n",
       "      <td>2018-01-08</td>\n",
       "      <td>31</td>\n",
       "      <td>3</td>\n",
       "      <td>0.096774</td>\n",
       "      <td>23</td>\n",
       "      <td>3.0</td>\n",
       "      <td>0.130435</td>\n",
       "    </tr>\n",
       "    <tr>\n",
       "      <td>2018-01-02</td>\n",
       "      <td>9</td>\n",
       "      <td>3</td>\n",
       "      <td>0.333333</td>\n",
       "      <td>3</td>\n",
       "      <td>1.0</td>\n",
       "      <td>0.333333</td>\n",
       "    </tr>\n",
       "    <tr>\n",
       "      <td>2018-01-07</td>\n",
       "      <td>18</td>\n",
       "      <td>3</td>\n",
       "      <td>0.166667</td>\n",
       "      <td>17</td>\n",
       "      <td>3.0</td>\n",
       "      <td>0.176471</td>\n",
       "    </tr>\n",
       "    <tr>\n",
       "      <td>2018-01-04</td>\n",
       "      <td>23</td>\n",
       "      <td>3</td>\n",
       "      <td>0.130435</td>\n",
       "      <td>9</td>\n",
       "      <td>3.0</td>\n",
       "      <td>0.333333</td>\n",
       "    </tr>\n",
       "    <tr>\n",
       "      <td>2018-01-01</td>\n",
       "      <td>5</td>\n",
       "      <td>1</td>\n",
       "      <td>0.200000</td>\n",
       "      <td>3</td>\n",
       "      <td>1.0</td>\n",
       "      <td>0.333333</td>\n",
       "    </tr>\n",
       "  </tbody>\n",
       "</table>\n",
       "<p>365 rows × 6 columns</p>\n",
       "</div>"
      ],
      "text/plain": [
       "            call_date  call_date_null  call_date_%_null  session_date  \\\n",
       "2018-12-31       1435             262          0.182578          1057   \n",
       "2018-12-24       1114             247          0.221724           820   \n",
       "2018-12-29       1202             243          0.202163           825   \n",
       "2018-12-30       1192             233          0.195470           903   \n",
       "2018-12-23       1077             230          0.213556           808   \n",
       "...               ...             ...               ...           ...   \n",
       "2018-01-08         31               3          0.096774            23   \n",
       "2018-01-02          9               3          0.333333             3   \n",
       "2018-01-07         18               3          0.166667            17   \n",
       "2018-01-04         23               3          0.130435             9   \n",
       "2018-01-01          5               1          0.200000             3   \n",
       "\n",
       "            session_date_null  session_date_%_null  \n",
       "2018-12-31              141.0             0.133396  \n",
       "2018-12-24               92.0             0.112195  \n",
       "2018-12-29              125.0             0.151515  \n",
       "2018-12-30              125.0             0.138427  \n",
       "2018-12-23               98.0             0.121287  \n",
       "...                       ...                  ...  \n",
       "2018-01-08                3.0             0.130435  \n",
       "2018-01-02                1.0             0.333333  \n",
       "2018-01-07                3.0             0.176471  \n",
       "2018-01-04                3.0             0.333333  \n",
       "2018-01-01                1.0             0.333333  \n",
       "\n",
       "[365 rows x 6 columns]"
      ]
     },
     "execution_count": 19,
     "metadata": {},
     "output_type": "execute_result"
    }
   ],
   "source": [
    "days_counts.sort_values('call_date_null', ascending=False)"
   ]
  },
  {
   "cell_type": "markdown",
   "metadata": {},
   "source": [
    "Самый частый день с пропусками - 31 декабря (оно и логично, в этот день больше всего звонков и времени использования интернета) и больше всего сбоев в сети.\n",
    "  \n",
    "Но пропуски в день достигают до 57% по звонкам и до 33% по интернету, что очень много даже для репрезентативной выборки.  \n",
    "\n",
    "Необходимо сообщить, что система работает не совсем исправно и часто данные теряются по пути (19% по звонкам и 13% по интернету в среднем). Если так и дальше собирать данные, то с возрастающей нагрузкой (приток новых клиентов) компания не сможет справиться - не сможет с высокой точностью проводить анализ, при увеличении количества тарифов не сможет определить каким клиентам какой тариф подходит."
   ]
  },
  {
   "cell_type": "markdown",
   "metadata": {},
   "source": [
    "#### Заполнение пропусков\n",
    "Теперь поговорим про заполнение пропусков. Заполнить все пропуски медианой или средним арифметическим, это приведет к искажению данных в выборке и неправильному распределению данных. Также нельзя сказать, что известные данные подчиняются определенному закону - линейная, квардатичная зависимость и тд - звонки и трата интернета совершенно случайное распределение.  \n",
    "\n",
    "Поэтому рассмотрим факторы, которые могут влиять на продолжительность разговора и использованный трафик интернета. При прочих равных длина телефонного звонка/использования трафика зависит от: \n",
    "- человека, котрый ими пользуется (это может быть заядлый болтун, пенсионер, молодое поколение и тд)\n",
    "- человека, кому предназначен звонок (с родителями быстрый разговор, а с друзьями долгие беседы) (! нет данных по нашей выборке)\n",
    "- день недели (быстрые звонки в будни и расллабленные долгие разговоры и серфинг в интернете по выходным)"
   ]
  },
  {
   "cell_type": "code",
   "execution_count": 20,
   "metadata": {},
   "outputs": [],
   "source": [
    "# опишем функцию, которая по дню недели и юзеру определяет среднее - время разговора или использованный трафик\n",
    "def mean_time_with_factor_user_date(row, df, col_time, col_factor_date, col_factor_user='user_id'):\n",
    "    '''\n",
    "    Функция, которая по дню недели(col_factor_date) \n",
    "    и юзеру (col_factor_user) выводит среднее время (col_time) в датафрейме (df)\n",
    "    '''\n",
    "    user = row[col_factor_user]\n",
    "    weekday = row[col_factor_date].weekday() \n",
    "    # отбираем текущего юзера, текущий день недели и ненулевые отметки о времени\n",
    "    mean = df.query(col_factor_user + ' == @user and ' \n",
    "                       + col_factor_date + '.dt.weekday == @weekday and ' \n",
    "                       + col_time + ' != 0'\n",
    "                      )[col_time].mean()\n",
    "    return mean"
   ]
  },
  {
   "cell_type": "code",
   "execution_count": 21,
   "metadata": {},
   "outputs": [
    {
     "name": "stdout",
     "output_type": "stream",
     "text": [
      "Осталось нулевых значений поля mb_used = 0\n"
     ]
    }
   ],
   "source": [
    "# воспользуемся предыдущим словарем - \n",
    "\n",
    "# dict_frame_null = {\n",
    "#     1: [calls, 'call_date', 'duration'],\n",
    "#     2: [internet, 'session_date', 'mb_used'],\n",
    "# }\n",
    "\n",
    "for key in dict_frame_null.keys():\n",
    "    df = dict_frame_null[key][0]\n",
    "    col_date = dict_frame_null[key][1]\n",
    "    col_with_null_values = dict_frame_null[key][2]\n",
    "    \n",
    "    df.loc[df[col_with_null_values] == 0, col_with_null_values] = df.query(col_with_null_values + ' == 0') \\\n",
    "    .apply(lambda row: mean_time_with_factor_user_date(row, df, col_with_null_values, col_date), axis=1)\n",
    "    \n",
    "    # проверка\n",
    "    print('Осталось нулевых значений поля {} = {}'.format(col_with_null_values, len(df.query(col_with_null_values + ' == 0'))))"
   ]
  },
  {
   "cell_type": "markdown",
   "metadata": {},
   "source": [
    "<a name=\"step2.3\"></a>\n",
    "#### Подсчет агрегированной информации по каждому пользователю"
   ]
  },
  {
   "cell_type": "markdown",
   "metadata": {},
   "source": [
    "Количество сделанных звонков и израсходованных минут разговора по месяцам"
   ]
  },
  {
   "cell_type": "code",
   "execution_count": 22,
   "metadata": {},
   "outputs": [],
   "source": [
    "col_month = 'month'\n",
    "col_user = 'user_id'\n",
    "\n",
    "users_spend = pd.DataFrame()"
   ]
  },
  {
   "cell_type": "code",
   "execution_count": 23,
   "metadata": {},
   "outputs": [],
   "source": [
    "def aggregate_user_month(df, col_date, col_with_values):  \n",
    "    '''\n",
    "    Функция, группирующая по признаку юзера и месяца\n",
    "    '''\n",
    "    df[col_month] = df[col_date].dt.month\n",
    "    return df.groupby([col_user, col_month])[col_with_values]"
   ]
  },
  {
   "cell_type": "code",
   "execution_count": 24,
   "metadata": {},
   "outputs": [
    {
     "data": {
      "text/html": [
       "<div>\n",
       "<style scoped>\n",
       "    .dataframe tbody tr th:only-of-type {\n",
       "        vertical-align: middle;\n",
       "    }\n",
       "\n",
       "    .dataframe tbody tr th {\n",
       "        vertical-align: top;\n",
       "    }\n",
       "\n",
       "    .dataframe thead th {\n",
       "        text-align: right;\n",
       "    }\n",
       "</style>\n",
       "<table border=\"1\" class=\"dataframe\">\n",
       "  <thead>\n",
       "    <tr style=\"text-align: right;\">\n",
       "      <th></th>\n",
       "      <th></th>\n",
       "      <th>count_call</th>\n",
       "      <th>minutes_call</th>\n",
       "    </tr>\n",
       "    <tr>\n",
       "      <th>user_id</th>\n",
       "      <th>month</th>\n",
       "      <th></th>\n",
       "      <th></th>\n",
       "    </tr>\n",
       "  </thead>\n",
       "  <tbody>\n",
       "    <tr>\n",
       "      <td rowspan=\"5\" valign=\"top\">1000</td>\n",
       "      <td>5</td>\n",
       "      <td>22</td>\n",
       "      <td>201.0</td>\n",
       "    </tr>\n",
       "    <tr>\n",
       "      <td>6</td>\n",
       "      <td>43</td>\n",
       "      <td>298.0</td>\n",
       "    </tr>\n",
       "    <tr>\n",
       "      <td>7</td>\n",
       "      <td>47</td>\n",
       "      <td>394.0</td>\n",
       "    </tr>\n",
       "    <tr>\n",
       "      <td>8</td>\n",
       "      <td>52</td>\n",
       "      <td>491.0</td>\n",
       "    </tr>\n",
       "    <tr>\n",
       "      <td>9</td>\n",
       "      <td>58</td>\n",
       "      <td>564.0</td>\n",
       "    </tr>\n",
       "  </tbody>\n",
       "</table>\n",
       "</div>"
      ],
      "text/plain": [
       "               count_call  minutes_call\n",
       "user_id month                          \n",
       "1000    5              22         201.0\n",
       "        6              43         298.0\n",
       "        7              47         394.0\n",
       "        8              52         491.0\n",
       "        9              58         564.0"
      ]
     },
     "execution_count": 24,
     "metadata": {},
     "output_type": "execute_result"
    }
   ],
   "source": [
    "users_spend['count_call'] = aggregate_user_month(calls, 'call_date', 'duration').count()\n",
    "\n",
    "# возьмем по округленным вверх значениям сумму звонков\n",
    "calls['round_duration'] = calls['duration'].apply(np.ceil)\n",
    "users_spend['minutes_call'] = aggregate_user_month(calls, 'call_date', 'round_duration').sum()\n",
    "\n",
    "# проверка\n",
    "users_spend.head()"
   ]
  },
  {
   "cell_type": "markdown",
   "metadata": {},
   "source": [
    "Количество отправленных сообщений по месяцам"
   ]
  },
  {
   "cell_type": "code",
   "execution_count": 25,
   "metadata": {},
   "outputs": [
    {
     "data": {
      "text/html": [
       "<div>\n",
       "<style scoped>\n",
       "    .dataframe tbody tr th:only-of-type {\n",
       "        vertical-align: middle;\n",
       "    }\n",
       "\n",
       "    .dataframe tbody tr th {\n",
       "        vertical-align: top;\n",
       "    }\n",
       "\n",
       "    .dataframe thead th {\n",
       "        text-align: right;\n",
       "    }\n",
       "</style>\n",
       "<table border=\"1\" class=\"dataframe\">\n",
       "  <thead>\n",
       "    <tr style=\"text-align: right;\">\n",
       "      <th></th>\n",
       "      <th></th>\n",
       "      <th>count_call</th>\n",
       "      <th>minutes_call</th>\n",
       "    </tr>\n",
       "    <tr>\n",
       "      <th>user_id</th>\n",
       "      <th>month</th>\n",
       "      <th></th>\n",
       "      <th></th>\n",
       "    </tr>\n",
       "  </thead>\n",
       "  <tbody>\n",
       "    <tr>\n",
       "      <td>1498</td>\n",
       "      <td>10</td>\n",
       "      <td>41</td>\n",
       "      <td>345.0</td>\n",
       "    </tr>\n",
       "    <tr>\n",
       "      <td rowspan=\"4\" valign=\"top\">1499</td>\n",
       "      <td>9</td>\n",
       "      <td>9</td>\n",
       "      <td>79.0</td>\n",
       "    </tr>\n",
       "    <tr>\n",
       "      <td>10</td>\n",
       "      <td>68</td>\n",
       "      <td>681.0</td>\n",
       "    </tr>\n",
       "    <tr>\n",
       "      <td>11</td>\n",
       "      <td>74</td>\n",
       "      <td>724.0</td>\n",
       "    </tr>\n",
       "    <tr>\n",
       "      <td>12</td>\n",
       "      <td>69</td>\n",
       "      <td>610.0</td>\n",
       "    </tr>\n",
       "  </tbody>\n",
       "</table>\n",
       "</div>"
      ],
      "text/plain": [
       "               count_call  minutes_call\n",
       "user_id month                          \n",
       "1498    10             41         345.0\n",
       "1499    9               9          79.0\n",
       "        10             68         681.0\n",
       "        11             74         724.0\n",
       "        12             69         610.0"
      ]
     },
     "execution_count": 25,
     "metadata": {},
     "output_type": "execute_result"
    }
   ],
   "source": [
    "users_spend.tail()"
   ]
  },
  {
   "cell_type": "code",
   "execution_count": 26,
   "metadata": {},
   "outputs": [
    {
     "data": {
      "text/html": [
       "<div>\n",
       "<style scoped>\n",
       "    .dataframe tbody tr th:only-of-type {\n",
       "        vertical-align: middle;\n",
       "    }\n",
       "\n",
       "    .dataframe tbody tr th {\n",
       "        vertical-align: top;\n",
       "    }\n",
       "\n",
       "    .dataframe thead th {\n",
       "        text-align: right;\n",
       "    }\n",
       "</style>\n",
       "<table border=\"1\" class=\"dataframe\">\n",
       "  <thead>\n",
       "    <tr style=\"text-align: right;\">\n",
       "      <th></th>\n",
       "      <th></th>\n",
       "      <th>count_call</th>\n",
       "      <th>minutes_call</th>\n",
       "      <th>messages</th>\n",
       "    </tr>\n",
       "    <tr>\n",
       "      <th>user_id</th>\n",
       "      <th>month</th>\n",
       "      <th></th>\n",
       "      <th></th>\n",
       "      <th></th>\n",
       "    </tr>\n",
       "  </thead>\n",
       "  <tbody>\n",
       "    <tr>\n",
       "      <td rowspan=\"5\" valign=\"top\">1000</td>\n",
       "      <td>5</td>\n",
       "      <td>22</td>\n",
       "      <td>201.0</td>\n",
       "      <td>22.0</td>\n",
       "    </tr>\n",
       "    <tr>\n",
       "      <td>6</td>\n",
       "      <td>43</td>\n",
       "      <td>298.0</td>\n",
       "      <td>60.0</td>\n",
       "    </tr>\n",
       "    <tr>\n",
       "      <td>7</td>\n",
       "      <td>47</td>\n",
       "      <td>394.0</td>\n",
       "      <td>75.0</td>\n",
       "    </tr>\n",
       "    <tr>\n",
       "      <td>8</td>\n",
       "      <td>52</td>\n",
       "      <td>491.0</td>\n",
       "      <td>81.0</td>\n",
       "    </tr>\n",
       "    <tr>\n",
       "      <td>9</td>\n",
       "      <td>58</td>\n",
       "      <td>564.0</td>\n",
       "      <td>57.0</td>\n",
       "    </tr>\n",
       "  </tbody>\n",
       "</table>\n",
       "</div>"
      ],
      "text/plain": [
       "               count_call  minutes_call  messages\n",
       "user_id month                                    \n",
       "1000    5              22         201.0      22.0\n",
       "        6              43         298.0      60.0\n",
       "        7              47         394.0      75.0\n",
       "        8              52         491.0      81.0\n",
       "        9              58         564.0      57.0"
      ]
     },
     "execution_count": 26,
     "metadata": {},
     "output_type": "execute_result"
    }
   ],
   "source": [
    "users_spend['messages'] = aggregate_user_month(messages, 'message_date', 'id').count()\n",
    "\n",
    "# проверка\n",
    "users_spend.head()"
   ]
  },
  {
   "cell_type": "markdown",
   "metadata": {},
   "source": [
    "Объем израсходованного интернет-трафика по месяцам "
   ]
  },
  {
   "cell_type": "code",
   "execution_count": 27,
   "metadata": {},
   "outputs": [
    {
     "data": {
      "text/html": [
       "<div>\n",
       "<style scoped>\n",
       "    .dataframe tbody tr th:only-of-type {\n",
       "        vertical-align: middle;\n",
       "    }\n",
       "\n",
       "    .dataframe tbody tr th {\n",
       "        vertical-align: top;\n",
       "    }\n",
       "\n",
       "    .dataframe thead th {\n",
       "        text-align: right;\n",
       "    }\n",
       "</style>\n",
       "<table border=\"1\" class=\"dataframe\">\n",
       "  <thead>\n",
       "    <tr style=\"text-align: right;\">\n",
       "      <th></th>\n",
       "      <th></th>\n",
       "      <th>count_call</th>\n",
       "      <th>minutes_call</th>\n",
       "      <th>messages</th>\n",
       "      <th>trafic</th>\n",
       "    </tr>\n",
       "    <tr>\n",
       "      <th>user_id</th>\n",
       "      <th>month</th>\n",
       "      <th></th>\n",
       "      <th></th>\n",
       "      <th></th>\n",
       "      <th></th>\n",
       "    </tr>\n",
       "  </thead>\n",
       "  <tbody>\n",
       "    <tr>\n",
       "      <td rowspan=\"5\" valign=\"top\">1000</td>\n",
       "      <td>5</td>\n",
       "      <td>22</td>\n",
       "      <td>201.0</td>\n",
       "      <td>22.0</td>\n",
       "      <td>2732.330312</td>\n",
       "    </tr>\n",
       "    <tr>\n",
       "      <td>6</td>\n",
       "      <td>43</td>\n",
       "      <td>298.0</td>\n",
       "      <td>60.0</td>\n",
       "      <td>25950.100600</td>\n",
       "    </tr>\n",
       "    <tr>\n",
       "      <td>7</td>\n",
       "      <td>47</td>\n",
       "      <td>394.0</td>\n",
       "      <td>75.0</td>\n",
       "      <td>14575.560741</td>\n",
       "    </tr>\n",
       "    <tr>\n",
       "      <td>8</td>\n",
       "      <td>52</td>\n",
       "      <td>491.0</td>\n",
       "      <td>81.0</td>\n",
       "      <td>15136.873226</td>\n",
       "    </tr>\n",
       "    <tr>\n",
       "      <td>9</td>\n",
       "      <td>58</td>\n",
       "      <td>564.0</td>\n",
       "      <td>57.0</td>\n",
       "      <td>15622.144450</td>\n",
       "    </tr>\n",
       "  </tbody>\n",
       "</table>\n",
       "</div>"
      ],
      "text/plain": [
       "               count_call  minutes_call  messages        trafic\n",
       "user_id month                                                  \n",
       "1000    5              22         201.0      22.0   2732.330312\n",
       "        6              43         298.0      60.0  25950.100600\n",
       "        7              47         394.0      75.0  14575.560741\n",
       "        8              52         491.0      81.0  15136.873226\n",
       "        9              58         564.0      57.0  15622.144450"
      ]
     },
     "execution_count": 27,
     "metadata": {},
     "output_type": "execute_result"
    }
   ],
   "source": [
    "users_spend['trafic'] = aggregate_user_month(internet, 'session_date', 'mb_used').sum()\n",
    "\n",
    "# проверка\n",
    "users_spend.head()"
   ]
  },
  {
   "cell_type": "markdown",
   "metadata": {},
   "source": [
    "<font color=red>  Трафик тоже нужно было округлить по правилам оператора.         </font>"
   ]
  },
  {
   "cell_type": "markdown",
   "metadata": {},
   "source": [
    "<font color=green>  Не стандартный способ объединения таблиц.  </font>"
   ]
  },
  {
   "cell_type": "markdown",
   "metadata": {},
   "source": [
    "Помесячная выручка с каждого пользователя"
   ]
  },
  {
   "cell_type": "code",
   "execution_count": 28,
   "metadata": {},
   "outputs": [
    {
     "data": {
      "text/plain": [
       "1023    1\n",
       "1194    1\n",
       "1181    1\n",
       "1182    1\n",
       "1183    1\n",
       "Name: user_id, dtype: int64"
      ]
     },
     "execution_count": 28,
     "metadata": {},
     "output_type": "execute_result"
    }
   ],
   "source": [
    "# проверим, встречаются ли одинаковые юзеры с разными тарифами\n",
    "users[col_user].value_counts()[:5]"
   ]
  },
  {
   "cell_type": "markdown",
   "metadata": {},
   "source": [
    "У одного пользователя - один тариф. Это очень удобно для нас - мы можем соединить данные вместе и при этом они не намножатся"
   ]
  },
  {
   "cell_type": "code",
   "execution_count": 29,
   "metadata": {},
   "outputs": [
    {
     "data": {
      "text/html": [
       "<div>\n",
       "<style scoped>\n",
       "    .dataframe tbody tr th:only-of-type {\n",
       "        vertical-align: middle;\n",
       "    }\n",
       "\n",
       "    .dataframe tbody tr th {\n",
       "        vertical-align: top;\n",
       "    }\n",
       "\n",
       "    .dataframe thead th {\n",
       "        text-align: right;\n",
       "    }\n",
       "</style>\n",
       "<table border=\"1\" class=\"dataframe\">\n",
       "  <thead>\n",
       "    <tr style=\"text-align: right;\">\n",
       "      <th></th>\n",
       "      <th>user_id</th>\n",
       "      <th>month</th>\n",
       "      <th>count_call</th>\n",
       "      <th>minutes_call</th>\n",
       "      <th>messages</th>\n",
       "      <th>trafic</th>\n",
       "      <th>age</th>\n",
       "      <th>city</th>\n",
       "      <th>tariff</th>\n",
       "      <th>messages_included</th>\n",
       "      <th>mb_per_month_included</th>\n",
       "      <th>minutes_included</th>\n",
       "      <th>rub_monthly_fee</th>\n",
       "      <th>rub_per_gb</th>\n",
       "      <th>rub_per_message</th>\n",
       "      <th>rub_per_minute</th>\n",
       "      <th>tariff_name</th>\n",
       "    </tr>\n",
       "  </thead>\n",
       "  <tbody>\n",
       "    <tr>\n",
       "      <td>0</td>\n",
       "      <td>1000</td>\n",
       "      <td>5</td>\n",
       "      <td>22</td>\n",
       "      <td>201.0</td>\n",
       "      <td>22.0</td>\n",
       "      <td>2732.330312</td>\n",
       "      <td>52</td>\n",
       "      <td>Краснодар</td>\n",
       "      <td>ultra</td>\n",
       "      <td>1000</td>\n",
       "      <td>30720</td>\n",
       "      <td>3000</td>\n",
       "      <td>1950</td>\n",
       "      <td>150</td>\n",
       "      <td>1</td>\n",
       "      <td>1</td>\n",
       "      <td>ultra</td>\n",
       "    </tr>\n",
       "    <tr>\n",
       "      <td>1</td>\n",
       "      <td>1000</td>\n",
       "      <td>6</td>\n",
       "      <td>43</td>\n",
       "      <td>298.0</td>\n",
       "      <td>60.0</td>\n",
       "      <td>25950.100600</td>\n",
       "      <td>52</td>\n",
       "      <td>Краснодар</td>\n",
       "      <td>ultra</td>\n",
       "      <td>1000</td>\n",
       "      <td>30720</td>\n",
       "      <td>3000</td>\n",
       "      <td>1950</td>\n",
       "      <td>150</td>\n",
       "      <td>1</td>\n",
       "      <td>1</td>\n",
       "      <td>ultra</td>\n",
       "    </tr>\n",
       "    <tr>\n",
       "      <td>2</td>\n",
       "      <td>1000</td>\n",
       "      <td>7</td>\n",
       "      <td>47</td>\n",
       "      <td>394.0</td>\n",
       "      <td>75.0</td>\n",
       "      <td>14575.560741</td>\n",
       "      <td>52</td>\n",
       "      <td>Краснодар</td>\n",
       "      <td>ultra</td>\n",
       "      <td>1000</td>\n",
       "      <td>30720</td>\n",
       "      <td>3000</td>\n",
       "      <td>1950</td>\n",
       "      <td>150</td>\n",
       "      <td>1</td>\n",
       "      <td>1</td>\n",
       "      <td>ultra</td>\n",
       "    </tr>\n",
       "    <tr>\n",
       "      <td>3</td>\n",
       "      <td>1000</td>\n",
       "      <td>8</td>\n",
       "      <td>52</td>\n",
       "      <td>491.0</td>\n",
       "      <td>81.0</td>\n",
       "      <td>15136.873226</td>\n",
       "      <td>52</td>\n",
       "      <td>Краснодар</td>\n",
       "      <td>ultra</td>\n",
       "      <td>1000</td>\n",
       "      <td>30720</td>\n",
       "      <td>3000</td>\n",
       "      <td>1950</td>\n",
       "      <td>150</td>\n",
       "      <td>1</td>\n",
       "      <td>1</td>\n",
       "      <td>ultra</td>\n",
       "    </tr>\n",
       "    <tr>\n",
       "      <td>4</td>\n",
       "      <td>1000</td>\n",
       "      <td>9</td>\n",
       "      <td>58</td>\n",
       "      <td>564.0</td>\n",
       "      <td>57.0</td>\n",
       "      <td>15622.144450</td>\n",
       "      <td>52</td>\n",
       "      <td>Краснодар</td>\n",
       "      <td>ultra</td>\n",
       "      <td>1000</td>\n",
       "      <td>30720</td>\n",
       "      <td>3000</td>\n",
       "      <td>1950</td>\n",
       "      <td>150</td>\n",
       "      <td>1</td>\n",
       "      <td>1</td>\n",
       "      <td>ultra</td>\n",
       "    </tr>\n",
       "  </tbody>\n",
       "</table>\n",
       "</div>"
      ],
      "text/plain": [
       "   user_id  month  count_call  minutes_call  messages        trafic  age  \\\n",
       "0     1000      5          22         201.0      22.0   2732.330312   52   \n",
       "1     1000      6          43         298.0      60.0  25950.100600   52   \n",
       "2     1000      7          47         394.0      75.0  14575.560741   52   \n",
       "3     1000      8          52         491.0      81.0  15136.873226   52   \n",
       "4     1000      9          58         564.0      57.0  15622.144450   52   \n",
       "\n",
       "        city tariff  messages_included  mb_per_month_included  \\\n",
       "0  Краснодар  ultra               1000                  30720   \n",
       "1  Краснодар  ultra               1000                  30720   \n",
       "2  Краснодар  ultra               1000                  30720   \n",
       "3  Краснодар  ultra               1000                  30720   \n",
       "4  Краснодар  ultra               1000                  30720   \n",
       "\n",
       "   minutes_included  rub_monthly_fee  rub_per_gb  rub_per_message  \\\n",
       "0              3000             1950         150                1   \n",
       "1              3000             1950         150                1   \n",
       "2              3000             1950         150                1   \n",
       "3              3000             1950         150                1   \n",
       "4              3000             1950         150                1   \n",
       "\n",
       "   rub_per_minute tariff_name  \n",
       "0               1       ultra  \n",
       "1               1       ultra  \n",
       "2               1       ultra  \n",
       "3               1       ultra  \n",
       "4               1       ultra  "
      ]
     },
     "execution_count": 29,
     "metadata": {},
     "output_type": "execute_result"
    }
   ],
   "source": [
    "# уберем мультииндексы из датафрейма, иначе при соединении можем потерять второй индекс (месяцы)\n",
    "users_spend = users_spend.reset_index()\n",
    "\n",
    "# соединим данные о тарифе поьлзователей вместе\n",
    "users_spend = users_spend.merge(users[[col_user, 'age', 'city', 'tariff']], on=col_user)\n",
    "users_spend = users_spend.merge(tarrifs, left_on='tariff', right_on='tariff_name')\n",
    "\n",
    "# проверка\n",
    "users_spend.head()"
   ]
  },
  {
   "cell_type": "markdown",
   "metadata": {},
   "source": [
    "Теперь по каждому пользователя известно, сколько он потратил и сколько ему можно было тратить из пакета, посчитаем сколько это будет в деньгах"
   ]
  },
  {
   "cell_type": "code",
   "execution_count": 30,
   "metadata": {},
   "outputs": [],
   "source": [
    "def calc_extra(row):\n",
    "    '''\n",
    "    Функция для расчета дополнительной платы в рублях вне тарифа,\n",
    "    учитываются лишние минуты, смс, гигабайты\n",
    "    '''\n",
    "    condition_tariff = ((row['minutes_call'] <= row['minutes_included']) \n",
    "                    & (row['messages'] <= row['messages_included'])\n",
    "                    & (row['trafic'] <= row['mb_per_month_included']))\n",
    "    if condition_tariff:\n",
    "        return 0\n",
    "    \n",
    "    extra_call = row['minutes_call'] - row['minutes_included'] if row['minutes_included'] < row['minutes_call'] else 0\n",
    "    extra_message = row['messages'] - row['messages_included'] if row['messages_included'] < row['messages'] else 0\n",
    "    extra_trafic = np.ceil((row['trafic'] - row['mb_per_month_included']) / 1024) if row['mb_per_month_included'] < row['trafic'] else 0\n",
    "\n",
    "    return (extra_call * row['rub_per_minute'] \n",
    "            + extra_message * row['rub_per_message'] \n",
    "            + extra_trafic * row['rub_per_gb'])"
   ]
  },
  {
   "cell_type": "code",
   "execution_count": 31,
   "metadata": {},
   "outputs": [
    {
     "data": {
      "text/plain": [
       "count    3174.000000\n",
       "mean     1042.578135\n",
       "std      1164.665912\n",
       "min         0.000000\n",
       "25%         0.000000\n",
       "50%       694.000000\n",
       "75%      1800.000000\n",
       "max      8124.000000\n",
       "Name: rub_extra, dtype: float64"
      ]
     },
     "execution_count": 31,
     "metadata": {},
     "output_type": "execute_result"
    }
   ],
   "source": [
    "# заполним 0, если человек не писал сообщения, не совершал звонков и не использовал интернет\n",
    "columns_with_nan = ['minutes_call', 'messages', 'trafic']\n",
    "\n",
    "for col in columns_with_nan:\n",
    "    users_spend[col] = users_spend[col].fillna(0)\n",
    "\n",
    "# подсчет \n",
    "users_spend['rub_extra'] = users_spend.apply(calc_extra, axis=1)\n",
    "\n",
    "# проверка\n",
    "users_spend['rub_extra'].describe()"
   ]
  },
  {
   "cell_type": "code",
   "execution_count": 32,
   "metadata": {},
   "outputs": [
    {
     "data": {
      "text/html": [
       "<div>\n",
       "<style scoped>\n",
       "    .dataframe tbody tr th:only-of-type {\n",
       "        vertical-align: middle;\n",
       "    }\n",
       "\n",
       "    .dataframe tbody tr th {\n",
       "        vertical-align: top;\n",
       "    }\n",
       "\n",
       "    .dataframe thead th {\n",
       "        text-align: right;\n",
       "    }\n",
       "</style>\n",
       "<table border=\"1\" class=\"dataframe\">\n",
       "  <thead>\n",
       "    <tr style=\"text-align: right;\">\n",
       "      <th></th>\n",
       "      <th>rub_monthly_fee</th>\n",
       "      <th>rub_extra</th>\n",
       "      <th>rub_total</th>\n",
       "    </tr>\n",
       "  </thead>\n",
       "  <tbody>\n",
       "    <tr>\n",
       "      <td>353</td>\n",
       "      <td>1950</td>\n",
       "      <td>0.0</td>\n",
       "      <td>1950.0</td>\n",
       "    </tr>\n",
       "    <tr>\n",
       "      <td>3011</td>\n",
       "      <td>550</td>\n",
       "      <td>1871.0</td>\n",
       "      <td>2421.0</td>\n",
       "    </tr>\n",
       "    <tr>\n",
       "      <td>2189</td>\n",
       "      <td>550</td>\n",
       "      <td>1000.0</td>\n",
       "      <td>1550.0</td>\n",
       "    </tr>\n",
       "    <tr>\n",
       "      <td>522</td>\n",
       "      <td>1950</td>\n",
       "      <td>0.0</td>\n",
       "      <td>1950.0</td>\n",
       "    </tr>\n",
       "    <tr>\n",
       "      <td>1063</td>\n",
       "      <td>550</td>\n",
       "      <td>555.0</td>\n",
       "      <td>1105.0</td>\n",
       "    </tr>\n",
       "  </tbody>\n",
       "</table>\n",
       "</div>"
      ],
      "text/plain": [
       "      rub_monthly_fee  rub_extra  rub_total\n",
       "353              1950        0.0     1950.0\n",
       "3011              550     1871.0     2421.0\n",
       "2189              550     1000.0     1550.0\n",
       "522              1950        0.0     1950.0\n",
       "1063              550      555.0     1105.0"
      ]
     },
     "execution_count": 32,
     "metadata": {},
     "output_type": "execute_result"
    }
   ],
   "source": [
    "# посчитаем сколько всего потратил за месяц пользователь (включая ежемесячный платеж и сверх траты)\n",
    "users_spend['rub_total'] = users_spend['rub_monthly_fee'] + users_spend['rub_extra']\n",
    "\n",
    "# проверка\n",
    "users_spend[['rub_monthly_fee', 'rub_extra', 'rub_total']].sample(5)"
   ]
  },
  {
   "cell_type": "markdown",
   "metadata": {},
   "source": [
    "<a name=\"step2_conclusion\"></a>\n",
    "### Вывод"
   ]
  },
  {
   "cell_type": "markdown",
   "metadata": {},
   "source": [
    "####  [Преобразование типов](#step2.1)\n",
    "Были преобразованы следующие данные\n",
    "1. Таблица calls, поле call_date (object -> datetime)\n",
    "2. Таблица internet, поле session_date (object -> datetime)\n",
    "3. Таблица messages, поле message_date (object -> datetime)\n",
    "2. Таблица users, поле churn_date (object -> datetime)\n",
    "3. Таблица users, поле reg_date (object -> datetime)\n",
    "\n",
    "#### [Исправление ошибок в данных](#step2.2)\n",
    "<b>Проблема:</b>  \n",
    "В таблице calls (звонки) в поле duration (продолжительность звонка) и в таблице internet (интернет) в поле mb_used (использовано мегабайт) были нулевые значения. Скорее всего, такие данные возникли из-за сбоев в системе - в среднем 20% звонков каждый день записываются с 0 проговоренных минут и около 13% записей об использованном трафике не содержат реальное количество мегабайт. Сбои в системе присущи всем, но такое количество вызывает вопрос в работоспособности сети - стоит донести эту информацию до компании МегаЛайн.   \n",
    "\n",
    "<b>Как решила проблему:</b>  \n",
    "Находила среднее время по пользоватею (бывают болтуны и не очень) и по дню недели (в выходные звонки и интернетосидение дольше).  \n",
    "\n",
    "<b>Последствия:</b>  \n",
    "Способ не самый лучший для заполнения пропусков (но любое заполнение пропусков ведет к искажению в данных). Несоответствующие истине минуты и мегабайты могут привести к перерасходованию пакета или наоборот, к его недорасходованию.  \n",
    "\n",
    "#### [Добавление агрегированной информации](#step2.3)  \n",
    "Создан новый датафрейм: пользователь - месяц - минуты - сообщения - трафик - выручка.  \n",
    "Были такие пользователи, которые за месяц потратили больше 8 тысяч рублей.\n",
    "\n",
    "<b>Какие трудности возникли:</b>\n",
    "- минуты необходимо перед суммированием округлить в бОльшую сторону (операторы связи так поступают)\n",
    "- трафик в талицах указан в мегабайтах, а при перерасходе плата взимается за гигабайты (то есть опять округление вверх)"
   ]
  },
  {
   "cell_type": "markdown",
   "metadata": {},
   "source": [
    "<a name=\"step3\"></a>\n",
    "### Шаг 3. Анализ данных"
   ]
  },
  {
   "cell_type": "markdown",
   "metadata": {},
   "source": [
    "Опишите поведение клиентов оператора, исходя из выборки. Сколько минут разговора, сколько сообщений и какой объём интернет-трафика требуется пользователям каждого тарифа в месяц? Посчитайте среднее количество, дисперсию и стандартное отклонение. Постройте гистограммы. Опишите распределения."
   ]
  },
  {
   "cell_type": "code",
   "execution_count": 33,
   "metadata": {},
   "outputs": [],
   "source": [
    "# выделим людей с разными тарифами с отдельные датафреймы\n",
    "users_spend_ultra = users_spend[users_spend['tariff'] == 'ultra']\n",
    "users_spend_smart = users_spend[users_spend['tariff'] == 'smart']"
   ]
  },
  {
   "cell_type": "code",
   "execution_count": 34,
   "metadata": {},
   "outputs": [],
   "source": [
    "def print_stat(df, name):\n",
    "    '''\n",
    "    Функция, которая выводит среднее, дисперсия и стандартное отклонение \n",
    "    в датафрейме df по полю name\n",
    "    '''\n",
    "    mean = np.mean(df[name])\n",
    "    variance = np.var(df[name])\n",
    "    \n",
    "    print(('Среднее по {} = {:.1f}').format(name, mean))\n",
    "    print(('Дисперсия по {} = {:.1f}').format(name, variance))\n",
    "    print(('Стандартное отклонение по {} = {:.1f}').format(name, np.sqrt(variance)))"
   ]
  },
  {
   "cell_type": "code",
   "execution_count": 35,
   "metadata": {},
   "outputs": [],
   "source": [
    "dict_tariff = {\n",
    "    'Тариф ультра': users_spend_ultra,\n",
    "    'Тариф смарт': users_spend_smart,\n",
    "}"
   ]
  },
  {
   "cell_type": "markdown",
   "metadata": {},
   "source": [
    "<a name=\"3.1_calls\"></a>\n",
    "#### Звонки"
   ]
  },
  {
   "cell_type": "code",
   "execution_count": 36,
   "metadata": {},
   "outputs": [
    {
     "name": "stdout",
     "output_type": "stream",
     "text": [
      "Тариф ультра\n",
      "Среднее по minutes_call = 675.4\n",
      "Дисперсия по minutes_call = 142690.0\n",
      "Стандартное отклонение по minutes_call = 377.7\n",
      "Среднее число звонков = 76\n",
      "В среднем один звонок занимает = 8.9 минут\n",
      "\n",
      "Тариф смарт\n",
      "Среднее по minutes_call = 521.8\n",
      "Дисперсия по minutes_call = 53846.6\n",
      "Стандартное отклонение по minutes_call = 232.0\n",
      "Среднее число звонков = 59\n",
      "В среднем один звонок занимает = 8.9 минут\n",
      "\n"
     ]
    }
   ],
   "source": [
    "for tariff_name, df in dict_tariff.items(): # для каждого тарица напечатаем инофрмацию\n",
    "    print(tariff_name)\n",
    "    print_stat(df, 'minutes_call')\n",
    "    print('Среднее число звонков = {:.0f}'.format(df['count_call'].mean()))\n",
    "    print('В среднем один звонок занимает = {:.1f} минут'\n",
    "          .format(df['minutes_call'].sum() / df['count_call'].sum()))\n",
    "    print()"
   ]
  },
  {
   "cell_type": "markdown",
   "metadata": {},
   "source": [
    "Средние у минут разговора отличаются - для тарифа \"смарт\" = 522 минуты, а для \"ультра\" = 675 минут (для тарифа подороже предусмотрено большее количество минут). Среднее количество звонков - \"смарт\" = 59, \"ультра\" = 76. Но на звонок все тарифы тратят примерно одинаковое время = 8,9 минут. При этом, для тарифа \"ультра\" и разброс больше (378 против 232 минут) \n",
    "\n",
    "Посмотрим на гистограммы распределения"
   ]
  },
  {
   "cell_type": "code",
   "execution_count": 37,
   "metadata": {},
   "outputs": [
    {
     "data": {
      "image/png": "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\n",
      "text/plain": [
       "<Figure size 432x288 with 1 Axes>"
      ]
     },
     "metadata": {
      "needs_background": "light"
     },
     "output_type": "display_data"
    }
   ],
   "source": [
    "col_to_hist = 'minutes_call'\n",
    "\n",
    "ax = users_spend_ultra[col_to_hist].hist(bins=20, color='darkblue', alpha=0.5)\n",
    "users_spend_smart[col_to_hist].hist(bins=20, ax=ax, color='green', alpha=0.5)\n",
    "plt.show()"
   ]
  },
  {
   "cell_type": "code",
   "execution_count": 38,
   "metadata": {},
   "outputs": [
    {
     "data": {
      "image/png": "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\n",
      "text/plain": [
       "<Figure size 432x288 with 1 Axes>"
      ]
     },
     "metadata": {
      "needs_background": "light"
     },
     "output_type": "display_data"
    }
   ],
   "source": [
    "col_to_hist = 'count_call'\n",
    "\n",
    "ax = users_spend_ultra[col_to_hist].hist(bins=20, color='darkblue', alpha=0.5)\n",
    "users_spend_smart[col_to_hist].hist(bins=20, ax=ax, color='green', alpha=0.5)\n",
    "plt.show()"
   ]
  },
  {
   "cell_type": "markdown",
   "metadata": {},
   "source": [
    "##### Описание распределений  \n",
    "Как по количеству, так и по минутам разговора наблюдается схожая картина - для тарифа \"ультра\" гистограмма с положительной скошенностью. Для оператора связи - это очень хорошо, так как в среднем по тарифу платаят больше, так и возможная оплата тоже будет в положительном направлении от среднего (клиенты будут говорить и 675 минут, и даже 1500 минут, чего не могу делать клиенты тарифа \"смарт\" (максимум 1250 минут)"
   ]
  },
  {
   "cell_type": "markdown",
   "metadata": {},
   "source": [
    "<a name=\"3.2_internet\"></a>\n",
    "#### Интернет"
   ]
  },
  {
   "cell_type": "code",
   "execution_count": 39,
   "metadata": {},
   "outputs": [
    {
     "name": "stdout",
     "output_type": "stream",
     "text": [
      "Тариф ультра\n",
      "Среднее по trafic = 20417.7\n",
      "Дисперсия по trafic = 111782010.3\n",
      "Стандартное отклонение по trafic = 10572.7\n",
      "\n",
      "Тариф смарт\n",
      "Среднее по trafic = 19292.2\n",
      "Дисперсия по trafic = 46792024.9\n",
      "Стандартное отклонение по trafic = 6840.5\n",
      "\n"
     ]
    }
   ],
   "source": [
    "for tariff_name, df in dict_tariff.items():   \n",
    "    print(tariff_name)\n",
    "    print_stat(df, 'trafic')\n",
    "    print()"
   ]
  },
  {
   "cell_type": "code",
   "execution_count": 40,
   "metadata": {},
   "outputs": [
    {
     "data": {
      "image/png": "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\n",
      "text/plain": [
       "<Figure size 432x288 with 1 Axes>"
      ]
     },
     "metadata": {
      "needs_background": "light"
     },
     "output_type": "display_data"
    }
   ],
   "source": [
    "col_to_hist = 'trafic'\n",
    "\n",
    "ax = users_spend_ultra[col_to_hist].hist(bins=20, color='darkblue', alpha=0.5)\n",
    "users_spend_smart[col_to_hist].hist(bins=20, ax=ax, color='green', alpha=0.5)\n",
    "plt.show()"
   ]
  },
  {
   "cell_type": "markdown",
   "metadata": {},
   "source": [
    "##### Описание распределений  \n",
    "Средние по количеству использованных мегабайт интернета практически равны (19300 мб - смарт, 20400 мб - ультра), но стандартное отклонение для \"ультра\" выше, чем для \"смарт\" - больше разброс значений. Гистограммы распределениц помогают нам понять, в какую сторону они разбросаны. \n",
    "Для тарифа \"ультра\" - положительная скошенность (шансы заработать больше на этих клиентах - выше).  \n",
    "Для тарифа \"смарт\" - отрицательная скошенность (шансы заработать больше на этих клиентах - ниже)."
   ]
  },
  {
   "cell_type": "markdown",
   "metadata": {},
   "source": [
    "<a name=\"3.3_messages\"></a>\n",
    "#### Сообщения"
   ]
  },
  {
   "cell_type": "code",
   "execution_count": 41,
   "metadata": {},
   "outputs": [
    {
     "name": "stdout",
     "output_type": "stream",
     "text": [
      "Тариф ультра\n",
      "Среднее по messages = 49.0\n",
      "Дисперсия по messages = 2196.4\n",
      "Стандартное отклонение по messages = 46.9\n",
      "\n",
      "Тариф смарт\n",
      "Среднее по messages = 33.4\n",
      "Дисперсия по messages = 798.2\n",
      "Стандартное отклонение по messages = 28.3\n",
      "\n"
     ]
    }
   ],
   "source": [
    "for tariff_name, df in dict_tariff.items():   \n",
    "    print(tariff_name)\n",
    "    print_stat(df, 'messages')\n",
    "    print()"
   ]
  },
  {
   "cell_type": "code",
   "execution_count": 42,
   "metadata": {},
   "outputs": [
    {
     "data": {
      "image/png": "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\n",
      "text/plain": [
       "<Figure size 432x288 with 1 Axes>"
      ]
     },
     "metadata": {
      "needs_background": "light"
     },
     "output_type": "display_data"
    }
   ],
   "source": [
    "col_to_hist = 'messages'\n",
    "\n",
    "ax = users_spend_ultra[col_to_hist].hist(bins=15, color='darkblue', alpha=0.5)\n",
    "users_spend_smart[col_to_hist].hist(bins=15, ax=ax, color='green', alpha=0.5)\n",
    "plt.show()"
   ]
  },
  {
   "cell_type": "markdown",
   "metadata": {},
   "source": [
    "##### Описание распределений  \n",
    "Средние по сообщениям различаются в 1,5 раза - для тарифа \"ультра\" = 49 сообщений, для тарифа \"смарт\" = 33.  \n",
    "Также стандартное отклонение для тарифа \"ультра\" выше.  \n",
    "Распределение тарифа \"ультра\" имеет более длинный хвост."
   ]
  },
  {
   "cell_type": "markdown",
   "metadata": {},
   "source": [
    "<a name=\"step3_conclusion\"></a>\n",
    "### Вывод"
   ]
  },
  {
   "cell_type": "markdown",
   "metadata": {},
   "source": [
    "##### Звонки  \n",
    "В среднем один звонок для тарифов \"ультра\" и \"смарт\" занимает 8,9 минут.\n",
    "\n",
    "Показатель | \"ультра\" | \"смарт\" |\n",
    "------------- | :-------------: | :-----: |   \n",
    "один звонок | 8,9 минут | 8,9 минут |  \n",
    "средняя продолжительность | 675 минут | 522 минуты |  \n",
    "стандартное отклонение | 378 минут | 232 минуты | \n",
    "расход пакета | 22,5 % | 104,4 % |\n",
    "\n",
    "Распределение для тарифа \"ультра\" положительно скошенное - значит, что клиенты при отклонении от среднего чаще принесут прибыли больше, чем это среднее.   \n",
    "При этом, для тарифа \"ультра\" клиенты не превышают лимит по минутам звонков, включенных в пакет. Для тарифа \"смарт\" - обратное - есть нарушители, которые переплачивают помимо ежемесячной оплаты\n",
    "\n",
    "##### Интернет \n",
    "\n",
    "Показатель | \"ультра\" | \"смарт\" |  \n",
    "------------- | :-------------: | :-----: |   \n",
    "средняя трата | 20 400 мегабайт | 19 300 мегабайт |  \n",
    "стандартное отклонение | 10 600 мебагайт | 6 800 мегабайт | \n",
    "расход пакета | 68 % | 128,67 % |\n",
    "\n",
    "Распределение для тарифа \"ультра\" положительно скошенное - значит, что клиенты при отклонении от среднего чаще принесут прибыли больше, чем это среднее.  \n",
    "Опять наблюдается превышение включенных мегабайт в пакете для тарифа \"смарт\" и недорасход для тарифа \"ультра\".\n",
    "\n",
    "##### Сообщения   \n",
    "\n",
    "Показатель | \"ультра\" | \"смарт\" |  \n",
    "------------- | :-------------: | :-----: |   \n",
    "среднее количество | 49 сообщений | 33 сообщения |  \n",
    "стандартное отклонение | 47 сообщений | 28 сообщений |\n",
    "расход пакета | 4,9 % | 66 % |\n",
    "\n",
    "Распределение для тарифа \"ультра\" положительно скошенное - значит, что клиенты при отклонении от среднего чаще принесут прибыли больше, чем это среднее.  \n",
    "СМС люди обменивают меньше. Нет превышения по пакету у обоих тарифов."
   ]
  },
  {
   "cell_type": "markdown",
   "metadata": {},
   "source": [
    "<a name=\"step4\"></a>\n",
    "### Шаг 4. Проверка гипотез"
   ]
  },
  {
   "cell_type": "markdown",
   "metadata": {},
   "source": [
    "<a name=\"4.1_hyp1\"></a>\n",
    "#### Гипотеза 1. Средняя выручка пользователей тарифов «Ультра» и «Смарт» различается  \n",
    "Сформулируем гипотезы  \n",
    "$H_0$: Средние выручки совокупностей тарифа смарт и ультра одинаковы.  \n",
    "$H_1$: Средние выручки совокупностей тарифов смарт и ультра различаются."
   ]
  },
  {
   "cell_type": "code",
   "execution_count": 43,
   "metadata": {},
   "outputs": [
    {
     "name": "stdout",
     "output_type": "stream",
     "text": [
      "p-value = 0.00023547411056216243\n",
      "Отвергаем нулевую гипотезу - средняя выручка тарифа ультра больше\n",
      "\n",
      "Средняя выручка тарифа ультра = 2113.2\n",
      "Средняя выручка тарифа смарт = 1968.8\n"
     ]
    }
   ],
   "source": [
    "# доверительный интервал примем 5% (приемлимая граница уровня ошибки), \n",
    "# то есть с вероятностью 0.05 связь между переменными является случайной\n",
    "alpha = 0.05\n",
    "\n",
    "# для проверки равенства средних независимых генеральных совокупностей по их выборкам используем функцию .ttest_ind()\n",
    "results_h1 = st.ttest_ind( \n",
    "    users_spend_ultra['rub_total'],\n",
    "    users_spend_smart['rub_total'],\n",
    ")\n",
    "\n",
    "print('p-value =', results_h1.pvalue)\n",
    "\n",
    "if alpha <= results_h1.pvalue:\n",
    "    print('Принимаем нулевую гипотезу - средние выручки равны')\n",
    "elif users_spend_ultra['rub_total'].mean() > users_spend_smart['rub_total'].mean():\n",
    "    print('Отвергаем нулевую гипотезу - средняя выручка тарифа ультра больше')\n",
    "else:\n",
    "    print('Отвергаем нулевую гипотезу - средняя выручка тарифа смарт больше')\n",
    "\n",
    "print()\n",
    "print('Средняя выручка тарифа ультра = {:.1f}'.format(users_spend_ultra['rub_total'].mean()))\n",
    "print('Средняя выручка тарифа смарт = {:.1f}'.format(users_spend_smart['rub_total'].mean()))"
   ]
  },
  {
   "cell_type": "markdown",
   "metadata": {},
   "source": [
    "Посмотрим также не только на выручку, но и на дополнительную плату за интернет/звонки/сообщения клиентов по тарифам"
   ]
  },
  {
   "cell_type": "code",
   "execution_count": 44,
   "metadata": {},
   "outputs": [
    {
     "name": "stdout",
     "output_type": "stream",
     "text": [
      "p-value = 7.079984411695828e-195\n",
      "Отвергаем нулевую гипотезу - средняя выручка сверх тарифа смарт больше\n",
      "\n",
      "Средняя выручка сверх тарифа ультра = 163.2\n",
      "Средняя выручка сверх тарифа смарт = 1418.8\n"
     ]
    }
   ],
   "source": [
    "alpha = 0.05\n",
    "\n",
    "# для проверки равенства средних независимых генеральных совокупностей по их выборкам используем функцию .ttest_ind()\n",
    "results_h1 = st.ttest_ind( \n",
    "    users_spend_ultra['rub_extra'],\n",
    "    users_spend_smart['rub_extra'],\n",
    ")\n",
    "\n",
    "print('p-value =', results_h1.pvalue)\n",
    "\n",
    "if alpha <= results_h1.pvalue:\n",
    "    print('Не отвергаем нулевую гипотезу - средние выручки равны')\n",
    "elif users_spend_ultra['rub_extra'].mean() > users_spend_smart['rub_extra'].mean():\n",
    "    print('Отвергаем нулевую гипотезу - средняя выручка сверх тарифа ультра больше')\n",
    "else:\n",
    "    print('Отвергаем нулевую гипотезу - средняя выручка сверх тарифа смарт больше')\n",
    "\n",
    "print()\n",
    "print('Средняя выручка сверх тарифа ультра = {:.1f}'.format(users_spend_ultra['rub_extra'].mean()))\n",
    "print('Средняя выручка сверх тарифа смарт = {:.1f}'.format(users_spend_smart['rub_extra'].mean()))"
   ]
  },
  {
   "cell_type": "markdown",
   "metadata": {},
   "source": [
    "***\n",
    "По тарифу \"смарт\" в среднем клиенты переплачивают на 1419 рублей с вероятностью 0.95.  \n",
    "  \n",
    "Количество клиентов тарифа \"смарт\" в несколько раз больше, чем клиентов с тарифом \"ультра\". Из-за чего можно сделать вывод, что такой тариф плохо продвигается или же, что менеджеры по продажам не сильно его советуют. Если KPI менеджеров по продажам заточне на \"допродажи\", то тариф \"смарт\" - это идельный способ. Но, как показали результаты анализа, тариф \"ультра\" приносит гораздо больше прибыли компании, чем второй тариф. Руководителям необходимо расставить акценты в продажах своих продуктов."
   ]
  },
  {
   "cell_type": "markdown",
   "metadata": {},
   "source": [
    "<a name=\"4.2_hyp2\"></a>\n",
    "#### Гипотеза 2. Средняя выручка пользователей из Москвы отличается от выручки пользователей из других регионов\n",
    "Сформулируем гипотезы  \n",
    "$H_0$: Средние выручки совокупностей города Москвы и всех остальных городов одинаковы.  \n",
    "$H_1$: Средние выручки совокупностей города Москвы и всех остальных городов различаются."
   ]
  },
  {
   "cell_type": "code",
   "execution_count": 45,
   "metadata": {},
   "outputs": [
    {
     "name": "stdout",
     "output_type": "stream",
     "text": [
      "p-value = 0.5165103506051869\n",
      "Не отвергаем нулевую гипотезу - средние выручки равны Москвы и других регионов\n",
      "\n",
      "Средняя выручка Москвы = 1988.1\n",
      "Средняя выручка других регионов = 2017.8\n"
     ]
    }
   ],
   "source": [
    "alpha = 0.05\n",
    "\n",
    "results_h2 = st.ttest_ind( \n",
    "    users_spend.query('city == \"Москва\"')['rub_total'],\n",
    "    users_spend.query('city != \"Москва\"')['rub_total']\n",
    ")\n",
    "\n",
    "print('p-value =', results_h2.pvalue)\n",
    "\n",
    "if alpha <= results_h2.pvalue:\n",
    "    print('Не отвергаем нулевую гипотезу - средние выручки равны Москвы и других регионов')\n",
    "elif  (users_spend.query('city == \"Москва\"')['rub_total'].mean() > \n",
    "       users_spend.query('city != \"Москва\"')['rub_total'].mean()):\n",
    "    print('Отвергаем нулевую гипотезу - средняя выручка Москвы больше')\n",
    "else:\n",
    "    print('Отвергаем нулевую гипотезу - средняя выручка других регионов больше')\n",
    "\n",
    "print()\n",
    "print('Средняя выручка Москвы = {:.1f}'.format(users_spend.query('city == \"Москва\"')['rub_total'].mean()))\n",
    "print('Средняя выручка других регионов = {:.1f}'.format(users_spend.query('city != \"Москва\"')['rub_total'].mean()))"
   ]
  },
  {
   "cell_type": "markdown",
   "metadata": {},
   "source": [
    "<a name=\"4.3_hyp3\"></a>\n",
    "#### Гипотеза 3. Средняя выручка пользователей поколения родителей отличается от выручки пользователей старшего поколения\n",
    "Сформулируем гипотезы  \n",
    "$H_0$: Средние выручки совокупностей молодого и старшего поколения одинаковы.  \n",
    "$H_1$: Средние выручки совокупностей молодого и старшего поколения различаются."
   ]
  },
  {
   "cell_type": "code",
   "execution_count": 46,
   "metadata": {},
   "outputs": [
    {
     "data": {
      "text/plain": [
       "count    500.00000\n",
       "mean      46.58800\n",
       "std       16.66763\n",
       "min       18.00000\n",
       "25%       32.00000\n",
       "50%       46.00000\n",
       "75%       62.00000\n",
       "max       75.00000\n",
       "Name: age, dtype: float64"
      ]
     },
     "execution_count": 46,
     "metadata": {},
     "output_type": "execute_result"
    }
   ],
   "source": [
    "users['age'].describe()"
   ]
  },
  {
   "cell_type": "markdown",
   "metadata": {},
   "source": [
    "Примем взрослое поколение - людей, возрастом до 46 лет, старшее поколение - от 46 лет. Сравним их выборки"
   ]
  },
  {
   "cell_type": "code",
   "execution_count": 47,
   "metadata": {},
   "outputs": [
    {
     "name": "stdout",
     "output_type": "stream",
     "text": [
      "p-value = 0.908189197590737\n",
      "Не отвергаем нулевую гипотезу - средние выручки поколений равны\n",
      "\n",
      "Средняя выручка клиентов до 46 лет = 2009.9\n",
      "Средняя выручка клиентов от 46 лет = 2014.1\n"
     ]
    }
   ],
   "source": [
    "alpha = 0.05\n",
    "\n",
    "results_h3 = st.ttest_ind( \n",
    "    users_spend.query('age < 46')['rub_total'],\n",
    "    users_spend.query('age >= 46')['rub_total']\n",
    ")\n",
    "\n",
    "print('p-value =', results_h3.pvalue)\n",
    "\n",
    "if alpha <= results_h3.pvalue:\n",
    "    print('Не отвергаем нулевую гипотезу - средние выручки поколений равны')\n",
    "elif  (users_spend.query('age < 46')['rub_total'].mean() > \n",
    "       users_spend.query('age >= 46')['rub_total'].mean()):\n",
    "    print('Отвергаем нулевую гипотезу - средняя выручка взрослого поколения больше')\n",
    "else:\n",
    "    print('Отвергаем нулевую гипотезу - средняя выручка старшего поколения больше')\n",
    "\n",
    "print()\n",
    "print('Средняя выручка клиентов до 46 лет = {:.1f}'.format(users_spend.query('age < 46')['rub_total'].mean()))\n",
    "print('Средняя выручка клиентов от 46 лет = {:.1f}'.format(users_spend.query('age >= 46')['rub_total'].mean()))"
   ]
  },
  {
   "cell_type": "markdown",
   "metadata": {},
   "source": [
    "<a name=\"step4_conclusion\"></a>\n",
    "### Вывод"
   ]
  },
  {
   "cell_type": "markdown",
   "metadata": {},
   "source": [
    "При доверительном интервале 5% принимаем следующее:\n",
    "1. Средняя выручка клиентов с тарифом \"ультра\" выше, чем с тарифом \"смарт\"\n",
    "   - при этом, плата свех ежемесячной платы наоборот выше у тарифа \"смарт\", чем у тарифа \"ультра\"\n",
    "2. Средняя выручка клиентов Москвы и других регионов не различается\n",
    "3. Средняя выручка людей до 46 лет и от 46 лет не различается"
   ]
  },
  {
   "cell_type": "markdown",
   "metadata": {},
   "source": [
    "<a name=\"step5\"></a>\n",
    "### Шаг 5. Общий вывод"
   ]
  },
  {
   "cell_type": "markdown",
   "metadata": {},
   "source": [
    "#### [Шаг 1](#step1)   \n",
    "Среди 5 датасетов не было пустых полей, но содержались 2, в которых были нулевые значения (что для звонков и для интернета неприемлимо) \n",
    "\n",
    "#### [Шаг 2](#step2)\n",
    "[Преобразование типов](#step2.1)  \n",
    "Были преобразованы следующие данные\n",
    "1. Таблица calls, поле call_date (object -> datetime)\n",
    "2. Таблица internet, поле session_date (object -> datetime)\n",
    "3. Таблица messages, поле message_date (object -> datetime)\n",
    "2. Таблица users, поле churn_date (object -> datetime)\n",
    "3. Таблица users, поле reg_date (object -> datetime)\n",
    "\n",
    "[Исправление ошибок в данных](#step2.2)  \n",
    "<b>Проблема:</b>  \n",
    "В таблице calls (звонки) в поле duration (продолжительность звонка) и в таблице internet (интернет) в поле mb_used (использовано мегабайт) были нулевые значения. Скорее всего, такие данные возникли из-за сбоев в системе - в среднем 20% звонков каждый день записываются с 0 проговоренных минут и около 13% записей об использованном трафике не содержат реальное количество мегабайт. Сбои в системе присущи всем, но такое количество вызывает вопрос в работоспособности сети - стоит донести эту информацию до компании МегаЛайн.   \n",
    "\n",
    "<b>Как решила проблему:</b>  \n",
    "Находила среднее время по пользоватею (бывают болтуны и не очень) и по дню недели (в выходные звонки и интернетосидение дольше).  \n",
    "\n",
    "<b>Последствия:</b>  \n",
    "Способ не самый лучший для заполнения пропусков (но любое заполнение пропусков ведет к искажению в данных). Несоответствующие истине минуты и мегабайты могут привести к перерасходованию пакета или наоборот, к его недорасходованию.  \n",
    "\n",
    "[Добавление агрегированной информации](#step2.3)  \n",
    "Создан новый датафрейм: пользователь - месяц - минуты - сообщения - трафик - выручка.  \n",
    "Были такие пользователи, которые за месяц потратили больше 8 тысяч рублей.\n",
    "\n",
    "<b>Какие трудности возникли:</b>\n",
    "- минуты необходимо перед суммированием округлить в бОльшую сторону (операторы связи так поступают)\n",
    "- трафик в талицах указан в мегабайтах, а при перерасходе плата взимается за гигабайты (то есть опять округление вверх)  \n",
    "\n",
    "#### [Шаг 3](#step3)   \n",
    "**Звонки** \n",
    "В среднем один звонок для тарифов \"ультра\" и \"смарт\" занимает 8,9 минут.\n",
    "\n",
    "Показатель | \"ультра\" | \"смарт\" |\n",
    "------------- | :-------------: | :-----: |   \n",
    "один звонок | 8,9 минут | 8,9 минут |  \n",
    "средняя продолжительность | 675 минут | 522 минуты |  \n",
    "стандартное отклонение | 378 минут | 232 минуты | \n",
    "расход пакета | 22,5 % | 104,4 % |\n",
    "\n",
    "Распределение для тарифа \"ультра\" положительно скошенное - значит, что клиенты при отклонении от среднего чаще принесут прибыли больше, чем это среднее.   \n",
    "При этом, для тарифа \"ультра\" клиенты не превышают лимит по минутам звонков, включенных в пакет. Для тарифа \"смарт\" - обратное - есть нарушители, которые переплачивают помимо ежемесячной оплаты\n",
    "\n",
    "**Интернет**\n",
    "\n",
    "Показатель | \"ультра\" | \"смарт\" |  \n",
    "------------- | :-------------: | :-----: |   \n",
    "средняя трата | 20 400 мегабайт | 19 300 мегабайт |  \n",
    "стандартное отклонение | 10 600 мебагайт | 6 800 мегабайт | \n",
    "расход пакета | 68 % | 128,67 % |\n",
    "    \n",
    "Распределение для тарифа \"ультра\" положительно скошенное - значит, что клиенты при отклонении от среднего чаще принесут прибыли больше, чем это среднее.  \n",
    "Опять наблюдается превышение включенных мегабайт в пакете для тарифа \"смарт\" и недорасход для тарифа \"ультра\".\n",
    "\n",
    "**Сообщения** \n",
    "\n",
    "Показатель | \"ультра\" | \"смарт\" |  \n",
    "------------- | :-------------: | :-----: |   \n",
    "среднее количество | 49 сообщений | 33 сообщения |  \n",
    "стандартное отклонение | 47 сообщений | 28 сообщений |\n",
    "расход пакета | 4,9 % | 66 % |\n",
    "\n",
    "Распределение для тарифа \"ультра\" положительно скошенное - значит, что клиенты при отклонении от среднего чаще принесут прибыли больше, чем это среднее.  \n",
    "СМС люди обменивают меньше. Нет превышения по пакету у обоих тарифов.\n",
    "\n",
    "#### [Шаг 4](#step4)  \n",
    "При доверительном интервале 5% принимаем следующее:\n",
    "1. Средняя выручка клиентов с тарифом \"ультра\" выше, чем с тарифом \"смарт\"\n",
    "   - при этом, плата свех ежемесячной платы наоборот выше у тарифа \"смарт\", чем у тарифа \"ультра\"\n",
    "2. Средняя выручка клиентов Москвы и других регионов не различается\n",
    "3. Средняя выручка людей до 46 лет и от 46 лет не различается\n",
    "\n",
    "  \n",
    "***  \n",
    "По тарифу \"смарт\" в среднем клиенты переплачивают на 1419 рублей с вероятностью 0.95.  \n",
    "  \n",
    "Количество клиентов тарифа \"смарт\" в несколько раз больше, чем клиентов с тарифом \"ультра\". Из-за чего можно сделать вывод, что такой тариф плохо продвигается или же, что менеджеры по продажам не сильно его советуют. Если KPI менеджеров по продажам заточне на \"допродажи\", то тариф \"смарт\" - это идельный способ. Но, как показали результаты анализа, тариф \"ультра\" приносит гораздо больше прибыли компании, чем второй тариф. Руководителям необходимо расставить акценты в продажах своих продуктов.\n",
    "***\n",
    "Компания зарабатывает на тарифе **\"ультра\"** за счет высокой стоимости тарифа (предложение интернета привлекает людей больше, однако из сообщений они тратят только 4,9 %, а из минут звонков 22,5 %.  \n",
    "  \n",
    "Для тарифа **\"смарт\"** деньги компании поступают от плотежей свех ежемесячной платы - в среднем, клиенты превышают пакет интернета (на 28,7 %) и звонков (на 4,4 %). \n",
    "  \n",
    "При этом, компании больше выручки на одного пользователя приносит тариф \"ультра\". Поэтому, если переманивать клиетов с тарифа \"смарт\" на тариф \"ультра\", то данное действие принесет прибыль компании"
   ]
  },
 ],
 "metadata": {
  "kernelspec": {
   "display_name": "Python 3",
   "language": "python",
   "name": "python3"
  },
  "language_info": {
   "codemirror_mode": {
    "name": "ipython",
    "version": 3
   },
   "file_extension": ".py",
   "mimetype": "text/x-python",
   "name": "python",
   "nbconvert_exporter": "python",
   "pygments_lexer": "ipython3",
   "version": "3.7.4"
  }
 },
 "nbformat": 4,
 "nbformat_minor": 2
}
